{
 "cells": [
  {
   "cell_type": "code",
   "execution_count": 2,
   "metadata": {},
   "outputs": [
    {
     "name": "stderr",
     "output_type": "stream",
     "text": [
      "  0%|          | 0/935 [00:00<?, ?it/s]"
     ]
    },
    {
     "name": "stdout",
     "output_type": "stream",
     "text": [
      "['https://arxiv.org/abs/0708.0095']\n",
      "Downloading papers...\n"
     ]
    },
    {
     "name": "stderr",
     "output_type": "stream",
     "text": [
      "/home/jihuawei/miniconda/envs/py310/lib/python3.10/site-packages/bs4/builder/__init__.py:545: XMLParsedAsHTMLWarning: It looks like you're parsing an XML document using an HTML parser. If this really is an HTML document (maybe it's XHTML?), you can ignore or filter this warning. If it's XML, you should know that using an XML parser will be more reliable. To parse this document as XML, make sure you have the lxml package installed, and pass the keyword argument `features=\"xml\"` into the BeautifulSoup constructor.\n",
      "  warnings.warn(\n",
      "1it [00:45, 45.34s/it]\n",
      "  0%|          | 1/935 [00:45<11:45:50, 45.34s/it]"
     ]
    },
    {
     "name": "stdout",
     "output_type": "stream",
     "text": [
      "Finished\n",
      "['https://arxiv.org/abs/1608.01589']\n",
      "Downloading papers...\n"
     ]
    },
    {
     "name": "stderr",
     "output_type": "stream",
     "text": [
      "1it [00:51, 51.26s/it]\n",
      "  0%|          | 2/935 [01:36<12:39:15, 48.83s/it]"
     ]
    },
    {
     "name": "stdout",
     "output_type": "stream",
     "text": [
      "Finished\n",
      "['https://arxiv.org/abs/2104.00058']\n",
      "Downloading papers...\n"
     ]
    },
    {
     "name": "stderr",
     "output_type": "stream",
     "text": [
      "1it [01:07, 67.58s/it]\n",
      "  0%|          | 3/935 [02:44<14:51:28, 57.39s/it]"
     ]
    },
    {
     "name": "stdout",
     "output_type": "stream",
     "text": [
      "Finished\n",
      "['https://arxiv.org/abs/0704.1353']\n",
      "Downloading papers...\n"
     ]
    },
    {
     "name": "stderr",
     "output_type": "stream",
     "text": [
      "0it [00:14, ?it/s]\n",
      "  0%|          | 4/935 [02:59<10:30:39, 40.64s/it]"
     ]
    },
    {
     "name": "stdout",
     "output_type": "stream",
     "text": [
      "file could not be opened successfully:\n",
      "- method gz: ReadError('not a gzip file')\n",
      "- method bz2: ReadError('not a bzip2 file')\n",
      "- method xz: ReadError('not an lzma file')\n",
      "- method tar: ReadError('bad checksum')\n",
      "Something goes wrong. Please check the input or concat me to fix this bug. Error message: \n",
      "[Errno 2] No such file or directory: '/home/jihuawei/jhw_pdf_parser/datasets/ArXiv体系/0704.1353/0704.1353.pdf'\n",
      "['https://arxiv.org/abs/1312.6000']\n",
      "Downloading papers...\n"
     ]
    },
    {
     "name": "stderr",
     "output_type": "stream",
     "text": [
      "0it [00:39, ?it/s]\n",
      "  1%|          | 5/935 [03:38<10:24:45, 40.31s/it]"
     ]
    },
    {
     "name": "stdout",
     "output_type": "stream",
     "text": [
      "file could not be opened successfully:\n",
      "- method gz: ReadError('not a gzip file')\n",
      "- method bz2: ReadError('not a bzip2 file')\n",
      "- method xz: ReadError('not an lzma file')\n",
      "- method tar: ReadError('bad checksum')\n",
      "Something goes wrong. Please check the input or concat me to fix this bug. Error message: \n",
      "[Errno 2] No such file or directory: '/home/jihuawei/jhw_pdf_parser/datasets/ArXiv体系/1312.6000/1312.6000.pdf'\n",
      "['https://arxiv.org/abs/2201.05252']\n",
      "Downloading papers...\n"
     ]
    },
    {
     "name": "stderr",
     "output_type": "stream",
     "text": [
      "1it [00:20, 20.71s/it]\n",
      "  1%|          | 6/935 [03:59<8:40:55, 33.64s/it] "
     ]
    },
    {
     "name": "stdout",
     "output_type": "stream",
     "text": [
      "Finished\n",
      "['https://arxiv.org/abs/2206.14390']\n",
      "Downloading papers...\n"
     ]
    },
    {
     "name": "stderr",
     "output_type": "stream",
     "text": [
      "1it [01:28, 88.12s/it]\n",
      "  1%|          | 7/935 [05:27<13:15:51, 51.46s/it]"
     ]
    },
    {
     "name": "stdout",
     "output_type": "stream",
     "text": [
      "Finished\n",
      "['https://arxiv.org/abs/2206.01564']\n",
      "Downloading papers...\n"
     ]
    },
    {
     "name": "stderr",
     "output_type": "stream",
     "text": [
      "1it [00:34, 34.32s/it]\n",
      "  1%|          | 8/935 [06:02<11:50:43, 46.00s/it]"
     ]
    },
    {
     "name": "stdout",
     "output_type": "stream",
     "text": [
      "Finished\n",
      "['https://arxiv.org/abs/0704.1323']\n",
      "Downloading papers...\n"
     ]
    },
    {
     "name": "stderr",
     "output_type": "stream",
     "text": [
      "1it [00:27, 27.12s/it]\n",
      "  1%|          | 9/935 [06:29<10:18:52, 40.10s/it]"
     ]
    },
    {
     "name": "stdout",
     "output_type": "stream",
     "text": [
      "Finished\n",
      "['https://arxiv.org/abs/2303.03899']\n",
      "Downloading papers...\n"
     ]
    },
    {
     "name": "stderr",
     "output_type": "stream",
     "text": [
      "0it [00:16, ?it/s]\n",
      "  1%|          | 10/935 [06:45<8:27:23, 32.91s/it]"
     ]
    },
    {
     "name": "stdout",
     "output_type": "stream",
     "text": [
      "file could not be opened successfully:\n",
      "- method gz: ReadError('invalid header')\n",
      "- method bz2: ReadError('not a bzip2 file')\n",
      "- method xz: ReadError('not an lzma file')\n",
      "- method tar: ReadError('invalid header')\n",
      "Something goes wrong. Please check the input or concat me to fix this bug. Error message: \n",
      "[Errno 2] No such file or directory: '/home/jihuawei/jhw_pdf_parser/datasets/ArXiv体系/2303.03899/2303.03899.pdf'\n",
      "['https://arxiv.org/abs/1610.08583']\n",
      "Downloading papers...\n"
     ]
    },
    {
     "name": "stderr",
     "output_type": "stream",
     "text": [
      "1it [00:54, 54.28s/it]\n",
      "  1%|          | 11/935 [07:40<10:07:34, 39.45s/it]"
     ]
    },
    {
     "name": "stdout",
     "output_type": "stream",
     "text": [
      "Finished\n",
      "['https://arxiv.org/abs/1408.5858']\n",
      "Downloading papers...\n"
     ]
    },
    {
     "name": "stderr",
     "output_type": "stream",
     "text": [
      "1it [01:06, 66.85s/it]\n",
      "  1%|▏         | 12/935 [08:47<12:15:09, 47.79s/it]"
     ]
    },
    {
     "name": "stdout",
     "output_type": "stream",
     "text": [
      "Finished\n",
      "['https://arxiv.org/abs/1701.06464']\n",
      "Downloading papers...\n"
     ]
    },
    {
     "name": "stderr",
     "output_type": "stream",
     "text": [
      "1it [05:28, 328.62s/it]\n",
      "  1%|▏         | 13/935 [14:15<34:01:40, 132.86s/it]"
     ]
    },
    {
     "name": "stdout",
     "output_type": "stream",
     "text": [
      "Finished\n",
      "['https://arxiv.org/abs/0704.1361']\n",
      "Downloading papers...\n"
     ]
    },
    {
     "name": "stderr",
     "output_type": "stream",
     "text": [
      "1it [00:47, 47.10s/it]\n",
      "  1%|▏         | 14/935 [15:02<27:21:50, 106.96s/it]"
     ]
    },
    {
     "name": "stdout",
     "output_type": "stream",
     "text": [
      "Finished\n",
      "['https://arxiv.org/abs/0802.4043']\n",
      "Downloading papers...\n"
     ]
    },
    {
     "name": "stderr",
     "output_type": "stream",
     "text": [
      "1it [00:36, 36.20s/it]\n",
      "  2%|▏         | 15/935 [15:39<21:53:01, 85.63s/it] "
     ]
    },
    {
     "name": "stdout",
     "output_type": "stream",
     "text": [
      "Finished\n",
      "['https://arxiv.org/abs/1404.2894']\n",
      "Downloading papers...\n"
     ]
    },
    {
     "name": "stderr",
     "output_type": "stream",
     "text": [
      "1it [00:50, 50.88s/it]\n",
      "  2%|▏         | 16/935 [16:29<19:11:23, 75.17s/it]"
     ]
    },
    {
     "name": "stdout",
     "output_type": "stream",
     "text": [
      "Finished\n",
      "['https://arxiv.org/abs/1710.05292']\n",
      "Downloading papers...\n"
     ]
    },
    {
     "name": "stderr",
     "output_type": "stream",
     "text": [
      "1it [02:14, 134.09s/it]\n",
      "  2%|▏         | 17/935 [18:44<23:41:13, 92.89s/it]"
     ]
    },
    {
     "name": "stdout",
     "output_type": "stream",
     "text": [
      "Finished\n",
      "['https://arxiv.org/abs/1302.4988']\n",
      "Downloading papers...\n"
     ]
    },
    {
     "name": "stderr",
     "output_type": "stream",
     "text": [
      "0it [00:42, ?it/s]\n",
      "  2%|▏         | 18/935 [19:27<19:50:28, 77.89s/it]"
     ]
    },
    {
     "name": "stdout",
     "output_type": "stream",
     "text": [
      "file could not be opened successfully:\n",
      "- method gz: ReadError('not a gzip file')\n",
      "- method bz2: ReadError('not a bzip2 file')\n",
      "- method xz: ReadError('not an lzma file')\n",
      "- method tar: ReadError('bad checksum')\n",
      "Something goes wrong. Please check the input or concat me to fix this bug. Error message: \n",
      "[Errno 2] No such file or directory: '/home/jihuawei/jhw_pdf_parser/datasets/ArXiv体系/1302.4988/1302.4988.pdf'\n",
      "['https://arxiv.org/abs/2303.14987']\n",
      "Downloading papers...\n"
     ]
    },
    {
     "name": "stderr",
     "output_type": "stream",
     "text": [
      "0it [00:11, ?it/s]\n",
      "  2%|▏         | 19/935 [19:38<14:45:25, 58.00s/it]"
     ]
    },
    {
     "name": "stdout",
     "output_type": "stream",
     "text": [
      "file could not be opened successfully:\n",
      "- method gz: ReadError('invalid header')\n",
      "- method bz2: ReadError('not a bzip2 file')\n",
      "- method xz: ReadError('not an lzma file')\n",
      "- method tar: ReadError('invalid header')\n",
      "Something goes wrong. Please check the input or concat me to fix this bug. Error message: \n",
      "[Errno 2] No such file or directory: '/home/jihuawei/jhw_pdf_parser/datasets/ArXiv体系/2303.14987/2303.14987.pdf'\n",
      "['https://arxiv.org/abs/0704.1386']\n",
      "Downloading papers...\n"
     ]
    },
    {
     "name": "stderr",
     "output_type": "stream",
     "text": [
      "1it [00:10, 10.61s/it]\n",
      "  2%|▏         | 20/935 [19:49<11:07:31, 43.77s/it]"
     ]
    },
    {
     "name": "stdout",
     "output_type": "stream",
     "text": [
      "Finished\n",
      "['https://arxiv.org/abs/1207.5926']\n",
      "Downloading papers...\n"
     ]
    },
    {
     "name": "stderr",
     "output_type": "stream",
     "text": [
      "1it [00:11, 11.24s/it]\n",
      "  2%|▏         | 21/935 [20:00<8:38:05, 34.01s/it] "
     ]
    },
    {
     "name": "stdout",
     "output_type": "stream",
     "text": [
      "Finished\n",
      "['https://arxiv.org/abs/1007.3961']\n",
      "Downloading papers...\n"
     ]
    },
    {
     "name": "stderr",
     "output_type": "stream",
     "text": [
      "1it [00:13, 13.95s/it]\n",
      "  2%|▏         | 22/935 [20:14<7:05:55, 27.99s/it]"
     ]
    },
    {
     "name": "stdout",
     "output_type": "stream",
     "text": [
      "Finished\n",
      "['https://arxiv.org/abs/2109.01430']\n",
      "Downloading papers...\n"
     ]
    },
    {
     "name": "stderr",
     "output_type": "stream",
     "text": [
      "1it [00:19, 19.22s/it]\n",
      "  2%|▏         | 23/935 [20:33<6:25:28, 25.36s/it]"
     ]
    },
    {
     "name": "stdout",
     "output_type": "stream",
     "text": [
      "Finished\n",
      "['https://arxiv.org/abs/2105.05799']\n",
      "Downloading papers...\n"
     ]
    },
    {
     "name": "stderr",
     "output_type": "stream",
     "text": [
      "0it [00:18, ?it/s]\n",
      "  3%|▎         | 24/935 [20:52<5:55:23, 23.41s/it]"
     ]
    },
    {
     "name": "stdout",
     "output_type": "stream",
     "text": [
      "file could not be opened successfully:\n",
      "- method gz: ReadError('invalid header')\n",
      "- method bz2: ReadError('not a bzip2 file')\n",
      "- method xz: ReadError('not an lzma file')\n",
      "- method tar: ReadError('invalid header')\n",
      "Something goes wrong. Please check the input or concat me to fix this bug. Error message: \n",
      "[Errno 2] No such file or directory: '/home/jihuawei/jhw_pdf_parser/datasets/ArXiv体系/2105.05799/2105.05799.pdf'\n",
      "['https://arxiv.org/abs/1802.07667']\n",
      "Downloading papers...\n"
     ]
    },
    {
     "name": "stderr",
     "output_type": "stream",
     "text": [
      "0it [00:21, ?it/s]\n",
      "  3%|▎         | 25/935 [21:13<5:44:33, 22.72s/it]"
     ]
    },
    {
     "name": "stdout",
     "output_type": "stream",
     "text": [
      "file could not be opened successfully:\n",
      "- method gz: ReadError('invalid header')\n",
      "- method bz2: ReadError('not a bzip2 file')\n",
      "- method xz: ReadError('not an lzma file')\n",
      "- method tar: ReadError('invalid header')\n",
      "Something goes wrong. Please check the input or concat me to fix this bug. Error message: \n",
      "[Errno 2] No such file or directory: '/home/jihuawei/jhw_pdf_parser/datasets/ArXiv体系/1802.07667/1802.07667.pdf'\n",
      "['https://arxiv.org/abs/1510.04037']\n",
      "Downloading papers...\n"
     ]
    },
    {
     "name": "stderr",
     "output_type": "stream",
     "text": [
      "1it [00:45, 45.95s/it]\n",
      "  3%|▎         | 26/935 [21:59<7:29:47, 29.69s/it]"
     ]
    },
    {
     "name": "stdout",
     "output_type": "stream",
     "text": [
      "Finished\n",
      "['https://arxiv.org/abs/1809.10924']\n",
      "Downloading papers...\n"
     ]
    },
    {
     "name": "stderr",
     "output_type": "stream",
     "text": [
      "1it [00:24, 24.30s/it]\n",
      "  3%|▎         | 27/935 [22:23<7:04:50, 28.07s/it]"
     ]
    },
    {
     "name": "stdout",
     "output_type": "stream",
     "text": [
      "Finished\n",
      "['https://arxiv.org/abs/1111.2689']\n",
      "Downloading papers...\n"
     ]
    },
    {
     "name": "stderr",
     "output_type": "stream",
     "text": [
      "0it [00:12, ?it/s]\n",
      "  3%|▎         | 28/935 [22:36<5:52:33, 23.32s/it]"
     ]
    },
    {
     "name": "stdout",
     "output_type": "stream",
     "text": [
      "file could not be opened successfully:\n",
      "- method gz: ReadError('invalid header')\n",
      "- method bz2: ReadError('not a bzip2 file')\n",
      "- method xz: ReadError('not an lzma file')\n",
      "- method tar: ReadError('invalid header')\n",
      "Something goes wrong. Please check the input or concat me to fix this bug. Error message: \n",
      "[Errno 2] No such file or directory: '/home/jihuawei/jhw_pdf_parser/datasets/ArXiv体系/1111.2689/1111.2689.pdf'\n",
      "['https://arxiv.org/abs/1410.8087']\n",
      "Downloading papers...\n"
     ]
    },
    {
     "name": "stderr",
     "output_type": "stream",
     "text": [
      "1it [01:17, 77.17s/it]\n",
      "  3%|▎         | 29/935 [23:53<9:56:08, 39.48s/it]"
     ]
    },
    {
     "name": "stdout",
     "output_type": "stream",
     "text": [
      "Finished\n",
      "['https://arxiv.org/abs/1809.00959']\n",
      "Downloading papers...\n"
     ]
    },
    {
     "name": "stderr",
     "output_type": "stream",
     "text": [
      "1it [01:07, 67.35s/it]\n",
      "  3%|▎         | 30/935 [25:00<12:01:36, 47.84s/it]"
     ]
    },
    {
     "name": "stdout",
     "output_type": "stream",
     "text": [
      "Finished\n",
      "['https://arxiv.org/abs/2206.07993']\n",
      "Downloading papers...\n"
     ]
    },
    {
     "name": "stderr",
     "output_type": "stream",
     "text": [
      "1it [00:53, 53.27s/it]\n",
      "  3%|▎         | 31/935 [25:53<12:25:23, 49.47s/it]"
     ]
    },
    {
     "name": "stdout",
     "output_type": "stream",
     "text": [
      "Finished\n",
      "['https://arxiv.org/abs/0704.1461']\n",
      "Downloading papers...\n"
     ]
    },
    {
     "name": "stderr",
     "output_type": "stream",
     "text": [
      "1it [00:18, 18.07s/it]\n",
      "  3%|▎         | 32/935 [26:12<10:02:46, 40.05s/it]"
     ]
    },
    {
     "name": "stdout",
     "output_type": "stream",
     "text": [
      "Finished\n",
      "['https://arxiv.org/abs/0806.3234']\n",
      "Downloading papers...\n"
     ]
    },
    {
     "name": "stderr",
     "output_type": "stream",
     "text": [
      "0it [00:12, ?it/s]\n",
      "  4%|▎         | 33/935 [26:24<7:56:39, 31.71s/it] "
     ]
    },
    {
     "name": "stdout",
     "output_type": "stream",
     "text": [
      "file could not be opened successfully:\n",
      "- method gz: ReadError('invalid header')\n",
      "- method bz2: ReadError('not a bzip2 file')\n",
      "- method xz: ReadError('not an lzma file')\n",
      "- method tar: ReadError('invalid header')\n",
      "Something goes wrong. Please check the input or concat me to fix this bug. Error message: \n",
      "[Errno 2] No such file or directory: '/home/jihuawei/jhw_pdf_parser/datasets/ArXiv体系/0806.3234/0806.3234.pdf'\n",
      "['https://arxiv.org/abs/0901.1735']\n",
      "Downloading papers...\n"
     ]
    },
    {
     "name": "stderr",
     "output_type": "stream",
     "text": [
      "1it [00:07,  7.90s/it]\n",
      "  4%|▎         | 34/935 [26:32<6:08:53, 24.57s/it]"
     ]
    },
    {
     "name": "stdout",
     "output_type": "stream",
     "text": [
      "Finished\n",
      "['https://arxiv.org/abs/2208.00432']\n",
      "Downloading papers...\n"
     ]
    },
    {
     "name": "stderr",
     "output_type": "stream",
     "text": [
      "0it [00:10, ?it/s]\n",
      "  4%|▎         | 35/935 [26:43<5:06:56, 20.46s/it]"
     ]
    },
    {
     "name": "stdout",
     "output_type": "stream",
     "text": [
      "file could not be opened successfully:\n",
      "- method gz: ReadError('invalid header')\n",
      "- method bz2: ReadError('not a bzip2 file')\n",
      "- method xz: ReadError('not an lzma file')\n",
      "- method tar: ReadError('invalid header')\n",
      "Something goes wrong. Please check the input or concat me to fix this bug. Error message: \n",
      "[Errno 2] No such file or directory: '/home/jihuawei/jhw_pdf_parser/datasets/ArXiv体系/2208.00432/2208.00432.pdf'\n",
      "['https://arxiv.org/abs/2012.08371']\n",
      "Downloading papers...\n"
     ]
    },
    {
     "name": "stderr",
     "output_type": "stream",
     "text": [
      "1it [00:23, 23.57s/it]\n",
      "  4%|▍         | 36/935 [27:06<5:20:35, 21.40s/it]"
     ]
    },
    {
     "name": "stdout",
     "output_type": "stream",
     "text": [
      "Finished\n",
      "['https://arxiv.org/abs/1401.4635']\n",
      "Downloading papers...\n"
     ]
    },
    {
     "name": "stderr",
     "output_type": "stream",
     "text": [
      "0it [00:07, ?it/s]\n",
      "  4%|▍         | 37/935 [27:13<4:17:09, 17.18s/it]"
     ]
    },
    {
     "name": "stdout",
     "output_type": "stream",
     "text": [
      "file could not be opened successfully:\n",
      "- method gz: ReadError('invalid header')\n",
      "- method bz2: ReadError('not a bzip2 file')\n",
      "- method xz: ReadError('not an lzma file')\n",
      "- method tar: ReadError('invalid header')\n",
      "Something goes wrong. Please check the input or concat me to fix this bug. Error message: \n",
      "[Errno 2] No such file or directory: '/home/jihuawei/jhw_pdf_parser/datasets/ArXiv体系/1401.4635/1401.4635.pdf'\n",
      "['https://arxiv.org/abs/0907.0964']\n",
      "Downloading papers...\n"
     ]
    },
    {
     "name": "stderr",
     "output_type": "stream",
     "text": [
      "1it [00:22, 22.07s/it]\n",
      "  4%|▍         | 38/935 [27:36<4:38:49, 18.65s/it]"
     ]
    },
    {
     "name": "stdout",
     "output_type": "stream",
     "text": [
      "Finished\n",
      "['https://arxiv.org/abs/1901.09967']\n",
      "Downloading papers...\n"
     ]
    },
    {
     "name": "stderr",
     "output_type": "stream",
     "text": [
      "1it [00:35, 35.74s/it]\n",
      "  4%|▍         | 39/935 [28:11<5:55:05, 23.78s/it]"
     ]
    },
    {
     "name": "stdout",
     "output_type": "stream",
     "text": [
      "Finished\n",
      "['https://arxiv.org/abs/1407.6195']\n",
      "Downloading papers...\n"
     ]
    },
    {
     "name": "stderr",
     "output_type": "stream",
     "text": [
      "1it [00:12, 12.31s/it]\n",
      "  4%|▍         | 40/935 [28:24<5:03:23, 20.34s/it]"
     ]
    },
    {
     "name": "stdout",
     "output_type": "stream",
     "text": [
      "Finished\n",
      "['https://arxiv.org/abs/0906.0784']\n",
      "Downloading papers...\n"
     ]
    },
    {
     "name": "stderr",
     "output_type": "stream",
     "text": [
      "1it [00:31, 31.30s/it]\n",
      "  4%|▍         | 41/935 [28:55<5:52:05, 23.63s/it]"
     ]
    },
    {
     "name": "stdout",
     "output_type": "stream",
     "text": [
      "Finished\n",
      "['https://arxiv.org/abs/1612.09093']\n",
      "Downloading papers...\n"
     ]
    },
    {
     "name": "stderr",
     "output_type": "stream",
     "text": [
      "1it [00:27, 27.13s/it]\n",
      "  4%|▍         | 42/935 [29:22<6:07:21, 24.68s/it]"
     ]
    },
    {
     "name": "stdout",
     "output_type": "stream",
     "text": [
      "Finished\n",
      "['https://arxiv.org/abs/1005.0216']\n",
      "Downloading papers...\n"
     ]
    },
    {
     "name": "stderr",
     "output_type": "stream",
     "text": [
      "0it [00:13, ?it/s]\n",
      "  5%|▍         | 43/935 [29:35<5:16:22, 21.28s/it]"
     ]
    },
    {
     "name": "stdout",
     "output_type": "stream",
     "text": [
      "file could not be opened successfully:\n",
      "- method gz: ReadError('invalid header')\n",
      "- method bz2: ReadError('not a bzip2 file')\n",
      "- method xz: ReadError('not an lzma file')\n",
      "- method tar: ReadError('invalid header')\n",
      "Something goes wrong. Please check the input or concat me to fix this bug. Error message: \n",
      "[Errno 2] No such file or directory: '/home/jihuawei/jhw_pdf_parser/datasets/ArXiv体系/1005.0216/1005.0216.pdf'\n",
      "['https://arxiv.org/abs/0807.5110']\n",
      "Downloading papers...\n"
     ]
    },
    {
     "name": "stderr",
     "output_type": "stream",
     "text": [
      "1it [00:10, 10.28s/it]\n",
      "  5%|▍         | 44/935 [29:46<4:27:01, 17.98s/it]"
     ]
    },
    {
     "name": "stdout",
     "output_type": "stream",
     "text": [
      "Finished\n",
      "['https://arxiv.org/abs/1705.06279']\n",
      "Downloading papers...\n"
     ]
    },
    {
     "name": "stderr",
     "output_type": "stream",
     "text": [
      "0it [00:10, ?it/s]\n",
      "  5%|▍         | 45/935 [29:57<3:55:18, 15.86s/it]"
     ]
    },
    {
     "name": "stdout",
     "output_type": "stream",
     "text": [
      "file could not be opened successfully:\n",
      "- method gz: ReadError('invalid header')\n",
      "- method bz2: ReadError('not a bzip2 file')\n",
      "- method xz: ReadError('not an lzma file')\n",
      "- method tar: ReadError('invalid header')\n",
      "Something goes wrong. Please check the input or concat me to fix this bug. Error message: \n",
      "[Errno 2] No such file or directory: '/home/jihuawei/jhw_pdf_parser/datasets/ArXiv体系/1705.06279/1705.06279.pdf'\n",
      "['https://arxiv.org/abs/1312.7686']\n",
      "Downloading papers...\n"
     ]
    },
    {
     "name": "stderr",
     "output_type": "stream",
     "text": [
      "0it [00:08, ?it/s]\n",
      "  5%|▍         | 46/935 [30:05<3:23:22, 13.73s/it]"
     ]
    },
    {
     "name": "stdout",
     "output_type": "stream",
     "text": [
      "file could not be opened successfully:\n",
      "- method gz: ReadError('invalid header')\n",
      "- method bz2: ReadError('not a bzip2 file')\n",
      "- method xz: ReadError('not an lzma file')\n",
      "- method tar: ReadError('invalid header')\n",
      "Something goes wrong. Please check the input or concat me to fix this bug. Error message: \n",
      "[Errno 2] No such file or directory: '/home/jihuawei/jhw_pdf_parser/datasets/ArXiv体系/1312.7686/1312.7686.pdf'\n",
      "['https://arxiv.org/abs/1304.0814']\n",
      "Downloading papers...\n"
     ]
    },
    {
     "name": "stderr",
     "output_type": "stream",
     "text": [
      "1it [00:13, 13.04s/it]\n",
      "  5%|▌         | 47/935 [30:18<3:20:08, 13.52s/it]"
     ]
    },
    {
     "name": "stdout",
     "output_type": "stream",
     "text": [
      "Finished\n",
      "['https://arxiv.org/abs/1106.2837']\n",
      "Downloading papers...\n"
     ]
    },
    {
     "name": "stderr",
     "output_type": "stream",
     "text": [
      "0it [00:15, ?it/s]\n",
      "  5%|▌         | 48/935 [30:34<3:27:32, 14.04s/it]"
     ]
    },
    {
     "name": "stdout",
     "output_type": "stream",
     "text": [
      "file could not be opened successfully:\n",
      "- method gz: ReadError('invalid header')\n",
      "- method bz2: ReadError('not a bzip2 file')\n",
      "- method xz: ReadError('not an lzma file')\n",
      "- method tar: ReadError('invalid header')\n",
      "Something goes wrong. Please check the input or concat me to fix this bug. Error message: \n",
      "[Errno 2] No such file or directory: '/home/jihuawei/jhw_pdf_parser/datasets/ArXiv体系/1106.2837/1106.2837.pdf'\n",
      "['https://arxiv.org/abs/2202.02846']\n",
      "Downloading papers...\n"
     ]
    },
    {
     "name": "stderr",
     "output_type": "stream",
     "text": [
      "0it [00:14, ?it/s]\n",
      "  5%|▌         | 49/935 [30:49<3:31:20, 14.31s/it]"
     ]
    },
    {
     "name": "stdout",
     "output_type": "stream",
     "text": [
      "file could not be opened successfully:\n",
      "- method gz: ReadError('invalid header')\n",
      "- method bz2: ReadError('not a bzip2 file')\n",
      "- method xz: ReadError('not an lzma file')\n",
      "- method tar: ReadError('invalid header')\n",
      "Something goes wrong. Please check the input or concat me to fix this bug. Error message: \n",
      "[Errno 2] No such file or directory: '/home/jihuawei/jhw_pdf_parser/datasets/ArXiv体系/2202.02846/2202.02846.pdf'\n",
      "['https://arxiv.org/abs/1301.1235']\n",
      "Downloading papers...\n"
     ]
    },
    {
     "name": "stderr",
     "output_type": "stream",
     "text": [
      "1it [00:17, 17.21s/it]\n",
      "  5%|▌         | 50/935 [31:06<3:43:58, 15.18s/it]"
     ]
    },
    {
     "name": "stdout",
     "output_type": "stream",
     "text": [
      "Finished\n",
      "['https://arxiv.org/abs/1001.4819']\n",
      "Downloading papers...\n"
     ]
    },
    {
     "name": "stderr",
     "output_type": "stream",
     "text": [
      "0it [00:19, ?it/s]\n",
      "  5%|▌         | 51/935 [31:26<4:04:20, 16.58s/it]"
     ]
    },
    {
     "name": "stdout",
     "output_type": "stream",
     "text": [
      "file could not be opened successfully:\n",
      "- method gz: ReadError('invalid header')\n",
      "- method bz2: ReadError('not a bzip2 file')\n",
      "- method xz: ReadError('not an lzma file')\n",
      "- method tar: ReadError('invalid header')\n",
      "Something goes wrong. Please check the input or concat me to fix this bug. Error message: \n",
      "[Errno 2] No such file or directory: '/home/jihuawei/jhw_pdf_parser/datasets/ArXiv体系/1001.4819/1001.4819.pdf'\n",
      "['https://arxiv.org/abs/0805.2730']\n",
      "Downloading papers...\n"
     ]
    },
    {
     "name": "stderr",
     "output_type": "stream",
     "text": [
      "1it [00:12, 12.73s/it]\n",
      "  6%|▌         | 52/935 [31:38<3:47:03, 15.43s/it]"
     ]
    },
    {
     "name": "stdout",
     "output_type": "stream",
     "text": [
      "Finished\n",
      "['https://arxiv.org/abs/2205.09797']\n",
      "Downloading papers...\n"
     ]
    },
    {
     "name": "stderr",
     "output_type": "stream",
     "text": [
      "1it [05:11, 311.05s/it]\n",
      "  6%|▌         | 53/935 [36:49<25:30:29, 104.12s/it]"
     ]
    },
    {
     "name": "stdout",
     "output_type": "stream",
     "text": [
      "Finished\n",
      "['https://arxiv.org/abs/1611.01631']\n",
      "Downloading papers...\n"
     ]
    },
    {
     "name": "stderr",
     "output_type": "stream",
     "text": [
      "0it [00:09, ?it/s]\n",
      "  6%|▌         | 54/935 [36:59<18:33:55, 75.86s/it] "
     ]
    },
    {
     "name": "stdout",
     "output_type": "stream",
     "text": [
      "file could not be opened successfully:\n",
      "- method gz: ReadError('invalid header')\n",
      "- method bz2: ReadError('not a bzip2 file')\n",
      "- method xz: ReadError('not an lzma file')\n",
      "- method tar: ReadError('invalid header')\n",
      "Something goes wrong. Please check the input or concat me to fix this bug. Error message: \n",
      "[Errno 2] No such file or directory: '/home/jihuawei/jhw_pdf_parser/datasets/ArXiv体系/1611.01631/1611.01631.pdf'\n",
      "['https://arxiv.org/abs/1902.01623']\n",
      "Downloading papers...\n"
     ]
    },
    {
     "name": "stderr",
     "output_type": "stream",
     "text": [
      "1it [05:28, 328.95s/it]\n",
      "  6%|▌         | 55/935 [42:28<37:06:15, 151.79s/it]"
     ]
    },
    {
     "name": "stdout",
     "output_type": "stream",
     "text": [
      "Finished\n",
      "['https://arxiv.org/abs/2104.07444']\n",
      "Downloading papers...\n"
     ]
    },
    {
     "name": "stderr",
     "output_type": "stream",
     "text": [
      "1it [00:53, 53.78s/it]\n",
      "  6%|▌         | 56/935 [43:22<29:53:00, 122.39s/it]"
     ]
    },
    {
     "name": "stdout",
     "output_type": "stream",
     "text": [
      "Finished\n",
      "['https://arxiv.org/abs/1610.06942']\n",
      "Downloading papers...\n"
     ]
    },
    {
     "name": "stderr",
     "output_type": "stream",
     "text": [
      "1it [01:12, 72.91s/it]\n",
      "  6%|▌         | 57/935 [44:35<26:13:46, 107.55s/it]"
     ]
    },
    {
     "name": "stdout",
     "output_type": "stream",
     "text": [
      "Finished\n",
      "['https://arxiv.org/abs/1303.0079']\n",
      "Downloading papers...\n"
     ]
    },
    {
     "name": "stderr",
     "output_type": "stream",
     "text": [
      "0it [00:55, ?it/s]\n",
      "  6%|▌         | 58/935 [45:30<22:22:56, 91.88s/it] "
     ]
    },
    {
     "name": "stdout",
     "output_type": "stream",
     "text": [
      "file could not be opened successfully:\n",
      "- method gz: ReadError('not a gzip file')\n",
      "- method bz2: ReadError('not a bzip2 file')\n",
      "- method xz: ReadError('not an lzma file')\n",
      "- method tar: ReadError('invalid header')\n",
      "Something goes wrong. Please check the input or concat me to fix this bug. Error message: \n",
      "[Errno 2] No such file or directory: '/home/jihuawei/jhw_pdf_parser/datasets/ArXiv体系/1303.0079/1303.0079.pdf'\n",
      "['https://arxiv.org/abs/1911.00470']\n",
      "Downloading papers...\n"
     ]
    },
    {
     "name": "stderr",
     "output_type": "stream",
     "text": [
      "1it [01:38, 98.89s/it]\n",
      "  6%|▋         | 59/935 [47:09<22:52:07, 93.98s/it]"
     ]
    },
    {
     "name": "stdout",
     "output_type": "stream",
     "text": [
      "Finished\n",
      "['https://arxiv.org/abs/1104.1842']\n",
      "Downloading papers...\n"
     ]
    },
    {
     "name": "stderr",
     "output_type": "stream",
     "text": [
      "1it [00:13, 13.48s/it]\n",
      "  6%|▋         | 60/935 [47:23<16:58:23, 69.83s/it]"
     ]
    },
    {
     "name": "stdout",
     "output_type": "stream",
     "text": [
      "Finished\n",
      "['https://arxiv.org/abs/1802.03953']\n",
      "Downloading papers...\n"
     ]
    },
    {
     "name": "stderr",
     "output_type": "stream",
     "text": [
      "0it [00:16, ?it/s]\n",
      "  7%|▋         | 61/935 [47:39<13:04:04, 53.83s/it]"
     ]
    },
    {
     "name": "stdout",
     "output_type": "stream",
     "text": [
      "file could not be opened successfully:\n",
      "- method gz: ReadError('invalid header')\n",
      "- method bz2: ReadError('not a bzip2 file')\n",
      "- method xz: ReadError('not an lzma file')\n",
      "- method tar: ReadError('invalid header')\n",
      "Something goes wrong. Please check the input or concat me to fix this bug. Error message: \n",
      "[Errno 2] No such file or directory: '/home/jihuawei/jhw_pdf_parser/datasets/ArXiv体系/1802.03953/1802.03953.pdf'\n",
      "['https://arxiv.org/abs/2103.14467']\n",
      "Downloading papers...\n"
     ]
    },
    {
     "name": "stderr",
     "output_type": "stream",
     "text": [
      "1it [00:20, 20.28s/it]\n",
      "  7%|▋         | 62/935 [47:59<10:36:44, 43.76s/it]"
     ]
    },
    {
     "name": "stdout",
     "output_type": "stream",
     "text": [
      "Finished\n",
      "['https://arxiv.org/abs/2208.09845']\n",
      "Downloading papers...\n"
     ]
    },
    {
     "name": "stderr",
     "output_type": "stream",
     "text": [
      "1it [00:56, 56.13s/it]\n",
      "  7%|▋         | 63/935 [48:56<11:29:56, 47.47s/it]"
     ]
    },
    {
     "name": "stdout",
     "output_type": "stream",
     "text": [
      "Finished\n",
      "['https://arxiv.org/abs/1906.10246']\n",
      "Downloading papers...\n"
     ]
    },
    {
     "name": "stderr",
     "output_type": "stream",
     "text": [
      "1it [00:40, 40.99s/it]\n",
      "  7%|▋         | 64/935 [49:37<11:00:57, 45.53s/it]"
     ]
    },
    {
     "name": "stdout",
     "output_type": "stream",
     "text": [
      "Finished\n",
      "['https://arxiv.org/abs/0706.1761']\n",
      "Downloading papers...\n"
     ]
    },
    {
     "name": "stderr",
     "output_type": "stream",
     "text": [
      "0it [00:17, ?it/s]\n",
      "  7%|▋         | 65/935 [49:54<8:56:37, 37.01s/it] "
     ]
    },
    {
     "name": "stdout",
     "output_type": "stream",
     "text": [
      "file could not be opened successfully:\n",
      "- method gz: ReadError('invalid header')\n",
      "- method bz2: ReadError('not a bzip2 file')\n",
      "- method xz: ReadError('not an lzma file')\n",
      "- method tar: ReadError('invalid header')\n",
      "Something goes wrong. Please check the input or concat me to fix this bug. Error message: \n",
      "[Errno 2] No such file or directory: '/home/jihuawei/jhw_pdf_parser/datasets/ArXiv体系/0706.1761/0706.1761.pdf'\n",
      "['https://arxiv.org/abs/1012.3585']\n",
      "Downloading papers...\n"
     ]
    },
    {
     "name": "stderr",
     "output_type": "stream",
     "text": [
      "0it [01:10, ?it/s]\n",
      "  7%|▋         | 66/935 [51:04<11:21:55, 47.08s/it]"
     ]
    },
    {
     "name": "stdout",
     "output_type": "stream",
     "text": [
      "file could not be opened successfully:\n",
      "- method gz: ReadError('not a gzip file')\n",
      "- method bz2: ReadError('not a bzip2 file')\n",
      "- method xz: ReadError('not an lzma file')\n",
      "- method tar: ReadError('invalid header')\n",
      "Something goes wrong. Please check the input or concat me to fix this bug. Error message: \n",
      "[Errno 2] No such file or directory: '/home/jihuawei/jhw_pdf_parser/datasets/ArXiv体系/1012.3585/1012.3585.pdf'\n",
      "['https://arxiv.org/abs/1302.5741']\n",
      "Downloading papers...\n"
     ]
    },
    {
     "name": "stderr",
     "output_type": "stream",
     "text": [
      "1it [00:31, 31.89s/it]\n",
      "  7%|▋         | 67/935 [51:36<10:15:13, 42.53s/it]"
     ]
    },
    {
     "name": "stdout",
     "output_type": "stream",
     "text": [
      "Finished\n",
      "['https://arxiv.org/abs/2106.08736']\n",
      "Downloading papers...\n"
     ]
    },
    {
     "name": "stderr",
     "output_type": "stream",
     "text": [
      "1it [00:48, 48.10s/it]\n",
      "  7%|▋         | 68/935 [52:24<10:38:40, 44.20s/it]"
     ]
    },
    {
     "name": "stdout",
     "output_type": "stream",
     "text": [
      "Finished\n",
      "['https://arxiv.org/abs/2203.11518']\n",
      "Downloading papers...\n"
     ]
    },
    {
     "name": "stderr",
     "output_type": "stream",
     "text": [
      "0it [00:37, ?it/s]\n",
      "  7%|▋         | 69/935 [53:02<10:09:30, 42.23s/it]"
     ]
    },
    {
     "name": "stdout",
     "output_type": "stream",
     "text": [
      "file could not be opened successfully:\n",
      "- method gz: ReadError('not a gzip file')\n",
      "- method bz2: ReadError('not a bzip2 file')\n",
      "- method xz: ReadError('not an lzma file')\n",
      "- method tar: ReadError('invalid header')\n",
      "Something goes wrong. Please check the input or concat me to fix this bug. Error message: \n",
      "[Errno 2] No such file or directory: '/home/jihuawei/jhw_pdf_parser/datasets/ArXiv体系/2203.11518/2203.11518.pdf'\n",
      "['https://arxiv.org/abs/1506.05286']\n",
      "Downloading papers...\n"
     ]
    },
    {
     "name": "stderr",
     "output_type": "stream",
     "text": [
      "1it [01:19, 79.71s/it]\n",
      "  7%|▋         | 70/935 [54:22<12:50:56, 53.48s/it]"
     ]
    },
    {
     "name": "stdout",
     "output_type": "stream",
     "text": [
      "Finished\n",
      "['https://arxiv.org/abs/1003.5149']\n",
      "Downloading papers...\n"
     ]
    },
    {
     "name": "stderr",
     "output_type": "stream",
     "text": [
      "0it [00:13, ?it/s]\n",
      "  8%|▊         | 71/935 [54:36<9:59:10, 41.61s/it] "
     ]
    },
    {
     "name": "stdout",
     "output_type": "stream",
     "text": [
      "file could not be opened successfully:\n",
      "- method gz: ReadError('invalid header')\n",
      "- method bz2: ReadError('not a bzip2 file')\n",
      "- method xz: ReadError('not an lzma file')\n",
      "- method tar: ReadError('invalid header')\n",
      "Something goes wrong. Please check the input or concat me to fix this bug. Error message: \n",
      "[Errno 2] No such file or directory: '/home/jihuawei/jhw_pdf_parser/datasets/ArXiv体系/1003.5149/1003.5149.pdf'\n",
      "['https://arxiv.org/abs/2308.01212']\n",
      "Downloading papers...\n"
     ]
    },
    {
     "name": "stderr",
     "output_type": "stream",
     "text": [
      "0it [01:24, ?it/s]\n",
      "  8%|▊         | 72/935 [56:00<13:02:25, 54.40s/it]"
     ]
    },
    {
     "name": "stdout",
     "output_type": "stream",
     "text": [
      "file could not be opened successfully:\n",
      "- method gz: ReadError('not a gzip file')\n",
      "- method bz2: ReadError('not a bzip2 file')\n",
      "- method xz: ReadError('not an lzma file')\n",
      "- method tar: ReadError('invalid header')\n",
      "Something goes wrong. Please check the input or concat me to fix this bug. Error message: \n",
      "[Errno 2] No such file or directory: '/home/jihuawei/jhw_pdf_parser/datasets/ArXiv体系/2308.01212/2308.01212.pdf'\n",
      "['https://arxiv.org/abs/1407.2775']\n",
      "Downloading papers...\n"
     ]
    },
    {
     "name": "stderr",
     "output_type": "stream",
     "text": [
      "1it [03:31, 211.69s/it]\n",
      "  8%|▊         | 73/935 [59:32<24:19:28, 101.59s/it]"
     ]
    },
    {
     "name": "stdout",
     "output_type": "stream",
     "text": [
      "Finished\n",
      "['https://arxiv.org/abs/1308.2431']\n",
      "Downloading papers...\n"
     ]
    },
    {
     "name": "stderr",
     "output_type": "stream",
     "text": [
      "1it [00:37, 37.23s/it]\n",
      "  8%|▊         | 74/935 [1:00:09<19:40:44, 82.28s/it]"
     ]
    },
    {
     "name": "stdout",
     "output_type": "stream",
     "text": [
      "Finished\n",
      "['https://arxiv.org/abs/1010.2265']\n",
      "Downloading papers...\n"
     ]
    },
    {
     "name": "stderr",
     "output_type": "stream",
     "text": [
      "1it [03:47, 227.51s/it]\n",
      "  8%|▊         | 75/935 [1:03:56<30:03:51, 125.85s/it]"
     ]
    },
    {
     "name": "stdout",
     "output_type": "stream",
     "text": [
      "Finished\n",
      "['https://arxiv.org/abs/0805.0826']\n",
      "Downloading papers...\n"
     ]
    },
    {
     "name": "stderr",
     "output_type": "stream",
     "text": [
      "1it [00:27, 27.51s/it]\n",
      "  8%|▊         | 76/935 [1:04:24<22:59:24, 96.35s/it] "
     ]
    },
    {
     "name": "stdout",
     "output_type": "stream",
     "text": [
      "Finished\n",
      "['https://arxiv.org/abs/1707.00048']\n",
      "Downloading papers...\n"
     ]
    },
    {
     "name": "stderr",
     "output_type": "stream",
     "text": [
      "1it [04:11, 251.20s/it]\n",
      "  8%|▊         | 77/935 [1:08:35<34:02:08, 142.81s/it]"
     ]
    },
    {
     "name": "stdout",
     "output_type": "stream",
     "text": [
      "Finished\n",
      "['https://arxiv.org/abs/1807.08553']\n",
      "Downloading papers...\n"
     ]
    },
    {
     "name": "stderr",
     "output_type": "stream",
     "text": [
      "1it [01:46, 106.97s/it]\n",
      "  8%|▊         | 78/935 [1:10:22<31:26:14, 132.06s/it]"
     ]
    },
    {
     "name": "stdout",
     "output_type": "stream",
     "text": [
      "Finished\n",
      "['https://arxiv.org/abs/1605.08906']\n",
      "Downloading papers...\n"
     ]
    },
    {
     "name": "stderr",
     "output_type": "stream",
     "text": [
      "0it [00:46, ?it/s]\n",
      "  8%|▊         | 79/935 [1:11:09<25:19:05, 106.48s/it]"
     ]
    },
    {
     "name": "stdout",
     "output_type": "stream",
     "text": [
      "file could not be opened successfully:\n",
      "- method gz: ReadError('not a gzip file')\n",
      "- method bz2: ReadError('not a bzip2 file')\n",
      "- method xz: ReadError('not an lzma file')\n",
      "- method tar: ReadError('invalid header')\n",
      "Something goes wrong. Please check the input or concat me to fix this bug. Error message: \n",
      "[Errno 2] No such file or directory: '/home/jihuawei/jhw_pdf_parser/datasets/ArXiv体系/1605.08906/1605.08906.pdf'\n",
      "['https://arxiv.org/abs/1908.11198']\n",
      "Downloading papers...\n"
     ]
    },
    {
     "name": "stderr",
     "output_type": "stream",
     "text": [
      "1it [02:09, 129.70s/it]\n",
      "  9%|▊         | 80/935 [1:13:18<26:56:35, 113.45s/it]"
     ]
    },
    {
     "name": "stdout",
     "output_type": "stream",
     "text": [
      "Finished\n",
      "['https://arxiv.org/abs/1409.5927']\n",
      "Downloading papers...\n"
     ]
    },
    {
     "name": "stderr",
     "output_type": "stream",
     "text": [
      "1it [01:03, 63.59s/it]\n",
      "  9%|▊         | 81/935 [1:14:22<23:21:49, 98.49s/it] "
     ]
    },
    {
     "name": "stdout",
     "output_type": "stream",
     "text": [
      "Finished\n",
      "['https://arxiv.org/abs/2009.05629']\n",
      "Downloading papers...\n"
     ]
    },
    {
     "name": "stderr",
     "output_type": "stream",
     "text": [
      "1it [10:36, 636.02s/it]\n",
      "  9%|▉         | 82/935 [1:24:58<61:32:47, 259.75s/it]"
     ]
    },
    {
     "name": "stdout",
     "output_type": "stream",
     "text": [
      "Finished\n",
      "['https://arxiv.org/abs/1708.06597']\n",
      "Downloading papers...\n"
     ]
    },
    {
     "name": "stderr",
     "output_type": "stream",
     "text": [
      "0it [01:57, ?it/s]\n",
      "  9%|▉         | 83/935 [1:26:56<51:23:58, 217.18s/it]"
     ]
    },
    {
     "name": "stdout",
     "output_type": "stream",
     "text": [
      "file could not be opened successfully:\n",
      "- method gz: ReadError('not a gzip file')\n",
      "- method bz2: ReadError('not a bzip2 file')\n",
      "- method xz: ReadError('not an lzma file')\n",
      "- method tar: ReadError('invalid header')\n",
      "Something goes wrong. Please check the input or concat me to fix this bug. Error message: \n",
      "[Errno 2] No such file or directory: '/home/jihuawei/jhw_pdf_parser/datasets/ArXiv体系/1708.06597/1708.06597.pdf'\n",
      "['https://arxiv.org/abs/1111.1319']\n",
      "Downloading papers...\n"
     ]
    },
    {
     "name": "stderr",
     "output_type": "stream",
     "text": [
      "1it [01:36, 96.85s/it]\n",
      "  9%|▉         | 84/935 [1:28:33<42:48:22, 181.08s/it]"
     ]
    },
    {
     "name": "stdout",
     "output_type": "stream",
     "text": [
      "Finished\n",
      "['https://arxiv.org/abs/1303.4532']\n",
      "Downloading papers...\n"
     ]
    },
    {
     "name": "stderr",
     "output_type": "stream",
     "text": [
      "1it [01:42, 102.55s/it]\n",
      "  9%|▉         | 85/935 [1:30:15<37:11:37, 157.53s/it]"
     ]
    },
    {
     "name": "stdout",
     "output_type": "stream",
     "text": [
      "Finished\n",
      "['https://arxiv.org/abs/2301.04931']\n",
      "Downloading papers...\n"
     ]
    },
    {
     "name": "stderr",
     "output_type": "stream",
     "text": [
      "1it [09:00, 540.49s/it]\n",
      "  9%|▉         | 86/935 [1:39:16<64:14:43, 272.42s/it]"
     ]
    },
    {
     "name": "stdout",
     "output_type": "stream",
     "text": [
      "Finished\n",
      "['https://arxiv.org/abs/1410.1218']\n",
      "Downloading papers...\n"
     ]
    },
    {
     "name": "stderr",
     "output_type": "stream",
     "text": [
      "1it [03:22, 202.20s/it]\n",
      "  9%|▉         | 87/935 [1:42:38<59:12:29, 251.36s/it]"
     ]
    },
    {
     "name": "stdout",
     "output_type": "stream",
     "text": [
      "Finished\n",
      "['https://arxiv.org/abs/2204.01882']\n",
      "Downloading papers...\n"
     ]
    },
    {
     "name": "stderr",
     "output_type": "stream",
     "text": [
      "1it [04:08, 248.57s/it]\n",
      "  9%|▉         | 88/935 [1:46:47<58:56:30, 250.52s/it]"
     ]
    },
    {
     "name": "stdout",
     "output_type": "stream",
     "text": [
      "Finished\n",
      "['https://arxiv.org/abs/1509.00432']\n",
      "Downloading papers...\n"
     ]
    },
    {
     "name": "stderr",
     "output_type": "stream",
     "text": [
      "1it [02:49, 169.41s/it]\n",
      " 10%|▉         | 89/935 [1:49:36<53:09:15, 226.19s/it]"
     ]
    },
    {
     "name": "stdout",
     "output_type": "stream",
     "text": [
      "Finished\n",
      "['https://arxiv.org/abs/1708.09852']\n",
      "Downloading papers...\n"
     ]
    },
    {
     "name": "stderr",
     "output_type": "stream",
     "text": [
      "0it [00:06, ?it/s]\n",
      " 10%|▉         | 90/935 [1:49:42<37:37:00, 160.26s/it]"
     ]
    },
    {
     "name": "stdout",
     "output_type": "stream",
     "text": [
      "file could not be opened successfully:\n",
      "- method gz: ReadError('invalid header')\n",
      "- method bz2: ReadError('not a bzip2 file')\n",
      "- method xz: ReadError('not an lzma file')\n",
      "- method tar: ReadError('invalid header')\n",
      "Something goes wrong. Please check the input or concat me to fix this bug. Error message: \n",
      "[Errno 2] No such file or directory: '/home/jihuawei/jhw_pdf_parser/datasets/ArXiv体系/1708.09852/1708.09852.pdf'\n",
      "['https://arxiv.org/abs/0802.3421']\n",
      "Downloading papers...\n"
     ]
    },
    {
     "name": "stderr",
     "output_type": "stream",
     "text": [
      "1it [00:13, 13.71s/it]\n",
      " 10%|▉         | 91/935 [1:49:56<27:15:55, 116.30s/it]"
     ]
    },
    {
     "name": "stdout",
     "output_type": "stream",
     "text": [
      "Finished\n",
      "['https://arxiv.org/abs/2109.09672']\n",
      "Downloading papers...\n"
     ]
    },
    {
     "name": "stderr",
     "output_type": "stream",
     "text": [
      "0it [00:07, ?it/s]\n",
      " 10%|▉         | 92/935 [1:50:04<19:36:57, 83.77s/it] "
     ]
    },
    {
     "name": "stdout",
     "output_type": "stream",
     "text": [
      "file could not be opened successfully:\n",
      "- method gz: ReadError('not a gzip file')\n",
      "- method bz2: ReadError('not a bzip2 file')\n",
      "- method xz: ReadError('not an lzma file')\n",
      "- method tar: ReadError('invalid header')\n",
      "Something goes wrong. Please check the input or concat me to fix this bug. Error message: \n",
      "[Errno 2] No such file or directory: '/home/jihuawei/jhw_pdf_parser/datasets/ArXiv体系/2109.09672/2109.09672.pdf'\n",
      "['https://arxiv.org/abs/2209.01101']\n",
      "Downloading papers...\n"
     ]
    },
    {
     "name": "stderr",
     "output_type": "stream",
     "text": [
      "1it [00:13, 13.30s/it]\n",
      " 10%|▉         | 93/935 [1:50:17<14:38:53, 62.63s/it]"
     ]
    },
    {
     "name": "stdout",
     "output_type": "stream",
     "text": [
      "Finished\n",
      "['https://arxiv.org/abs/2110.04657']\n",
      "Downloading papers...\n"
     ]
    },
    {
     "name": "stderr",
     "output_type": "stream",
     "text": [
      "0it [00:13, ?it/s]\n",
      " 10%|█         | 94/935 [1:50:31<11:11:37, 47.92s/it]"
     ]
    },
    {
     "name": "stdout",
     "output_type": "stream",
     "text": [
      "file could not be opened successfully:\n",
      "- method gz: ReadError('invalid header')\n",
      "- method bz2: ReadError('not a bzip2 file')\n",
      "- method xz: ReadError('not an lzma file')\n",
      "- method tar: ReadError('invalid header')\n",
      "Something goes wrong. Please check the input or concat me to fix this bug. Error message: \n",
      "[Errno 2] No such file or directory: '/home/jihuawei/jhw_pdf_parser/datasets/ArXiv体系/2110.04657/2110.04657.pdf'\n",
      "['https://arxiv.org/abs/1311.2138']\n",
      "Downloading papers...\n"
     ]
    },
    {
     "name": "stderr",
     "output_type": "stream",
     "text": [
      "1it [01:03, 63.65s/it]\n",
      " 10%|█         | 95/935 [1:51:35<12:16:56, 52.64s/it]"
     ]
    },
    {
     "name": "stdout",
     "output_type": "stream",
     "text": [
      "Finished\n",
      "['https://arxiv.org/abs/1710.05492']\n",
      "Downloading papers...\n"
     ]
    },
    {
     "name": "stderr",
     "output_type": "stream",
     "text": [
      "0it [00:18, ?it/s]\n",
      " 10%|█         | 96/935 [1:51:53<9:52:33, 42.38s/it] "
     ]
    },
    {
     "name": "stdout",
     "output_type": "stream",
     "text": [
      "file could not be opened successfully:\n",
      "- method gz: ReadError('invalid header')\n",
      "- method bz2: ReadError('not a bzip2 file')\n",
      "- method xz: ReadError('not an lzma file')\n",
      "- method tar: ReadError('invalid header')\n",
      "Something goes wrong. Please check the input or concat me to fix this bug. Error message: \n",
      "[Errno 2] No such file or directory: '/home/jihuawei/jhw_pdf_parser/datasets/ArXiv体系/1710.05492/1710.05492.pdf'\n",
      "['https://arxiv.org/abs/0710.4945']\n",
      "Downloading papers...\n"
     ]
    },
    {
     "name": "stderr",
     "output_type": "stream",
     "text": [
      "1it [00:21, 21.60s/it]\n",
      " 10%|█         | 97/935 [1:52:15<8:24:48, 36.14s/it]"
     ]
    },
    {
     "name": "stdout",
     "output_type": "stream",
     "text": [
      "Finished\n",
      "['https://arxiv.org/abs/2301.03184']\n",
      "Downloading papers...\n"
     ]
    },
    {
     "name": "stderr",
     "output_type": "stream",
     "text": [
      "1it [00:17, 17.57s/it]\n",
      " 10%|█         | 98/935 [1:52:32<7:06:29, 30.57s/it]"
     ]
    },
    {
     "name": "stdout",
     "output_type": "stream",
     "text": [
      "Finished\n",
      "['https://arxiv.org/abs/2002.02789']\n",
      "Downloading papers...\n"
     ]
    },
    {
     "name": "stderr",
     "output_type": "stream",
     "text": [
      "1it [00:12, 12.04s/it]\n",
      " 11%|█         | 99/935 [1:52:44<5:48:32, 25.02s/it]"
     ]
    },
    {
     "name": "stdout",
     "output_type": "stream",
     "text": [
      "Finished\n",
      "['https://arxiv.org/abs/0804.3065']\n",
      "Downloading papers...\n"
     ]
    },
    {
     "name": "stderr",
     "output_type": "stream",
     "text": [
      "1it [00:16, 16.87s/it]\n",
      " 11%|█         | 100/935 [1:53:01<5:14:08, 22.57s/it]"
     ]
    },
    {
     "name": "stdout",
     "output_type": "stream",
     "text": [
      "Finished\n",
      "['https://arxiv.org/abs/1401.6189']\n",
      "Downloading papers...\n"
     ]
    },
    {
     "name": "stderr",
     "output_type": "stream",
     "text": [
      "1it [00:10, 10.08s/it]\n",
      " 11%|█         | 101/935 [1:53:11<4:21:40, 18.83s/it]"
     ]
    },
    {
     "name": "stdout",
     "output_type": "stream",
     "text": [
      "Finished\n",
      "['https://arxiv.org/abs/2107.09410']\n",
      "Downloading papers...\n"
     ]
    },
    {
     "name": "stderr",
     "output_type": "stream",
     "text": [
      "0it [01:15, ?it/s]\n",
      " 11%|█         | 102/935 [1:54:27<8:18:56, 35.94s/it]"
     ]
    },
    {
     "name": "stdout",
     "output_type": "stream",
     "text": [
      "file could not be opened successfully:\n",
      "- method gz: ReadError('not a gzip file')\n",
      "- method bz2: ReadError('not a bzip2 file')\n",
      "- method xz: ReadError('not an lzma file')\n",
      "- method tar: ReadError('invalid header')\n",
      "Something goes wrong. Please check the input or concat me to fix this bug. Error message: \n",
      "[Errno 2] No such file or directory: '/home/jihuawei/jhw_pdf_parser/datasets/ArXiv体系/2107.09410/2107.09410.pdf'\n",
      "['https://arxiv.org/abs/0801.2056']\n",
      "Downloading papers...\n"
     ]
    },
    {
     "name": "stderr",
     "output_type": "stream",
     "text": [
      "1it [00:16, 16.11s/it]\n",
      " 11%|█         | 103/935 [1:54:43<6:55:52, 29.99s/it]"
     ]
    },
    {
     "name": "stdout",
     "output_type": "stream",
     "text": [
      "Finished\n",
      "['https://arxiv.org/abs/1003.5135']\n",
      "Downloading papers...\n"
     ]
    },
    {
     "name": "stderr",
     "output_type": "stream",
     "text": [
      "1it [00:20, 20.45s/it]\n",
      " 11%|█         | 104/935 [1:55:04<6:15:46, 27.13s/it]"
     ]
    },
    {
     "name": "stdout",
     "output_type": "stream",
     "text": [
      "Finished\n",
      "['https://arxiv.org/abs/1705.04510']\n",
      "Downloading papers...\n"
     ]
    },
    {
     "name": "stderr",
     "output_type": "stream",
     "text": [
      "1it [00:25, 25.22s/it]\n",
      " 11%|█         | 105/935 [1:55:29<6:07:24, 26.56s/it]"
     ]
    },
    {
     "name": "stdout",
     "output_type": "stream",
     "text": [
      "Finished\n",
      "['https://arxiv.org/abs/2106.11578']\n",
      "Downloading papers...\n"
     ]
    },
    {
     "name": "stderr",
     "output_type": "stream",
     "text": [
      "0it [00:32, ?it/s]\n",
      " 11%|█▏        | 106/935 [1:56:01<6:29:47, 28.21s/it]"
     ]
    },
    {
     "name": "stdout",
     "output_type": "stream",
     "text": [
      "file could not be opened successfully:\n",
      "- method gz: ReadError('not a gzip file')\n",
      "- method bz2: ReadError('not a bzip2 file')\n",
      "- method xz: ReadError('not an lzma file')\n",
      "- method tar: ReadError('invalid header')\n",
      "Something goes wrong. Please check the input or concat me to fix this bug. Error message: \n",
      "[Errno 2] No such file or directory: '/home/jihuawei/jhw_pdf_parser/datasets/ArXiv体系/2106.11578/2106.11578.pdf'\n",
      "['https://arxiv.org/abs/2104.10524']\n",
      "Downloading papers...\n"
     ]
    },
    {
     "name": "stderr",
     "output_type": "stream",
     "text": [
      "0it [03:23, ?it/s]\n",
      " 11%|█▏        | 107/935 [1:59:24<18:33:03, 80.66s/it]"
     ]
    },
    {
     "name": "stdout",
     "output_type": "stream",
     "text": [
      "file could not be opened successfully:\n",
      "- method gz: ReadError('not a gzip file')\n",
      "- method bz2: ReadError('not a bzip2 file')\n",
      "- method xz: ReadError('not an lzma file')\n",
      "- method tar: ReadError('invalid header')\n",
      "Something goes wrong. Please check the input or concat me to fix this bug. Error message: \n",
      "[Errno 2] No such file or directory: '/home/jihuawei/jhw_pdf_parser/datasets/ArXiv体系/2104.10524/2104.10524.pdf'\n",
      "['https://arxiv.org/abs/0704.1676']\n",
      "Downloading papers...\n"
     ]
    },
    {
     "name": "stderr",
     "output_type": "stream",
     "text": [
      "1it [00:33, 33.40s/it]\n",
      " 12%|█▏        | 108/935 [1:59:57<15:16:19, 66.48s/it]"
     ]
    },
    {
     "name": "stdout",
     "output_type": "stream",
     "text": [
      "Finished\n",
      "['https://arxiv.org/abs/2204.12178']\n",
      "Downloading papers...\n"
     ]
    },
    {
     "name": "stderr",
     "output_type": "stream",
     "text": [
      "1it [01:55, 115.43s/it]\n",
      " 12%|█▏        | 109/935 [2:01:53<18:37:24, 81.17s/it]"
     ]
    },
    {
     "name": "stdout",
     "output_type": "stream",
     "text": [
      "Finished\n",
      "['https://arxiv.org/abs/2104.09613']\n",
      "Downloading papers...\n"
     ]
    },
    {
     "name": "stderr",
     "output_type": "stream",
     "text": [
      "1it [01:25, 85.35s/it]\n",
      " 12%|█▏        | 110/935 [2:03:18<18:53:21, 82.43s/it]"
     ]
    },
    {
     "name": "stdout",
     "output_type": "stream",
     "text": [
      "Finished\n",
      "['https://arxiv.org/abs/0704.1782']\n",
      "Downloading papers...\n"
     ]
    },
    {
     "name": "stderr",
     "output_type": "stream",
     "text": [
      "1it [00:15, 15.23s/it]\n",
      " 12%|█▏        | 111/935 [2:03:33<14:15:09, 62.27s/it]"
     ]
    },
    {
     "name": "stdout",
     "output_type": "stream",
     "text": [
      "Finished\n",
      "['https://arxiv.org/abs/0709.0914']\n",
      "Downloading papers...\n"
     ]
    },
    {
     "name": "stderr",
     "output_type": "stream",
     "text": [
      "0it [00:14, ?it/s]\n",
      " 12%|█▏        | 112/935 [2:03:48<10:56:38, 47.87s/it]"
     ]
    },
    {
     "name": "stdout",
     "output_type": "stream",
     "text": [
      "file could not be opened successfully:\n",
      "- method gz: ReadError('invalid header')\n",
      "- method bz2: ReadError('not a bzip2 file')\n",
      "- method xz: ReadError('not an lzma file')\n",
      "- method tar: ReadError('invalid header')\n",
      "Something goes wrong. Please check the input or concat me to fix this bug. Error message: \n",
      "[Errno 2] No such file or directory: '/home/jihuawei/jhw_pdf_parser/datasets/ArXiv体系/0709.0914/0709.0914.pdf'\n",
      "['https://arxiv.org/abs/1902.09734']\n",
      "Downloading papers...\n"
     ]
    },
    {
     "name": "stderr",
     "output_type": "stream",
     "text": [
      "0it [00:15, ?it/s]\n",
      " 12%|█▏        | 113/935 [2:04:03<8:41:03, 38.03s/it] "
     ]
    },
    {
     "name": "stdout",
     "output_type": "stream",
     "text": [
      "file could not be opened successfully:\n",
      "- method gz: ReadError('invalid header')\n",
      "- method bz2: ReadError('not a bzip2 file')\n",
      "- method xz: ReadError('not an lzma file')\n",
      "- method tar: ReadError('invalid header')\n",
      "Something goes wrong. Please check the input or concat me to fix this bug. Error message: \n",
      "[Errno 2] No such file or directory: '/home/jihuawei/jhw_pdf_parser/datasets/ArXiv体系/1902.09734/1902.09734.pdf'\n",
      "['https://arxiv.org/abs/0710.3899']\n",
      "Downloading papers...\n"
     ]
    },
    {
     "name": "stderr",
     "output_type": "stream",
     "text": [
      "1it [00:08,  8.69s/it]\n",
      " 12%|█▏        | 114/935 [2:04:11<6:40:00, 29.23s/it]"
     ]
    },
    {
     "name": "stdout",
     "output_type": "stream",
     "text": [
      "Finished\n",
      "['https://arxiv.org/abs/1104.3425']\n",
      "Downloading papers...\n"
     ]
    },
    {
     "name": "stderr",
     "output_type": "stream",
     "text": [
      "1it [00:39, 39.79s/it]\n",
      " 12%|█▏        | 115/935 [2:04:51<7:22:49, 32.40s/it]"
     ]
    },
    {
     "name": "stdout",
     "output_type": "stream",
     "text": [
      "Finished\n",
      "['https://arxiv.org/abs/0806.0423']\n",
      "Downloading papers...\n"
     ]
    },
    {
     "name": "stderr",
     "output_type": "stream",
     "text": [
      "1it [00:20, 20.95s/it]\n",
      " 12%|█▏        | 116/935 [2:05:12<6:35:24, 28.97s/it]"
     ]
    },
    {
     "name": "stdout",
     "output_type": "stream",
     "text": [
      "Finished\n",
      "['https://arxiv.org/abs/0704.1783']\n",
      "Downloading papers...\n"
     ]
    },
    {
     "name": "stderr",
     "output_type": "stream",
     "text": [
      "1it [00:35, 35.79s/it]\n",
      " 13%|█▎        | 117/935 [2:05:48<7:02:49, 31.01s/it]"
     ]
    },
    {
     "name": "stdout",
     "output_type": "stream",
     "text": [
      "Finished\n",
      "['https://arxiv.org/abs/1512.04275']\n",
      "Downloading papers...\n"
     ]
    },
    {
     "name": "stderr",
     "output_type": "stream",
     "text": [
      "1it [07:49, 469.02s/it]\n",
      " 13%|█▎        | 118/935 [2:13:37<36:51:36, 162.42s/it]"
     ]
    },
    {
     "name": "stdout",
     "output_type": "stream",
     "text": [
      "Finished\n",
      "['https://arxiv.org/abs/2104.02272']\n",
      "Downloading papers...\n"
     ]
    },
    {
     "name": "stderr",
     "output_type": "stream",
     "text": [
      "1it [00:40, 40.70s/it]\n",
      " 13%|█▎        | 119/935 [2:14:18<28:32:19, 125.91s/it]"
     ]
    },
    {
     "name": "stdout",
     "output_type": "stream",
     "text": [
      "Finished\n",
      "['https://arxiv.org/abs/0807.1294']\n",
      "Downloading papers...\n"
     ]
    },
    {
     "name": "stderr",
     "output_type": "stream",
     "text": [
      "0it [00:13, ?it/s]\n",
      " 13%|█▎        | 120/935 [2:14:31<20:52:38, 92.22s/it] "
     ]
    },
    {
     "name": "stdout",
     "output_type": "stream",
     "text": [
      "file could not be opened successfully:\n",
      "- method gz: ReadError('invalid header')\n",
      "- method bz2: ReadError('not a bzip2 file')\n",
      "- method xz: ReadError('not an lzma file')\n",
      "- method tar: ReadError('invalid header')\n",
      "Something goes wrong. Please check the input or concat me to fix this bug. Error message: \n",
      "[Errno 2] No such file or directory: '/home/jihuawei/jhw_pdf_parser/datasets/ArXiv体系/0807.1294/0807.1294.pdf'\n",
      "['https://arxiv.org/abs/1306.6439']\n",
      "Downloading papers...\n"
     ]
    },
    {
     "name": "stderr",
     "output_type": "stream",
     "text": [
      "1it [00:12, 12.40s/it]\n",
      " 13%|█▎        | 121/935 [2:14:44<15:26:15, 68.27s/it]"
     ]
    },
    {
     "name": "stdout",
     "output_type": "stream",
     "text": [
      "Finished\n",
      "['https://arxiv.org/abs/0710.1592']\n",
      "Downloading papers...\n"
     ]
    },
    {
     "name": "stderr",
     "output_type": "stream",
     "text": [
      "1it [00:11, 11.14s/it]\n",
      " 13%|█▎        | 122/935 [2:14:55<11:32:52, 51.13s/it]"
     ]
    },
    {
     "name": "stdout",
     "output_type": "stream",
     "text": [
      "Finished\n",
      "['https://arxiv.org/abs/1701.08309']\n",
      "Downloading papers...\n"
     ]
    },
    {
     "name": "stderr",
     "output_type": "stream",
     "text": [
      "1it [00:13, 13.56s/it]\n",
      " 13%|█▎        | 123/935 [2:15:08<8:59:28, 39.86s/it] "
     ]
    },
    {
     "name": "stdout",
     "output_type": "stream",
     "text": [
      "Finished\n",
      "['https://arxiv.org/abs/1211.1765']\n",
      "Downloading papers...\n"
     ]
    },
    {
     "name": "stderr",
     "output_type": "stream",
     "text": [
      "1it [00:10, 10.95s/it]\n",
      " 13%|█▎        | 124/935 [2:15:19<7:01:35, 31.19s/it]"
     ]
    },
    {
     "name": "stdout",
     "output_type": "stream",
     "text": [
      "Finished\n",
      "['https://arxiv.org/abs/2112.09437']\n",
      "Downloading papers...\n"
     ]
    },
    {
     "name": "stderr",
     "output_type": "stream",
     "text": [
      "1it [00:10, 10.31s/it]\n",
      " 13%|█▎        | 125/935 [2:15:30<5:36:31, 24.93s/it]"
     ]
    },
    {
     "name": "stdout",
     "output_type": "stream",
     "text": [
      "Finished\n",
      "['https://arxiv.org/abs/0704.1771']\n",
      "Downloading papers...\n"
     ]
    },
    {
     "name": "stderr",
     "output_type": "stream",
     "text": [
      "0it [00:08, ?it/s]\n",
      " 13%|█▎        | 126/935 [2:15:38<4:28:59, 19.95s/it]"
     ]
    },
    {
     "name": "stdout",
     "output_type": "stream",
     "text": [
      "file could not be opened successfully:\n",
      "- method gz: ReadError('invalid header')\n",
      "- method bz2: ReadError('not a bzip2 file')\n",
      "- method xz: ReadError('not an lzma file')\n",
      "- method tar: ReadError('invalid header')\n",
      "Something goes wrong. Please check the input or concat me to fix this bug. Error message: \n",
      "[Errno 2] No such file or directory: '/home/jihuawei/jhw_pdf_parser/datasets/ArXiv体系/0704.1771/0704.1771.pdf'\n",
      "['https://arxiv.org/abs/0902.1963']\n",
      "Downloading papers...\n"
     ]
    },
    {
     "name": "stderr",
     "output_type": "stream",
     "text": [
      "0it [00:08, ?it/s]\n",
      " 14%|█▎        | 127/935 [2:15:46<3:40:25, 16.37s/it]"
     ]
    },
    {
     "name": "stdout",
     "output_type": "stream",
     "text": [
      "file could not be opened successfully:\n",
      "- method gz: ReadError('invalid header')\n",
      "- method bz2: ReadError('not a bzip2 file')\n",
      "- method xz: ReadError('not an lzma file')\n",
      "- method tar: ReadError('invalid header')\n",
      "Something goes wrong. Please check the input or concat me to fix this bug. Error message: \n",
      "[Errno 2] No such file or directory: '/home/jihuawei/jhw_pdf_parser/datasets/ArXiv体系/0902.1963/0902.1963.pdf'\n",
      "['https://arxiv.org/abs/1809.09751']\n",
      "Downloading papers...\n"
     ]
    },
    {
     "name": "stderr",
     "output_type": "stream",
     "text": [
      "1it [00:51, 51.48s/it]\n",
      " 14%|█▎        | 128/935 [2:16:38<6:01:51, 26.90s/it]"
     ]
    },
    {
     "name": "stdout",
     "output_type": "stream",
     "text": [
      "Finished\n",
      "['https://arxiv.org/abs/1407.8132']\n",
      "Downloading papers...\n"
     ]
    },
    {
     "name": "stderr",
     "output_type": "stream",
     "text": [
      "0it [00:22, ?it/s]\n",
      " 14%|█▍        | 129/935 [2:17:00<5:44:04, 25.61s/it]"
     ]
    },
    {
     "name": "stdout",
     "output_type": "stream",
     "text": [
      "file could not be opened successfully:\n",
      "- method gz: ReadError('not a gzip file')\n",
      "- method bz2: ReadError('not a bzip2 file')\n",
      "- method xz: ReadError('not an lzma file')\n",
      "- method tar: ReadError('invalid header')\n",
      "Something goes wrong. Please check the input or concat me to fix this bug. Error message: \n",
      "[Errno 2] No such file or directory: '/home/jihuawei/jhw_pdf_parser/datasets/ArXiv体系/1407.8132/1407.8132.pdf'\n",
      "['https://arxiv.org/abs/1308.6243']\n",
      "Downloading papers...\n"
     ]
    },
    {
     "name": "stderr",
     "output_type": "stream",
     "text": [
      "1it [00:06,  6.97s/it]\n",
      " 14%|█▍        | 130/935 [2:17:07<4:28:37, 20.02s/it]"
     ]
    },
    {
     "name": "stdout",
     "output_type": "stream",
     "text": [
      "Finished\n",
      "['https://arxiv.org/abs/1501.03931']\n",
      "Downloading papers...\n"
     ]
    },
    {
     "name": "stderr",
     "output_type": "stream",
     "text": [
      "1it [00:21, 21.02s/it]\n",
      " 14%|█▍        | 131/935 [2:17:28<4:32:18, 20.32s/it]"
     ]
    },
    {
     "name": "stdout",
     "output_type": "stream",
     "text": [
      "Finished\n",
      "['https://arxiv.org/abs/1207.6445']\n",
      "Downloading papers...\n"
     ]
    },
    {
     "name": "stderr",
     "output_type": "stream",
     "text": [
      "1it [00:24, 24.77s/it]\n",
      " 14%|█▍        | 132/935 [2:17:53<4:49:50, 21.66s/it]"
     ]
    },
    {
     "name": "stdout",
     "output_type": "stream",
     "text": [
      "Finished\n",
      "['https://arxiv.org/abs/0805.0907']\n",
      "Downloading papers...\n"
     ]
    },
    {
     "name": "stderr",
     "output_type": "stream",
     "text": [
      "0it [00:54, ?it/s]\n",
      " 14%|█▍        | 133/935 [2:18:47<7:01:05, 31.50s/it]"
     ]
    },
    {
     "name": "stdout",
     "output_type": "stream",
     "text": [
      "file could not be opened successfully:\n",
      "- method gz: ReadError('not a gzip file')\n",
      "- method bz2: ReadError('not a bzip2 file')\n",
      "- method xz: ReadError('not an lzma file')\n",
      "- method tar: ReadError('invalid header')\n",
      "Something goes wrong. Please check the input or concat me to fix this bug. Error message: \n",
      "[Errno 2] No such file or directory: '/home/jihuawei/jhw_pdf_parser/datasets/ArXiv体系/0805.0907/0805.0907.pdf'\n",
      "['https://arxiv.org/abs/0802.1274']\n",
      "Downloading papers...\n"
     ]
    },
    {
     "name": "stderr",
     "output_type": "stream",
     "text": [
      "1it [00:13, 13.75s/it]\n",
      " 14%|█▍        | 134/935 [2:19:01<5:49:29, 26.18s/it]"
     ]
    },
    {
     "name": "stdout",
     "output_type": "stream",
     "text": [
      "Finished\n",
      "['https://arxiv.org/abs/0805.0922']\n",
      "Downloading papers...\n"
     ]
    },
    {
     "name": "stderr",
     "output_type": "stream",
     "text": [
      "0it [00:39, ?it/s]\n",
      " 14%|█▍        | 135/935 [2:19:41<6:43:40, 30.28s/it]"
     ]
    },
    {
     "name": "stdout",
     "output_type": "stream",
     "text": [
      "file could not be opened successfully:\n",
      "- method gz: ReadError('not a gzip file')\n",
      "- method bz2: ReadError('not a bzip2 file')\n",
      "- method xz: ReadError('not an lzma file')\n",
      "- method tar: ReadError('invalid header')\n",
      "Something goes wrong. Please check the input or concat me to fix this bug. Error message: \n",
      "[Errno 2] No such file or directory: '/home/jihuawei/jhw_pdf_parser/datasets/ArXiv体系/0805.0922/0805.0922.pdf'\n",
      "['https://arxiv.org/abs/1512.05309']\n",
      "Downloading papers...\n"
     ]
    },
    {
     "name": "stderr",
     "output_type": "stream",
     "text": [
      "0it [00:31, ?it/s]\n",
      " 15%|█▍        | 136/935 [2:20:13<6:48:28, 30.67s/it]"
     ]
    },
    {
     "name": "stdout",
     "output_type": "stream",
     "text": [
      "file could not be opened successfully:\n",
      "- method gz: ReadError('not a gzip file')\n",
      "- method bz2: ReadError('not a bzip2 file')\n",
      "- method xz: ReadError('not an lzma file')\n",
      "- method tar: ReadError('invalid header')\n",
      "Something goes wrong. Please check the input or concat me to fix this bug. Error message: \n",
      "[Errno 2] No such file or directory: '/home/jihuawei/jhw_pdf_parser/datasets/ArXiv体系/1512.05309/1512.05309.pdf'\n",
      "['https://arxiv.org/abs/2208.11946']\n",
      "Downloading papers...\n"
     ]
    },
    {
     "name": "stderr",
     "output_type": "stream",
     "text": [
      "1it [00:29, 29.07s/it]\n",
      " 15%|█▍        | 137/935 [2:20:42<6:41:34, 30.19s/it]"
     ]
    },
    {
     "name": "stdout",
     "output_type": "stream",
     "text": [
      "Finished\n",
      "['https://arxiv.org/abs/1811.11955']\n",
      "Downloading papers...\n"
     ]
    },
    {
     "name": "stderr",
     "output_type": "stream",
     "text": [
      "0it [00:22, ?it/s]\n",
      " 15%|█▍        | 138/935 [2:21:05<6:11:37, 27.98s/it]"
     ]
    },
    {
     "name": "stdout",
     "output_type": "stream",
     "text": [
      "file could not be opened successfully:\n",
      "- method gz: ReadError('not a gzip file')\n",
      "- method bz2: ReadError('not a bzip2 file')\n",
      "- method xz: ReadError('not an lzma file')\n",
      "- method tar: ReadError('invalid header')\n",
      "Something goes wrong. Please check the input or concat me to fix this bug. Error message: \n",
      "[Errno 2] No such file or directory: '/home/jihuawei/jhw_pdf_parser/datasets/ArXiv体系/1811.11955/1811.11955.pdf'\n",
      "['https://arxiv.org/abs/1304.3720']\n",
      "Downloading papers...\n"
     ]
    },
    {
     "name": "stderr",
     "output_type": "stream",
     "text": [
      "0it [00:14, ?it/s]\n",
      " 15%|█▍        | 139/935 [2:21:19<5:17:06, 23.90s/it]"
     ]
    },
    {
     "name": "stdout",
     "output_type": "stream",
     "text": [
      "file could not be opened successfully:\n",
      "- method gz: ReadError('not a gzip file')\n",
      "- method bz2: ReadError('not a bzip2 file')\n",
      "- method xz: ReadError('not an lzma file')\n",
      "- method tar: ReadError('bad checksum')\n",
      "Something goes wrong. Please check the input or concat me to fix this bug. Error message: \n",
      "[Errno 2] No such file or directory: '/home/jihuawei/jhw_pdf_parser/datasets/ArXiv体系/1304.3720/1304.3720.pdf'\n",
      "['https://arxiv.org/abs/1310.3119']\n",
      "Downloading papers...\n"
     ]
    },
    {
     "name": "stderr",
     "output_type": "stream",
     "text": [
      "1it [00:27, 27.73s/it]\n",
      " 15%|█▍        | 140/935 [2:21:47<5:31:57, 25.05s/it]"
     ]
    },
    {
     "name": "stdout",
     "output_type": "stream",
     "text": [
      "Finished\n",
      "['https://arxiv.org/abs/0905.2480']\n",
      "Downloading papers...\n"
     ]
    },
    {
     "name": "stderr",
     "output_type": "stream",
     "text": [
      "1it [00:08,  8.11s/it]\n",
      " 15%|█▌        | 141/935 [2:21:55<4:24:17, 19.97s/it]"
     ]
    },
    {
     "name": "stdout",
     "output_type": "stream",
     "text": [
      "Finished\n",
      "['https://arxiv.org/abs/0704.1748']\n",
      "Downloading papers...\n"
     ]
    },
    {
     "name": "stderr",
     "output_type": "stream",
     "text": [
      "1it [00:43, 43.31s/it]\n",
      " 15%|█▌        | 142/935 [2:22:38<5:56:29, 26.97s/it]"
     ]
    },
    {
     "name": "stdout",
     "output_type": "stream",
     "text": [
      "Finished\n",
      "['https://arxiv.org/abs/1701.03672']\n",
      "Downloading papers...\n"
     ]
    },
    {
     "name": "stderr",
     "output_type": "stream",
     "text": [
      "1it [03:48, 228.40s/it]\n",
      " 15%|█▌        | 143/935 [2:26:26<19:13:42, 87.40s/it]"
     ]
    },
    {
     "name": "stdout",
     "output_type": "stream",
     "text": [
      "Finished\n",
      "['https://arxiv.org/abs/1908.01903']\n",
      "Downloading papers...\n"
     ]
    },
    {
     "name": "stderr",
     "output_type": "stream",
     "text": [
      "0it [00:45, ?it/s]\n",
      " 15%|█▌        | 144/935 [2:27:12<16:27:01, 74.87s/it]"
     ]
    },
    {
     "name": "stdout",
     "output_type": "stream",
     "text": [
      "file could not be opened successfully:\n",
      "- method gz: ReadError('not a gzip file')\n",
      "- method bz2: ReadError('not a bzip2 file')\n",
      "- method xz: ReadError('not an lzma file')\n",
      "- method tar: ReadError('invalid header')\n",
      "Something goes wrong. Please check the input or concat me to fix this bug. Error message: \n",
      "[Errno 2] No such file or directory: '/home/jihuawei/jhw_pdf_parser/datasets/ArXiv体系/1908.01903/1908.01903.pdf'\n",
      "['https://arxiv.org/abs/1805.06733']\n",
      "Downloading papers...\n"
     ]
    },
    {
     "name": "stderr",
     "output_type": "stream",
     "text": [
      "1it [00:13, 13.35s/it]\n",
      " 16%|█▌        | 145/935 [2:27:25<12:22:46, 56.41s/it]"
     ]
    },
    {
     "name": "stdout",
     "output_type": "stream",
     "text": [
      "Finished\n",
      "['https://arxiv.org/abs/2306.07920']\n",
      "Downloading papers...\n"
     ]
    },
    {
     "name": "stderr",
     "output_type": "stream",
     "text": [
      "1it [00:09,  9.91s/it]\n",
      " 16%|█▌        | 146/935 [2:27:35<9:18:25, 42.47s/it] "
     ]
    },
    {
     "name": "stdout",
     "output_type": "stream",
     "text": [
      "Finished\n",
      "['https://arxiv.org/abs/0805.2896']\n",
      "Downloading papers...\n"
     ]
    },
    {
     "name": "stderr",
     "output_type": "stream",
     "text": [
      "0it [00:08, ?it/s]\n",
      " 16%|█▌        | 147/935 [2:27:44<7:05:47, 32.42s/it]"
     ]
    },
    {
     "name": "stdout",
     "output_type": "stream",
     "text": [
      "file could not be opened successfully:\n",
      "- method gz: ReadError('invalid header')\n",
      "- method bz2: ReadError('not a bzip2 file')\n",
      "- method xz: ReadError('not an lzma file')\n",
      "- method tar: ReadError('invalid header')\n",
      "Something goes wrong. Please check the input or concat me to fix this bug. Error message: \n",
      "[Errno 2] No such file or directory: '/home/jihuawei/jhw_pdf_parser/datasets/ArXiv体系/0805.2896/0805.2896.pdf'\n",
      "['https://arxiv.org/abs/1901.07845']\n",
      "Downloading papers...\n"
     ]
    },
    {
     "name": "stderr",
     "output_type": "stream",
     "text": [
      "1it [00:10, 10.51s/it]\n",
      " 16%|█▌        | 148/935 [2:27:55<5:39:02, 25.85s/it]"
     ]
    },
    {
     "name": "stdout",
     "output_type": "stream",
     "text": [
      "Finished\n",
      "['https://arxiv.org/abs/2012.00237']\n",
      "Downloading papers...\n"
     ]
    },
    {
     "name": "stderr",
     "output_type": "stream",
     "text": [
      "0it [00:10, ?it/s]\n",
      " 16%|█▌        | 149/935 [2:28:05<4:37:39, 21.20s/it]"
     ]
    },
    {
     "name": "stdout",
     "output_type": "stream",
     "text": [
      "file could not be opened successfully:\n",
      "- method gz: ReadError('invalid header')\n",
      "- method bz2: ReadError('not a bzip2 file')\n",
      "- method xz: ReadError('not an lzma file')\n",
      "- method tar: ReadError('invalid header')\n",
      "Something goes wrong. Please check the input or concat me to fix this bug. Error message: \n",
      "[Errno 2] No such file or directory: '/home/jihuawei/jhw_pdf_parser/datasets/ArXiv体系/2012.00237/2012.00237.pdf'\n",
      "['https://arxiv.org/abs/0704.1890']\n",
      "Downloading papers...\n"
     ]
    },
    {
     "name": "stderr",
     "output_type": "stream",
     "text": [
      "1it [00:33, 33.87s/it]\n",
      " 16%|█▌        | 150/935 [2:28:39<5:27:03, 25.00s/it]"
     ]
    },
    {
     "name": "stdout",
     "output_type": "stream",
     "text": [
      "Finished\n",
      "['https://arxiv.org/abs/1606.08156']\n",
      "Downloading papers...\n"
     ]
    },
    {
     "name": "stderr",
     "output_type": "stream",
     "text": [
      "1it [00:34, 34.14s/it]\n",
      " 16%|█▌        | 151/935 [2:29:13<6:02:29, 27.74s/it]"
     ]
    },
    {
     "name": "stdout",
     "output_type": "stream",
     "text": [
      "Finished\n",
      "['https://arxiv.org/abs/1111.1980']\n",
      "Downloading papers...\n"
     ]
    },
    {
     "name": "stderr",
     "output_type": "stream",
     "text": [
      "1it [00:51, 51.36s/it]\n",
      " 16%|█▋        | 152/935 [2:30:05<7:34:31, 34.83s/it]"
     ]
    },
    {
     "name": "stdout",
     "output_type": "stream",
     "text": [
      "Finished\n",
      "['https://arxiv.org/abs/1312.4186']\n",
      "Downloading papers...\n"
     ]
    },
    {
     "name": "stderr",
     "output_type": "stream",
     "text": [
      "1it [00:14, 14.42s/it]\n",
      " 16%|█▋        | 153/935 [2:30:19<6:14:09, 28.71s/it]"
     ]
    },
    {
     "name": "stdout",
     "output_type": "stream",
     "text": [
      "Finished\n",
      "['https://arxiv.org/abs/1012.2437']\n",
      "Downloading papers...\n"
     ]
    },
    {
     "name": "stderr",
     "output_type": "stream",
     "text": [
      "1it [00:22, 22.09s/it]\n",
      " 16%|█▋        | 154/935 [2:30:41<5:47:51, 26.72s/it]"
     ]
    },
    {
     "name": "stdout",
     "output_type": "stream",
     "text": [
      "Finished\n",
      "['https://arxiv.org/abs/1403.4833']\n",
      "Downloading papers...\n"
     ]
    },
    {
     "name": "stderr",
     "output_type": "stream",
     "text": [
      "0it [00:30, ?it/s]\n",
      " 17%|█▋        | 155/935 [2:31:12<6:03:05, 27.93s/it]"
     ]
    },
    {
     "name": "stdout",
     "output_type": "stream",
     "text": [
      "file could not be opened successfully:\n",
      "- method gz: ReadError('not a gzip file')\n",
      "- method bz2: ReadError('not a bzip2 file')\n",
      "- method xz: ReadError('not an lzma file')\n",
      "- method tar: ReadError('invalid header')\n",
      "Something goes wrong. Please check the input or concat me to fix this bug. Error message: \n",
      "[Errno 2] No such file or directory: '/home/jihuawei/jhw_pdf_parser/datasets/ArXiv体系/1403.4833/1403.4833.pdf'\n",
      "['https://arxiv.org/abs/2012.05478']\n",
      "Downloading papers...\n"
     ]
    },
    {
     "name": "stderr",
     "output_type": "stream",
     "text": [
      "1it [04:30, 270.32s/it]\n",
      " 17%|█▋        | 156/935 [2:35:42<21:46:45, 100.65s/it]"
     ]
    },
    {
     "name": "stdout",
     "output_type": "stream",
     "text": [
      "Finished\n",
      "['https://arxiv.org/abs/1501.01087']\n",
      "Downloading papers...\n"
     ]
    },
    {
     "name": "stderr",
     "output_type": "stream",
     "text": [
      "1it [01:45, 105.07s/it]\n",
      " 17%|█▋        | 157/935 [2:37:27<22:02:16, 101.98s/it]"
     ]
    },
    {
     "name": "stdout",
     "output_type": "stream",
     "text": [
      "Finished\n",
      "['https://arxiv.org/abs/0707.2248']\n",
      "Downloading papers...\n"
     ]
    },
    {
     "name": "stderr",
     "output_type": "stream",
     "text": [
      "0it [00:14, ?it/s]\n",
      " 17%|█▋        | 158/935 [2:37:41<16:19:06, 75.61s/it] "
     ]
    },
    {
     "name": "stdout",
     "output_type": "stream",
     "text": [
      "file could not be opened successfully:\n",
      "- method gz: ReadError('invalid header')\n",
      "- method bz2: ReadError('not a bzip2 file')\n",
      "- method xz: ReadError('not an lzma file')\n",
      "- method tar: ReadError('invalid header')\n",
      "Something goes wrong. Please check the input or concat me to fix this bug. Error message: \n",
      "[Errno 2] No such file or directory: '/home/jihuawei/jhw_pdf_parser/datasets/ArXiv体系/0707.2248/0707.2248.pdf'\n",
      "['https://arxiv.org/abs/1005.5226']\n",
      "Downloading papers...\n"
     ]
    },
    {
     "name": "stderr",
     "output_type": "stream",
     "text": [
      "0it [00:39, ?it/s]\n",
      " 17%|█▋        | 159/935 [2:38:20<13:56:11, 64.65s/it]"
     ]
    },
    {
     "name": "stdout",
     "output_type": "stream",
     "text": [
      "file could not be opened successfully:\n",
      "- method gz: ReadError('not a gzip file')\n",
      "- method bz2: ReadError('not a bzip2 file')\n",
      "- method xz: ReadError('not an lzma file')\n",
      "- method tar: ReadError('bad checksum')\n",
      "Something goes wrong. Please check the input or concat me to fix this bug. Error message: \n",
      "[Errno 2] No such file or directory: '/home/jihuawei/jhw_pdf_parser/datasets/ArXiv体系/1005.5226/1005.5226.pdf'\n",
      "['https://arxiv.org/abs/0704.1886']\n",
      "Downloading papers...\n"
     ]
    },
    {
     "name": "stderr",
     "output_type": "stream",
     "text": [
      "0it [00:16, ?it/s]\n",
      " 17%|█▋        | 160/935 [2:38:37<10:49:57, 50.32s/it]"
     ]
    },
    {
     "name": "stdout",
     "output_type": "stream",
     "text": [
      "file could not be opened successfully:\n",
      "- method gz: ReadError('invalid header')\n",
      "- method bz2: ReadError('not a bzip2 file')\n",
      "- method xz: ReadError('not an lzma file')\n",
      "- method tar: ReadError('invalid header')\n",
      "Something goes wrong. Please check the input or concat me to fix this bug. Error message: \n",
      "[Errno 2] No such file or directory: '/home/jihuawei/jhw_pdf_parser/datasets/ArXiv体系/0704.1886/0704.1886.pdf'\n",
      "['https://arxiv.org/abs/1211.7158']\n",
      "Downloading papers...\n"
     ]
    },
    {
     "name": "stderr",
     "output_type": "stream",
     "text": [
      "1it [00:29, 29.64s/it]\n",
      " 17%|█▋        | 161/935 [2:39:07<9:29:06, 44.12s/it] "
     ]
    },
    {
     "name": "stdout",
     "output_type": "stream",
     "text": [
      "Finished\n",
      "['https://arxiv.org/abs/1403.3301']\n",
      "Downloading papers...\n"
     ]
    },
    {
     "name": "stderr",
     "output_type": "stream",
     "text": [
      "1it [00:36, 36.22s/it]\n",
      " 17%|█▋        | 162/935 [2:39:43<8:57:51, 41.75s/it]"
     ]
    },
    {
     "name": "stdout",
     "output_type": "stream",
     "text": [
      "Finished\n",
      "['https://arxiv.org/abs/1312.7699']\n",
      "Downloading papers...\n"
     ]
    },
    {
     "name": "stderr",
     "output_type": "stream",
     "text": [
      "1it [00:22, 22.25s/it]\n",
      " 17%|█▋        | 163/935 [2:40:05<7:41:54, 35.90s/it]"
     ]
    },
    {
     "name": "stdout",
     "output_type": "stream",
     "text": [
      "Finished\n",
      "['https://arxiv.org/abs/2209.00433']\n",
      "Downloading papers...\n"
     ]
    },
    {
     "name": "stderr",
     "output_type": "stream",
     "text": [
      "1it [01:12, 72.87s/it]\n",
      " 18%|█▊        | 164/935 [2:41:18<10:03:50, 46.99s/it]"
     ]
    },
    {
     "name": "stdout",
     "output_type": "stream",
     "text": [
      "Finished\n",
      "['https://arxiv.org/abs/0704.1912']\n",
      "Downloading papers...\n"
     ]
    },
    {
     "name": "stderr",
     "output_type": "stream",
     "text": [
      "0it [00:05, ?it/s]\n",
      " 18%|█▊        | 165/935 [2:41:24<7:24:48, 34.66s/it] "
     ]
    },
    {
     "name": "stdout",
     "output_type": "stream",
     "text": [
      "file could not be opened successfully:\n",
      "- method gz: ReadError('not a gzip file')\n",
      "- method bz2: ReadError('not a bzip2 file')\n",
      "- method xz: ReadError('not an lzma file')\n",
      "- method tar: ReadError('bad checksum')\n",
      "Something goes wrong. Please check the input or concat me to fix this bug. Error message: \n",
      "[Errno 2] No such file or directory: '/home/jihuawei/jhw_pdf_parser/datasets/ArXiv体系/0704.1912/0704.1912.pdf'\n",
      "['https://arxiv.org/abs/2205.03093']\n",
      "Downloading papers...\n"
     ]
    },
    {
     "name": "stderr",
     "output_type": "stream",
     "text": [
      "0it [00:21, ?it/s]\n",
      " 18%|█▊        | 166/935 [2:41:46<6:34:03, 30.75s/it]"
     ]
    },
    {
     "name": "stdout",
     "output_type": "stream",
     "text": [
      "file could not be opened successfully:\n",
      "- method gz: ReadError('invalid header')\n",
      "- method bz2: ReadError('not a bzip2 file')\n",
      "- method xz: ReadError('not an lzma file')\n",
      "- method tar: ReadError('invalid header')\n",
      "Something goes wrong. Please check the input or concat me to fix this bug. Error message: \n",
      "[Errno 2] No such file or directory: '/home/jihuawei/jhw_pdf_parser/datasets/ArXiv体系/2205.03093/2205.03093.pdf'\n",
      "['https://arxiv.org/abs/0704.1966']\n",
      "Downloading papers...\n"
     ]
    },
    {
     "name": "stderr",
     "output_type": "stream",
     "text": [
      "0it [00:12, ?it/s]\n",
      " 18%|█▊        | 167/935 [2:41:58<5:22:16, 25.18s/it]"
     ]
    },
    {
     "name": "stdout",
     "output_type": "stream",
     "text": [
      "file could not be opened successfully:\n",
      "- method gz: ReadError('invalid header')\n",
      "- method bz2: ReadError('not a bzip2 file')\n",
      "- method xz: ReadError('not an lzma file')\n",
      "- method tar: ReadError('invalid header')\n",
      "Something goes wrong. Please check the input or concat me to fix this bug. Error message: \n",
      "[Errno 2] No such file or directory: '/home/jihuawei/jhw_pdf_parser/datasets/ArXiv体系/0704.1966/0704.1966.pdf'\n",
      "['https://arxiv.org/abs/1907.02139']\n",
      "Downloading papers...\n"
     ]
    },
    {
     "name": "stderr",
     "output_type": "stream",
     "text": [
      "0it [00:13, ?it/s]\n",
      " 18%|█▊        | 168/935 [2:42:12<4:37:35, 21.72s/it]"
     ]
    },
    {
     "name": "stdout",
     "output_type": "stream",
     "text": [
      "file could not be opened successfully:\n",
      "- method gz: ReadError('invalid header')\n",
      "- method bz2: ReadError('not a bzip2 file')\n",
      "- method xz: ReadError('not an lzma file')\n",
      "- method tar: ReadError('invalid header')\n",
      "Something goes wrong. Please check the input or concat me to fix this bug. Error message: \n",
      "[Errno 2] No such file or directory: '/home/jihuawei/jhw_pdf_parser/datasets/ArXiv体系/1907.02139/1907.02139.pdf'\n",
      "['https://arxiv.org/abs/1903.02415']\n",
      "Downloading papers...\n"
     ]
    },
    {
     "name": "stderr",
     "output_type": "stream",
     "text": [
      "0it [00:10, ?it/s]\n",
      " 18%|█▊        | 169/935 [2:42:22<3:53:38, 18.30s/it]"
     ]
    },
    {
     "name": "stdout",
     "output_type": "stream",
     "text": [
      "file could not be opened successfully:\n",
      "- method gz: ReadError('invalid header')\n",
      "- method bz2: ReadError('not a bzip2 file')\n",
      "- method xz: ReadError('not an lzma file')\n",
      "- method tar: ReadError('invalid header')\n",
      "Something goes wrong. Please check the input or concat me to fix this bug. Error message: \n",
      "[Errno 2] No such file or directory: '/home/jihuawei/jhw_pdf_parser/datasets/ArXiv体系/1903.02415/1903.02415.pdf'\n",
      "['https://arxiv.org/abs/0909.1664']\n",
      "Downloading papers...\n"
     ]
    },
    {
     "name": "stderr",
     "output_type": "stream",
     "text": [
      "1it [00:10, 10.84s/it]\n",
      " 18%|█▊        | 170/935 [2:42:33<3:24:48, 16.06s/it]"
     ]
    },
    {
     "name": "stdout",
     "output_type": "stream",
     "text": [
      "Finished\n",
      "['https://arxiv.org/abs/1001.4622']\n",
      "Downloading papers...\n"
     ]
    },
    {
     "name": "stderr",
     "output_type": "stream",
     "text": [
      "0it [00:14, ?it/s]\n",
      " 18%|█▊        | 171/935 [2:42:47<3:17:37, 15.52s/it]"
     ]
    },
    {
     "name": "stdout",
     "output_type": "stream",
     "text": [
      "file could not be opened successfully:\n",
      "- method gz: ReadError('invalid header')\n",
      "- method bz2: ReadError('not a bzip2 file')\n",
      "- method xz: ReadError('not an lzma file')\n",
      "- method tar: ReadError('invalid header')\n",
      "Something goes wrong. Please check the input or concat me to fix this bug. Error message: \n",
      "[Errno 2] No such file or directory: '/home/jihuawei/jhw_pdf_parser/datasets/ArXiv体系/1001.4622/1001.4622.pdf'\n",
      "['https://arxiv.org/abs/0704.1967']\n",
      "Downloading papers...\n"
     ]
    },
    {
     "name": "stderr",
     "output_type": "stream",
     "text": [
      "1it [00:11, 11.30s/it]\n",
      " 18%|█▊        | 172/935 [2:42:58<3:01:17, 14.26s/it]"
     ]
    },
    {
     "name": "stdout",
     "output_type": "stream",
     "text": [
      "Finished\n",
      "['https://arxiv.org/abs/1210.5410']\n",
      "Downloading papers...\n"
     ]
    },
    {
     "name": "stderr",
     "output_type": "stream",
     "text": [
      "1it [00:14, 14.64s/it]\n",
      " 19%|█▊        | 173/935 [2:43:13<3:02:31, 14.37s/it]"
     ]
    },
    {
     "name": "stdout",
     "output_type": "stream",
     "text": [
      "Finished\n",
      "['https://arxiv.org/abs/1312.4910']\n",
      "Downloading papers...\n"
     ]
    },
    {
     "name": "stderr",
     "output_type": "stream",
     "text": [
      "1it [02:48, 168.31s/it]\n",
      " 19%|█▊        | 174/935 [2:46:01<12:48:02, 60.56s/it]"
     ]
    },
    {
     "name": "stdout",
     "output_type": "stream",
     "text": [
      "Finished\n",
      "['https://arxiv.org/abs/2001.05448']\n",
      "Downloading papers...\n"
     ]
    },
    {
     "name": "stderr",
     "output_type": "stream",
     "text": [
      "0it [00:16, ?it/s]\n",
      " 19%|█▊        | 175/935 [2:46:18<10:00:14, 47.39s/it]"
     ]
    },
    {
     "name": "stdout",
     "output_type": "stream",
     "text": [
      "file could not be opened successfully:\n",
      "- method gz: ReadError('invalid header')\n",
      "- method bz2: ReadError('not a bzip2 file')\n",
      "- method xz: ReadError('not an lzma file')\n",
      "- method tar: ReadError('invalid header')\n",
      "Something goes wrong. Please check the input or concat me to fix this bug. Error message: \n",
      "[Errno 2] No such file or directory: '/home/jihuawei/jhw_pdf_parser/datasets/ArXiv体系/2001.05448/2001.05448.pdf'\n",
      "['https://arxiv.org/abs/0704.1908']\n",
      "Downloading papers...\n"
     ]
    },
    {
     "name": "stderr",
     "output_type": "stream",
     "text": [
      "1it [00:26, 26.20s/it]\n",
      " 19%|█▉        | 176/935 [2:46:44<8:39:03, 41.03s/it] "
     ]
    },
    {
     "name": "stdout",
     "output_type": "stream",
     "text": [
      "Finished\n",
      "['https://arxiv.org/abs/2103.06436']\n",
      "Downloading papers...\n"
     ]
    },
    {
     "name": "stderr",
     "output_type": "stream",
     "text": [
      "1it [00:50, 50.52s/it]\n",
      " 19%|█▉        | 177/935 [2:47:35<9:14:21, 43.88s/it]"
     ]
    },
    {
     "name": "stdout",
     "output_type": "stream",
     "text": [
      "Finished\n",
      "['https://arxiv.org/abs/2302.01213']\n",
      "Downloading papers...\n"
     ]
    },
    {
     "name": "stderr",
     "output_type": "stream",
     "text": [
      "1it [00:19, 19.74s/it]\n",
      " 19%|█▉        | 178/935 [2:47:54<7:42:16, 36.64s/it]"
     ]
    },
    {
     "name": "stdout",
     "output_type": "stream",
     "text": [
      "Finished\n",
      "['https://arxiv.org/abs/1301.5378']\n",
      "Downloading papers...\n"
     ]
    },
    {
     "name": "stderr",
     "output_type": "stream",
     "text": [
      "1it [01:59, 119.18s/it]\n",
      " 19%|█▉        | 179/935 [2:49:54<12:53:40, 61.40s/it]"
     ]
    },
    {
     "name": "stdout",
     "output_type": "stream",
     "text": [
      "Finished\n",
      "['https://arxiv.org/abs/2209.12740']\n",
      "Downloading papers...\n"
     ]
    },
    {
     "name": "stderr",
     "output_type": "stream",
     "text": [
      "1it [00:49, 49.74s/it]\n",
      " 19%|█▉        | 180/935 [2:50:43<12:08:37, 57.90s/it]"
     ]
    },
    {
     "name": "stdout",
     "output_type": "stream",
     "text": [
      "Finished\n",
      "['https://arxiv.org/abs/2107.05708']\n",
      "Downloading papers...\n"
     ]
    },
    {
     "name": "stderr",
     "output_type": "stream",
     "text": [
      "0it [01:46, ?it/s]\n",
      " 19%|█▉        | 181/935 [2:52:29<15:09:19, 72.36s/it]"
     ]
    },
    {
     "name": "stdout",
     "output_type": "stream",
     "text": [
      "file could not be opened successfully:\n",
      "- method gz: ReadError('not a gzip file')\n",
      "- method bz2: ReadError('not a bzip2 file')\n",
      "- method xz: ReadError('not an lzma file')\n",
      "- method tar: ReadError('invalid header')\n",
      "Something goes wrong. Please check the input or concat me to fix this bug. Error message: \n",
      "[Errno 2] No such file or directory: '/home/jihuawei/jhw_pdf_parser/datasets/ArXiv体系/2107.05708/2107.05708.pdf'\n",
      "['https://arxiv.org/abs/1812.04282']\n",
      "Downloading papers...\n"
     ]
    },
    {
     "name": "stderr",
     "output_type": "stream",
     "text": [
      "1it [01:45, 105.41s/it]\n",
      " 19%|█▉        | 182/935 [2:54:15<17:12:34, 82.28s/it]"
     ]
    },
    {
     "name": "stdout",
     "output_type": "stream",
     "text": [
      "Finished\n",
      "['https://arxiv.org/abs/2212.14849']\n",
      "Downloading papers...\n"
     ]
    },
    {
     "name": "stderr",
     "output_type": "stream",
     "text": [
      "1it [07:44, 464.45s/it]\n",
      " 20%|█▉        | 183/935 [3:01:59<41:08:12, 196.93s/it]"
     ]
    },
    {
     "name": "stdout",
     "output_type": "stream",
     "text": [
      "Finished\n",
      "['https://arxiv.org/abs/1908.07510']\n",
      "Downloading papers...\n"
     ]
    },
    {
     "name": "stderr",
     "output_type": "stream",
     "text": [
      "0it [00:10, ?it/s]\n",
      " 20%|█▉        | 184/935 [3:02:10<29:26:41, 141.15s/it]"
     ]
    },
    {
     "name": "stdout",
     "output_type": "stream",
     "text": [
      "file could not be opened successfully:\n",
      "- method gz: ReadError('invalid header')\n",
      "- method bz2: ReadError('not a bzip2 file')\n",
      "- method xz: ReadError('not an lzma file')\n",
      "- method tar: ReadError('invalid header')\n",
      "Something goes wrong. Please check the input or concat me to fix this bug. Error message: \n",
      "[Errno 2] No such file or directory: '/home/jihuawei/jhw_pdf_parser/datasets/ArXiv体系/1908.07510/1908.07510.pdf'\n",
      "['https://arxiv.org/abs/1802.00770']\n",
      "Downloading papers...\n"
     ]
    },
    {
     "name": "stderr",
     "output_type": "stream",
     "text": [
      "0it [00:07, ?it/s]\n",
      " 20%|█▉        | 185/935 [3:02:18<21:04:07, 101.13s/it]"
     ]
    },
    {
     "name": "stdout",
     "output_type": "stream",
     "text": [
      "file could not be opened successfully:\n",
      "- method gz: ReadError('invalid header')\n",
      "- method bz2: ReadError('not a bzip2 file')\n",
      "- method xz: ReadError('not an lzma file')\n",
      "- method tar: ReadError('invalid header')\n",
      "Something goes wrong. Please check the input or concat me to fix this bug. Error message: \n",
      "[Errno 2] No such file or directory: '/home/jihuawei/jhw_pdf_parser/datasets/ArXiv体系/1802.00770/1802.00770.pdf'\n",
      "['https://arxiv.org/abs/0704.2019']\n",
      "Downloading papers...\n"
     ]
    },
    {
     "name": "stderr",
     "output_type": "stream",
     "text": [
      "1it [00:11, 11.76s/it]\n",
      " 20%|█▉        | 186/935 [3:02:30<15:27:45, 74.32s/it] "
     ]
    },
    {
     "name": "stdout",
     "output_type": "stream",
     "text": [
      "Finished\n",
      "['https://arxiv.org/abs/0704.2012']\n",
      "Downloading papers...\n"
     ]
    },
    {
     "name": "stderr",
     "output_type": "stream",
     "text": [
      "0it [00:07, ?it/s]\n",
      " 20%|██        | 187/935 [3:02:38<11:18:16, 54.41s/it]"
     ]
    },
    {
     "name": "stdout",
     "output_type": "stream",
     "text": [
      "file could not be opened successfully:\n",
      "- method gz: ReadError('not a gzip file')\n",
      "- method bz2: ReadError('not a bzip2 file')\n",
      "- method xz: ReadError('not an lzma file')\n",
      "- method tar: ReadError('invalid header')\n",
      "Something goes wrong. Please check the input or concat me to fix this bug. Error message: \n",
      "[Errno 2] No such file or directory: '/home/jihuawei/jhw_pdf_parser/datasets/ArXiv体系/0704.2012/0704.2012.pdf'\n",
      "['https://arxiv.org/abs/1702.07427']\n",
      "Downloading papers...\n"
     ]
    },
    {
     "name": "stderr",
     "output_type": "stream",
     "text": [
      "1it [00:14, 14.85s/it]\n",
      " 20%|██        | 188/935 [3:02:53<8:49:38, 42.54s/it] "
     ]
    },
    {
     "name": "stdout",
     "output_type": "stream",
     "text": [
      "Finished\n",
      "['https://arxiv.org/abs/2205.06156']\n",
      "Downloading papers...\n"
     ]
    },
    {
     "name": "stderr",
     "output_type": "stream",
     "text": [
      "0it [00:09, ?it/s]\n",
      " 20%|██        | 189/935 [3:03:02<6:44:09, 32.51s/it]"
     ]
    },
    {
     "name": "stdout",
     "output_type": "stream",
     "text": [
      "file could not be opened successfully:\n",
      "- method gz: ReadError('invalid header')\n",
      "- method bz2: ReadError('not a bzip2 file')\n",
      "- method xz: ReadError('not an lzma file')\n",
      "- method tar: ReadError('invalid header')\n",
      "Something goes wrong. Please check the input or concat me to fix this bug. Error message: \n",
      "[Errno 2] No such file or directory: '/home/jihuawei/jhw_pdf_parser/datasets/ArXiv体系/2205.06156/2205.06156.pdf'\n",
      "['https://arxiv.org/abs/1010.4499']\n",
      "Downloading papers...\n"
     ]
    },
    {
     "name": "stderr",
     "output_type": "stream",
     "text": [
      "1it [00:22, 22.20s/it]\n",
      " 20%|██        | 190/935 [3:03:24<6:05:14, 29.42s/it]"
     ]
    },
    {
     "name": "stdout",
     "output_type": "stream",
     "text": [
      "Finished\n",
      "['https://arxiv.org/abs/0704.1976']\n",
      "Downloading papers...\n"
     ]
    },
    {
     "name": "stderr",
     "output_type": "stream",
     "text": [
      "0it [00:15, ?it/s]\n",
      " 20%|██        | 191/935 [3:03:39<5:12:59, 25.24s/it]"
     ]
    },
    {
     "name": "stdout",
     "output_type": "stream",
     "text": [
      "file could not be opened successfully:\n",
      "- method gz: ReadError('invalid header')\n",
      "- method bz2: ReadError('not a bzip2 file')\n",
      "- method xz: ReadError('not an lzma file')\n",
      "- method tar: ReadError('invalid header')\n",
      "Something goes wrong. Please check the input or concat me to fix this bug. Error message: \n",
      "[Errno 2] No such file or directory: '/home/jihuawei/jhw_pdf_parser/datasets/ArXiv体系/0704.1976/0704.1976.pdf'\n",
      "['https://arxiv.org/abs/0907.2087']\n",
      "Downloading papers...\n"
     ]
    },
    {
     "name": "stderr",
     "output_type": "stream",
     "text": [
      "0it [00:20, ?it/s]\n",
      " 21%|██        | 192/935 [3:04:00<4:55:46, 23.88s/it]"
     ]
    },
    {
     "name": "stdout",
     "output_type": "stream",
     "text": [
      "file could not be opened successfully:\n",
      "- method gz: ReadError('invalid header')\n",
      "- method bz2: ReadError('not a bzip2 file')\n",
      "- method xz: ReadError('not an lzma file')\n",
      "- method tar: ReadError('invalid header')\n",
      "Something goes wrong. Please check the input or concat me to fix this bug. Error message: \n",
      "[Errno 2] No such file or directory: '/home/jihuawei/jhw_pdf_parser/datasets/ArXiv体系/0907.2087/0907.2087.pdf'\n",
      "['https://arxiv.org/abs/2011.00469']\n",
      "Downloading papers...\n"
     ]
    },
    {
     "name": "stderr",
     "output_type": "stream",
     "text": [
      "0it [00:09, ?it/s]\n",
      " 21%|██        | 193/935 [3:04:10<4:02:51, 19.64s/it]"
     ]
    },
    {
     "name": "stdout",
     "output_type": "stream",
     "text": [
      "file could not be opened successfully:\n",
      "- method gz: ReadError('invalid header')\n",
      "- method bz2: ReadError('not a bzip2 file')\n",
      "- method xz: ReadError('not an lzma file')\n",
      "- method tar: ReadError('invalid header')\n",
      "Something goes wrong. Please check the input or concat me to fix this bug. Error message: \n",
      "[Errno 2] No such file or directory: '/home/jihuawei/jhw_pdf_parser/datasets/ArXiv体系/2011.00469/2011.00469.pdf'\n",
      "['https://arxiv.org/abs/2111.01764']\n",
      "Downloading papers...\n"
     ]
    },
    {
     "name": "stderr",
     "output_type": "stream",
     "text": [
      "1it [00:17, 17.82s/it]\n",
      " 21%|██        | 194/935 [3:04:28<3:55:48, 19.09s/it]"
     ]
    },
    {
     "name": "stdout",
     "output_type": "stream",
     "text": [
      "Finished\n",
      "['https://arxiv.org/abs/1903.09831']\n",
      "Downloading papers...\n"
     ]
    },
    {
     "name": "stderr",
     "output_type": "stream",
     "text": [
      "1it [00:21, 21.32s/it]\n",
      " 21%|██        | 195/935 [3:04:49<4:03:44, 19.76s/it]"
     ]
    },
    {
     "name": "stdout",
     "output_type": "stream",
     "text": [
      "Finished\n",
      "['https://arxiv.org/abs/1501.02410']\n",
      "Downloading papers...\n"
     ]
    },
    {
     "name": "stderr",
     "output_type": "stream",
     "text": [
      "1it [00:19, 19.78s/it]\n",
      " 21%|██        | 196/935 [3:05:09<4:03:29, 19.77s/it]"
     ]
    },
    {
     "name": "stdout",
     "output_type": "stream",
     "text": [
      "Finished\n",
      "['https://arxiv.org/abs/0908.0784']\n",
      "Downloading papers...\n"
     ]
    },
    {
     "name": "stderr",
     "output_type": "stream",
     "text": [
      "0it [00:16, ?it/s]\n",
      " 21%|██        | 197/935 [3:05:26<3:52:35, 18.91s/it]"
     ]
    },
    {
     "name": "stdout",
     "output_type": "stream",
     "text": [
      "file could not be opened successfully:\n",
      "- method gz: ReadError('invalid header')\n",
      "- method bz2: ReadError('not a bzip2 file')\n",
      "- method xz: ReadError('not an lzma file')\n",
      "- method tar: ReadError('invalid header')\n",
      "Something goes wrong. Please check the input or concat me to fix this bug. Error message: \n",
      "[Errno 2] No such file or directory: '/home/jihuawei/jhw_pdf_parser/datasets/ArXiv体系/0908.0784/0908.0784.pdf'\n",
      "['https://arxiv.org/abs/1301.0546']\n",
      "Downloading papers...\n"
     ]
    },
    {
     "name": "stderr",
     "output_type": "stream",
     "text": [
      "1it [00:25, 25.07s/it]\n",
      " 21%|██        | 198/935 [3:05:51<4:14:59, 20.76s/it]"
     ]
    },
    {
     "name": "stdout",
     "output_type": "stream",
     "text": [
      "Finished\n",
      "['https://arxiv.org/abs/2002.09205']\n",
      "Downloading papers...\n"
     ]
    },
    {
     "name": "stderr",
     "output_type": "stream",
     "text": [
      "0it [00:15, ?it/s]\n",
      " 21%|██▏       | 199/935 [3:06:06<3:54:02, 19.08s/it]"
     ]
    },
    {
     "name": "stdout",
     "output_type": "stream",
     "text": [
      "file could not be opened successfully:\n",
      "- method gz: ReadError('invalid header')\n",
      "- method bz2: ReadError('not a bzip2 file')\n",
      "- method xz: ReadError('not an lzma file')\n",
      "- method tar: ReadError('invalid header')\n",
      "Something goes wrong. Please check the input or concat me to fix this bug. Error message: \n",
      "[Errno 2] No such file or directory: '/home/jihuawei/jhw_pdf_parser/datasets/ArXiv体系/2002.09205/2002.09205.pdf'\n",
      "['https://arxiv.org/abs/1711.01785']\n",
      "Downloading papers...\n"
     ]
    },
    {
     "name": "stderr",
     "output_type": "stream",
     "text": [
      "0it [00:40, ?it/s]\n",
      " 21%|██▏       | 200/935 [3:06:47<5:13:01, 25.55s/it]"
     ]
    },
    {
     "name": "stdout",
     "output_type": "stream",
     "text": [
      "file could not be opened successfully:\n",
      "- method gz: ReadError('invalid header')\n",
      "- method bz2: ReadError('not a bzip2 file')\n",
      "- method xz: ReadError('not an lzma file')\n",
      "- method tar: ReadError('invalid header')\n",
      "Something goes wrong. Please check the input or concat me to fix this bug. Error message: \n",
      "[Errno 2] No such file or directory: '/home/jihuawei/jhw_pdf_parser/datasets/ArXiv体系/1711.01785/1711.01785.pdf'\n",
      "['https://arxiv.org/abs/2205.07695']\n",
      "Downloading papers...\n"
     ]
    },
    {
     "name": "stderr",
     "output_type": "stream",
     "text": [
      "0it [00:26, ?it/s]\n",
      " 21%|██▏       | 201/935 [3:07:13<5:14:25, 25.70s/it]"
     ]
    },
    {
     "name": "stdout",
     "output_type": "stream",
     "text": [
      "file could not be opened successfully:\n",
      "- method gz: ReadError('invalid header')\n",
      "- method bz2: ReadError('not a bzip2 file')\n",
      "- method xz: ReadError('not an lzma file')\n",
      "- method tar: ReadError('invalid header')\n",
      "Something goes wrong. Please check the input or concat me to fix this bug. Error message: \n",
      "[Errno 2] No such file or directory: '/home/jihuawei/jhw_pdf_parser/datasets/ArXiv体系/2205.07695/2205.07695.pdf'\n",
      "['https://arxiv.org/abs/1801.04015']\n",
      "Downloading papers...\n"
     ]
    },
    {
     "name": "stderr",
     "output_type": "stream",
     "text": [
      "1it [01:08, 68.61s/it]\n",
      " 22%|██▏       | 202/935 [3:08:21<7:51:15, 38.57s/it]"
     ]
    },
    {
     "name": "stdout",
     "output_type": "stream",
     "text": [
      "Finished\n",
      "['https://arxiv.org/abs/1901.09217']\n",
      "Downloading papers...\n"
     ]
    },
    {
     "name": "stderr",
     "output_type": "stream",
     "text": [
      "1it [02:16, 136.02s/it]\n",
      " 22%|██▏       | 203/935 [3:10:37<13:47:16, 67.81s/it]"
     ]
    },
    {
     "name": "stdout",
     "output_type": "stream",
     "text": [
      "Finished\n",
      "['https://arxiv.org/abs/1004.4728']\n",
      "Downloading papers...\n"
     ]
    },
    {
     "name": "stderr",
     "output_type": "stream",
     "text": [
      "1it [02:45, 165.24s/it]\n",
      " 22%|██▏       | 204/935 [3:13:23<19:42:16, 97.04s/it]"
     ]
    },
    {
     "name": "stdout",
     "output_type": "stream",
     "text": [
      "Finished\n",
      "['https://arxiv.org/abs/1912.03115']\n",
      "Downloading papers...\n"
     ]
    },
    {
     "name": "stderr",
     "output_type": "stream",
     "text": [
      "1it [05:40, 340.35s/it]\n",
      " 22%|██▏       | 205/935 [3:19:03<34:28:46, 170.04s/it]"
     ]
    },
    {
     "name": "stdout",
     "output_type": "stream",
     "text": [
      "Finished\n",
      "['https://arxiv.org/abs/1102.2775']\n",
      "Downloading papers...\n"
     ]
    },
    {
     "name": "stderr",
     "output_type": "stream",
     "text": [
      "1it [07:44, 464.80s/it]\n",
      " 22%|██▏       | 206/935 [3:26:48<52:20:24, 258.47s/it]"
     ]
    },
    {
     "name": "stdout",
     "output_type": "stream",
     "text": [
      "Finished\n",
      "['https://arxiv.org/abs/1706.05281']\n",
      "Downloading papers...\n"
     ]
    },
    {
     "name": "stderr",
     "output_type": "stream",
     "text": [
      "1it [00:22, 22.62s/it]\n",
      " 22%|██▏       | 207/935 [3:27:10<37:57:37, 187.72s/it]"
     ]
    },
    {
     "name": "stdout",
     "output_type": "stream",
     "text": [
      "Finished\n",
      "['https://arxiv.org/abs/1907.06069']\n",
      "Downloading papers...\n"
     ]
    },
    {
     "name": "stderr",
     "output_type": "stream",
     "text": [
      "0it [01:38, ?it/s]\n",
      " 22%|██▏       | 208/935 [3:28:49<32:30:42, 160.99s/it]"
     ]
    },
    {
     "name": "stdout",
     "output_type": "stream",
     "text": [
      "file could not be opened successfully:\n",
      "- method gz: ReadError('not a gzip file')\n",
      "- method bz2: ReadError('not a bzip2 file')\n",
      "- method xz: ReadError('not an lzma file')\n",
      "- method tar: ReadError('invalid header')\n",
      "Something goes wrong. Please check the input or concat me to fix this bug. Error message: \n",
      "[Errno 2] No such file or directory: '/home/jihuawei/jhw_pdf_parser/datasets/ArXiv体系/1907.06069/1907.06069.pdf'\n",
      "['https://arxiv.org/abs/1902.00055']\n",
      "Downloading papers...\n"
     ]
    },
    {
     "name": "stderr",
     "output_type": "stream",
     "text": [
      "1it [00:39, 39.32s/it]\n",
      " 22%|██▏       | 209/935 [3:29:28<25:06:22, 124.49s/it]"
     ]
    },
    {
     "name": "stdout",
     "output_type": "stream",
     "text": [
      "Finished\n",
      "['https://arxiv.org/abs/0802.0512']\n",
      "Downloading papers...\n"
     ]
    },
    {
     "name": "stderr",
     "output_type": "stream",
     "text": [
      "1it [00:21, 21.22s/it]\n",
      " 22%|██▏       | 210/935 [3:29:50<18:49:57, 93.51s/it] "
     ]
    },
    {
     "name": "stdout",
     "output_type": "stream",
     "text": [
      "Finished\n",
      "['https://arxiv.org/abs/2205.04511']\n",
      "Downloading papers...\n"
     ]
    },
    {
     "name": "stderr",
     "output_type": "stream",
     "text": [
      "1it [01:06, 66.30s/it]\n",
      " 23%|██▎       | 211/935 [3:30:56<17:09:53, 85.35s/it]"
     ]
    },
    {
     "name": "stdout",
     "output_type": "stream",
     "text": [
      "Finished\n",
      "['https://arxiv.org/abs/2111.10855']\n",
      "Downloading papers...\n"
     ]
    },
    {
     "name": "stderr",
     "output_type": "stream",
     "text": [
      "1it [06:53, 413.49s/it]\n",
      " 23%|██▎       | 212/935 [3:37:49<36:54:42, 183.79s/it]"
     ]
    },
    {
     "name": "stdout",
     "output_type": "stream",
     "text": [
      "Finished\n",
      "['https://arxiv.org/abs/0704.2002']\n",
      "Downloading papers...\n"
     ]
    },
    {
     "name": "stderr",
     "output_type": "stream",
     "text": [
      "1it [00:43, 43.85s/it]\n",
      " 23%|██▎       | 213/935 [3:38:33<28:26:29, 141.81s/it]"
     ]
    },
    {
     "name": "stdout",
     "output_type": "stream",
     "text": [
      "Finished\n",
      "['https://arxiv.org/abs/1009.3454']\n",
      "Downloading papers...\n"
     ]
    },
    {
     "name": "stderr",
     "output_type": "stream",
     "text": [
      "0it [00:09, ?it/s]\n",
      " 23%|██▎       | 214/935 [3:38:43<20:27:12, 102.12s/it]"
     ]
    },
    {
     "name": "stdout",
     "output_type": "stream",
     "text": [
      "file could not be opened successfully:\n",
      "- method gz: ReadError('invalid header')\n",
      "- method bz2: ReadError('not a bzip2 file')\n",
      "- method xz: ReadError('not an lzma file')\n",
      "- method tar: ReadError('invalid header')\n",
      "Something goes wrong. Please check the input or concat me to fix this bug. Error message: \n",
      "[Errno 2] No such file or directory: '/home/jihuawei/jhw_pdf_parser/datasets/ArXiv体系/1009.3454/1009.3454.pdf'\n",
      "['https://arxiv.org/abs/2103.05686']\n",
      "Downloading papers...\n"
     ]
    },
    {
     "name": "stderr",
     "output_type": "stream",
     "text": [
      "1it [06:33, 393.18s/it]\n",
      " 23%|██▎       | 215/935 [3:45:16<37:53:18, 189.44s/it]"
     ]
    },
    {
     "name": "stdout",
     "output_type": "stream",
     "text": [
      "Finished\n",
      "['https://arxiv.org/abs/1702.05210']\n",
      "Downloading papers...\n"
     ]
    },
    {
     "name": "stderr",
     "output_type": "stream",
     "text": [
      "0it [00:12, ?it/s]\n",
      " 23%|██▎       | 216/935 [3:45:28<27:14:15, 136.38s/it]"
     ]
    },
    {
     "name": "stdout",
     "output_type": "stream",
     "text": [
      "file could not be opened successfully:\n",
      "- method gz: ReadError('invalid header')\n",
      "- method bz2: ReadError('not a bzip2 file')\n",
      "- method xz: ReadError('not an lzma file')\n",
      "- method tar: ReadError('invalid header')\n",
      "Something goes wrong. Please check the input or concat me to fix this bug. Error message: \n",
      "[Errno 2] No such file or directory: '/home/jihuawei/jhw_pdf_parser/datasets/ArXiv体系/1702.05210/1702.05210.pdf'\n",
      "['https://arxiv.org/abs/1506.00048']\n",
      "Downloading papers...\n"
     ]
    },
    {
     "name": "stderr",
     "output_type": "stream",
     "text": [
      "1it [00:18, 18.69s/it]\n",
      " 23%|██▎       | 217/935 [3:45:47<20:09:30, 101.07s/it]"
     ]
    },
    {
     "name": "stdout",
     "output_type": "stream",
     "text": [
      "Finished\n",
      "['https://arxiv.org/abs/1109.5785']\n",
      "Downloading papers...\n"
     ]
    },
    {
     "name": "stderr",
     "output_type": "stream",
     "text": [
      "1it [00:21, 21.52s/it]\n",
      " 23%|██▎       | 218/935 [3:46:09<15:22:39, 77.21s/it] "
     ]
    },
    {
     "name": "stdout",
     "output_type": "stream",
     "text": [
      "Finished\n",
      "['https://arxiv.org/abs/1203.4158']\n",
      "Downloading papers...\n"
     ]
    },
    {
     "name": "stderr",
     "output_type": "stream",
     "text": [
      "0it [00:14, ?it/s]\n",
      " 23%|██▎       | 219/935 [3:46:23<11:35:15, 58.26s/it]"
     ]
    },
    {
     "name": "stdout",
     "output_type": "stream",
     "text": [
      "file could not be opened successfully:\n",
      "- method gz: ReadError('invalid header')\n",
      "- method bz2: ReadError('not a bzip2 file')\n",
      "- method xz: ReadError('not an lzma file')\n",
      "- method tar: ReadError('invalid header')\n",
      "Something goes wrong. Please check the input or concat me to fix this bug. Error message: \n",
      "[Errno 2] No such file or directory: '/home/jihuawei/jhw_pdf_parser/datasets/ArXiv体系/1203.4158/1203.4158.pdf'\n",
      "['https://arxiv.org/abs/1603.07831']\n",
      "Downloading papers...\n"
     ]
    },
    {
     "name": "stderr",
     "output_type": "stream",
     "text": [
      "0it [00:23, ?it/s]\n",
      " 24%|██▎       | 220/935 [3:46:46<9:29:56, 47.83s/it] "
     ]
    },
    {
     "name": "stdout",
     "output_type": "stream",
     "text": [
      "file could not be opened successfully:\n",
      "- method gz: ReadError('invalid header')\n",
      "- method bz2: ReadError('not a bzip2 file')\n",
      "- method xz: ReadError('not an lzma file')\n",
      "- method tar: ReadError('invalid header')\n",
      "Something goes wrong. Please check the input or concat me to fix this bug. Error message: \n",
      "[Errno 2] No such file or directory: '/home/jihuawei/jhw_pdf_parser/datasets/ArXiv体系/1603.07831/1603.07831.pdf'\n",
      "['https://arxiv.org/abs/0704.2076']\n",
      "Downloading papers...\n"
     ]
    },
    {
     "name": "stderr",
     "output_type": "stream",
     "text": [
      "0it [00:19, ?it/s]\n",
      " 24%|██▎       | 221/935 [3:47:06<7:49:37, 39.46s/it]"
     ]
    },
    {
     "name": "stdout",
     "output_type": "stream",
     "text": [
      "file could not be opened successfully:\n",
      "- method gz: ReadError('invalid header')\n",
      "- method bz2: ReadError('not a bzip2 file')\n",
      "- method xz: ReadError('not an lzma file')\n",
      "- method tar: ReadError('invalid header')\n",
      "Something goes wrong. Please check the input or concat me to fix this bug. Error message: \n",
      "[Errno 2] No such file or directory: '/home/jihuawei/jhw_pdf_parser/datasets/ArXiv体系/0704.2076/0704.2076.pdf'\n",
      "['https://arxiv.org/abs/2106.03270']\n",
      "Downloading papers...\n"
     ]
    },
    {
     "name": "stderr",
     "output_type": "stream",
     "text": [
      "1it [00:09,  9.43s/it]\n",
      " 24%|██▎       | 222/935 [3:47:16<6:01:54, 30.45s/it]"
     ]
    },
    {
     "name": "stdout",
     "output_type": "stream",
     "text": [
      "Finished\n",
      "['https://arxiv.org/abs/1604.04459']\n",
      "Downloading papers...\n"
     ]
    },
    {
     "name": "stderr",
     "output_type": "stream",
     "text": [
      "1it [00:18, 18.21s/it]\n",
      " 24%|██▍       | 223/935 [3:47:34<5:17:49, 26.78s/it]"
     ]
    },
    {
     "name": "stdout",
     "output_type": "stream",
     "text": [
      "Finished\n",
      "['https://arxiv.org/abs/2009.13920']\n",
      "Downloading papers...\n"
     ]
    },
    {
     "name": "stderr",
     "output_type": "stream",
     "text": [
      "1it [00:18, 18.70s/it]\n",
      " 24%|██▍       | 224/935 [3:47:52<4:48:38, 24.36s/it]"
     ]
    },
    {
     "name": "stdout",
     "output_type": "stream",
     "text": [
      "Finished\n",
      "['https://arxiv.org/abs/2103.10458']\n",
      "Downloading papers...\n"
     ]
    },
    {
     "name": "stderr",
     "output_type": "stream",
     "text": [
      "1it [00:35, 35.35s/it]\n",
      " 24%|██▍       | 225/935 [3:48:28<5:27:15, 27.66s/it]"
     ]
    },
    {
     "name": "stdout",
     "output_type": "stream",
     "text": [
      "Finished\n",
      "['https://arxiv.org/abs/2212.10543']\n",
      "Downloading papers...\n"
     ]
    },
    {
     "name": "stderr",
     "output_type": "stream",
     "text": [
      "1it [01:24, 84.53s/it]\n",
      " 24%|██▍       | 226/935 [3:49:52<8:48:27, 44.72s/it]"
     ]
    },
    {
     "name": "stdout",
     "output_type": "stream",
     "text": [
      "Finished\n",
      "['https://arxiv.org/abs/0704.2139']\n",
      "Downloading papers...\n"
     ]
    },
    {
     "name": "stderr",
     "output_type": "stream",
     "text": [
      "1it [00:12, 12.40s/it]\n",
      " 24%|██▍       | 227/935 [3:50:05<6:53:18, 35.03s/it]"
     ]
    },
    {
     "name": "stdout",
     "output_type": "stream",
     "text": [
      "Finished\n",
      "['https://arxiv.org/abs/1711.05967']\n",
      "Downloading papers...\n"
     ]
    },
    {
     "name": "stderr",
     "output_type": "stream",
     "text": [
      "1it [00:26, 26.42s/it]\n",
      " 24%|██▍       | 228/935 [3:50:31<6:22:19, 32.45s/it]"
     ]
    },
    {
     "name": "stdout",
     "output_type": "stream",
     "text": [
      "Finished\n",
      "['https://arxiv.org/abs/2009.05730']\n",
      "Downloading papers...\n"
     ]
    },
    {
     "name": "stderr",
     "output_type": "stream",
     "text": [
      "1it [00:13, 13.08s/it]\n",
      " 24%|██▍       | 229/935 [3:50:44<5:13:27, 26.64s/it]"
     ]
    },
    {
     "name": "stdout",
     "output_type": "stream",
     "text": [
      "Finished\n",
      "['https://arxiv.org/abs/1006.4064']\n",
      "Downloading papers...\n"
     ]
    },
    {
     "name": "stderr",
     "output_type": "stream",
     "text": [
      "1it [00:27, 27.48s/it]\n",
      " 25%|██▍       | 230/935 [3:51:12<5:15:59, 26.89s/it]"
     ]
    },
    {
     "name": "stdout",
     "output_type": "stream",
     "text": [
      "Finished\n",
      "['https://arxiv.org/abs/2308.03100']\n",
      "Downloading papers...\n"
     ]
    },
    {
     "name": "stderr",
     "output_type": "stream",
     "text": [
      "1it [00:12, 12.21s/it]\n",
      " 25%|██▍       | 231/935 [3:51:24<4:23:53, 22.49s/it]"
     ]
    },
    {
     "name": "stdout",
     "output_type": "stream",
     "text": [
      "Finished\n",
      "['https://arxiv.org/abs/2010.15369']\n",
      "Downloading papers...\n"
     ]
    },
    {
     "name": "stderr",
     "output_type": "stream",
     "text": [
      "1it [00:29, 29.57s/it]\n",
      " 25%|██▍       | 232/935 [3:51:54<4:48:24, 24.62s/it]"
     ]
    },
    {
     "name": "stdout",
     "output_type": "stream",
     "text": [
      "Finished\n",
      "['https://arxiv.org/abs/0708.3677']\n",
      "Downloading papers...\n"
     ]
    },
    {
     "name": "stderr",
     "output_type": "stream",
     "text": [
      "1it [00:09,  9.01s/it]\n",
      " 25%|██▍       | 233/935 [3:52:03<3:53:14, 19.94s/it]"
     ]
    },
    {
     "name": "stdout",
     "output_type": "stream",
     "text": [
      "Finished\n",
      "['https://arxiv.org/abs/1810.09315']\n",
      "Downloading papers...\n"
     ]
    },
    {
     "name": "stderr",
     "output_type": "stream",
     "text": [
      "0it [00:10, ?it/s]\n",
      " 25%|██▌       | 234/935 [3:52:13<3:20:09, 17.13s/it]"
     ]
    },
    {
     "name": "stdout",
     "output_type": "stream",
     "text": [
      "file could not be opened successfully:\n",
      "- method gz: ReadError('invalid header')\n",
      "- method bz2: ReadError('not a bzip2 file')\n",
      "- method xz: ReadError('not an lzma file')\n",
      "- method tar: ReadError('invalid header')\n",
      "Something goes wrong. Please check the input or concat me to fix this bug. Error message: \n",
      "[Errno 2] No such file or directory: '/home/jihuawei/jhw_pdf_parser/datasets/ArXiv体系/1810.09315/1810.09315.pdf'\n",
      "['https://arxiv.org/abs/1303.3520']\n",
      "Downloading papers...\n"
     ]
    },
    {
     "name": "stderr",
     "output_type": "stream",
     "text": [
      "1it [00:13, 13.99s/it]\n",
      " 25%|██▌       | 235/935 [3:52:27<3:08:54, 16.19s/it]"
     ]
    },
    {
     "name": "stdout",
     "output_type": "stream",
     "text": [
      "Finished\n",
      "['https://arxiv.org/abs/1907.00533']\n",
      "Downloading papers...\n"
     ]
    },
    {
     "name": "stderr",
     "output_type": "stream",
     "text": [
      "1it [00:30, 30.47s/it]\n",
      " 25%|██▌       | 236/935 [3:52:58<3:58:34, 20.48s/it]"
     ]
    },
    {
     "name": "stdout",
     "output_type": "stream",
     "text": [
      "Finished\n",
      "['https://arxiv.org/abs/1612.04586']\n",
      "Downloading papers...\n"
     ]
    },
    {
     "name": "stderr",
     "output_type": "stream",
     "text": [
      "0it [00:23, ?it/s]\n",
      " 25%|██▌       | 237/935 [3:53:21<4:08:23, 21.35s/it]"
     ]
    },
    {
     "name": "stdout",
     "output_type": "stream",
     "text": [
      "file could not be opened successfully:\n",
      "- method gz: ReadError('invalid header')\n",
      "- method bz2: ReadError('not a bzip2 file')\n",
      "- method xz: ReadError('not an lzma file')\n",
      "- method tar: ReadError('invalid header')\n",
      "Something goes wrong. Please check the input or concat me to fix this bug. Error message: \n",
      "[Errno 2] No such file or directory: '/home/jihuawei/jhw_pdf_parser/datasets/ArXiv体系/1612.04586/1612.04586.pdf'\n",
      "['https://arxiv.org/abs/2106.04380']\n",
      "Downloading papers...\n"
     ]
    },
    {
     "name": "stderr",
     "output_type": "stream",
     "text": [
      "1it [00:19, 19.89s/it]\n",
      " 25%|██▌       | 238/935 [3:53:41<4:02:57, 20.91s/it]"
     ]
    },
    {
     "name": "stdout",
     "output_type": "stream",
     "text": [
      "Finished\n",
      "['https://arxiv.org/abs/1005.3842']\n",
      "Downloading papers...\n"
     ]
    },
    {
     "name": "stderr",
     "output_type": "stream",
     "text": [
      "1it [00:18, 18.60s/it]\n",
      " 26%|██▌       | 239/935 [3:54:00<3:54:36, 20.22s/it]"
     ]
    },
    {
     "name": "stdout",
     "output_type": "stream",
     "text": [
      "Finished\n",
      "['https://arxiv.org/abs/1806.04044']\n",
      "Downloading papers...\n"
     ]
    },
    {
     "name": "stderr",
     "output_type": "stream",
     "text": [
      "1it [01:26, 86.55s/it]\n",
      " 26%|██▌       | 240/935 [3:55:26<7:44:55, 40.14s/it]"
     ]
    },
    {
     "name": "stdout",
     "output_type": "stream",
     "text": [
      "Finished\n",
      "['https://arxiv.org/abs/0705.3719']\n",
      "Downloading papers...\n"
     ]
    },
    {
     "name": "stderr",
     "output_type": "stream",
     "text": [
      "0it [00:27, ?it/s]\n",
      " 26%|██▌       | 241/935 [3:55:54<7:00:09, 36.32s/it]"
     ]
    },
    {
     "name": "stdout",
     "output_type": "stream",
     "text": [
      "file could not be opened successfully:\n",
      "- method gz: ReadError('invalid header')\n",
      "- method bz2: ReadError('not a bzip2 file')\n",
      "- method xz: ReadError('not an lzma file')\n",
      "- method tar: ReadError('invalid header')\n",
      "Something goes wrong. Please check the input or concat me to fix this bug. Error message: \n",
      "[Errno 2] No such file or directory: '/home/jihuawei/jhw_pdf_parser/datasets/ArXiv体系/0705.3719/0705.3719.pdf'\n",
      "['https://arxiv.org/abs/1802.05094']\n",
      "Downloading papers...\n"
     ]
    },
    {
     "name": "stderr",
     "output_type": "stream",
     "text": [
      "1it [00:40, 40.61s/it]\n",
      " 26%|██▌       | 242/935 [3:56:34<7:14:26, 37.61s/it]"
     ]
    },
    {
     "name": "stdout",
     "output_type": "stream",
     "text": [
      "Finished\n",
      "['https://arxiv.org/abs/0704.2171']\n",
      "Downloading papers...\n"
     ]
    },
    {
     "name": "stderr",
     "output_type": "stream",
     "text": [
      "1it [00:20, 20.50s/it]\n",
      " 26%|██▌       | 243/935 [3:56:55<6:14:35, 32.48s/it]"
     ]
    },
    {
     "name": "stdout",
     "output_type": "stream",
     "text": [
      "Finished\n",
      "['https://arxiv.org/abs/1607.02896']\n",
      "Downloading papers...\n"
     ]
    },
    {
     "name": "stderr",
     "output_type": "stream",
     "text": [
      "1it [00:36, 36.60s/it]\n",
      " 26%|██▌       | 244/935 [3:57:31<6:28:18, 33.72s/it]"
     ]
    },
    {
     "name": "stdout",
     "output_type": "stream",
     "text": [
      "Finished\n",
      "['https://arxiv.org/abs/2212.02635']\n",
      "Downloading papers...\n"
     ]
    },
    {
     "name": "stderr",
     "output_type": "stream",
     "text": [
      "1it [00:57, 57.62s/it]\n",
      " 26%|██▌       | 245/935 [3:58:29<7:50:14, 40.89s/it]"
     ]
    },
    {
     "name": "stdout",
     "output_type": "stream",
     "text": [
      "Finished\n",
      "['https://arxiv.org/abs/2302.02402']\n",
      "Downloading papers...\n"
     ]
    },
    {
     "name": "stderr",
     "output_type": "stream",
     "text": [
      "1it [00:48, 48.52s/it]\n",
      " 26%|██▋       | 246/935 [3:59:17<8:15:50, 43.18s/it]"
     ]
    },
    {
     "name": "stdout",
     "output_type": "stream",
     "text": [
      "Finished\n",
      "['https://arxiv.org/abs/2211.11829']\n",
      "Downloading papers...\n"
     ]
    },
    {
     "name": "stderr",
     "output_type": "stream",
     "text": [
      "1it [00:35, 35.82s/it]\n",
      " 26%|██▋       | 247/935 [3:59:53<7:49:54, 40.98s/it]"
     ]
    },
    {
     "name": "stdout",
     "output_type": "stream",
     "text": [
      "Finished\n",
      "['https://arxiv.org/abs/0705.1932']\n",
      "Downloading papers...\n"
     ]
    },
    {
     "name": "stderr",
     "output_type": "stream",
     "text": [
      "1it [01:02, 62.74s/it]\n",
      " 27%|██▋       | 248/935 [4:00:56<9:03:59, 47.51s/it]"
     ]
    },
    {
     "name": "stdout",
     "output_type": "stream",
     "text": [
      "Finished\n",
      "['https://arxiv.org/abs/2203.10340']\n",
      "Downloading papers...\n"
     ]
    },
    {
     "name": "stderr",
     "output_type": "stream",
     "text": [
      "1it [02:02, 122.15s/it]\n",
      " 27%|██▋       | 249/935 [4:02:58<13:19:14, 69.90s/it]"
     ]
    },
    {
     "name": "stdout",
     "output_type": "stream",
     "text": [
      "Finished\n",
      "['https://arxiv.org/abs/1705.07182']\n",
      "Downloading papers...\n"
     ]
    },
    {
     "name": "stderr",
     "output_type": "stream",
     "text": [
      "1it [01:33, 93.18s/it]\n",
      " 27%|██▋       | 250/935 [4:04:31<14:37:47, 76.89s/it]"
     ]
    },
    {
     "name": "stdout",
     "output_type": "stream",
     "text": [
      "Finished\n",
      "['https://arxiv.org/abs/1307.7084']\n",
      "Downloading papers...\n"
     ]
    },
    {
     "name": "stderr",
     "output_type": "stream",
     "text": [
      "0it [03:31, ?it/s]\n",
      " 27%|██▋       | 251/935 [4:08:02<22:15:22, 117.14s/it]"
     ]
    },
    {
     "name": "stdout",
     "output_type": "stream",
     "text": [
      "file could not be opened successfully:\n",
      "- method gz: ReadError('not a gzip file')\n",
      "- method bz2: ReadError('not a bzip2 file')\n",
      "- method xz: ReadError('not an lzma file')\n",
      "- method tar: ReadError('invalid header')\n",
      "Something goes wrong. Please check the input or concat me to fix this bug. Error message: \n",
      "[Errno 2] No such file or directory: '/home/jihuawei/jhw_pdf_parser/datasets/ArXiv体系/1307.7084/1307.7084.pdf'\n",
      "['https://arxiv.org/abs/1410.2349']\n",
      "Downloading papers...\n"
     ]
    },
    {
     "name": "stderr",
     "output_type": "stream",
     "text": [
      "1it [00:35, 35.98s/it]\n",
      " 27%|██▋       | 252/935 [4:08:38<17:36:16, 92.79s/it] "
     ]
    },
    {
     "name": "stdout",
     "output_type": "stream",
     "text": [
      "Finished\n",
      "['https://arxiv.org/abs/0905.4330']\n",
      "Downloading papers...\n"
     ]
    },
    {
     "name": "stderr",
     "output_type": "stream",
     "text": [
      "1it [00:11, 11.73s/it]\n",
      " 27%|██▋       | 253/935 [4:08:50<12:58:18, 68.47s/it]"
     ]
    },
    {
     "name": "stdout",
     "output_type": "stream",
     "text": [
      "Finished\n",
      "['https://arxiv.org/abs/1211.6323']\n",
      "Downloading papers...\n"
     ]
    },
    {
     "name": "stderr",
     "output_type": "stream",
     "text": [
      "0it [00:15, ?it/s]\n",
      " 27%|██▋       | 254/935 [4:09:06<9:56:16, 52.53s/it] "
     ]
    },
    {
     "name": "stdout",
     "output_type": "stream",
     "text": [
      "file could not be opened successfully:\n",
      "- method gz: ReadError('invalid header')\n",
      "- method bz2: ReadError('not a bzip2 file')\n",
      "- method xz: ReadError('not an lzma file')\n",
      "- method tar: ReadError('invalid header')\n",
      "Something goes wrong. Please check the input or concat me to fix this bug. Error message: \n",
      "[Errno 2] No such file or directory: '/home/jihuawei/jhw_pdf_parser/datasets/ArXiv体系/1211.6323/1211.6323.pdf'\n",
      "['https://arxiv.org/abs/1303.7160']\n",
      "Downloading papers...\n"
     ]
    },
    {
     "name": "stderr",
     "output_type": "stream",
     "text": [
      "0it [00:07, ?it/s]\n",
      " 27%|██▋       | 255/935 [4:09:13<7:23:42, 39.15s/it]"
     ]
    },
    {
     "name": "stdout",
     "output_type": "stream",
     "text": [
      "file could not be opened successfully:\n",
      "- method gz: ReadError('invalid header')\n",
      "- method bz2: ReadError('not a bzip2 file')\n",
      "- method xz: ReadError('not an lzma file')\n",
      "- method tar: ReadError('invalid header')\n",
      "Something goes wrong. Please check the input or concat me to fix this bug. Error message: \n",
      "[Errno 2] No such file or directory: '/home/jihuawei/jhw_pdf_parser/datasets/ArXiv体系/1303.7160/1303.7160.pdf'\n",
      "['https://arxiv.org/abs/1101.0690']\n",
      "Downloading papers...\n"
     ]
    },
    {
     "name": "stderr",
     "output_type": "stream",
     "text": [
      "0it [00:14, ?it/s]\n",
      " 27%|██▋       | 256/935 [4:09:28<5:58:15, 31.66s/it]"
     ]
    },
    {
     "name": "stdout",
     "output_type": "stream",
     "text": [
      "file could not be opened successfully:\n",
      "- method gz: ReadError('not a gzip file')\n",
      "- method bz2: ReadError('not a bzip2 file')\n",
      "- method xz: ReadError('not an lzma file')\n",
      "- method tar: ReadError('invalid header')\n",
      "Something goes wrong. Please check the input or concat me to fix this bug. Error message: \n",
      "[Errno 2] No such file or directory: '/home/jihuawei/jhw_pdf_parser/datasets/ArXiv体系/1101.0690/1101.0690.pdf'\n",
      "['https://arxiv.org/abs/0711.3864']\n",
      "Downloading papers...\n"
     ]
    },
    {
     "name": "stderr",
     "output_type": "stream",
     "text": [
      "0it [00:19, ?it/s]\n",
      " 27%|██▋       | 257/935 [4:09:47<5:16:18, 27.99s/it]"
     ]
    },
    {
     "name": "stdout",
     "output_type": "stream",
     "text": [
      "file could not be opened successfully:\n",
      "- method gz: ReadError('invalid header')\n",
      "- method bz2: ReadError('not a bzip2 file')\n",
      "- method xz: ReadError('not an lzma file')\n",
      "- method tar: ReadError('invalid header')\n",
      "Something goes wrong. Please check the input or concat me to fix this bug. Error message: \n",
      "[Errno 2] No such file or directory: '/home/jihuawei/jhw_pdf_parser/datasets/ArXiv体系/0711.3864/0711.3864.pdf'\n",
      "['https://arxiv.org/abs/1712.02209']\n",
      "Downloading papers...\n"
     ]
    },
    {
     "name": "stderr",
     "output_type": "stream",
     "text": [
      "1it [00:55, 55.98s/it]\n",
      " 28%|██▊       | 258/935 [4:10:43<6:50:35, 36.39s/it]"
     ]
    },
    {
     "name": "stdout",
     "output_type": "stream",
     "text": [
      "Finished\n",
      "['https://arxiv.org/abs/0704.2217']\n",
      "Downloading papers...\n"
     ]
    },
    {
     "name": "stderr",
     "output_type": "stream",
     "text": [
      "1it [00:20, 20.74s/it]\n",
      " 28%|██▊       | 259/935 [4:11:04<5:57:05, 31.69s/it]"
     ]
    },
    {
     "name": "stdout",
     "output_type": "stream",
     "text": [
      "Finished\n",
      "['https://arxiv.org/abs/1406.3219']\n",
      "Downloading papers...\n"
     ]
    },
    {
     "name": "stderr",
     "output_type": "stream",
     "text": [
      "1it [00:19, 19.20s/it]\n",
      " 28%|██▊       | 260/935 [4:11:23<5:14:25, 27.95s/it]"
     ]
    },
    {
     "name": "stdout",
     "output_type": "stream",
     "text": [
      "Finished\n",
      "['https://arxiv.org/abs/2104.01312']\n",
      "Downloading papers...\n"
     ]
    },
    {
     "name": "stderr",
     "output_type": "stream",
     "text": [
      "0it [00:18, ?it/s]\n",
      " 28%|██▊       | 261/935 [4:11:41<4:40:41, 24.99s/it]"
     ]
    },
    {
     "name": "stdout",
     "output_type": "stream",
     "text": [
      "file could not be opened successfully:\n",
      "- method gz: ReadError('invalid header')\n",
      "- method bz2: ReadError('not a bzip2 file')\n",
      "- method xz: ReadError('not an lzma file')\n",
      "- method tar: ReadError('invalid header')\n",
      "Something goes wrong. Please check the input or concat me to fix this bug. Error message: \n",
      "[Errno 2] No such file or directory: '/home/jihuawei/jhw_pdf_parser/datasets/ArXiv体系/2104.01312/2104.01312.pdf'\n",
      "['https://arxiv.org/abs/2307.01623']\n",
      "Downloading papers...\n"
     ]
    },
    {
     "name": "stderr",
     "output_type": "stream",
     "text": [
      "1it [00:30, 30.90s/it]\n",
      " 28%|██▊       | 262/935 [4:12:12<5:00:11, 26.76s/it]"
     ]
    },
    {
     "name": "stdout",
     "output_type": "stream",
     "text": [
      "Finished\n",
      "['https://arxiv.org/abs/1407.1323']\n",
      "Downloading papers...\n"
     ]
    },
    {
     "name": "stderr",
     "output_type": "stream",
     "text": [
      "1it [00:48, 48.03s/it]\n",
      " 28%|██▊       | 263/935 [4:13:00<6:11:12, 33.14s/it]"
     ]
    },
    {
     "name": "stdout",
     "output_type": "stream",
     "text": [
      "Finished\n",
      "['https://arxiv.org/abs/1108.4873']\n",
      "Downloading papers...\n"
     ]
    },
    {
     "name": "stderr",
     "output_type": "stream",
     "text": [
      "1it [00:15, 15.63s/it]\n",
      " 28%|██▊       | 264/935 [4:13:16<5:11:54, 27.89s/it]"
     ]
    },
    {
     "name": "stdout",
     "output_type": "stream",
     "text": [
      "Finished\n",
      "['https://arxiv.org/abs/0711.4961']\n",
      "Downloading papers...\n"
     ]
    },
    {
     "name": "stderr",
     "output_type": "stream",
     "text": [
      "0it [00:15, ?it/s]\n",
      " 28%|██▊       | 265/935 [4:13:31<4:29:36, 24.14s/it]"
     ]
    },
    {
     "name": "stdout",
     "output_type": "stream",
     "text": [
      "file could not be opened successfully:\n",
      "- method gz: ReadError('invalid header')\n",
      "- method bz2: ReadError('not a bzip2 file')\n",
      "- method xz: ReadError('not an lzma file')\n",
      "- method tar: ReadError('invalid header')\n",
      "Something goes wrong. Please check the input or concat me to fix this bug. Error message: \n",
      "[Errno 2] No such file or directory: '/home/jihuawei/jhw_pdf_parser/datasets/ArXiv体系/0711.4961/0711.4961.pdf'\n",
      "['https://arxiv.org/abs/2201.08597']\n",
      "Downloading papers...\n"
     ]
    },
    {
     "name": "stderr",
     "output_type": "stream",
     "text": [
      "1it [00:20, 20.45s/it]\n",
      " 28%|██▊       | 266/935 [4:13:51<4:16:52, 23.04s/it]"
     ]
    },
    {
     "name": "stdout",
     "output_type": "stream",
     "text": [
      "Finished\n",
      "['https://arxiv.org/abs/2006.00613']\n",
      "Downloading papers...\n"
     ]
    },
    {
     "name": "stderr",
     "output_type": "stream",
     "text": [
      "1it [03:08, 188.18s/it]\n",
      " 29%|██▊       | 267/935 [4:17:00<13:28:06, 72.58s/it]"
     ]
    },
    {
     "name": "stdout",
     "output_type": "stream",
     "text": [
      "Finished\n",
      "['https://arxiv.org/abs/1301.0922']\n",
      "Downloading papers...\n"
     ]
    },
    {
     "name": "stderr",
     "output_type": "stream",
     "text": [
      "1it [01:14, 74.83s/it]\n",
      " 29%|██▊       | 268/935 [4:18:15<13:34:24, 73.26s/it]"
     ]
    },
    {
     "name": "stdout",
     "output_type": "stream",
     "text": [
      "Finished\n",
      "['https://arxiv.org/abs/1808.07741']\n",
      "Downloading papers...\n"
     ]
    },
    {
     "name": "stderr",
     "output_type": "stream",
     "text": [
      "1it [01:43, 103.79s/it]\n",
      " 29%|██▉       | 269/935 [4:19:58<15:14:52, 82.42s/it]"
     ]
    },
    {
     "name": "stdout",
     "output_type": "stream",
     "text": [
      "Finished\n",
      "['https://arxiv.org/abs/1109.1503']\n",
      "Downloading papers...\n"
     ]
    },
    {
     "name": "stderr",
     "output_type": "stream",
     "text": [
      "1it [00:56, 56.79s/it]\n",
      " 29%|██▉       | 270/935 [4:20:55<13:48:16, 74.73s/it]"
     ]
    },
    {
     "name": "stdout",
     "output_type": "stream",
     "text": [
      "Finished\n",
      "['https://arxiv.org/abs/1408.4584']\n",
      "Downloading papers...\n"
     ]
    },
    {
     "name": "stderr",
     "output_type": "stream",
     "text": [
      "1it [00:18, 18.58s/it]\n",
      " 29%|██▉       | 271/935 [4:21:14<10:40:37, 57.89s/it]"
     ]
    },
    {
     "name": "stdout",
     "output_type": "stream",
     "text": [
      "Finished\n",
      "['https://arxiv.org/abs/1511.04966']\n",
      "Downloading papers...\n"
     ]
    },
    {
     "name": "stderr",
     "output_type": "stream",
     "text": [
      "0it [00:13, ?it/s]\n",
      " 29%|██▉       | 272/935 [4:21:27<8:11:27, 44.48s/it] "
     ]
    },
    {
     "name": "stdout",
     "output_type": "stream",
     "text": [
      "file could not be opened successfully:\n",
      "- method gz: ReadError('invalid header')\n",
      "- method bz2: ReadError('not a bzip2 file')\n",
      "- method xz: ReadError('not an lzma file')\n",
      "- method tar: ReadError('invalid header')\n",
      "Something goes wrong. Please check the input or concat me to fix this bug. Error message: \n",
      "[Errno 2] No such file or directory: '/home/jihuawei/jhw_pdf_parser/datasets/ArXiv体系/1511.04966/1511.04966.pdf'\n",
      "['https://arxiv.org/abs/2112.07382']\n",
      "Downloading papers...\n"
     ]
    },
    {
     "name": "stderr",
     "output_type": "stream",
     "text": [
      "0it [00:17, ?it/s]\n",
      " 29%|██▉       | 273/935 [4:21:44<6:41:14, 36.37s/it]"
     ]
    },
    {
     "name": "stdout",
     "output_type": "stream",
     "text": [
      "file could not be opened successfully:\n",
      "- method gz: ReadError('not a gzip file')\n",
      "- method bz2: ReadError('not a bzip2 file')\n",
      "- method xz: ReadError('not an lzma file')\n",
      "- method tar: ReadError('invalid header')\n",
      "Something goes wrong. Please check the input or concat me to fix this bug. Error message: \n",
      "[Errno 2] No such file or directory: '/home/jihuawei/jhw_pdf_parser/datasets/ArXiv体系/2112.07382/2112.07382.pdf'\n",
      "['https://arxiv.org/abs/1602.07493']\n",
      "Downloading papers...\n"
     ]
    },
    {
     "name": "stderr",
     "output_type": "stream",
     "text": [
      "0it [00:13, ?it/s]\n",
      " 29%|██▉       | 274/935 [4:21:57<5:23:55, 29.40s/it]"
     ]
    },
    {
     "name": "stdout",
     "output_type": "stream",
     "text": [
      "file could not be opened successfully:\n",
      "- method gz: ReadError('invalid header')\n",
      "- method bz2: ReadError('not a bzip2 file')\n",
      "- method xz: ReadError('not an lzma file')\n",
      "- method tar: ReadError('invalid header')\n",
      "Something goes wrong. Please check the input or concat me to fix this bug. Error message: \n",
      "[Errno 2] No such file or directory: '/home/jihuawei/jhw_pdf_parser/datasets/ArXiv体系/1602.07493/1602.07493.pdf'\n",
      "['https://arxiv.org/abs/1107.5628']\n",
      "Downloading papers...\n"
     ]
    },
    {
     "name": "stderr",
     "output_type": "stream",
     "text": [
      "1it [00:20, 20.83s/it]\n",
      " 29%|██▉       | 275/935 [4:22:18<4:55:09, 26.83s/it]"
     ]
    },
    {
     "name": "stdout",
     "output_type": "stream",
     "text": [
      "Finished\n",
      "['https://arxiv.org/abs/0704.2257']\n",
      "Downloading papers...\n"
     ]
    },
    {
     "name": "stderr",
     "output_type": "stream",
     "text": [
      "1it [00:10, 10.74s/it]\n",
      " 30%|██▉       | 276/935 [4:22:29<4:01:42, 22.01s/it]"
     ]
    },
    {
     "name": "stdout",
     "output_type": "stream",
     "text": [
      "Finished\n",
      "['https://arxiv.org/abs/1812.00643']\n",
      "Downloading papers...\n"
     ]
    },
    {
     "name": "stderr",
     "output_type": "stream",
     "text": [
      "1it [00:15, 15.06s/it]\n",
      " 30%|██▉       | 277/935 [4:22:44<3:38:30, 19.92s/it]"
     ]
    },
    {
     "name": "stdout",
     "output_type": "stream",
     "text": [
      "Finished\n",
      "['https://arxiv.org/abs/1006.5879']\n",
      "Downloading papers...\n"
     ]
    },
    {
     "name": "stderr",
     "output_type": "stream",
     "text": [
      "1it [00:20, 20.75s/it]\n",
      " 30%|██▉       | 278/935 [4:23:05<3:40:55, 20.18s/it]"
     ]
    },
    {
     "name": "stdout",
     "output_type": "stream",
     "text": [
      "Finished\n",
      "['https://arxiv.org/abs/0704.2351']\n",
      "Downloading papers...\n"
     ]
    },
    {
     "name": "stderr",
     "output_type": "stream",
     "text": [
      "1it [00:15, 15.25s/it]\n",
      " 30%|██▉       | 279/935 [4:23:20<3:24:26, 18.70s/it]"
     ]
    },
    {
     "name": "stdout",
     "output_type": "stream",
     "text": [
      "Finished\n",
      "['https://arxiv.org/abs/2206.12303']\n",
      "Downloading papers...\n"
     ]
    },
    {
     "name": "stderr",
     "output_type": "stream",
     "text": [
      "1it [00:26, 26.49s/it]\n",
      " 30%|██▉       | 280/935 [4:23:47<3:49:40, 21.04s/it]"
     ]
    },
    {
     "name": "stdout",
     "output_type": "stream",
     "text": [
      "Finished\n",
      "['https://arxiv.org/abs/2107.05156']\n",
      "Downloading papers...\n"
     ]
    },
    {
     "name": "stderr",
     "output_type": "stream",
     "text": [
      "1it [00:25, 25.89s/it]\n",
      " 30%|███       | 281/935 [4:24:13<4:05:12, 22.50s/it]"
     ]
    },
    {
     "name": "stdout",
     "output_type": "stream",
     "text": [
      "Finished\n",
      "['https://arxiv.org/abs/1908.08081']\n",
      "Downloading papers...\n"
     ]
    },
    {
     "name": "stderr",
     "output_type": "stream",
     "text": [
      "0it [00:11, ?it/s]\n",
      " 30%|███       | 282/935 [4:24:24<3:27:28, 19.06s/it]"
     ]
    },
    {
     "name": "stdout",
     "output_type": "stream",
     "text": [
      "file could not be opened successfully:\n",
      "- method gz: ReadError('invalid header')\n",
      "- method bz2: ReadError('not a bzip2 file')\n",
      "- method xz: ReadError('not an lzma file')\n",
      "- method tar: ReadError('invalid header')\n",
      "Something goes wrong. Please check the input or concat me to fix this bug. Error message: \n",
      "[Errno 2] No such file or directory: '/home/jihuawei/jhw_pdf_parser/datasets/ArXiv体系/1908.08081/1908.08081.pdf'\n",
      "['https://arxiv.org/abs/2009.14768']\n",
      "Downloading papers...\n"
     ]
    },
    {
     "name": "stderr",
     "output_type": "stream",
     "text": [
      "1it [01:15, 75.47s/it]\n",
      " 30%|███       | 283/935 [4:25:39<6:31:03, 35.99s/it]"
     ]
    },
    {
     "name": "stdout",
     "output_type": "stream",
     "text": [
      "Finished\n",
      "['https://arxiv.org/abs/0712.2503']\n",
      "Downloading papers...\n"
     ]
    },
    {
     "name": "stderr",
     "output_type": "stream",
     "text": [
      "1it [00:47, 47.73s/it]\n",
      " 30%|███       | 284/935 [4:26:27<7:08:42, 39.51s/it]"
     ]
    },
    {
     "name": "stdout",
     "output_type": "stream",
     "text": [
      "Finished\n",
      "['https://arxiv.org/abs/1505.07089']\n",
      "Downloading papers...\n"
     ]
    },
    {
     "name": "stderr",
     "output_type": "stream",
     "text": [
      "1it [01:17, 77.47s/it]\n",
      " 30%|███       | 285/935 [4:27:44<9:11:26, 50.90s/it]"
     ]
    },
    {
     "name": "stdout",
     "output_type": "stream",
     "text": [
      "Finished\n",
      "['https://arxiv.org/abs/1005.1228']\n",
      "Downloading papers...\n"
     ]
    },
    {
     "name": "stderr",
     "output_type": "stream",
     "text": [
      "1it [02:03, 123.46s/it]\n",
      " 31%|███       | 286/935 [4:29:48<13:06:03, 72.67s/it]"
     ]
    },
    {
     "name": "stdout",
     "output_type": "stream",
     "text": [
      "Finished\n",
      "['https://arxiv.org/abs/2107.06894']\n",
      "Downloading papers...\n"
     ]
    },
    {
     "name": "stderr",
     "output_type": "stream",
     "text": [
      "1it [05:36, 336.75s/it]\n",
      " 31%|███       | 287/935 [4:35:25<27:20:28, 151.90s/it]"
     ]
    },
    {
     "name": "stdout",
     "output_type": "stream",
     "text": [
      "Finished\n",
      "['https://arxiv.org/abs/1506.05538']\n",
      "Downloading papers...\n"
     ]
    },
    {
     "name": "stderr",
     "output_type": "stream",
     "text": [
      "1it [01:26, 86.82s/it]\n",
      " 31%|███       | 288/935 [4:36:51<23:47:26, 132.38s/it]"
     ]
    },
    {
     "name": "stdout",
     "output_type": "stream",
     "text": [
      "Finished\n",
      "['https://arxiv.org/abs/1106.6015']\n",
      "Downloading papers...\n"
     ]
    },
    {
     "name": "stderr",
     "output_type": "stream",
     "text": [
      "1it [00:07,  7.04s/it]\n",
      " 31%|███       | 289/935 [4:36:58<17:00:25, 94.78s/it] "
     ]
    },
    {
     "name": "stdout",
     "output_type": "stream",
     "text": [
      "Finished\n",
      "['https://arxiv.org/abs/1803.11415']\n",
      "Downloading papers...\n"
     ]
    },
    {
     "name": "stderr",
     "output_type": "stream",
     "text": [
      "0it [00:09, ?it/s]\n",
      " 31%|███       | 290/935 [4:37:08<12:23:52, 69.20s/it]"
     ]
    },
    {
     "name": "stdout",
     "output_type": "stream",
     "text": [
      "file could not be opened successfully:\n",
      "- method gz: ReadError('invalid header')\n",
      "- method bz2: ReadError('not a bzip2 file')\n",
      "- method xz: ReadError('not an lzma file')\n",
      "- method tar: ReadError('invalid header')\n",
      "Something goes wrong. Please check the input or concat me to fix this bug. Error message: \n",
      "[Errno 2] No such file or directory: '/home/jihuawei/jhw_pdf_parser/datasets/ArXiv体系/1803.11415/1803.11415.pdf'\n",
      "['https://arxiv.org/abs/1011.4209']\n",
      "Downloading papers...\n"
     ]
    },
    {
     "name": "stderr",
     "output_type": "stream",
     "text": [
      "0it [00:08, ?it/s]\n",
      " 31%|███       | 291/935 [4:37:16<9:06:18, 50.90s/it] "
     ]
    },
    {
     "name": "stdout",
     "output_type": "stream",
     "text": [
      "file could not be opened successfully:\n",
      "- method gz: ReadError('invalid header')\n",
      "- method bz2: ReadError('not a bzip2 file')\n",
      "- method xz: ReadError('not an lzma file')\n",
      "- method tar: ReadError('invalid header')\n",
      "Something goes wrong. Please check the input or concat me to fix this bug. Error message: \n",
      "[Errno 2] No such file or directory: '/home/jihuawei/jhw_pdf_parser/datasets/ArXiv体系/1011.4209/1011.4209.pdf'\n",
      "['https://arxiv.org/abs/0706.1996']\n",
      "Downloading papers...\n"
     ]
    },
    {
     "name": "stderr",
     "output_type": "stream",
     "text": [
      "0it [00:11, ?it/s]\n",
      " 31%|███       | 292/935 [4:37:27<6:58:21, 39.04s/it]"
     ]
    },
    {
     "name": "stdout",
     "output_type": "stream",
     "text": [
      "file could not be opened successfully:\n",
      "- method gz: ReadError('not a gzip file')\n",
      "- method bz2: ReadError('not a bzip2 file')\n",
      "- method xz: ReadError('not an lzma file')\n",
      "- method tar: ReadError('invalid header')\n",
      "Something goes wrong. Please check the input or concat me to fix this bug. Error message: \n",
      "[Errno 2] No such file or directory: '/home/jihuawei/jhw_pdf_parser/datasets/ArXiv体系/0706.1996/0706.1996.pdf'\n",
      "['https://arxiv.org/abs/2204.05510']\n",
      "Downloading papers...\n"
     ]
    },
    {
     "name": "stderr",
     "output_type": "stream",
     "text": [
      "1it [00:27, 27.79s/it]\n",
      " 31%|███▏      | 293/935 [4:37:55<6:21:37, 35.67s/it]"
     ]
    },
    {
     "name": "stdout",
     "output_type": "stream",
     "text": [
      "Finished\n",
      "['https://arxiv.org/abs/0710.5742']\n",
      "Downloading papers...\n"
     ]
    },
    {
     "name": "stderr",
     "output_type": "stream",
     "text": [
      "1it [00:25, 25.92s/it]\n",
      " 31%|███▏      | 294/935 [4:38:21<5:49:49, 32.75s/it]"
     ]
    },
    {
     "name": "stdout",
     "output_type": "stream",
     "text": [
      "Finished\n",
      "['https://arxiv.org/abs/1908.05921']\n",
      "Downloading papers...\n"
     ]
    },
    {
     "name": "stderr",
     "output_type": "stream",
     "text": [
      "0it [00:08, ?it/s]\n",
      " 32%|███▏      | 295/935 [4:38:30<4:32:11, 25.52s/it]"
     ]
    },
    {
     "name": "stdout",
     "output_type": "stream",
     "text": [
      "file could not be opened successfully:\n",
      "- method gz: ReadError('invalid header')\n",
      "- method bz2: ReadError('not a bzip2 file')\n",
      "- method xz: ReadError('not an lzma file')\n",
      "- method tar: ReadError('invalid header')\n",
      "Something goes wrong. Please check the input or concat me to fix this bug. Error message: \n",
      "[Errno 2] No such file or directory: '/home/jihuawei/jhw_pdf_parser/datasets/ArXiv体系/1908.05921/1908.05921.pdf'\n",
      "['https://arxiv.org/abs/1810.02376']\n",
      "Downloading papers...\n"
     ]
    },
    {
     "name": "stderr",
     "output_type": "stream",
     "text": [
      "1it [00:42, 42.66s/it]\n",
      " 32%|███▏      | 296/935 [4:39:12<5:26:32, 30.66s/it]"
     ]
    },
    {
     "name": "stdout",
     "output_type": "stream",
     "text": [
      "Finished\n",
      "['https://arxiv.org/abs/0704.2244']\n",
      "Downloading papers...\n"
     ]
    },
    {
     "name": "stderr",
     "output_type": "stream",
     "text": [
      "0it [00:18, ?it/s]\n",
      " 32%|███▏      | 297/935 [4:39:31<4:48:01, 27.09s/it]"
     ]
    },
    {
     "name": "stdout",
     "output_type": "stream",
     "text": [
      "file could not be opened successfully:\n",
      "- method gz: ReadError('invalid header')\n",
      "- method bz2: ReadError('not a bzip2 file')\n",
      "- method xz: ReadError('not an lzma file')\n",
      "- method tar: ReadError('invalid header')\n",
      "Something goes wrong. Please check the input or concat me to fix this bug. Error message: \n",
      "[Errno 2] No such file or directory: '/home/jihuawei/jhw_pdf_parser/datasets/ArXiv体系/0704.2244/0704.2244.pdf'\n",
      "['https://arxiv.org/abs/1706.04036']\n",
      "Downloading papers...\n"
     ]
    },
    {
     "name": "stderr",
     "output_type": "stream",
     "text": [
      "1it [01:58, 118.73s/it]\n",
      " 32%|███▏      | 298/935 [4:41:30<9:39:29, 54.58s/it]"
     ]
    },
    {
     "name": "stdout",
     "output_type": "stream",
     "text": [
      "Finished\n",
      "['https://arxiv.org/abs/1002.2073']\n",
      "Downloading papers...\n"
     ]
    },
    {
     "name": "stderr",
     "output_type": "stream",
     "text": [
      "1it [00:49, 49.22s/it]\n",
      " 32%|███▏      | 299/935 [4:42:19<9:21:32, 52.98s/it]"
     ]
    },
    {
     "name": "stdout",
     "output_type": "stream",
     "text": [
      "Finished\n",
      "['https://arxiv.org/abs/1609.00919']\n",
      "Downloading papers...\n"
     ]
    },
    {
     "name": "stderr",
     "output_type": "stream",
     "text": [
      "1it [00:16, 16.95s/it]\n",
      " 32%|███▏      | 300/935 [4:42:36<7:26:22, 42.18s/it]"
     ]
    },
    {
     "name": "stdout",
     "output_type": "stream",
     "text": [
      "Finished\n",
      "['https://arxiv.org/abs/2305.01355']\n",
      "Downloading papers...\n"
     ]
    },
    {
     "name": "stderr",
     "output_type": "stream",
     "text": [
      "0it [00:19, ?it/s]\n",
      " 32%|███▏      | 301/935 [4:42:56<6:14:41, 35.46s/it]"
     ]
    },
    {
     "name": "stdout",
     "output_type": "stream",
     "text": [
      "file could not be opened successfully:\n",
      "- method gz: ReadError('invalid header')\n",
      "- method bz2: ReadError('not a bzip2 file')\n",
      "- method xz: ReadError('not an lzma file')\n",
      "- method tar: ReadError('invalid header')\n",
      "Something goes wrong. Please check the input or concat me to fix this bug. Error message: \n",
      "[Errno 2] No such file or directory: '/home/jihuawei/jhw_pdf_parser/datasets/ArXiv体系/2305.01355/2305.01355.pdf'\n",
      "['https://arxiv.org/abs/0802.1378']\n",
      "Downloading papers...\n"
     ]
    },
    {
     "name": "stderr",
     "output_type": "stream",
     "text": [
      "1it [00:27, 27.24s/it]\n",
      " 32%|███▏      | 302/935 [4:43:23<5:48:05, 32.99s/it]"
     ]
    },
    {
     "name": "stdout",
     "output_type": "stream",
     "text": [
      "Finished\n",
      "['https://arxiv.org/abs/1409.7957']\n",
      "Downloading papers...\n"
     ]
    },
    {
     "name": "stderr",
     "output_type": "stream",
     "text": [
      "0it [00:11, ?it/s]\n",
      " 32%|███▏      | 303/935 [4:43:35<4:39:11, 26.50s/it]"
     ]
    },
    {
     "name": "stdout",
     "output_type": "stream",
     "text": [
      "file could not be opened successfully:\n",
      "- method gz: ReadError('invalid header')\n",
      "- method bz2: ReadError('not a bzip2 file')\n",
      "- method xz: ReadError('not an lzma file')\n",
      "- method tar: ReadError('invalid header')\n",
      "Something goes wrong. Please check the input or concat me to fix this bug. Error message: \n",
      "[Errno 2] No such file or directory: '/home/jihuawei/jhw_pdf_parser/datasets/ArXiv体系/1409.7957/1409.7957.pdf'\n",
      "['https://arxiv.org/abs/0902.0622']\n",
      "Downloading papers...\n"
     ]
    },
    {
     "name": "stderr",
     "output_type": "stream",
     "text": [
      "0it [00:33, ?it/s]\n",
      " 33%|███▎      | 304/935 [4:44:08<5:00:24, 28.56s/it]"
     ]
    },
    {
     "name": "stdout",
     "output_type": "stream",
     "text": [
      "file could not be opened successfully:\n",
      "- method gz: ReadError('not a gzip file')\n",
      "- method bz2: ReadError('not a bzip2 file')\n",
      "- method xz: ReadError('not an lzma file')\n",
      "- method tar: ReadError('bad checksum')\n",
      "Something goes wrong. Please check the input or concat me to fix this bug. Error message: \n",
      "[Errno 2] No such file or directory: '/home/jihuawei/jhw_pdf_parser/datasets/ArXiv体系/0902.0622/0902.0622.pdf'\n",
      "['https://arxiv.org/abs/1705.07630']\n",
      "Downloading papers...\n"
     ]
    },
    {
     "name": "stderr",
     "output_type": "stream",
     "text": [
      "0it [00:13, ?it/s]\n",
      " 33%|███▎      | 305/935 [4:44:21<4:11:12, 23.92s/it]"
     ]
    },
    {
     "name": "stdout",
     "output_type": "stream",
     "text": [
      "file could not be opened successfully:\n",
      "- method gz: ReadError('invalid header')\n",
      "- method bz2: ReadError('not a bzip2 file')\n",
      "- method xz: ReadError('not an lzma file')\n",
      "- method tar: ReadError('invalid header')\n",
      "Something goes wrong. Please check the input or concat me to fix this bug. Error message: \n",
      "[Errno 2] No such file or directory: '/home/jihuawei/jhw_pdf_parser/datasets/ArXiv体系/1705.07630/1705.07630.pdf'\n",
      "['https://arxiv.org/abs/1102.1811']\n",
      "Downloading papers...\n"
     ]
    },
    {
     "name": "stderr",
     "output_type": "stream",
     "text": [
      "0it [00:05, ?it/s]\n",
      " 33%|███▎      | 306/935 [4:44:27<3:14:24, 18.54s/it]"
     ]
    },
    {
     "name": "stdout",
     "output_type": "stream",
     "text": [
      "file could not be opened successfully:\n",
      "- method gz: ReadError('invalid header')\n",
      "- method bz2: ReadError('not a bzip2 file')\n",
      "- method xz: ReadError('not an lzma file')\n",
      "- method tar: ReadError('invalid header')\n",
      "Something goes wrong. Please check the input or concat me to fix this bug. Error message: \n",
      "[Errno 2] No such file or directory: '/home/jihuawei/jhw_pdf_parser/datasets/ArXiv体系/1102.1811/1102.1811.pdf'\n",
      "['https://arxiv.org/abs/2003.00473']\n",
      "Downloading papers...\n"
     ]
    },
    {
     "name": "stderr",
     "output_type": "stream",
     "text": [
      "1it [00:09,  9.79s/it]\n",
      " 33%|███▎      | 307/935 [4:44:37<2:46:40, 15.92s/it]"
     ]
    },
    {
     "name": "stdout",
     "output_type": "stream",
     "text": [
      "Finished\n",
      "['https://arxiv.org/abs/1802.05514']\n",
      "Downloading papers...\n"
     ]
    },
    {
     "name": "stderr",
     "output_type": "stream",
     "text": [
      "1it [00:40, 40.95s/it]\n",
      " 33%|███▎      | 308/935 [4:45:18<4:04:53, 23.43s/it]"
     ]
    },
    {
     "name": "stdout",
     "output_type": "stream",
     "text": [
      "Finished\n",
      "['https://arxiv.org/abs/0704.2518']\n",
      "Downloading papers...\n"
     ]
    },
    {
     "name": "stderr",
     "output_type": "stream",
     "text": [
      "1it [00:16, 16.17s/it]\n",
      " 33%|███▎      | 309/935 [4:45:34<3:41:45, 21.25s/it]"
     ]
    },
    {
     "name": "stdout",
     "output_type": "stream",
     "text": [
      "Finished\n",
      "['https://arxiv.org/abs/0811.4371']\n",
      "Downloading papers...\n"
     ]
    },
    {
     "name": "stderr",
     "output_type": "stream",
     "text": [
      "1it [00:56, 56.77s/it]\n",
      " 33%|███▎      | 310/935 [4:46:31<5:32:24, 31.91s/it]"
     ]
    },
    {
     "name": "stdout",
     "output_type": "stream",
     "text": [
      "Finished\n",
      "['https://arxiv.org/abs/0704.2484']\n",
      "Downloading papers...\n"
     ]
    },
    {
     "name": "stderr",
     "output_type": "stream",
     "text": [
      "1it [00:17, 17.92s/it]\n",
      " 33%|███▎      | 311/935 [4:46:49<4:48:14, 27.72s/it]"
     ]
    },
    {
     "name": "stdout",
     "output_type": "stream",
     "text": [
      "Finished\n",
      "['https://arxiv.org/abs/1402.5051']\n",
      "Downloading papers...\n"
     ]
    },
    {
     "name": "stderr",
     "output_type": "stream",
     "text": [
      "1it [00:20, 20.43s/it]\n",
      " 33%|███▎      | 312/935 [4:47:09<4:25:05, 25.53s/it]"
     ]
    },
    {
     "name": "stdout",
     "output_type": "stream",
     "text": [
      "Finished\n",
      "['https://arxiv.org/abs/0803.0848']\n",
      "Downloading papers...\n"
     ]
    },
    {
     "name": "stderr",
     "output_type": "stream",
     "text": [
      "1it [00:09,  9.42s/it]\n",
      " 33%|███▎      | 313/935 [4:47:19<3:34:34, 20.70s/it]"
     ]
    },
    {
     "name": "stdout",
     "output_type": "stream",
     "text": [
      "Finished\n",
      "['https://arxiv.org/abs/2305.08374']\n",
      "Downloading papers...\n"
     ]
    },
    {
     "name": "stderr",
     "output_type": "stream",
     "text": [
      "1it [02:10, 130.52s/it]\n",
      " 34%|███▎      | 314/935 [4:49:29<9:15:14, 53.65s/it]"
     ]
    },
    {
     "name": "stdout",
     "output_type": "stream",
     "text": [
      "Finished\n",
      "['https://arxiv.org/abs/1203.3409']\n",
      "Downloading papers...\n"
     ]
    },
    {
     "name": "stderr",
     "output_type": "stream",
     "text": [
      "1it [00:23, 23.53s/it]\n",
      " 34%|███▎      | 315/935 [4:49:53<7:41:00, 44.61s/it]"
     ]
    },
    {
     "name": "stdout",
     "output_type": "stream",
     "text": [
      "Finished\n",
      "['https://arxiv.org/abs/0704.2477']\n",
      "Downloading papers...\n"
     ]
    },
    {
     "name": "stderr",
     "output_type": "stream",
     "text": [
      "1it [01:07, 67.64s/it]\n",
      " 34%|███▍      | 316/935 [4:51:00<8:51:32, 51.52s/it]"
     ]
    },
    {
     "name": "stdout",
     "output_type": "stream",
     "text": [
      "Finished\n",
      "['https://arxiv.org/abs/1908.11681']\n",
      "Downloading papers...\n"
     ]
    },
    {
     "name": "stderr",
     "output_type": "stream",
     "text": [
      "1it [00:16, 16.76s/it]\n",
      " 34%|███▍      | 317/935 [4:51:17<7:03:17, 41.10s/it]"
     ]
    },
    {
     "name": "stdout",
     "output_type": "stream",
     "text": [
      "Finished\n",
      "['https://arxiv.org/abs/1904.06927']\n",
      "Downloading papers...\n"
     ]
    },
    {
     "name": "stderr",
     "output_type": "stream",
     "text": [
      "1it [03:39, 219.06s/it]\n",
      " 34%|███▍      | 318/935 [4:54:56<16:11:39, 94.49s/it]"
     ]
    },
    {
     "name": "stdout",
     "output_type": "stream",
     "text": [
      "Finished\n",
      "['https://arxiv.org/abs/2105.07884']\n",
      "Downloading papers...\n"
     ]
    },
    {
     "name": "stderr",
     "output_type": "stream",
     "text": [
      "1it [01:50, 110.09s/it]\n",
      " 34%|███▍      | 319/935 [4:56:46<16:58:09, 99.17s/it]"
     ]
    },
    {
     "name": "stdout",
     "output_type": "stream",
     "text": [
      "Finished\n",
      "['https://arxiv.org/abs/0811.3034']\n",
      "Downloading papers...\n"
     ]
    },
    {
     "name": "stderr",
     "output_type": "stream",
     "text": [
      "0it [02:45, ?it/s]\n",
      " 34%|███▍      | 320/935 [4:59:32<20:21:50, 119.20s/it]"
     ]
    },
    {
     "name": "stdout",
     "output_type": "stream",
     "text": [
      "file could not be opened successfully:\n",
      "- method gz: ReadError('not a gzip file')\n",
      "- method bz2: ReadError('not a bzip2 file')\n",
      "- method xz: ReadError('not an lzma file')\n",
      "- method tar: ReadError('invalid header')\n",
      "Something goes wrong. Please check the input or concat me to fix this bug. Error message: \n",
      "[Errno 2] No such file or directory: '/home/jihuawei/jhw_pdf_parser/datasets/ArXiv体系/0811.3034/0811.3034.pdf'\n",
      "['https://arxiv.org/abs/0704.2301']\n",
      "Downloading papers...\n"
     ]
    },
    {
     "name": "stderr",
     "output_type": "stream",
     "text": [
      "0it [00:11, ?it/s]\n",
      " 34%|███▍      | 321/935 [4:59:44<14:50:22, 87.01s/it] "
     ]
    },
    {
     "name": "stdout",
     "output_type": "stream",
     "text": [
      "file could not be opened successfully:\n",
      "- method gz: ReadError('invalid header')\n",
      "- method bz2: ReadError('not a bzip2 file')\n",
      "- method xz: ReadError('not an lzma file')\n",
      "- method tar: ReadError('invalid header')\n",
      "Something goes wrong. Please check the input or concat me to fix this bug. Error message: \n",
      "[Errno 2] No such file or directory: '/home/jihuawei/jhw_pdf_parser/datasets/ArXiv体系/0704.2301/0704.2301.pdf'\n",
      "['https://arxiv.org/abs/0704.2517']\n",
      "Downloading papers...\n"
     ]
    },
    {
     "name": "stderr",
     "output_type": "stream",
     "text": [
      "1it [00:46, 46.39s/it]\n",
      " 34%|███▍      | 322/935 [5:00:30<12:44:27, 74.82s/it]"
     ]
    },
    {
     "name": "stdout",
     "output_type": "stream",
     "text": [
      "Finished\n",
      "['https://arxiv.org/abs/2104.05210']\n",
      "Downloading papers...\n"
     ]
    },
    {
     "name": "stderr",
     "output_type": "stream",
     "text": [
      "0it [00:19, ?it/s]\n",
      " 35%|███▍      | 323/935 [5:00:50<9:53:38, 58.20s/it] "
     ]
    },
    {
     "name": "stdout",
     "output_type": "stream",
     "text": [
      "file could not be opened successfully:\n",
      "- method gz: ReadError('invalid header')\n",
      "- method bz2: ReadError('not a bzip2 file')\n",
      "- method xz: ReadError('not an lzma file')\n",
      "- method tar: ReadError('invalid header')\n",
      "Something goes wrong. Please check the input or concat me to fix this bug. Error message: \n",
      "[Errno 2] No such file or directory: '/home/jihuawei/jhw_pdf_parser/datasets/ArXiv体系/2104.05210/2104.05210.pdf'\n",
      "['https://arxiv.org/abs/1411.3247']\n",
      "Downloading papers...\n"
     ]
    },
    {
     "name": "stderr",
     "output_type": "stream",
     "text": [
      "0it [00:05, ?it/s]\n",
      " 35%|███▍      | 324/935 [5:00:56<7:12:47, 42.50s/it]"
     ]
    },
    {
     "name": "stdout",
     "output_type": "stream",
     "text": [
      "file could not be opened successfully:\n",
      "- method gz: ReadError('invalid header')\n",
      "- method bz2: ReadError('not a bzip2 file')\n",
      "- method xz: ReadError('not an lzma file')\n",
      "- method tar: ReadError('invalid header')\n",
      "Something goes wrong. Please check the input or concat me to fix this bug. Error message: \n",
      "[Errno 2] No such file or directory: '/home/jihuawei/jhw_pdf_parser/datasets/ArXiv体系/1411.3247/1411.3247.pdf'\n",
      "['https://arxiv.org/abs/1403.1876']\n",
      "Downloading papers...\n"
     ]
    },
    {
     "name": "stderr",
     "output_type": "stream",
     "text": [
      "1it [00:23, 23.69s/it]\n",
      " 35%|███▍      | 325/935 [5:01:19<6:14:43, 36.86s/it]"
     ]
    },
    {
     "name": "stdout",
     "output_type": "stream",
     "text": [
      "Finished\n",
      "['https://arxiv.org/abs/1307.8066']\n",
      "Downloading papers...\n"
     ]
    },
    {
     "name": "stderr",
     "output_type": "stream",
     "text": [
      "0it [00:18, ?it/s]\n",
      " 35%|███▍      | 326/935 [5:01:38<5:18:53, 31.42s/it]"
     ]
    },
    {
     "name": "stdout",
     "output_type": "stream",
     "text": [
      "file could not be opened successfully:\n",
      "- method gz: ReadError('invalid header')\n",
      "- method bz2: ReadError('not a bzip2 file')\n",
      "- method xz: ReadError('not an lzma file')\n",
      "- method tar: ReadError('invalid header')\n",
      "Something goes wrong. Please check the input or concat me to fix this bug. Error message: \n",
      "[Errno 2] No such file or directory: '/home/jihuawei/jhw_pdf_parser/datasets/ArXiv体系/1307.8066/1307.8066.pdf'\n",
      "['https://arxiv.org/abs/1307.0783']\n",
      "Downloading papers...\n"
     ]
    },
    {
     "name": "stderr",
     "output_type": "stream",
     "text": [
      "1it [00:08,  8.65s/it]\n",
      " 35%|███▍      | 327/935 [5:01:47<4:09:09, 24.59s/it]"
     ]
    },
    {
     "name": "stdout",
     "output_type": "stream",
     "text": [
      "Finished\n",
      "['https://arxiv.org/abs/0903.4836']\n",
      "Downloading papers...\n"
     ]
    },
    {
     "name": "stderr",
     "output_type": "stream",
     "text": [
      "0it [00:17, ?it/s]\n",
      " 35%|███▌      | 328/935 [5:02:04<3:46:56, 22.43s/it]"
     ]
    },
    {
     "name": "stdout",
     "output_type": "stream",
     "text": [
      "file could not be opened successfully:\n",
      "- method gz: ReadError('invalid header')\n",
      "- method bz2: ReadError('not a bzip2 file')\n",
      "- method xz: ReadError('not an lzma file')\n",
      "- method tar: ReadError('invalid header')\n",
      "Something goes wrong. Please check the input or concat me to fix this bug. Error message: \n",
      "[Errno 2] No such file or directory: '/home/jihuawei/jhw_pdf_parser/datasets/ArXiv体系/0903.4836/0903.4836.pdf'\n",
      "['https://arxiv.org/abs/1005.1472']\n",
      "Downloading papers...\n"
     ]
    },
    {
     "name": "stderr",
     "output_type": "stream",
     "text": [
      "0it [00:23, ?it/s]\n",
      " 35%|███▌      | 329/935 [5:02:27<3:48:30, 22.62s/it]"
     ]
    },
    {
     "name": "stdout",
     "output_type": "stream",
     "text": [
      "file could not be opened successfully:\n",
      "- method gz: ReadError('invalid header')\n",
      "- method bz2: ReadError('not a bzip2 file')\n",
      "- method xz: ReadError('not an lzma file')\n",
      "- method tar: ReadError('invalid header')\n",
      "Something goes wrong. Please check the input or concat me to fix this bug. Error message: \n",
      "[Errno 2] No such file or directory: '/home/jihuawei/jhw_pdf_parser/datasets/ArXiv体系/1005.1472/1005.1472.pdf'\n",
      "['https://arxiv.org/abs/2206.01600']\n",
      "Downloading papers...\n"
     ]
    },
    {
     "name": "stderr",
     "output_type": "stream",
     "text": [
      "1it [00:18, 18.49s/it]\n",
      " 35%|███▌      | 330/935 [5:02:46<3:35:38, 21.39s/it]"
     ]
    },
    {
     "name": "stdout",
     "output_type": "stream",
     "text": [
      "Finished\n",
      "['https://arxiv.org/abs/2202.01847']\n",
      "Downloading papers...\n"
     ]
    },
    {
     "name": "stderr",
     "output_type": "stream",
     "text": [
      "0it [00:58, ?it/s]\n",
      " 35%|███▌      | 331/935 [5:03:44<5:26:24, 32.42s/it]"
     ]
    },
    {
     "name": "stdout",
     "output_type": "stream",
     "text": [
      "file could not be opened successfully:\n",
      "- method gz: ReadError('not a gzip file')\n",
      "- method bz2: ReadError('not a bzip2 file')\n",
      "- method xz: ReadError('not an lzma file')\n",
      "- method tar: ReadError('invalid header')\n",
      "Something goes wrong. Please check the input or concat me to fix this bug. Error message: \n",
      "[Errno 2] No such file or directory: '/home/jihuawei/jhw_pdf_parser/datasets/ArXiv体系/2202.01847/2202.01847.pdf'\n",
      "['https://arxiv.org/abs/1806.04712']\n",
      "Downloading papers...\n"
     ]
    },
    {
     "name": "stderr",
     "output_type": "stream",
     "text": [
      "1it [00:37, 37.73s/it]\n",
      " 36%|███▌      | 332/935 [5:04:22<5:41:53, 34.02s/it]"
     ]
    },
    {
     "name": "stdout",
     "output_type": "stream",
     "text": [
      "Finished\n",
      "['https://arxiv.org/abs/2201.07152']\n",
      "Downloading papers...\n"
     ]
    },
    {
     "name": "stderr",
     "output_type": "stream",
     "text": [
      "0it [00:41, ?it/s]\n",
      " 36%|███▌      | 333/935 [5:05:03<6:03:31, 36.23s/it]"
     ]
    },
    {
     "name": "stdout",
     "output_type": "stream",
     "text": [
      "file could not be opened successfully:\n",
      "- method gz: ReadError('not a gzip file')\n",
      "- method bz2: ReadError('not a bzip2 file')\n",
      "- method xz: ReadError('not an lzma file')\n",
      "- method tar: ReadError('invalid header')\n",
      "Something goes wrong. Please check the input or concat me to fix this bug. Error message: \n",
      "[Errno 2] No such file or directory: '/home/jihuawei/jhw_pdf_parser/datasets/ArXiv体系/2201.07152/2201.07152.pdf'\n",
      "['https://arxiv.org/abs/0704.2533']\n",
      "Downloading papers...\n"
     ]
    },
    {
     "name": "stderr",
     "output_type": "stream",
     "text": [
      "1it [00:20, 20.76s/it]\n",
      " 36%|███▌      | 334/935 [5:05:24<5:16:25, 31.59s/it]"
     ]
    },
    {
     "name": "stdout",
     "output_type": "stream",
     "text": [
      "Finished\n",
      "['https://arxiv.org/abs/1901.04223']\n",
      "Downloading papers...\n"
     ]
    },
    {
     "name": "stderr",
     "output_type": "stream",
     "text": [
      "0it [00:24, ?it/s]\n",
      " 36%|███▌      | 335/935 [5:05:48<4:54:18, 29.43s/it]"
     ]
    },
    {
     "name": "stdout",
     "output_type": "stream",
     "text": [
      "file could not be opened successfully:\n",
      "- method gz: ReadError('invalid header')\n",
      "- method bz2: ReadError('not a bzip2 file')\n",
      "- method xz: ReadError('not an lzma file')\n",
      "- method tar: ReadError('invalid header')\n",
      "Something goes wrong. Please check the input or concat me to fix this bug. Error message: \n",
      "[Errno 2] No such file or directory: '/home/jihuawei/jhw_pdf_parser/datasets/ArXiv体系/1901.04223/1901.04223.pdf'\n",
      "['https://arxiv.org/abs/0902.4728']\n",
      "Downloading papers...\n"
     ]
    },
    {
     "name": "stderr",
     "output_type": "stream",
     "text": [
      "0it [00:54, ?it/s]\n",
      " 36%|███▌      | 336/935 [5:06:43<6:09:08, 36.98s/it]"
     ]
    },
    {
     "name": "stdout",
     "output_type": "stream",
     "text": [
      "file could not be opened successfully:\n",
      "- method gz: ReadError('empty file')\n",
      "- method bz2: ReadError('not a bzip2 file')\n",
      "- method xz: ReadError('not an lzma file')\n",
      "- method tar: ReadError('empty file')\n",
      "Something goes wrong. Please check the input or concat me to fix this bug. Error message: \n",
      "[Errno 2] No such file or directory: '/home/jihuawei/jhw_pdf_parser/datasets/ArXiv体系/0902.4728/0902.4728.pdf'\n",
      "['https://arxiv.org/abs/1908.00284']\n",
      "Downloading papers...\n"
     ]
    },
    {
     "name": "stderr",
     "output_type": "stream",
     "text": [
      "1it [00:33, 33.84s/it]\n",
      " 36%|███▌      | 337/935 [5:07:17<5:59:09, 36.04s/it]"
     ]
    },
    {
     "name": "stdout",
     "output_type": "stream",
     "text": [
      "Finished\n",
      "['https://arxiv.org/abs/2211.04136']\n",
      "Downloading papers...\n"
     ]
    },
    {
     "name": "stderr",
     "output_type": "stream",
     "text": [
      "1it [00:44, 44.33s/it]\n",
      " 36%|███▌      | 338/935 [5:08:01<6:23:18, 38.52s/it]"
     ]
    },
    {
     "name": "stdout",
     "output_type": "stream",
     "text": [
      "Finished\n",
      "['https://arxiv.org/abs/1008.4006']\n",
      "Downloading papers...\n"
     ]
    },
    {
     "name": "stderr",
     "output_type": "stream",
     "text": [
      "1it [01:51, 111.33s/it]\n",
      " 36%|███▋      | 339/935 [5:09:52<9:59:39, 60.37s/it]"
     ]
    },
    {
     "name": "stdout",
     "output_type": "stream",
     "text": [
      "Finished\n",
      "['https://arxiv.org/abs/1604.00935']\n",
      "Downloading papers...\n"
     ]
    },
    {
     "name": "stderr",
     "output_type": "stream",
     "text": [
      "1it [06:02, 362.79s/it]\n",
      " 36%|███▋      | 340/935 [5:15:55<24:58:22, 151.10s/it]"
     ]
    },
    {
     "name": "stdout",
     "output_type": "stream",
     "text": [
      "Finished\n",
      "['https://arxiv.org/abs/1111.1036']\n",
      "Downloading papers...\n"
     ]
    },
    {
     "name": "stderr",
     "output_type": "stream",
     "text": [
      "1it [04:52, 292.27s/it]\n",
      " 36%|███▋      | 341/935 [5:20:47<31:55:08, 193.45s/it]"
     ]
    },
    {
     "name": "stdout",
     "output_type": "stream",
     "text": [
      "Finished\n",
      "['https://arxiv.org/abs/2204.11610']\n",
      "Downloading papers...\n"
     ]
    },
    {
     "name": "stderr",
     "output_type": "stream",
     "text": [
      "1it [06:56, 416.55s/it]\n",
      " 37%|███▋      | 342/935 [5:27:44<42:53:25, 260.38s/it]"
     ]
    },
    {
     "name": "stdout",
     "output_type": "stream",
     "text": [
      "Finished\n",
      "['https://arxiv.org/abs/0801.0320']\n",
      "Downloading papers...\n"
     ]
    },
    {
     "name": "stderr",
     "output_type": "stream",
     "text": [
      "0it [00:16, ?it/s]\n",
      " 37%|███▋      | 343/935 [5:28:00<30:46:18, 187.13s/it]"
     ]
    },
    {
     "name": "stdout",
     "output_type": "stream",
     "text": [
      "file could not be opened successfully:\n",
      "- method gz: ReadError('not a gzip file')\n",
      "- method bz2: ReadError('not a bzip2 file')\n",
      "- method xz: ReadError('not an lzma file')\n",
      "- method tar: ReadError('bad checksum')\n",
      "Something goes wrong. Please check the input or concat me to fix this bug. Error message: \n",
      "[Errno 2] No such file or directory: '/home/jihuawei/jhw_pdf_parser/datasets/ArXiv体系/0801.0320/0801.0320.pdf'\n",
      "['https://arxiv.org/abs/2208.08973']\n",
      "Downloading papers...\n"
     ]
    },
    {
     "name": "stderr",
     "output_type": "stream",
     "text": [
      "1it [00:12, 12.10s/it]\n",
      " 37%|███▋      | 344/935 [5:28:12<22:06:00, 134.62s/it]"
     ]
    },
    {
     "name": "stdout",
     "output_type": "stream",
     "text": [
      "Finished\n",
      "['https://arxiv.org/abs/0712.3932']\n",
      "Downloading papers...\n"
     ]
    },
    {
     "name": "stderr",
     "output_type": "stream",
     "text": [
      "0it [00:08, ?it/s]\n",
      " 37%|███▋      | 345/935 [5:28:20<15:50:31, 96.66s/it] "
     ]
    },
    {
     "name": "stdout",
     "output_type": "stream",
     "text": [
      "file could not be opened successfully:\n",
      "- method gz: ReadError('invalid header')\n",
      "- method bz2: ReadError('not a bzip2 file')\n",
      "- method xz: ReadError('not an lzma file')\n",
      "- method tar: ReadError('invalid header')\n",
      "Something goes wrong. Please check the input or concat me to fix this bug. Error message: \n",
      "[Errno 2] No such file or directory: '/home/jihuawei/jhw_pdf_parser/datasets/ArXiv体系/0712.3932/0712.3932.pdf'\n",
      "['https://arxiv.org/abs/1601.05965']\n",
      "Downloading papers...\n"
     ]
    },
    {
     "name": "stderr",
     "output_type": "stream",
     "text": [
      "1it [00:10, 10.43s/it]\n",
      " 37%|███▋      | 346/935 [5:28:31<11:34:58, 70.79s/it]"
     ]
    },
    {
     "name": "stdout",
     "output_type": "stream",
     "text": [
      "Finished\n",
      "['https://arxiv.org/abs/0704.2609']\n",
      "Downloading papers...\n"
     ]
    },
    {
     "name": "stderr",
     "output_type": "stream",
     "text": [
      "0it [00:13, ?it/s]\n",
      " 37%|███▋      | 347/935 [5:28:45<8:46:10, 53.69s/it] "
     ]
    },
    {
     "name": "stdout",
     "output_type": "stream",
     "text": [
      "file could not be opened successfully:\n",
      "- method gz: ReadError('invalid header')\n",
      "- method bz2: ReadError('not a bzip2 file')\n",
      "- method xz: ReadError('not an lzma file')\n",
      "- method tar: ReadError('invalid header')\n",
      "Something goes wrong. Please check the input or concat me to fix this bug. Error message: \n",
      "[Errno 2] No such file or directory: '/home/jihuawei/jhw_pdf_parser/datasets/ArXiv体系/0704.2609/0704.2609.pdf'\n",
      "['https://arxiv.org/abs/1111.3031']\n",
      "Downloading papers...\n"
     ]
    },
    {
     "name": "stderr",
     "output_type": "stream",
     "text": [
      "1it [00:13, 13.04s/it]\n",
      " 37%|███▋      | 348/935 [5:28:58<6:45:59, 41.50s/it]"
     ]
    },
    {
     "name": "stdout",
     "output_type": "stream",
     "text": [
      "Finished\n",
      "['https://arxiv.org/abs/0905.1994']\n",
      "Downloading papers...\n"
     ]
    },
    {
     "name": "stderr",
     "output_type": "stream",
     "text": [
      "0it [00:21, ?it/s]\n",
      " 37%|███▋      | 349/935 [5:29:19<5:46:25, 35.47s/it]"
     ]
    },
    {
     "name": "stdout",
     "output_type": "stream",
     "text": [
      "file could not be opened successfully:\n",
      "- method gz: ReadError('invalid header')\n",
      "- method bz2: ReadError('not a bzip2 file')\n",
      "- method xz: ReadError('not an lzma file')\n",
      "- method tar: ReadError('invalid header')\n",
      "Something goes wrong. Please check the input or concat me to fix this bug. Error message: \n",
      "[Errno 2] No such file or directory: '/home/jihuawei/jhw_pdf_parser/datasets/ArXiv体系/0905.1994/0905.1994.pdf'\n",
      "['https://arxiv.org/abs/0704.2638']\n",
      "Downloading papers...\n"
     ]
    },
    {
     "name": "stderr",
     "output_type": "stream",
     "text": [
      "0it [00:16, ?it/s]\n",
      " 37%|███▋      | 350/935 [5:29:35<4:48:56, 29.64s/it]"
     ]
    },
    {
     "name": "stdout",
     "output_type": "stream",
     "text": [
      "file could not be opened successfully:\n",
      "- method gz: ReadError('invalid header')\n",
      "- method bz2: ReadError('not a bzip2 file')\n",
      "- method xz: ReadError('not an lzma file')\n",
      "- method tar: ReadError('invalid header')\n",
      "Something goes wrong. Please check the input or concat me to fix this bug. Error message: \n",
      "[Errno 2] No such file or directory: '/home/jihuawei/jhw_pdf_parser/datasets/ArXiv体系/0704.2638/0704.2638.pdf'\n",
      "['https://arxiv.org/abs/1911.08766']\n",
      "Downloading papers...\n"
     ]
    },
    {
     "name": "stderr",
     "output_type": "stream",
     "text": [
      "0it [00:30, ?it/s]\n",
      " 38%|███▊      | 351/935 [5:30:05<4:50:48, 29.88s/it]"
     ]
    },
    {
     "name": "stdout",
     "output_type": "stream",
     "text": [
      "file could not be opened successfully:\n",
      "- method gz: ReadError('invalid header')\n",
      "- method bz2: ReadError('not a bzip2 file')\n",
      "- method xz: ReadError('not an lzma file')\n",
      "- method tar: ReadError('invalid header')\n",
      "Something goes wrong. Please check the input or concat me to fix this bug. Error message: \n",
      "[Errno 2] No such file or directory: '/home/jihuawei/jhw_pdf_parser/datasets/ArXiv体系/1911.08766/1911.08766.pdf'\n",
      "['https://arxiv.org/abs/1205.0743']\n",
      "Downloading papers...\n"
     ]
    },
    {
     "name": "stderr",
     "output_type": "stream",
     "text": [
      "0it [00:15, ?it/s]\n",
      " 38%|███▊      | 352/935 [5:30:20<4:06:58, 25.42s/it]"
     ]
    },
    {
     "name": "stdout",
     "output_type": "stream",
     "text": [
      "file could not be opened successfully:\n",
      "- method gz: ReadError('invalid header')\n",
      "- method bz2: ReadError('not a bzip2 file')\n",
      "- method xz: ReadError('not an lzma file')\n",
      "- method tar: ReadError('invalid header')\n",
      "Something goes wrong. Please check the input or concat me to fix this bug. Error message: \n",
      "[Errno 2] No such file or directory: '/home/jihuawei/jhw_pdf_parser/datasets/ArXiv体系/1205.0743/1205.0743.pdf'\n",
      "['https://arxiv.org/abs/2301.06823']\n",
      "Downloading papers...\n"
     ]
    },
    {
     "name": "stderr",
     "output_type": "stream",
     "text": [
      "1it [00:36, 36.30s/it]\n",
      " 38%|███▊      | 353/935 [5:30:57<4:38:14, 28.68s/it]"
     ]
    },
    {
     "name": "stdout",
     "output_type": "stream",
     "text": [
      "Finished\n",
      "['https://arxiv.org/abs/1502.01149']\n",
      "Downloading papers...\n"
     ]
    },
    {
     "name": "stderr",
     "output_type": "stream",
     "text": [
      "0it [00:07, ?it/s]\n",
      " 38%|███▊      | 354/935 [5:31:05<3:37:25, 22.45s/it]"
     ]
    },
    {
     "name": "stdout",
     "output_type": "stream",
     "text": [
      "file could not be opened successfully:\n",
      "- method gz: ReadError('invalid header')\n",
      "- method bz2: ReadError('not a bzip2 file')\n",
      "- method xz: ReadError('not an lzma file')\n",
      "- method tar: ReadError('invalid header')\n",
      "Something goes wrong. Please check the input or concat me to fix this bug. Error message: \n",
      "[Errno 2] No such file or directory: '/home/jihuawei/jhw_pdf_parser/datasets/ArXiv体系/1502.01149/1502.01149.pdf'\n",
      "['https://arxiv.org/abs/1910.02899']\n",
      "Downloading papers...\n"
     ]
    },
    {
     "name": "stderr",
     "output_type": "stream",
     "text": [
      "1it [01:00, 60.61s/it]\n",
      " 38%|███▊      | 355/935 [5:32:05<5:27:43, 33.90s/it]"
     ]
    },
    {
     "name": "stdout",
     "output_type": "stream",
     "text": [
      "Finished\n",
      "['https://arxiv.org/abs/1904.00901']\n",
      "Downloading papers...\n"
     ]
    },
    {
     "name": "stderr",
     "output_type": "stream",
     "text": [
      "1it [01:18, 78.75s/it]\n",
      " 38%|███▊      | 356/935 [5:33:24<7:37:00, 47.36s/it]"
     ]
    },
    {
     "name": "stdout",
     "output_type": "stream",
     "text": [
      "Finished\n",
      "['https://arxiv.org/abs/2108.09452']\n",
      "Downloading papers...\n"
     ]
    },
    {
     "name": "stderr",
     "output_type": "stream",
     "text": [
      "1it [01:37, 97.43s/it]\n",
      " 38%|███▊      | 357/935 [5:35:01<10:00:56, 62.38s/it]"
     ]
    },
    {
     "name": "stdout",
     "output_type": "stream",
     "text": [
      "Finished\n",
      "['https://arxiv.org/abs/1512.04031']\n",
      "Downloading papers...\n"
     ]
    },
    {
     "name": "stderr",
     "output_type": "stream",
     "text": [
      "0it [00:21, ?it/s]\n",
      " 38%|███▊      | 358/935 [5:35:23<8:02:42, 50.20s/it] "
     ]
    },
    {
     "name": "stdout",
     "output_type": "stream",
     "text": [
      "file could not be opened successfully:\n",
      "- method gz: ReadError('invalid header')\n",
      "- method bz2: ReadError('not a bzip2 file')\n",
      "- method xz: ReadError('not an lzma file')\n",
      "- method tar: ReadError('invalid header')\n",
      "Something goes wrong. Please check the input or concat me to fix this bug. Error message: \n",
      "[Errno 2] No such file or directory: '/home/jihuawei/jhw_pdf_parser/datasets/ArXiv体系/1512.04031/1512.04031.pdf'\n",
      "['https://arxiv.org/abs/2207.04079']\n",
      "Downloading papers...\n"
     ]
    },
    {
     "name": "stderr",
     "output_type": "stream",
     "text": [
      "0it [00:35, ?it/s]\n",
      " 38%|███▊      | 359/935 [5:35:59<7:19:54, 45.82s/it]"
     ]
    },
    {
     "name": "stdout",
     "output_type": "stream",
     "text": [
      "file could not be opened successfully:\n",
      "- method gz: ReadError('invalid header')\n",
      "- method bz2: ReadError('not a bzip2 file')\n",
      "- method xz: ReadError('not an lzma file')\n",
      "- method tar: ReadError('invalid header')\n",
      "Something goes wrong. Please check the input or concat me to fix this bug. Error message: \n",
      "[Errno 2] No such file or directory: '/home/jihuawei/jhw_pdf_parser/datasets/ArXiv体系/2207.04079/2207.04079.pdf'\n",
      "['https://arxiv.org/abs/1010.0979']\n",
      "Downloading papers...\n"
     ]
    },
    {
     "name": "stderr",
     "output_type": "stream",
     "text": [
      "0it [00:08, ?it/s]\n",
      " 39%|███▊      | 360/935 [5:36:08<5:33:15, 34.77s/it]"
     ]
    },
    {
     "name": "stdout",
     "output_type": "stream",
     "text": [
      "file could not be opened successfully:\n",
      "- method gz: ReadError('not a gzip file')\n",
      "- method bz2: ReadError('not a bzip2 file')\n",
      "- method xz: ReadError('not an lzma file')\n",
      "- method tar: ReadError('invalid header')\n",
      "Something goes wrong. Please check the input or concat me to fix this bug. Error message: \n",
      "[Errno 2] No such file or directory: '/home/jihuawei/jhw_pdf_parser/datasets/ArXiv体系/1010.0979/1010.0979.pdf'\n",
      "['https://arxiv.org/abs/0704.3783']\n",
      "Downloading papers...\n"
     ]
    },
    {
     "name": "stderr",
     "output_type": "stream",
     "text": [
      "0it [00:19, ?it/s]\n",
      " 39%|███▊      | 361/935 [5:36:27<4:48:17, 30.14s/it]"
     ]
    },
    {
     "name": "stdout",
     "output_type": "stream",
     "text": [
      "file could not be opened successfully:\n",
      "- method gz: ReadError('invalid header')\n",
      "- method bz2: ReadError('not a bzip2 file')\n",
      "- method xz: ReadError('not an lzma file')\n",
      "- method tar: ReadError('invalid header')\n",
      "Something goes wrong. Please check the input or concat me to fix this bug. Error message: \n",
      "[Errno 2] No such file or directory: '/home/jihuawei/jhw_pdf_parser/datasets/ArXiv体系/0704.3783/0704.3783.pdf'\n",
      "['https://arxiv.org/abs/1706.01297']\n",
      "Downloading papers...\n"
     ]
    },
    {
     "name": "stderr",
     "output_type": "stream",
     "text": [
      "0it [00:15, ?it/s]\n",
      " 39%|███▊      | 362/935 [5:36:42<4:04:43, 25.63s/it]"
     ]
    },
    {
     "name": "stdout",
     "output_type": "stream",
     "text": [
      "file could not be opened successfully:\n",
      "- method gz: ReadError('invalid header')\n",
      "- method bz2: ReadError('not a bzip2 file')\n",
      "- method xz: ReadError('not an lzma file')\n",
      "- method tar: ReadError('invalid header')\n",
      "Something goes wrong. Please check the input or concat me to fix this bug. Error message: \n",
      "[Errno 2] No such file or directory: '/home/jihuawei/jhw_pdf_parser/datasets/ArXiv体系/1706.01297/1706.01297.pdf'\n",
      "['https://arxiv.org/abs/2112.07208']\n",
      "Downloading papers...\n"
     ]
    },
    {
     "name": "stderr",
     "output_type": "stream",
     "text": [
      "0it [00:28, ?it/s]\n",
      " 39%|███▉      | 363/935 [5:37:11<4:13:42, 26.61s/it]"
     ]
    },
    {
     "name": "stdout",
     "output_type": "stream",
     "text": [
      "file could not be opened successfully:\n",
      "- method gz: ReadError('not a gzip file')\n",
      "- method bz2: ReadError('not a bzip2 file')\n",
      "- method xz: ReadError('not an lzma file')\n",
      "- method tar: ReadError('invalid header')\n",
      "Something goes wrong. Please check the input or concat me to fix this bug. Error message: \n",
      "[Errno 2] No such file or directory: '/home/jihuawei/jhw_pdf_parser/datasets/ArXiv体系/2112.07208/2112.07208.pdf'\n",
      "['https://arxiv.org/abs/1507.07082']\n",
      "Downloading papers...\n"
     ]
    },
    {
     "name": "stderr",
     "output_type": "stream",
     "text": [
      "1it [00:15, 15.42s/it]\n",
      " 39%|███▉      | 364/935 [5:37:27<3:41:19, 23.26s/it]"
     ]
    },
    {
     "name": "stdout",
     "output_type": "stream",
     "text": [
      "Finished\n",
      "['https://arxiv.org/abs/2110.14075']\n",
      "Downloading papers...\n"
     ]
    },
    {
     "name": "stderr",
     "output_type": "stream",
     "text": [
      "0it [00:17, ?it/s]\n",
      " 39%|███▉      | 365/935 [5:37:44<3:25:08, 21.59s/it]"
     ]
    },
    {
     "name": "stdout",
     "output_type": "stream",
     "text": [
      "file could not be opened successfully:\n",
      "- method gz: ReadError('invalid header')\n",
      "- method bz2: ReadError('not a bzip2 file')\n",
      "- method xz: ReadError('not an lzma file')\n",
      "- method tar: ReadError('invalid header')\n",
      "Something goes wrong. Please check the input or concat me to fix this bug. Error message: \n",
      "[Errno 2] No such file or directory: '/home/jihuawei/jhw_pdf_parser/datasets/ArXiv体系/2110.14075/2110.14075.pdf'\n",
      "['https://arxiv.org/abs/1104.0368']\n",
      "Downloading papers...\n"
     ]
    },
    {
     "name": "stderr",
     "output_type": "stream",
     "text": [
      "1it [00:28, 28.94s/it]\n",
      " 39%|███▉      | 366/935 [5:38:13<3:45:42, 23.80s/it]"
     ]
    },
    {
     "name": "stdout",
     "output_type": "stream",
     "text": [
      "Finished\n",
      "['https://arxiv.org/abs/1001.4085']\n",
      "Downloading papers...\n"
     ]
    },
    {
     "name": "stderr",
     "output_type": "stream",
     "text": [
      "1it [00:10, 10.31s/it]\n",
      " 39%|███▉      | 367/935 [5:38:24<3:06:59, 19.75s/it]"
     ]
    },
    {
     "name": "stdout",
     "output_type": "stream",
     "text": [
      "Finished\n",
      "['https://arxiv.org/abs/0707.2885']\n",
      "Downloading papers...\n"
     ]
    },
    {
     "name": "stderr",
     "output_type": "stream",
     "text": [
      "0it [00:12, ?it/s]\n",
      " 39%|███▉      | 368/935 [5:38:36<2:46:01, 17.57s/it]"
     ]
    },
    {
     "name": "stdout",
     "output_type": "stream",
     "text": [
      "file could not be opened successfully:\n",
      "- method gz: ReadError('invalid header')\n",
      "- method bz2: ReadError('not a bzip2 file')\n",
      "- method xz: ReadError('not an lzma file')\n",
      "- method tar: ReadError('invalid header')\n",
      "Something goes wrong. Please check the input or concat me to fix this bug. Error message: \n",
      "[Errno 2] No such file or directory: '/home/jihuawei/jhw_pdf_parser/datasets/ArXiv体系/0707.2885/0707.2885.pdf'\n",
      "['https://arxiv.org/abs/1609.03343']\n",
      "Downloading papers...\n"
     ]
    },
    {
     "name": "stderr",
     "output_type": "stream",
     "text": [
      "1it [00:28, 28.76s/it]\n",
      " 39%|███▉      | 369/935 [5:39:05<3:17:25, 20.93s/it]"
     ]
    },
    {
     "name": "stdout",
     "output_type": "stream",
     "text": [
      "Finished\n",
      "['https://arxiv.org/abs/2007.07951']\n",
      "Downloading papers...\n"
     ]
    },
    {
     "name": "stderr",
     "output_type": "stream",
     "text": [
      "1it [00:40, 40.45s/it]\n",
      " 40%|███▉      | 370/935 [5:39:45<4:12:14, 26.79s/it]"
     ]
    },
    {
     "name": "stdout",
     "output_type": "stream",
     "text": [
      "Finished\n",
      "['https://arxiv.org/abs/1010.2634']\n",
      "Downloading papers...\n"
     ]
    },
    {
     "name": "stderr",
     "output_type": "stream",
     "text": [
      "1it [00:28, 28.59s/it]\n",
      " 40%|███▉      | 371/935 [5:40:14<4:16:53, 27.33s/it]"
     ]
    },
    {
     "name": "stdout",
     "output_type": "stream",
     "text": [
      "Finished\n",
      "['https://arxiv.org/abs/1608.05872']\n",
      "Downloading papers...\n"
     ]
    },
    {
     "name": "stderr",
     "output_type": "stream",
     "text": [
      "0it [00:18, ?it/s]\n",
      " 40%|███▉      | 372/935 [5:40:33<3:52:44, 24.80s/it]"
     ]
    },
    {
     "name": "stdout",
     "output_type": "stream",
     "text": [
      "file could not be opened successfully:\n",
      "- method gz: ReadError('invalid header')\n",
      "- method bz2: ReadError('not a bzip2 file')\n",
      "- method xz: ReadError('not an lzma file')\n",
      "- method tar: ReadError('invalid header')\n",
      "Something goes wrong. Please check the input or concat me to fix this bug. Error message: \n",
      "[Errno 2] No such file or directory: '/home/jihuawei/jhw_pdf_parser/datasets/ArXiv体系/1608.05872/1608.05872.pdf'\n",
      "['https://arxiv.org/abs/0704.2733']\n",
      "Downloading papers...\n"
     ]
    },
    {
     "name": "stderr",
     "output_type": "stream",
     "text": [
      "0it [00:13, ?it/s]\n",
      " 40%|███▉      | 373/935 [5:40:46<3:19:32, 21.30s/it]"
     ]
    },
    {
     "name": "stdout",
     "output_type": "stream",
     "text": [
      "file could not be opened successfully:\n",
      "- method gz: ReadError('invalid header')\n",
      "- method bz2: ReadError('not a bzip2 file')\n",
      "- method xz: ReadError('not an lzma file')\n",
      "- method tar: ReadError('invalid header')\n",
      "Something goes wrong. Please check the input or concat me to fix this bug. Error message: \n",
      "[Errno 2] No such file or directory: '/home/jihuawei/jhw_pdf_parser/datasets/ArXiv体系/0704.2733/0704.2733.pdf'\n",
      "['https://arxiv.org/abs/2007.01328']\n",
      "Downloading papers...\n"
     ]
    },
    {
     "name": "stderr",
     "output_type": "stream",
     "text": [
      "1it [01:43, 103.66s/it]\n",
      " 40%|████      | 374/935 [5:42:30<7:10:13, 46.01s/it]"
     ]
    },
    {
     "name": "stdout",
     "output_type": "stream",
     "text": [
      "Finished\n",
      "['https://arxiv.org/abs/1704.07407']\n",
      "Downloading papers...\n"
     ]
    },
    {
     "name": "stderr",
     "output_type": "stream",
     "text": [
      "0it [03:38, ?it/s]\n",
      " 40%|████      | 375/935 [5:46:08<15:11:40, 97.68s/it]"
     ]
    },
    {
     "name": "stdout",
     "output_type": "stream",
     "text": [
      "file could not be opened successfully:\n",
      "- method gz: ReadError('not a gzip file')\n",
      "- method bz2: ReadError('not a bzip2 file')\n",
      "- method xz: ReadError('not an lzma file')\n",
      "- method tar: ReadError('invalid header')\n",
      "Something goes wrong. Please check the input or concat me to fix this bug. Error message: \n",
      "[Errno 2] No such file or directory: '/home/jihuawei/jhw_pdf_parser/datasets/ArXiv体系/1704.07407/1704.07407.pdf'\n",
      "['https://arxiv.org/abs/1104.4292']\n",
      "Downloading papers...\n"
     ]
    },
    {
     "name": "stderr",
     "output_type": "stream",
     "text": [
      "1it [00:55, 55.08s/it]\n",
      " 40%|████      | 376/935 [5:47:03<13:10:59, 84.90s/it]"
     ]
    },
    {
     "name": "stdout",
     "output_type": "stream",
     "text": [
      "Finished\n",
      "['https://arxiv.org/abs/1703.04852']\n",
      "Downloading papers...\n"
     ]
    },
    {
     "name": "stderr",
     "output_type": "stream",
     "text": [
      "1it [10:46, 646.49s/it]\n",
      " 40%|████      | 377/935 [5:57:49<39:16:26, 253.38s/it]"
     ]
    },
    {
     "name": "stdout",
     "output_type": "stream",
     "text": [
      "Finished\n",
      "['https://arxiv.org/abs/0704.2824']\n",
      "Downloading papers...\n"
     ]
    },
    {
     "name": "stderr",
     "output_type": "stream",
     "text": [
      "0it [00:08, ?it/s]\n",
      " 40%|████      | 378/935 [5:57:58<27:49:50, 179.88s/it]"
     ]
    },
    {
     "name": "stdout",
     "output_type": "stream",
     "text": [
      "file could not be opened successfully:\n",
      "- method gz: ReadError('invalid header')\n",
      "- method bz2: ReadError('not a bzip2 file')\n",
      "- method xz: ReadError('not an lzma file')\n",
      "- method tar: ReadError('invalid header')\n",
      "Something goes wrong. Please check the input or concat me to fix this bug. Error message: \n",
      "[Errno 2] No such file or directory: '/home/jihuawei/jhw_pdf_parser/datasets/ArXiv体系/0704.2824/0704.2824.pdf'\n",
      "['https://arxiv.org/abs/1112.0830']\n",
      "Downloading papers...\n"
     ]
    },
    {
     "name": "stderr",
     "output_type": "stream",
     "text": [
      "0it [00:10, ?it/s]\n",
      " 41%|████      | 379/935 [5:58:08<19:55:22, 129.00s/it]"
     ]
    },
    {
     "name": "stdout",
     "output_type": "stream",
     "text": [
      "file could not be opened successfully:\n",
      "- method gz: ReadError('invalid header')\n",
      "- method bz2: ReadError('not a bzip2 file')\n",
      "- method xz: ReadError('not an lzma file')\n",
      "- method tar: ReadError('invalid header')\n",
      "Something goes wrong. Please check the input or concat me to fix this bug. Error message: \n",
      "[Errno 2] No such file or directory: '/home/jihuawei/jhw_pdf_parser/datasets/ArXiv体系/1112.0830/1112.0830.pdf'\n",
      "['https://arxiv.org/abs/2007.02533']\n",
      "Downloading papers...\n"
     ]
    },
    {
     "name": "stderr",
     "output_type": "stream",
     "text": [
      "1it [00:15, 15.78s/it]\n",
      " 41%|████      | 380/935 [5:58:24<14:39:03, 95.03s/it] "
     ]
    },
    {
     "name": "stdout",
     "output_type": "stream",
     "text": [
      "Finished\n",
      "['https://arxiv.org/abs/0812.4059']\n",
      "Downloading papers...\n"
     ]
    },
    {
     "name": "stderr",
     "output_type": "stream",
     "text": [
      "1it [00:14, 14.20s/it]\n",
      " 41%|████      | 381/935 [5:58:38<10:53:34, 70.78s/it]"
     ]
    },
    {
     "name": "stdout",
     "output_type": "stream",
     "text": [
      "Finished\n",
      "['https://arxiv.org/abs/2111.14042']\n",
      "Downloading papers...\n"
     ]
    },
    {
     "name": "stderr",
     "output_type": "stream",
     "text": [
      "1it [00:09,  9.79s/it]\n",
      " 41%|████      | 382/935 [5:58:48<8:03:45, 52.49s/it] "
     ]
    },
    {
     "name": "stdout",
     "output_type": "stream",
     "text": [
      "Finished\n",
      "['https://arxiv.org/abs/1004.3484']\n",
      "Downloading papers...\n"
     ]
    },
    {
     "name": "stderr",
     "output_type": "stream",
     "text": [
      "0it [00:14, ?it/s]\n",
      " 41%|████      | 383/935 [5:59:02<6:17:19, 41.01s/it]"
     ]
    },
    {
     "name": "stdout",
     "output_type": "stream",
     "text": [
      "file could not be opened successfully:\n",
      "- method gz: ReadError('invalid header')\n",
      "- method bz2: ReadError('not a bzip2 file')\n",
      "- method xz: ReadError('not an lzma file')\n",
      "- method tar: ReadError('invalid header')\n",
      "Something goes wrong. Please check the input or concat me to fix this bug. Error message: \n",
      "[Errno 2] No such file or directory: '/home/jihuawei/jhw_pdf_parser/datasets/ArXiv体系/1004.3484/1004.3484.pdf'\n",
      "['https://arxiv.org/abs/0709.3215']\n",
      "Downloading papers...\n"
     ]
    },
    {
     "name": "stderr",
     "output_type": "stream",
     "text": [
      "0it [00:12, ?it/s]\n",
      " 41%|████      | 384/935 [5:59:15<4:58:15, 32.48s/it]"
     ]
    },
    {
     "name": "stdout",
     "output_type": "stream",
     "text": [
      "file could not be opened successfully:\n",
      "- method gz: ReadError('invalid header')\n",
      "- method bz2: ReadError('not a bzip2 file')\n",
      "- method xz: ReadError('not an lzma file')\n",
      "- method tar: ReadError('invalid header')\n",
      "Something goes wrong. Please check the input or concat me to fix this bug. Error message: \n",
      "[Errno 2] No such file or directory: '/home/jihuawei/jhw_pdf_parser/datasets/ArXiv体系/0709.3215/0709.3215.pdf'\n",
      "['https://arxiv.org/abs/1707.01019']\n",
      "Downloading papers...\n"
     ]
    },
    {
     "name": "stderr",
     "output_type": "stream",
     "text": [
      "0it [00:11, ?it/s]\n",
      " 41%|████      | 385/935 [5:59:26<3:59:50, 26.16s/it]"
     ]
    },
    {
     "name": "stdout",
     "output_type": "stream",
     "text": [
      "file could not be opened successfully:\n",
      "- method gz: ReadError('invalid header')\n",
      "- method bz2: ReadError('not a bzip2 file')\n",
      "- method xz: ReadError('not an lzma file')\n",
      "- method tar: ReadError('invalid header')\n",
      "Something goes wrong. Please check the input or concat me to fix this bug. Error message: \n",
      "[Errno 2] No such file or directory: '/home/jihuawei/jhw_pdf_parser/datasets/ArXiv体系/1707.01019/1707.01019.pdf'\n",
      "['https://arxiv.org/abs/2007.09948']\n",
      "Downloading papers...\n"
     ]
    },
    {
     "name": "stderr",
     "output_type": "stream",
     "text": [
      "1it [01:53, 113.34s/it]\n",
      " 41%|████▏     | 386/935 [6:01:19<7:58:42, 52.32s/it]"
     ]
    },
    {
     "name": "stdout",
     "output_type": "stream",
     "text": [
      "Finished\n",
      "['https://arxiv.org/abs/1106.1747']\n",
      "Downloading papers...\n"
     ]
    },
    {
     "name": "stderr",
     "output_type": "stream",
     "text": [
      "0it [00:14, ?it/s]\n",
      " 41%|████▏     | 387/935 [6:01:34<6:13:33, 40.90s/it]"
     ]
    },
    {
     "name": "stdout",
     "output_type": "stream",
     "text": [
      "file could not be opened successfully:\n",
      "- method gz: ReadError('invalid header')\n",
      "- method bz2: ReadError('not a bzip2 file')\n",
      "- method xz: ReadError('not an lzma file')\n",
      "- method tar: ReadError('invalid header')\n",
      "Something goes wrong. Please check the input or concat me to fix this bug. Error message: \n",
      "[Errno 2] No such file or directory: '/home/jihuawei/jhw_pdf_parser/datasets/ArXiv体系/1106.1747/1106.1747.pdf'\n",
      "['https://arxiv.org/abs/2002.11437']\n",
      "Downloading papers...\n"
     ]
    },
    {
     "name": "stderr",
     "output_type": "stream",
     "text": [
      "1it [00:28, 28.71s/it]\n",
      " 41%|████▏     | 388/935 [6:02:02<5:39:32, 37.24s/it]"
     ]
    },
    {
     "name": "stdout",
     "output_type": "stream",
     "text": [
      "Finished\n",
      "['https://arxiv.org/abs/1404.6788']\n",
      "Downloading papers...\n"
     ]
    },
    {
     "name": "stderr",
     "output_type": "stream",
     "text": [
      "1it [00:15, 15.76s/it]\n",
      " 42%|████▏     | 389/935 [6:02:18<4:40:17, 30.80s/it]"
     ]
    },
    {
     "name": "stdout",
     "output_type": "stream",
     "text": [
      "Finished\n",
      "['https://arxiv.org/abs/1604.04968']\n",
      "Downloading papers...\n"
     ]
    },
    {
     "name": "stderr",
     "output_type": "stream",
     "text": [
      "1it [01:46, 106.27s/it]\n",
      " 42%|████▏     | 390/935 [6:04:04<8:05:26, 53.44s/it]"
     ]
    },
    {
     "name": "stdout",
     "output_type": "stream",
     "text": [
      "Finished\n",
      "['https://arxiv.org/abs/0812.2724']\n",
      "Downloading papers...\n"
     ]
    },
    {
     "name": "stderr",
     "output_type": "stream",
     "text": [
      "0it [00:17, ?it/s]\n",
      " 42%|████▏     | 391/935 [6:04:22<6:28:05, 42.80s/it]"
     ]
    },
    {
     "name": "stdout",
     "output_type": "stream",
     "text": [
      "file could not be opened successfully:\n",
      "- method gz: ReadError('not a gzip file')\n",
      "- method bz2: ReadError('not a bzip2 file')\n",
      "- method xz: ReadError('not an lzma file')\n",
      "- method tar: ReadError('invalid header')\n",
      "Something goes wrong. Please check the input or concat me to fix this bug. Error message: \n",
      "[Errno 2] No such file or directory: '/home/jihuawei/jhw_pdf_parser/datasets/ArXiv体系/0812.2724/0812.2724.pdf'\n",
      "['https://arxiv.org/abs/0704.2852']\n",
      "Downloading papers...\n"
     ]
    },
    {
     "name": "stderr",
     "output_type": "stream",
     "text": [
      "1it [00:14, 14.99s/it]\n",
      " 42%|████▏     | 392/935 [6:04:37<5:11:52, 34.46s/it]"
     ]
    },
    {
     "name": "stdout",
     "output_type": "stream",
     "text": [
      "Finished\n",
      "['https://arxiv.org/abs/1612.07525']\n",
      "Downloading papers...\n"
     ]
    },
    {
     "name": "stderr",
     "output_type": "stream",
     "text": [
      "1it [00:40, 40.69s/it]\n",
      " 42%|████▏     | 393/935 [6:05:18<5:28:12, 36.33s/it]"
     ]
    },
    {
     "name": "stdout",
     "output_type": "stream",
     "text": [
      "Finished\n",
      "['https://arxiv.org/abs/1309.6658']\n",
      "Downloading papers...\n"
     ]
    },
    {
     "name": "stderr",
     "output_type": "stream",
     "text": [
      "1it [03:04, 184.02s/it]\n",
      " 42%|████▏     | 394/935 [6:08:22<12:07:05, 80.64s/it]"
     ]
    },
    {
     "name": "stdout",
     "output_type": "stream",
     "text": [
      "Finished\n",
      "['https://arxiv.org/abs/2307.09984']\n",
      "Downloading papers...\n"
     ]
    },
    {
     "name": "stderr",
     "output_type": "stream",
     "text": [
      "0it [04:53, ?it/s]\n",
      " 42%|████▏     | 395/935 [6:13:16<21:40:23, 144.49s/it]"
     ]
    },
    {
     "name": "stdout",
     "output_type": "stream",
     "text": [
      "file could not be opened successfully:\n",
      "- method gz: ReadError('not a gzip file')\n",
      "- method bz2: ReadError('not a bzip2 file')\n",
      "- method xz: ReadError('not an lzma file')\n",
      "- method tar: ReadError('invalid header')\n",
      "Something goes wrong. Please check the input or concat me to fix this bug. Error message: \n",
      "[Errno 2] No such file or directory: '/home/jihuawei/jhw_pdf_parser/datasets/ArXiv体系/2307.09984/2307.09984.pdf'\n",
      "['https://arxiv.org/abs/2107.07535']\n",
      "Downloading papers...\n"
     ]
    },
    {
     "name": "stderr",
     "output_type": "stream",
     "text": [
      "1it [00:27, 27.47s/it]\n",
      " 42%|████▏     | 396/935 [6:13:43<16:22:38, 109.39s/it]"
     ]
    },
    {
     "name": "stdout",
     "output_type": "stream",
     "text": [
      "Finished\n",
      "['https://arxiv.org/abs/0704.2865']\n",
      "Downloading papers...\n"
     ]
    },
    {
     "name": "stderr",
     "output_type": "stream",
     "text": [
      "0it [00:07, ?it/s]\n",
      " 42%|████▏     | 397/935 [6:13:50<11:46:23, 78.78s/it] "
     ]
    },
    {
     "name": "stdout",
     "output_type": "stream",
     "text": [
      "file could not be opened successfully:\n",
      "- method gz: ReadError('invalid header')\n",
      "- method bz2: ReadError('not a bzip2 file')\n",
      "- method xz: ReadError('not an lzma file')\n",
      "- method tar: ReadError('invalid header')\n",
      "Something goes wrong. Please check the input or concat me to fix this bug. Error message: \n",
      "[Errno 2] No such file or directory: '/home/jihuawei/jhw_pdf_parser/datasets/ArXiv体系/0704.2865/0704.2865.pdf'\n",
      "['https://arxiv.org/abs/0704.2902']\n",
      "Downloading papers...\n"
     ]
    },
    {
     "name": "stderr",
     "output_type": "stream",
     "text": [
      "1it [00:07,  7.67s/it]\n",
      " 43%|████▎     | 398/935 [6:13:58<8:34:09, 57.45s/it] "
     ]
    },
    {
     "name": "stdout",
     "output_type": "stream",
     "text": [
      "Finished\n",
      "['https://arxiv.org/abs/1505.04821']\n",
      "Downloading papers...\n"
     ]
    },
    {
     "name": "stderr",
     "output_type": "stream",
     "text": [
      "0it [00:14, ?it/s]\n",
      " 43%|████▎     | 399/935 [6:14:13<6:38:52, 44.65s/it]"
     ]
    },
    {
     "name": "stdout",
     "output_type": "stream",
     "text": [
      "file could not be opened successfully:\n",
      "- method gz: ReadError('invalid header')\n",
      "- method bz2: ReadError('not a bzip2 file')\n",
      "- method xz: ReadError('not an lzma file')\n",
      "- method tar: ReadError('invalid header')\n",
      "Something goes wrong. Please check the input or concat me to fix this bug. Error message: \n",
      "[Errno 2] No such file or directory: '/home/jihuawei/jhw_pdf_parser/datasets/ArXiv体系/1505.04821/1505.04821.pdf'\n",
      "['https://arxiv.org/abs/1903.01682']\n",
      "Downloading papers...\n"
     ]
    },
    {
     "name": "stderr",
     "output_type": "stream",
     "text": [
      "1it [00:31, 31.50s/it]\n",
      " 43%|████▎     | 400/935 [6:14:44<6:02:57, 40.71s/it]"
     ]
    },
    {
     "name": "stdout",
     "output_type": "stream",
     "text": [
      "Finished\n",
      "['https://arxiv.org/abs/2212.08207']\n",
      "Downloading papers...\n"
     ]
    },
    {
     "name": "stderr",
     "output_type": "stream",
     "text": [
      "0it [00:15, ?it/s]\n",
      " 43%|████▎     | 401/935 [6:14:59<4:53:40, 33.00s/it]"
     ]
    },
    {
     "name": "stdout",
     "output_type": "stream",
     "text": [
      "file could not be opened successfully:\n",
      "- method gz: ReadError('invalid header')\n",
      "- method bz2: ReadError('not a bzip2 file')\n",
      "- method xz: ReadError('not an lzma file')\n",
      "- method tar: ReadError('invalid header')\n",
      "Something goes wrong. Please check the input or concat me to fix this bug. Error message: \n",
      "[Errno 2] No such file or directory: '/home/jihuawei/jhw_pdf_parser/datasets/ArXiv体系/2212.08207/2212.08207.pdf'\n",
      "['https://arxiv.org/abs/0807.0756']\n",
      "Downloading papers...\n"
     ]
    },
    {
     "name": "stderr",
     "output_type": "stream",
     "text": [
      "0it [00:12, ?it/s]\n",
      " 43%|████▎     | 402/935 [6:15:12<3:57:27, 26.73s/it]"
     ]
    },
    {
     "name": "stdout",
     "output_type": "stream",
     "text": [
      "file could not be opened successfully:\n",
      "- method gz: ReadError('invalid header')\n",
      "- method bz2: ReadError('not a bzip2 file')\n",
      "- method xz: ReadError('not an lzma file')\n",
      "- method tar: ReadError('invalid header')\n",
      "Something goes wrong. Please check the input or concat me to fix this bug. Error message: \n",
      "[Errno 2] No such file or directory: '/home/jihuawei/jhw_pdf_parser/datasets/ArXiv体系/0807.0756/0807.0756.pdf'\n",
      "['https://arxiv.org/abs/2006.09305']\n",
      "Downloading papers...\n"
     ]
    },
    {
     "name": "stderr",
     "output_type": "stream",
     "text": [
      "0it [00:25, ?it/s]\n",
      " 43%|████▎     | 403/935 [6:15:37<3:54:16, 26.42s/it]"
     ]
    },
    {
     "name": "stdout",
     "output_type": "stream",
     "text": [
      "file could not be opened successfully:\n",
      "- method gz: ReadError('invalid header')\n",
      "- method bz2: ReadError('not a bzip2 file')\n",
      "- method xz: ReadError('not an lzma file')\n",
      "- method tar: ReadError('invalid header')\n",
      "Something goes wrong. Please check the input or concat me to fix this bug. Error message: \n",
      "[Errno 2] No such file or directory: '/home/jihuawei/jhw_pdf_parser/datasets/ArXiv体系/2006.09305/2006.09305.pdf'\n",
      "['https://arxiv.org/abs/1406.7624']\n",
      "Downloading papers...\n"
     ]
    },
    {
     "name": "stderr",
     "output_type": "stream",
     "text": [
      "1it [00:19, 19.63s/it]\n",
      " 43%|████▎     | 404/935 [6:15:57<3:35:49, 24.39s/it]"
     ]
    },
    {
     "name": "stdout",
     "output_type": "stream",
     "text": [
      "Finished\n",
      "['https://arxiv.org/abs/2306.04840']\n",
      "Downloading papers...\n"
     ]
    },
    {
     "name": "stderr",
     "output_type": "stream",
     "text": [
      "1it [00:15, 15.66s/it]\n",
      " 43%|████▎     | 405/935 [6:16:13<3:12:18, 21.77s/it]"
     ]
    },
    {
     "name": "stdout",
     "output_type": "stream",
     "text": [
      "Finished\n",
      "['https://arxiv.org/abs/2007.03999']\n",
      "Downloading papers...\n"
     ]
    },
    {
     "name": "stderr",
     "output_type": "stream",
     "text": [
      "1it [01:07, 67.75s/it]\n",
      " 43%|████▎     | 406/935 [6:17:20<5:13:34, 35.57s/it]"
     ]
    },
    {
     "name": "stdout",
     "output_type": "stream",
     "text": [
      "Finished\n",
      "['https://arxiv.org/abs/1303.1015']\n",
      "Downloading papers...\n"
     ]
    },
    {
     "name": "stderr",
     "output_type": "stream",
     "text": [
      "1it [00:22, 22.10s/it]\n",
      " 44%|████▎     | 407/935 [6:17:42<4:37:25, 31.53s/it]"
     ]
    },
    {
     "name": "stdout",
     "output_type": "stream",
     "text": [
      "Finished\n",
      "['https://arxiv.org/abs/0806.2431']\n",
      "Downloading papers...\n"
     ]
    },
    {
     "name": "stderr",
     "output_type": "stream",
     "text": [
      "0it [00:12, ?it/s]\n",
      " 44%|████▎     | 408/935 [6:17:55<3:46:53, 25.83s/it]"
     ]
    },
    {
     "name": "stdout",
     "output_type": "stream",
     "text": [
      "file could not be opened successfully:\n",
      "- method gz: ReadError('invalid header')\n",
      "- method bz2: ReadError('not a bzip2 file')\n",
      "- method xz: ReadError('not an lzma file')\n",
      "- method tar: ReadError('invalid header')\n",
      "Something goes wrong. Please check the input or concat me to fix this bug. Error message: \n",
      "[Errno 2] No such file or directory: '/home/jihuawei/jhw_pdf_parser/datasets/ArXiv体系/0806.2431/0806.2431.pdf'\n",
      "['https://arxiv.org/abs/1605.09067']\n",
      "Downloading papers...\n"
     ]
    },
    {
     "name": "stderr",
     "output_type": "stream",
     "text": [
      "1it [00:17, 17.28s/it]\n",
      " 44%|████▎     | 409/935 [6:18:12<3:23:59, 23.27s/it]"
     ]
    },
    {
     "name": "stdout",
     "output_type": "stream",
     "text": [
      "Finished\n",
      "['https://arxiv.org/abs/2204.11581']\n",
      "Downloading papers...\n"
     ]
    },
    {
     "name": "stderr",
     "output_type": "stream",
     "text": [
      "1it [00:29, 29.66s/it]\n",
      " 44%|████▍     | 410/935 [6:18:42<3:40:22, 25.19s/it]"
     ]
    },
    {
     "name": "stdout",
     "output_type": "stream",
     "text": [
      "Finished\n",
      "['https://arxiv.org/abs/0904.1088']\n",
      "Downloading papers...\n"
     ]
    },
    {
     "name": "stderr",
     "output_type": "stream",
     "text": [
      "1it [00:37, 37.62s/it]\n",
      " 44%|████▍     | 411/935 [6:19:20<4:12:32, 28.92s/it]"
     ]
    },
    {
     "name": "stdout",
     "output_type": "stream",
     "text": [
      "Finished\n",
      "['https://arxiv.org/abs/0704.2890']\n",
      "Downloading papers...\n"
     ]
    },
    {
     "name": "stderr",
     "output_type": "stream",
     "text": [
      "0it [00:14, ?it/s]\n",
      " 44%|████▍     | 412/935 [6:19:34<3:34:30, 24.61s/it]"
     ]
    },
    {
     "name": "stdout",
     "output_type": "stream",
     "text": [
      "file could not be opened successfully:\n",
      "- method gz: ReadError('invalid header')\n",
      "- method bz2: ReadError('not a bzip2 file')\n",
      "- method xz: ReadError('not an lzma file')\n",
      "- method tar: ReadError('invalid header')\n",
      "Something goes wrong. Please check the input or concat me to fix this bug. Error message: \n",
      "[Errno 2] No such file or directory: '/home/jihuawei/jhw_pdf_parser/datasets/ArXiv体系/0704.2890/0704.2890.pdf'\n",
      "['https://arxiv.org/abs/1803.06582']\n",
      "Downloading papers...\n"
     ]
    },
    {
     "name": "stderr",
     "output_type": "stream",
     "text": [
      "1it [01:21, 81.36s/it]\n",
      " 44%|████▍     | 413/935 [6:20:55<6:02:13, 41.64s/it]"
     ]
    },
    {
     "name": "stdout",
     "output_type": "stream",
     "text": [
      "Finished\n",
      "['https://arxiv.org/abs/2209.02789']\n",
      "Downloading papers...\n"
     ]
    },
    {
     "name": "stderr",
     "output_type": "stream",
     "text": [
      "0it [05:58, ?it/s]\n",
      " 44%|████▍     | 414/935 [6:26:54<19:48:01, 136.82s/it]"
     ]
    },
    {
     "name": "stdout",
     "output_type": "stream",
     "text": [
      "file could not be opened successfully:\n",
      "- method gz: ReadError('not a gzip file')\n",
      "- method bz2: ReadError('not a bzip2 file')\n",
      "- method xz: ReadError('not an lzma file')\n",
      "- method tar: ReadError('invalid header')\n",
      "Something goes wrong. Please check the input or concat me to fix this bug. Error message: \n",
      "[Errno 2] No such file or directory: '/home/jihuawei/jhw_pdf_parser/datasets/ArXiv体系/2209.02789/2209.02789.pdf'\n",
      "['https://arxiv.org/abs/2112.13322']\n",
      "Downloading papers...\n"
     ]
    },
    {
     "name": "stderr",
     "output_type": "stream",
     "text": [
      "0it [02:11, ?it/s]\n",
      " 44%|████▍     | 415/935 [6:29:06<19:32:25, 135.28s/it]"
     ]
    },
    {
     "name": "stdout",
     "output_type": "stream",
     "text": [
      "file could not be opened successfully:\n",
      "- method gz: ReadError('not a gzip file')\n",
      "- method bz2: ReadError('not a bzip2 file')\n",
      "- method xz: ReadError('not an lzma file')\n",
      "- method tar: ReadError('invalid header')\n",
      "Something goes wrong. Please check the input or concat me to fix this bug. Error message: \n",
      "[Errno 2] No such file or directory: '/home/jihuawei/jhw_pdf_parser/datasets/ArXiv体系/2112.13322/2112.13322.pdf'\n",
      "['https://arxiv.org/abs/1607.08806']\n",
      "Downloading papers...\n"
     ]
    },
    {
     "name": "stderr",
     "output_type": "stream",
     "text": [
      "1it [00:52, 52.89s/it]\n",
      " 44%|████▍     | 416/935 [6:29:59<15:56:22, 110.56s/it]"
     ]
    },
    {
     "name": "stdout",
     "output_type": "stream",
     "text": [
      "Finished\n",
      "['https://arxiv.org/abs/2011.12393']\n",
      "Downloading papers...\n"
     ]
    },
    {
     "name": "stderr",
     "output_type": "stream",
     "text": [
      "0it [00:07, ?it/s]\n",
      " 45%|████▍     | 417/935 [6:30:06<11:27:27, 79.63s/it] "
     ]
    },
    {
     "name": "stdout",
     "output_type": "stream",
     "text": [
      "file could not be opened successfully:\n",
      "- method gz: ReadError('invalid header')\n",
      "- method bz2: ReadError('not a bzip2 file')\n",
      "- method xz: ReadError('not an lzma file')\n",
      "- method tar: ReadError('invalid header')\n",
      "Something goes wrong. Please check the input or concat me to fix this bug. Error message: \n",
      "[Errno 2] No such file or directory: '/home/jihuawei/jhw_pdf_parser/datasets/ArXiv体系/2011.12393/2011.12393.pdf'\n",
      "['https://arxiv.org/abs/1911.07130']\n",
      "Downloading papers...\n"
     ]
    },
    {
     "name": "stderr",
     "output_type": "stream",
     "text": [
      "0it [00:07, ?it/s]\n",
      " 45%|████▍     | 418/935 [6:30:14<8:19:27, 57.96s/it] "
     ]
    },
    {
     "name": "stdout",
     "output_type": "stream",
     "text": [
      "file could not be opened successfully:\n",
      "- method gz: ReadError('invalid header')\n",
      "- method bz2: ReadError('not a bzip2 file')\n",
      "- method xz: ReadError('not an lzma file')\n",
      "- method tar: ReadError('invalid header')\n",
      "Something goes wrong. Please check the input or concat me to fix this bug. Error message: \n",
      "[Errno 2] No such file or directory: '/home/jihuawei/jhw_pdf_parser/datasets/ArXiv体系/1911.07130/1911.07130.pdf'\n",
      "['https://arxiv.org/abs/1705.09420']\n",
      "Downloading papers...\n"
     ]
    },
    {
     "name": "stderr",
     "output_type": "stream",
     "text": [
      "0it [00:14, ?it/s]\n",
      " 45%|████▍     | 419/935 [6:30:29<6:27:34, 45.07s/it]"
     ]
    },
    {
     "name": "stdout",
     "output_type": "stream",
     "text": [
      "file could not be opened successfully:\n",
      "- method gz: ReadError('invalid header')\n",
      "- method bz2: ReadError('not a bzip2 file')\n",
      "- method xz: ReadError('not an lzma file')\n",
      "- method tar: ReadError('invalid header')\n",
      "Something goes wrong. Please check the input or concat me to fix this bug. Error message: \n",
      "[Errno 2] No such file or directory: '/home/jihuawei/jhw_pdf_parser/datasets/ArXiv体系/1705.09420/1705.09420.pdf'\n",
      "['https://arxiv.org/abs/0901.2863']\n",
      "Downloading papers...\n"
     ]
    },
    {
     "name": "stderr",
     "output_type": "stream",
     "text": [
      "1it [00:09,  9.27s/it]\n",
      " 45%|████▍     | 420/935 [6:30:38<4:54:38, 34.33s/it]"
     ]
    },
    {
     "name": "stdout",
     "output_type": "stream",
     "text": [
      "Finished\n",
      "['https://arxiv.org/abs/2208.09091']\n",
      "Downloading papers...\n"
     ]
    },
    {
     "name": "stderr",
     "output_type": "stream",
     "text": [
      "0it [00:16, ?it/s]\n",
      " 45%|████▌     | 421/935 [6:30:55<4:08:53, 29.05s/it]"
     ]
    },
    {
     "name": "stdout",
     "output_type": "stream",
     "text": [
      "file could not be opened successfully:\n",
      "- method gz: ReadError('invalid header')\n",
      "- method bz2: ReadError('not a bzip2 file')\n",
      "- method xz: ReadError('not an lzma file')\n",
      "- method tar: ReadError('invalid header')\n",
      "Something goes wrong. Please check the input or concat me to fix this bug. Error message: \n",
      "[Errno 2] No such file or directory: '/home/jihuawei/jhw_pdf_parser/datasets/ArXiv体系/2208.09091/2208.09091.pdf'\n",
      "['https://arxiv.org/abs/1904.00635']\n",
      "Downloading papers...\n"
     ]
    },
    {
     "name": "stderr",
     "output_type": "stream",
     "text": [
      "0it [00:17, ?it/s]\n",
      " 45%|████▌     | 422/935 [6:31:12<3:37:42, 25.46s/it]"
     ]
    },
    {
     "name": "stdout",
     "output_type": "stream",
     "text": [
      "file could not be opened successfully:\n",
      "- method gz: ReadError('invalid header')\n",
      "- method bz2: ReadError('not a bzip2 file')\n",
      "- method xz: ReadError('not an lzma file')\n",
      "- method tar: ReadError('invalid header')\n",
      "Something goes wrong. Please check the input or concat me to fix this bug. Error message: \n",
      "[Errno 2] No such file or directory: '/home/jihuawei/jhw_pdf_parser/datasets/ArXiv体系/1904.00635/1904.00635.pdf'\n",
      "['https://arxiv.org/abs/2204.04096']\n",
      "Downloading papers...\n"
     ]
    },
    {
     "name": "stderr",
     "output_type": "stream",
     "text": [
      "1it [00:20, 20.86s/it]\n",
      " 45%|████▌     | 423/935 [6:31:33<3:25:30, 24.08s/it]"
     ]
    },
    {
     "name": "stdout",
     "output_type": "stream",
     "text": [
      "Finished\n",
      "['https://arxiv.org/abs/0909.3198']\n",
      "Downloading papers...\n"
     ]
    },
    {
     "name": "stderr",
     "output_type": "stream",
     "text": [
      "0it [00:16, ?it/s]\n",
      " 45%|████▌     | 424/935 [6:31:50<3:06:50, 21.94s/it]"
     ]
    },
    {
     "name": "stdout",
     "output_type": "stream",
     "text": [
      "file could not be opened successfully:\n",
      "- method gz: ReadError('invalid header')\n",
      "- method bz2: ReadError('not a bzip2 file')\n",
      "- method xz: ReadError('not an lzma file')\n",
      "- method tar: ReadError('invalid header')\n",
      "Something goes wrong. Please check the input or concat me to fix this bug. Error message: \n",
      "[Errno 2] No such file or directory: '/home/jihuawei/jhw_pdf_parser/datasets/ArXiv体系/0909.3198/0909.3198.pdf'\n",
      "['https://arxiv.org/abs/1901.04385']\n",
      "Downloading papers...\n"
     ]
    },
    {
     "name": "stderr",
     "output_type": "stream",
     "text": [
      "1it [00:30, 30.84s/it]\n",
      " 45%|████▌     | 425/935 [6:32:20<3:29:10, 24.61s/it]"
     ]
    },
    {
     "name": "stdout",
     "output_type": "stream",
     "text": [
      "Finished\n",
      "['https://arxiv.org/abs/1306.3424']\n",
      "Downloading papers...\n"
     ]
    },
    {
     "name": "stderr",
     "output_type": "stream",
     "text": [
      "1it [00:16, 16.07s/it]\n",
      " 46%|████▌     | 426/935 [6:32:37<3:07:02, 22.05s/it]"
     ]
    },
    {
     "name": "stdout",
     "output_type": "stream",
     "text": [
      "Finished\n",
      "['https://arxiv.org/abs/1402.3209']\n",
      "Downloading papers...\n"
     ]
    },
    {
     "name": "stderr",
     "output_type": "stream",
     "text": [
      "1it [00:16, 16.07s/it]\n",
      " 46%|████▌     | 427/935 [6:32:53<2:51:30, 20.26s/it]"
     ]
    },
    {
     "name": "stdout",
     "output_type": "stream",
     "text": [
      "Finished\n",
      "['https://arxiv.org/abs/1512.07985']\n",
      "Downloading papers...\n"
     ]
    },
    {
     "name": "stderr",
     "output_type": "stream",
     "text": [
      "0it [00:12, ?it/s]\n",
      " 46%|████▌     | 428/935 [6:33:05<2:30:53, 17.86s/it]"
     ]
    },
    {
     "name": "stdout",
     "output_type": "stream",
     "text": [
      "file could not be opened successfully:\n",
      "- method gz: ReadError('invalid header')\n",
      "- method bz2: ReadError('not a bzip2 file')\n",
      "- method xz: ReadError('not an lzma file')\n",
      "- method tar: ReadError('invalid header')\n",
      "Something goes wrong. Please check the input or concat me to fix this bug. Error message: \n",
      "[Errno 2] No such file or directory: '/home/jihuawei/jhw_pdf_parser/datasets/ArXiv体系/1512.07985/1512.07985.pdf'\n",
      "['https://arxiv.org/abs/0704.2955']\n",
      "Downloading papers...\n"
     ]
    },
    {
     "name": "stderr",
     "output_type": "stream",
     "text": [
      "1it [01:07, 67.69s/it]\n",
      " 46%|████▌     | 429/935 [6:34:13<4:36:40, 32.81s/it]"
     ]
    },
    {
     "name": "stdout",
     "output_type": "stream",
     "text": [
      "Finished\n",
      "['https://arxiv.org/abs/1407.5057']\n",
      "Downloading papers...\n"
     ]
    },
    {
     "name": "stderr",
     "output_type": "stream",
     "text": [
      "1it [01:18, 78.69s/it]\n",
      " 46%|████▌     | 430/935 [6:35:31<6:31:59, 46.57s/it]"
     ]
    },
    {
     "name": "stdout",
     "output_type": "stream",
     "text": [
      "Finished\n",
      "['https://arxiv.org/abs/1107.5017']\n",
      "Downloading papers...\n"
     ]
    },
    {
     "name": "stderr",
     "output_type": "stream",
     "text": [
      "1it [00:20, 20.18s/it]\n",
      " 46%|████▌     | 431/935 [6:35:51<5:24:42, 38.66s/it]"
     ]
    },
    {
     "name": "stdout",
     "output_type": "stream",
     "text": [
      "Finished\n",
      "['https://arxiv.org/abs/0712.3863']\n",
      "Downloading papers...\n"
     ]
    },
    {
     "name": "stderr",
     "output_type": "stream",
     "text": [
      "0it [00:12, ?it/s]\n",
      " 46%|████▌     | 432/935 [6:36:04<4:17:31, 30.72s/it]"
     ]
    },
    {
     "name": "stdout",
     "output_type": "stream",
     "text": [
      "file could not be opened successfully:\n",
      "- method gz: ReadError('invalid header')\n",
      "- method bz2: ReadError('not a bzip2 file')\n",
      "- method xz: ReadError('not an lzma file')\n",
      "- method tar: ReadError('invalid header')\n",
      "Something goes wrong. Please check the input or concat me to fix this bug. Error message: \n",
      "[Errno 2] No such file or directory: '/home/jihuawei/jhw_pdf_parser/datasets/ArXiv体系/0712.3863/0712.3863.pdf'\n",
      "['https://arxiv.org/abs/1703.01252']\n",
      "Downloading papers...\n"
     ]
    },
    {
     "name": "stderr",
     "output_type": "stream",
     "text": [
      "1it [00:24, 24.95s/it]\n",
      " 46%|████▋     | 433/935 [6:36:29<4:02:33, 28.99s/it]"
     ]
    },
    {
     "name": "stdout",
     "output_type": "stream",
     "text": [
      "Finished\n",
      "['https://arxiv.org/abs/0704.2950']\n",
      "Downloading papers...\n"
     ]
    },
    {
     "name": "stderr",
     "output_type": "stream",
     "text": [
      "0it [00:26, ?it/s]\n",
      " 46%|████▋     | 434/935 [6:36:55<3:54:46, 28.12s/it]"
     ]
    },
    {
     "name": "stdout",
     "output_type": "stream",
     "text": [
      "file could not be opened successfully:\n",
      "- method gz: ReadError('invalid header')\n",
      "- method bz2: ReadError('not a bzip2 file')\n",
      "- method xz: ReadError('not an lzma file')\n",
      "- method tar: ReadError('invalid header')\n",
      "Something goes wrong. Please check the input or concat me to fix this bug. Error message: \n",
      "[Errno 2] No such file or directory: '/home/jihuawei/jhw_pdf_parser/datasets/ArXiv体系/0704.2950/0704.2950.pdf'\n",
      "['https://arxiv.org/abs/1004.4730']\n",
      "Downloading papers...\n"
     ]
    },
    {
     "name": "stderr",
     "output_type": "stream",
     "text": [
      "1it [02:26, 146.81s/it]\n",
      " 47%|████▋     | 435/935 [6:39:22<8:51:02, 63.72s/it]"
     ]
    },
    {
     "name": "stdout",
     "output_type": "stream",
     "text": [
      "Finished\n",
      "['https://arxiv.org/abs/2208.04133']\n",
      "Downloading papers...\n"
     ]
    },
    {
     "name": "stderr",
     "output_type": "stream",
     "text": [
      "1it [27:52, 1672.10s/it]\n",
      " 47%|████▋     | 436/935 [7:07:14<75:42:53, 546.24s/it]"
     ]
    },
    {
     "name": "stdout",
     "output_type": "stream",
     "text": [
      "Finished\n",
      "['https://arxiv.org/abs/1001.0004']\n",
      "Downloading papers...\n"
     ]
    },
    {
     "name": "stderr",
     "output_type": "stream",
     "text": [
      "1it [00:26, 26.04s/it]\n",
      " 47%|████▋     | 437/935 [7:07:40<53:58:30, 390.18s/it]"
     ]
    },
    {
     "name": "stdout",
     "output_type": "stream",
     "text": [
      "Finished\n",
      "['https://arxiv.org/abs/1411.5427']\n",
      "Downloading papers...\n"
     ]
    },
    {
     "name": "stderr",
     "output_type": "stream",
     "text": [
      "0it [00:11, ?it/s]\n",
      " 47%|████▋     | 438/935 [7:07:51<38:10:30, 276.52s/it]"
     ]
    },
    {
     "name": "stdout",
     "output_type": "stream",
     "text": [
      "file could not be opened successfully:\n",
      "- method gz: ReadError('invalid header')\n",
      "- method bz2: ReadError('not a bzip2 file')\n",
      "- method xz: ReadError('not an lzma file')\n",
      "- method tar: ReadError('invalid header')\n",
      "Something goes wrong. Please check the input or concat me to fix this bug. Error message: \n",
      "[Errno 2] No such file or directory: '/home/jihuawei/jhw_pdf_parser/datasets/ArXiv体系/1411.5427/1411.5427.pdf'\n",
      "['https://arxiv.org/abs/1303.0739']\n",
      "Downloading papers...\n"
     ]
    },
    {
     "name": "stderr",
     "output_type": "stream",
     "text": [
      "0it [00:11, ?it/s]\n",
      " 47%|████▋     | 439/935 [7:08:03<27:09:13, 197.08s/it]"
     ]
    },
    {
     "name": "stdout",
     "output_type": "stream",
     "text": [
      "file could not be opened successfully:\n",
      "- method gz: ReadError('invalid header')\n",
      "- method bz2: ReadError('not a bzip2 file')\n",
      "- method xz: ReadError('not an lzma file')\n",
      "- method tar: ReadError('invalid header')\n",
      "Something goes wrong. Please check the input or concat me to fix this bug. Error message: \n",
      "[Errno 2] No such file or directory: '/home/jihuawei/jhw_pdf_parser/datasets/ArXiv体系/1303.0739/1303.0739.pdf'\n",
      "['https://arxiv.org/abs/2107.13127']\n",
      "Downloading papers...\n"
     ]
    },
    {
     "name": "stderr",
     "output_type": "stream",
     "text": [
      "1it [00:15, 15.49s/it]\n",
      " 47%|████▋     | 440/935 [7:08:18<19:36:30, 142.61s/it]"
     ]
    },
    {
     "name": "stdout",
     "output_type": "stream",
     "text": [
      "Finished\n",
      "['https://arxiv.org/abs/1905.08753']\n",
      "Downloading papers...\n"
     ]
    },
    {
     "name": "stderr",
     "output_type": "stream",
     "text": [
      "0it [00:17, ?it/s]\n",
      " 47%|████▋     | 441/935 [7:08:36<14:26:13, 105.21s/it]"
     ]
    },
    {
     "name": "stdout",
     "output_type": "stream",
     "text": [
      "file could not be opened successfully:\n",
      "- method gz: ReadError('invalid header')\n",
      "- method bz2: ReadError('not a bzip2 file')\n",
      "- method xz: ReadError('not an lzma file')\n",
      "- method tar: ReadError('invalid header')\n",
      "Something goes wrong. Please check the input or concat me to fix this bug. Error message: \n",
      "[Errno 2] No such file or directory: '/home/jihuawei/jhw_pdf_parser/datasets/ArXiv体系/1905.08753/1905.08753.pdf'\n",
      "['https://arxiv.org/abs/2001.05040']\n",
      "Downloading papers...\n"
     ]
    },
    {
     "name": "stderr",
     "output_type": "stream",
     "text": [
      "0it [00:11, ?it/s]\n",
      " 47%|████▋     | 442/935 [7:08:48<10:33:45, 77.13s/it] "
     ]
    },
    {
     "name": "stdout",
     "output_type": "stream",
     "text": [
      "file could not be opened successfully:\n",
      "- method gz: ReadError('invalid header')\n",
      "- method bz2: ReadError('not a bzip2 file')\n",
      "- method xz: ReadError('not an lzma file')\n",
      "- method tar: ReadError('invalid header')\n",
      "Something goes wrong. Please check the input or concat me to fix this bug. Error message: \n",
      "[Errno 2] No such file or directory: '/home/jihuawei/jhw_pdf_parser/datasets/ArXiv体系/2001.05040/2001.05040.pdf'\n",
      "['https://arxiv.org/abs/0712.4397']\n",
      "Downloading papers...\n"
     ]
    },
    {
     "name": "stderr",
     "output_type": "stream",
     "text": [
      "0it [00:11, ?it/s]\n",
      " 47%|████▋     | 443/935 [7:08:59<7:49:59, 57.32s/it] "
     ]
    },
    {
     "name": "stdout",
     "output_type": "stream",
     "text": [
      "file could not be opened successfully:\n",
      "- method gz: ReadError('invalid header')\n",
      "- method bz2: ReadError('not a bzip2 file')\n",
      "- method xz: ReadError('not an lzma file')\n",
      "- method tar: ReadError('invalid header')\n",
      "Something goes wrong. Please check the input or concat me to fix this bug. Error message: \n",
      "[Errno 2] No such file or directory: '/home/jihuawei/jhw_pdf_parser/datasets/ArXiv体系/0712.4397/0712.4397.pdf'\n",
      "['https://arxiv.org/abs/1801.09654']\n",
      "Downloading papers...\n"
     ]
    },
    {
     "name": "stderr",
     "output_type": "stream",
     "text": [
      "0it [00:19, ?it/s]\n",
      " 47%|████▋     | 444/935 [7:09:18<6:16:14, 45.98s/it]"
     ]
    },
    {
     "name": "stdout",
     "output_type": "stream",
     "text": [
      "file could not be opened successfully:\n",
      "- method gz: ReadError('invalid header')\n",
      "- method bz2: ReadError('not a bzip2 file')\n",
      "- method xz: ReadError('not an lzma file')\n",
      "- method tar: ReadError('invalid header')\n",
      "Something goes wrong. Please check the input or concat me to fix this bug. Error message: \n",
      "[Errno 2] No such file or directory: '/home/jihuawei/jhw_pdf_parser/datasets/ArXiv体系/1801.09654/1801.09654.pdf'\n",
      "['https://arxiv.org/abs/1307.6140']\n",
      "Downloading papers...\n"
     ]
    },
    {
     "name": "stderr",
     "output_type": "stream",
     "text": [
      "0it [00:20, ?it/s]\n",
      " 48%|████▊     | 445/935 [7:09:39<5:12:11, 38.23s/it]"
     ]
    },
    {
     "name": "stdout",
     "output_type": "stream",
     "text": [
      "file could not be opened successfully:\n",
      "- method gz: ReadError('invalid header')\n",
      "- method bz2: ReadError('not a bzip2 file')\n",
      "- method xz: ReadError('not an lzma file')\n",
      "- method tar: ReadError('invalid header')\n",
      "Something goes wrong. Please check the input or concat me to fix this bug. Error message: \n",
      "[Errno 2] No such file or directory: '/home/jihuawei/jhw_pdf_parser/datasets/ArXiv体系/1307.6140/1307.6140.pdf'\n",
      "['https://arxiv.org/abs/0710.3387']\n",
      "Downloading papers...\n"
     ]
    },
    {
     "name": "stderr",
     "output_type": "stream",
     "text": [
      "1it [00:16, 16.10s/it]\n",
      " 48%|████▊     | 446/935 [7:09:55<4:17:28, 31.59s/it]"
     ]
    },
    {
     "name": "stdout",
     "output_type": "stream",
     "text": [
      "Finished\n",
      "['https://arxiv.org/abs/0704.3046']\n",
      "Downloading papers...\n"
     ]
    },
    {
     "name": "stderr",
     "output_type": "stream",
     "text": [
      "1it [00:21, 21.24s/it]\n",
      " 48%|████▊     | 447/935 [7:10:16<3:51:41, 28.49s/it]"
     ]
    },
    {
     "name": "stdout",
     "output_type": "stream",
     "text": [
      "Finished\n",
      "['https://arxiv.org/abs/0704.3103']\n",
      "Downloading papers...\n"
     ]
    },
    {
     "name": "stderr",
     "output_type": "stream",
     "text": [
      "1it [00:31, 31.70s/it]\n",
      " 48%|████▊     | 448/935 [7:10:48<3:59:02, 29.45s/it]"
     ]
    },
    {
     "name": "stdout",
     "output_type": "stream",
     "text": [
      "Finished\n",
      "['https://arxiv.org/abs/2107.02532']\n",
      "Downloading papers...\n"
     ]
    },
    {
     "name": "stderr",
     "output_type": "stream",
     "text": [
      "0it [00:22, ?it/s]\n",
      " 48%|████▊     | 449/935 [7:11:10<3:41:44, 27.38s/it]"
     ]
    },
    {
     "name": "stdout",
     "output_type": "stream",
     "text": [
      "file could not be opened successfully:\n",
      "- method gz: ReadError('invalid header')\n",
      "- method bz2: ReadError('not a bzip2 file')\n",
      "- method xz: ReadError('not an lzma file')\n",
      "- method tar: ReadError('invalid header')\n",
      "Something goes wrong. Please check the input or concat me to fix this bug. Error message: \n",
      "[Errno 2] No such file or directory: '/home/jihuawei/jhw_pdf_parser/datasets/ArXiv体系/2107.02532/2107.02532.pdf'\n",
      "['https://arxiv.org/abs/1906.03290']\n",
      "Downloading papers...\n"
     ]
    },
    {
     "name": "stderr",
     "output_type": "stream",
     "text": [
      "0it [00:19, ?it/s]\n",
      " 48%|████▊     | 450/935 [7:11:30<3:22:42, 25.08s/it]"
     ]
    },
    {
     "name": "stdout",
     "output_type": "stream",
     "text": [
      "file could not be opened successfully:\n",
      "- method gz: ReadError('invalid header')\n",
      "- method bz2: ReadError('not a bzip2 file')\n",
      "- method xz: ReadError('not an lzma file')\n",
      "- method tar: ReadError('invalid header')\n",
      "Something goes wrong. Please check the input or concat me to fix this bug. Error message: \n",
      "[Errno 2] No such file or directory: '/home/jihuawei/jhw_pdf_parser/datasets/ArXiv体系/1906.03290/1906.03290.pdf'\n",
      "['https://arxiv.org/abs/1707.06102']\n",
      "Downloading papers...\n"
     ]
    },
    {
     "name": "stderr",
     "output_type": "stream",
     "text": [
      "0it [00:23, ?it/s]\n",
      " 48%|████▊     | 451/935 [7:11:54<3:19:10, 24.69s/it]"
     ]
    },
    {
     "name": "stdout",
     "output_type": "stream",
     "text": [
      "file could not be opened successfully:\n",
      "- method gz: ReadError('invalid header')\n",
      "- method bz2: ReadError('not a bzip2 file')\n",
      "- method xz: ReadError('not an lzma file')\n",
      "- method tar: ReadError('invalid header')\n",
      "Something goes wrong. Please check the input or concat me to fix this bug. Error message: \n",
      "[Errno 2] No such file or directory: '/home/jihuawei/jhw_pdf_parser/datasets/ArXiv体系/1707.06102/1707.06102.pdf'\n",
      "['https://arxiv.org/abs/1910.07213']\n",
      "Downloading papers...\n"
     ]
    },
    {
     "name": "stderr",
     "output_type": "stream",
     "text": [
      "1it [00:41, 41.45s/it]\n",
      " 48%|████▊     | 452/935 [7:12:35<3:59:15, 29.72s/it]"
     ]
    },
    {
     "name": "stdout",
     "output_type": "stream",
     "text": [
      "Finished\n",
      "['https://arxiv.org/abs/2012.14344']\n",
      "Downloading papers...\n"
     ]
    },
    {
     "name": "stderr",
     "output_type": "stream",
     "text": [
      "1it [05:50, 350.11s/it]\n",
      " 48%|████▊     | 453/935 [7:18:25<16:50:55, 125.84s/it]"
     ]
    },
    {
     "name": "stdout",
     "output_type": "stream",
     "text": [
      "Finished\n",
      "['https://arxiv.org/abs/2107.01440']\n",
      "Downloading papers...\n"
     ]
    },
    {
     "name": "stderr",
     "output_type": "stream",
     "text": [
      "1it [01:33, 93.86s/it]\n",
      " 49%|████▊     | 454/935 [7:19:59<15:31:55, 116.25s/it]"
     ]
    },
    {
     "name": "stdout",
     "output_type": "stream",
     "text": [
      "Finished\n",
      "['https://arxiv.org/abs/1801.01853']\n",
      "Downloading papers...\n"
     ]
    },
    {
     "name": "stderr",
     "output_type": "stream",
     "text": [
      "1it [03:38, 218.40s/it]\n",
      " 49%|████▊     | 455/935 [7:23:37<19:35:09, 146.90s/it]"
     ]
    },
    {
     "name": "stdout",
     "output_type": "stream",
     "text": [
      "Finished\n",
      "['https://arxiv.org/abs/2007.03831']\n",
      "Downloading papers...\n"
     ]
    },
    {
     "name": "stderr",
     "output_type": "stream",
     "text": [
      "1it [07:38, 458.06s/it]\n",
      " 49%|████▉     | 456/935 [7:31:16<31:57:58, 240.25s/it]"
     ]
    },
    {
     "name": "stdout",
     "output_type": "stream",
     "text": [
      "Finished\n",
      "['https://arxiv.org/abs/1005.3225']\n",
      "Downloading papers...\n"
     ]
    },
    {
     "name": "stderr",
     "output_type": "stream",
     "text": [
      "1it [09:02, 542.31s/it]\n",
      " 49%|████▉     | 457/935 [7:40:18<43:55:54, 330.87s/it]"
     ]
    },
    {
     "name": "stdout",
     "output_type": "stream",
     "text": [
      "Finished\n",
      "['https://arxiv.org/abs/1204.1292']\n",
      "Downloading papers...\n"
     ]
    },
    {
     "name": "stderr",
     "output_type": "stream",
     "text": [
      "1it [00:12, 12.57s/it]\n",
      " 49%|████▉     | 458/935 [7:40:30<31:11:15, 235.38s/it]"
     ]
    },
    {
     "name": "stdout",
     "output_type": "stream",
     "text": [
      "Finished\n",
      "['https://arxiv.org/abs/1002.0058']\n",
      "Downloading papers...\n"
     ]
    },
    {
     "name": "stderr",
     "output_type": "stream",
     "text": [
      "1it [00:09,  9.04s/it]\n",
      " 49%|████▉     | 459/935 [7:40:39<22:08:39, 167.48s/it]"
     ]
    },
    {
     "name": "stdout",
     "output_type": "stream",
     "text": [
      "Finished\n",
      "['https://arxiv.org/abs/1712.00299']\n",
      "Downloading papers...\n"
     ]
    },
    {
     "name": "stderr",
     "output_type": "stream",
     "text": [
      "1it [00:11, 11.27s/it]\n",
      " 49%|████▉     | 460/935 [7:40:51<15:54:53, 120.62s/it]"
     ]
    },
    {
     "name": "stdout",
     "output_type": "stream",
     "text": [
      "Finished\n",
      "['https://arxiv.org/abs/0812.4947']\n",
      "Downloading papers...\n"
     ]
    },
    {
     "name": "stderr",
     "output_type": "stream",
     "text": [
      "1it [00:15, 15.53s/it]\n",
      " 49%|████▉     | 461/935 [7:41:06<11:43:50, 89.09s/it] "
     ]
    },
    {
     "name": "stdout",
     "output_type": "stream",
     "text": [
      "Finished\n",
      "['https://arxiv.org/abs/1008.4028']\n",
      "Downloading papers...\n"
     ]
    },
    {
     "name": "stderr",
     "output_type": "stream",
     "text": [
      "1it [00:14, 14.33s/it]\n",
      " 49%|████▉     | 462/935 [7:41:21<8:45:33, 66.67s/it] "
     ]
    },
    {
     "name": "stdout",
     "output_type": "stream",
     "text": [
      "Finished\n",
      "['https://arxiv.org/abs/0704.3183']\n",
      "Downloading papers...\n"
     ]
    },
    {
     "name": "stderr",
     "output_type": "stream",
     "text": [
      "1it [00:16, 16.48s/it]\n",
      " 50%|████▉     | 463/935 [7:41:37<6:46:00, 51.61s/it]"
     ]
    },
    {
     "name": "stdout",
     "output_type": "stream",
     "text": [
      "Finished\n",
      "['https://arxiv.org/abs/1411.7008']\n",
      "Downloading papers...\n"
     ]
    },
    {
     "name": "stderr",
     "output_type": "stream",
     "text": [
      "1it [00:20, 20.20s/it]\n",
      " 50%|████▉     | 464/935 [7:41:57<5:31:11, 42.19s/it]"
     ]
    },
    {
     "name": "stdout",
     "output_type": "stream",
     "text": [
      "Finished\n",
      "['https://arxiv.org/abs/1809.04424']\n",
      "Downloading papers...\n"
     ]
    },
    {
     "name": "stderr",
     "output_type": "stream",
     "text": [
      "1it [00:45, 45.01s/it]\n",
      " 50%|████▉     | 465/935 [7:42:42<5:37:08, 43.04s/it]"
     ]
    },
    {
     "name": "stdout",
     "output_type": "stream",
     "text": [
      "Finished\n",
      "['https://arxiv.org/abs/1502.00338']\n",
      "Downloading papers...\n"
     ]
    },
    {
     "name": "stderr",
     "output_type": "stream",
     "text": [
      "1it [00:26, 26.99s/it]\n",
      " 50%|████▉     | 466/935 [7:43:09<4:58:48, 38.23s/it]"
     ]
    },
    {
     "name": "stdout",
     "output_type": "stream",
     "text": [
      "Finished\n",
      "['https://arxiv.org/abs/1312.0032']\n",
      "Downloading papers...\n"
     ]
    },
    {
     "name": "stderr",
     "output_type": "stream",
     "text": [
      "1it [00:24, 24.62s/it]\n",
      " 50%|████▉     | 467/935 [7:43:34<4:26:19, 34.14s/it]"
     ]
    },
    {
     "name": "stdout",
     "output_type": "stream",
     "text": [
      "Finished\n",
      "['https://arxiv.org/abs/1411.3487']\n",
      "Downloading papers...\n"
     ]
    },
    {
     "name": "stderr",
     "output_type": "stream",
     "text": [
      "1it [02:22, 142.63s/it]\n",
      " 50%|█████     | 468/935 [7:45:57<8:39:05, 66.69s/it]"
     ]
    },
    {
     "name": "stdout",
     "output_type": "stream",
     "text": [
      "Finished\n",
      "['https://arxiv.org/abs/0803.3552']\n",
      "Downloading papers...\n"
     ]
    },
    {
     "name": "stderr",
     "output_type": "stream",
     "text": [
      "1it [00:09,  9.43s/it]\n",
      " 50%|█████     | 469/935 [7:46:06<6:24:33, 49.51s/it]"
     ]
    },
    {
     "name": "stdout",
     "output_type": "stream",
     "text": [
      "Finished\n",
      "['https://arxiv.org/abs/1904.05717']\n",
      "Downloading papers...\n"
     ]
    },
    {
     "name": "stderr",
     "output_type": "stream",
     "text": [
      "1it [00:17, 17.38s/it]\n",
      " 50%|█████     | 470/935 [7:46:23<5:09:01, 39.87s/it]"
     ]
    },
    {
     "name": "stdout",
     "output_type": "stream",
     "text": [
      "Finished\n",
      "['https://arxiv.org/abs/2107.09173']\n",
      "Downloading papers...\n"
     ]
    },
    {
     "name": "stderr",
     "output_type": "stream",
     "text": [
      "1it [00:31, 31.92s/it]\n",
      " 50%|█████     | 471/935 [7:46:55<4:49:54, 37.49s/it]"
     ]
    },
    {
     "name": "stdout",
     "output_type": "stream",
     "text": [
      "Finished\n",
      "['https://arxiv.org/abs/0704.3155']\n",
      "Downloading papers...\n"
     ]
    },
    {
     "name": "stderr",
     "output_type": "stream",
     "text": [
      "1it [01:21, 81.60s/it]\n",
      " 50%|█████     | 472/935 [7:48:17<6:31:25, 50.73s/it]"
     ]
    },
    {
     "name": "stdout",
     "output_type": "stream",
     "text": [
      "Finished\n",
      "['https://arxiv.org/abs/2111.12765']\n",
      "Downloading papers...\n"
     ]
    },
    {
     "name": "stderr",
     "output_type": "stream",
     "text": [
      "1it [00:54, 54.60s/it]\n",
      " 51%|█████     | 473/935 [7:49:12<6:39:32, 51.89s/it]"
     ]
    },
    {
     "name": "stdout",
     "output_type": "stream",
     "text": [
      "Finished\n",
      "['https://arxiv.org/abs/1609.05401']\n",
      "Downloading papers...\n"
     ]
    },
    {
     "name": "stderr",
     "output_type": "stream",
     "text": [
      "0it [01:10, ?it/s]\n",
      " 51%|█████     | 474/935 [7:50:22<7:21:48, 57.50s/it]"
     ]
    },
    {
     "name": "stdout",
     "output_type": "stream",
     "text": [
      "file could not be opened successfully:\n",
      "- method gz: ReadError('not a gzip file')\n",
      "- method bz2: ReadError('not a bzip2 file')\n",
      "- method xz: ReadError('not an lzma file')\n",
      "- method tar: ReadError('invalid header')\n",
      "Something goes wrong. Please check the input or concat me to fix this bug. Error message: \n",
      "[Errno 2] No such file or directory: '/home/jihuawei/jhw_pdf_parser/datasets/ArXiv体系/1609.05401/1609.05401.pdf'\n",
      "['https://arxiv.org/abs/2205.05693']\n",
      "Downloading papers...\n"
     ]
    },
    {
     "name": "stderr",
     "output_type": "stream",
     "text": [
      "1it [03:23, 203.40s/it]\n",
      " 51%|█████     | 475/935 [7:53:46<12:56:25, 101.27s/it]"
     ]
    },
    {
     "name": "stdout",
     "output_type": "stream",
     "text": [
      "Finished\n",
      "['https://arxiv.org/abs/2208.09702']\n",
      "Downloading papers...\n"
     ]
    },
    {
     "name": "stderr",
     "output_type": "stream",
     "text": [
      "1it [00:37, 37.23s/it]\n",
      " 51%|█████     | 476/935 [7:54:23<10:27:46, 82.06s/it] "
     ]
    },
    {
     "name": "stdout",
     "output_type": "stream",
     "text": [
      "Finished\n",
      "['https://arxiv.org/abs/2112.03040']\n",
      "Downloading papers...\n"
     ]
    },
    {
     "name": "stderr",
     "output_type": "stream",
     "text": [
      "1it [00:54, 54.02s/it]\n",
      " 51%|█████     | 477/935 [7:55:17<9:22:12, 73.65s/it] "
     ]
    },
    {
     "name": "stdout",
     "output_type": "stream",
     "text": [
      "Finished\n",
      "['https://arxiv.org/abs/1304.4170']\n",
      "Downloading papers...\n"
     ]
    },
    {
     "name": "stderr",
     "output_type": "stream",
     "text": [
      "1it [01:42, 102.90s/it]\n",
      " 51%|█████     | 478/935 [7:57:00<10:27:49, 82.43s/it]"
     ]
    },
    {
     "name": "stdout",
     "output_type": "stream",
     "text": [
      "Finished\n",
      "['https://arxiv.org/abs/0704.3174']\n",
      "Downloading papers...\n"
     ]
    },
    {
     "name": "stderr",
     "output_type": "stream",
     "text": [
      "1it [00:57, 57.64s/it]\n",
      " 51%|█████     | 479/935 [7:57:57<9:29:56, 74.99s/it] "
     ]
    },
    {
     "name": "stdout",
     "output_type": "stream",
     "text": [
      "Finished\n",
      "['https://arxiv.org/abs/2011.00886']\n",
      "Downloading papers...\n"
     ]
    },
    {
     "name": "stderr",
     "output_type": "stream",
     "text": [
      "1it [12:34, 754.50s/it]\n",
      " 51%|█████▏    | 480/935 [8:10:32<35:14:35, 278.85s/it]"
     ]
    },
    {
     "name": "stdout",
     "output_type": "stream",
     "text": [
      "Finished\n",
      "['https://arxiv.org/abs/0804.1154']\n",
      "Downloading papers...\n"
     ]
    },
    {
     "name": "stderr",
     "output_type": "stream",
     "text": [
      "1it [01:11, 71.65s/it]\n",
      " 51%|█████▏    | 481/935 [8:11:43<27:19:37, 216.69s/it]"
     ]
    },
    {
     "name": "stdout",
     "output_type": "stream",
     "text": [
      "Finished\n",
      "['https://arxiv.org/abs/1404.2563']\n",
      "Downloading papers...\n"
     ]
    },
    {
     "name": "stderr",
     "output_type": "stream",
     "text": [
      "0it [00:13, ?it/s]\n",
      " 52%|█████▏    | 482/935 [8:11:57<19:36:16, 155.80s/it]"
     ]
    },
    {
     "name": "stdout",
     "output_type": "stream",
     "text": [
      "file could not be opened successfully:\n",
      "- method gz: ReadError('invalid header')\n",
      "- method bz2: ReadError('not a bzip2 file')\n",
      "- method xz: ReadError('not an lzma file')\n",
      "- method tar: ReadError('invalid header')\n",
      "Something goes wrong. Please check the input or concat me to fix this bug. Error message: \n",
      "[Errno 2] No such file or directory: '/home/jihuawei/jhw_pdf_parser/datasets/ArXiv体系/1404.2563/1404.2563.pdf'\n",
      "['https://arxiv.org/abs/0704.3228']\n",
      "Downloading papers...\n"
     ]
    },
    {
     "name": "stderr",
     "output_type": "stream",
     "text": [
      "1it [00:17, 17.13s/it]\n",
      " 52%|█████▏    | 483/935 [8:12:14<14:20:17, 114.20s/it]"
     ]
    },
    {
     "name": "stdout",
     "output_type": "stream",
     "text": [
      "Finished\n",
      "['https://arxiv.org/abs/1107.0305']\n",
      "Downloading papers...\n"
     ]
    },
    {
     "name": "stderr",
     "output_type": "stream",
     "text": [
      "1it [00:15, 15.99s/it]\n",
      " 52%|█████▏    | 484/935 [8:12:30<10:36:56, 84.74s/it] "
     ]
    },
    {
     "name": "stdout",
     "output_type": "stream",
     "text": [
      "Finished\n",
      "['https://arxiv.org/abs/1706.08471']\n",
      "Downloading papers...\n"
     ]
    },
    {
     "name": "stderr",
     "output_type": "stream",
     "text": [
      "0it [00:21, ?it/s]\n",
      " 52%|█████▏    | 485/935 [8:12:52<8:12:33, 65.68s/it] "
     ]
    },
    {
     "name": "stdout",
     "output_type": "stream",
     "text": [
      "file could not be opened successfully:\n",
      "- method gz: ReadError('invalid header')\n",
      "- method bz2: ReadError('not a bzip2 file')\n",
      "- method xz: ReadError('not an lzma file')\n",
      "- method tar: ReadError('invalid header')\n",
      "Something goes wrong. Please check the input or concat me to fix this bug. Error message: \n",
      "[Errno 2] No such file or directory: '/home/jihuawei/jhw_pdf_parser/datasets/ArXiv体系/1706.08471/1706.08471.pdf'\n",
      "['https://arxiv.org/abs/1609.03849']\n",
      "Downloading papers...\n"
     ]
    },
    {
     "name": "stderr",
     "output_type": "stream",
     "text": [
      "0it [00:25, ?it/s]\n",
      " 52%|█████▏    | 486/935 [8:13:17<6:41:10, 53.61s/it]"
     ]
    },
    {
     "name": "stdout",
     "output_type": "stream",
     "text": [
      "file could not be opened successfully:\n",
      "- method gz: ReadError('invalid header')\n",
      "- method bz2: ReadError('not a bzip2 file')\n",
      "- method xz: ReadError('not an lzma file')\n",
      "- method tar: ReadError('invalid header')\n",
      "Something goes wrong. Please check the input or concat me to fix this bug. Error message: \n",
      "[Errno 2] No such file or directory: '/home/jihuawei/jhw_pdf_parser/datasets/ArXiv体系/1609.03849/1609.03849.pdf'\n",
      "['https://arxiv.org/abs/0704.3221']\n",
      "Downloading papers...\n"
     ]
    },
    {
     "name": "stderr",
     "output_type": "stream",
     "text": [
      "1it [00:45, 45.26s/it]\n",
      " 52%|█████▏    | 487/935 [8:14:02<6:21:35, 51.11s/it]"
     ]
    },
    {
     "name": "stdout",
     "output_type": "stream",
     "text": [
      "Finished\n",
      "['https://arxiv.org/abs/1902.07736']\n",
      "Downloading papers...\n"
     ]
    },
    {
     "name": "stderr",
     "output_type": "stream",
     "text": [
      "1it [00:53, 53.53s/it]\n",
      " 52%|█████▏    | 488/935 [8:14:56<6:26:09, 51.83s/it]"
     ]
    },
    {
     "name": "stdout",
     "output_type": "stream",
     "text": [
      "Finished\n",
      "['https://arxiv.org/abs/1009.1590']\n",
      "Downloading papers...\n"
     ]
    },
    {
     "name": "stderr",
     "output_type": "stream",
     "text": [
      "0it [00:41, ?it/s]\n",
      " 52%|█████▏    | 489/935 [8:15:38<6:03:09, 48.86s/it]"
     ]
    },
    {
     "name": "stdout",
     "output_type": "stream",
     "text": [
      "file could not be opened successfully:\n",
      "- method gz: ReadError('not a gzip file')\n",
      "- method bz2: ReadError('not a bzip2 file')\n",
      "- method xz: ReadError('not an lzma file')\n",
      "- method tar: ReadError('invalid header')\n",
      "Something goes wrong. Please check the input or concat me to fix this bug. Error message: \n",
      "[Errno 2] No such file or directory: '/home/jihuawei/jhw_pdf_parser/datasets/ArXiv体系/1009.1590/1009.1590.pdf'\n",
      "['https://arxiv.org/abs/2011.04756']\n",
      "Downloading papers...\n"
     ]
    },
    {
     "name": "stderr",
     "output_type": "stream",
     "text": [
      "1it [00:44, 44.44s/it]\n",
      " 52%|█████▏    | 490/935 [8:16:22<5:52:31, 47.53s/it]"
     ]
    },
    {
     "name": "stdout",
     "output_type": "stream",
     "text": [
      "Finished\n",
      "['https://arxiv.org/abs/1603.09309']\n",
      "Downloading papers...\n"
     ]
    },
    {
     "name": "stderr",
     "output_type": "stream",
     "text": [
      "1it [00:42, 42.95s/it]\n",
      " 53%|█████▎    | 491/935 [8:17:05<5:41:34, 46.16s/it]"
     ]
    },
    {
     "name": "stdout",
     "output_type": "stream",
     "text": [
      "Finished\n",
      "['https://arxiv.org/abs/1904.10304']\n",
      "Downloading papers...\n"
     ]
    },
    {
     "name": "stderr",
     "output_type": "stream",
     "text": [
      "1it [03:18, 198.26s/it]\n",
      " 53%|█████▎    | 492/935 [8:20:23<11:17:43, 91.79s/it]"
     ]
    },
    {
     "name": "stdout",
     "output_type": "stream",
     "text": [
      "Finished\n",
      "['https://arxiv.org/abs/2108.10852']\n",
      "Downloading papers...\n"
     ]
    },
    {
     "name": "stderr",
     "output_type": "stream",
     "text": [
      "1it [00:49, 49.14s/it]\n",
      " 53%|█████▎    | 493/935 [8:21:12<9:41:56, 79.00s/it] "
     ]
    },
    {
     "name": "stdout",
     "output_type": "stream",
     "text": [
      "Finished\n",
      "['https://arxiv.org/abs/1012.4836']\n",
      "Downloading papers...\n"
     ]
    },
    {
     "name": "stderr",
     "output_type": "stream",
     "text": [
      "1it [00:18, 18.53s/it]\n",
      " 53%|█████▎    | 494/935 [8:21:31<7:27:17, 60.86s/it]"
     ]
    },
    {
     "name": "stdout",
     "output_type": "stream",
     "text": [
      "Finished\n",
      "['https://arxiv.org/abs/1106.4679']\n",
      "Downloading papers...\n"
     ]
    },
    {
     "name": "stderr",
     "output_type": "stream",
     "text": [
      "1it [03:41, 221.79s/it]\n",
      " 53%|█████▎    | 495/935 [8:25:13<13:20:21, 109.14s/it]"
     ]
    },
    {
     "name": "stdout",
     "output_type": "stream",
     "text": [
      "Finished\n",
      "['https://arxiv.org/abs/2109.06566']\n",
      "Downloading papers...\n"
     ]
    },
    {
     "name": "stderr",
     "output_type": "stream",
     "text": [
      "1it [07:35, 455.44s/it]\n",
      " 53%|█████▎    | 496/935 [8:32:48<25:58:40, 213.03s/it]"
     ]
    },
    {
     "name": "stdout",
     "output_type": "stream",
     "text": [
      "Finished\n",
      "['https://arxiv.org/abs/0810.1353']\n",
      "Downloading papers...\n"
     ]
    },
    {
     "name": "stderr",
     "output_type": "stream",
     "text": [
      "1it [00:11, 11.63s/it]\n",
      " 53%|█████▎    | 497/935 [8:33:00<18:34:04, 152.61s/it]"
     ]
    },
    {
     "name": "stdout",
     "output_type": "stream",
     "text": [
      "Finished\n",
      "['https://arxiv.org/abs/1102.0747']\n",
      "Downloading papers...\n"
     ]
    },
    {
     "name": "stderr",
     "output_type": "stream",
     "text": [
      "0it [00:10, ?it/s]\n",
      " 53%|█████▎    | 498/935 [8:33:10<13:20:13, 109.87s/it]"
     ]
    },
    {
     "name": "stdout",
     "output_type": "stream",
     "text": [
      "file could not be opened successfully:\n",
      "- method gz: ReadError('invalid header')\n",
      "- method bz2: ReadError('not a bzip2 file')\n",
      "- method xz: ReadError('not an lzma file')\n",
      "- method tar: ReadError('invalid header')\n",
      "Something goes wrong. Please check the input or concat me to fix this bug. Error message: \n",
      "[Errno 2] No such file or directory: '/home/jihuawei/jhw_pdf_parser/datasets/ArXiv体系/1102.0747/1102.0747.pdf'\n",
      "['https://arxiv.org/abs/0711.4768']\n",
      "Downloading papers...\n"
     ]
    },
    {
     "name": "stderr",
     "output_type": "stream",
     "text": [
      "0it [00:15, ?it/s]\n",
      " 53%|█████▎    | 499/935 [8:33:26<9:53:10, 81.63s/it]  "
     ]
    },
    {
     "name": "stdout",
     "output_type": "stream",
     "text": [
      "file could not be opened successfully:\n",
      "- method gz: ReadError('not a gzip file')\n",
      "- method bz2: ReadError('not a bzip2 file')\n",
      "- method xz: ReadError('not an lzma file')\n",
      "- method tar: ReadError('invalid header')\n",
      "Something goes wrong. Please check the input or concat me to fix this bug. Error message: \n",
      "[Errno 2] No such file or directory: '/home/jihuawei/jhw_pdf_parser/datasets/ArXiv体系/0711.4768/0711.4768.pdf'\n",
      "['https://arxiv.org/abs/2111.05086']\n",
      "Downloading papers...\n"
     ]
    },
    {
     "name": "stderr",
     "output_type": "stream",
     "text": [
      "0it [00:11, ?it/s]\n",
      " 53%|█████▎    | 500/935 [8:33:38<7:20:17, 60.73s/it]"
     ]
    },
    {
     "name": "stdout",
     "output_type": "stream",
     "text": [
      "file could not be opened successfully:\n",
      "- method gz: ReadError('invalid header')\n",
      "- method bz2: ReadError('not a bzip2 file')\n",
      "- method xz: ReadError('not an lzma file')\n",
      "- method tar: ReadError('invalid header')\n",
      "Something goes wrong. Please check the input or concat me to fix this bug. Error message: \n",
      "[Errno 2] No such file or directory: '/home/jihuawei/jhw_pdf_parser/datasets/ArXiv体系/2111.05086/2111.05086.pdf'\n",
      "['https://arxiv.org/abs/1208.5561']\n",
      "Downloading papers...\n"
     ]
    },
    {
     "name": "stderr",
     "output_type": "stream",
     "text": [
      "0it [00:08, ?it/s]\n",
      " 54%|█████▎    | 501/935 [8:33:47<5:26:59, 45.21s/it]"
     ]
    },
    {
     "name": "stdout",
     "output_type": "stream",
     "text": [
      "file could not be opened successfully:\n",
      "- method gz: ReadError('invalid header')\n",
      "- method bz2: ReadError('not a bzip2 file')\n",
      "- method xz: ReadError('not an lzma file')\n",
      "- method tar: ReadError('invalid header')\n",
      "Something goes wrong. Please check the input or concat me to fix this bug. Error message: \n",
      "[Errno 2] No such file or directory: '/home/jihuawei/jhw_pdf_parser/datasets/ArXiv体系/1208.5561/1208.5561.pdf'\n",
      "['https://arxiv.org/abs/1601.07404']\n",
      "Downloading papers...\n"
     ]
    },
    {
     "name": "stderr",
     "output_type": "stream",
     "text": [
      "0it [00:08, ?it/s]\n",
      " 54%|█████▎    | 502/935 [8:33:56<4:07:46, 34.33s/it]"
     ]
    },
    {
     "name": "stdout",
     "output_type": "stream",
     "text": [
      "file could not be opened successfully:\n",
      "- method gz: ReadError('invalid header')\n",
      "- method bz2: ReadError('not a bzip2 file')\n",
      "- method xz: ReadError('not an lzma file')\n",
      "- method tar: ReadError('invalid header')\n",
      "Something goes wrong. Please check the input or concat me to fix this bug. Error message: \n",
      "[Errno 2] No such file or directory: '/home/jihuawei/jhw_pdf_parser/datasets/ArXiv体系/1601.07404/1601.07404.pdf'\n",
      "['https://arxiv.org/abs/1410.5134']\n",
      "Downloading papers...\n"
     ]
    },
    {
     "name": "stderr",
     "output_type": "stream",
     "text": [
      "1it [00:11, 11.37s/it]\n",
      " 54%|█████▍    | 503/935 [8:34:07<3:17:36, 27.45s/it]"
     ]
    },
    {
     "name": "stdout",
     "output_type": "stream",
     "text": [
      "Finished\n",
      "['https://arxiv.org/abs/1503.04732']\n",
      "Downloading papers...\n"
     ]
    },
    {
     "name": "stderr",
     "output_type": "stream",
     "text": [
      "1it [00:35, 35.43s/it]\n",
      " 54%|█████▍    | 504/935 [8:34:42<3:34:21, 29.84s/it]"
     ]
    },
    {
     "name": "stdout",
     "output_type": "stream",
     "text": [
      "Finished\n",
      "['https://arxiv.org/abs/0704.3320']\n",
      "Downloading papers...\n"
     ]
    },
    {
     "name": "stderr",
     "output_type": "stream",
     "text": [
      "0it [00:34, ?it/s]\n",
      " 54%|█████▍    | 505/935 [8:35:16<3:42:49, 31.09s/it]"
     ]
    },
    {
     "name": "stdout",
     "output_type": "stream",
     "text": [
      "file could not be opened successfully:\n",
      "- method gz: ReadError('not a gzip file')\n",
      "- method bz2: ReadError('not a bzip2 file')\n",
      "- method xz: ReadError('not an lzma file')\n",
      "- method tar: ReadError('bad checksum')\n",
      "Something goes wrong. Please check the input or concat me to fix this bug. Error message: \n",
      "[Errno 2] No such file or directory: '/home/jihuawei/jhw_pdf_parser/datasets/ArXiv体系/0704.3320/0704.3320.pdf'\n",
      "['https://arxiv.org/abs/2304.14764']\n",
      "Downloading papers...\n"
     ]
    },
    {
     "name": "stderr",
     "output_type": "stream",
     "text": [
      "1it [01:01, 61.75s/it]\n",
      " 54%|█████▍    | 506/935 [8:36:18<4:48:03, 40.29s/it]"
     ]
    },
    {
     "name": "stdout",
     "output_type": "stream",
     "text": [
      "Finished\n",
      "['https://arxiv.org/abs/1608.00193']\n",
      "Downloading papers...\n"
     ]
    },
    {
     "name": "stderr",
     "output_type": "stream",
     "text": [
      "0it [00:13, ?it/s]\n",
      " 54%|█████▍    | 507/935 [8:36:32<3:51:04, 32.39s/it]"
     ]
    },
    {
     "name": "stdout",
     "output_type": "stream",
     "text": [
      "file could not be opened successfully:\n",
      "- method gz: ReadError('invalid header')\n",
      "- method bz2: ReadError('not a bzip2 file')\n",
      "- method xz: ReadError('not an lzma file')\n",
      "- method tar: ReadError('invalid header')\n",
      "Something goes wrong. Please check the input or concat me to fix this bug. Error message: \n",
      "[Errno 2] No such file or directory: '/home/jihuawei/jhw_pdf_parser/datasets/ArXiv体系/1608.00193/1608.00193.pdf'\n",
      "['https://arxiv.org/abs/1710.00402']\n",
      "Downloading papers...\n"
     ]
    },
    {
     "name": "stderr",
     "output_type": "stream",
     "text": [
      "1it [00:12, 12.65s/it]\n",
      " 54%|█████▍    | 508/935 [8:36:45<3:08:23, 26.47s/it]"
     ]
    },
    {
     "name": "stdout",
     "output_type": "stream",
     "text": [
      "Finished\n",
      "['https://arxiv.org/abs/0911.5057']\n",
      "Downloading papers...\n"
     ]
    },
    {
     "name": "stderr",
     "output_type": "stream",
     "text": [
      "0it [00:55, ?it/s]\n",
      " 54%|█████▍    | 509/935 [8:37:41<4:10:22, 35.26s/it]"
     ]
    },
    {
     "name": "stdout",
     "output_type": "stream",
     "text": [
      "file could not be opened successfully:\n",
      "- method gz: ReadError('not a gzip file')\n",
      "- method bz2: ReadError('not a bzip2 file')\n",
      "- method xz: ReadError('not an lzma file')\n",
      "- method tar: ReadError('invalid header')\n",
      "Something goes wrong. Please check the input or concat me to fix this bug. Error message: \n",
      "[Errno 2] No such file or directory: '/home/jihuawei/jhw_pdf_parser/datasets/ArXiv体系/0911.5057/0911.5057.pdf'\n",
      "['https://arxiv.org/abs/1710.10232']\n",
      "Downloading papers...\n"
     ]
    },
    {
     "name": "stderr",
     "output_type": "stream",
     "text": [
      "1it [01:48, 108.35s/it]\n",
      " 55%|█████▍    | 510/935 [8:39:29<6:45:06, 57.19s/it]"
     ]
    },
    {
     "name": "stdout",
     "output_type": "stream",
     "text": [
      "Finished\n",
      "['https://arxiv.org/abs/1210.5100']\n",
      "Downloading papers...\n"
     ]
    },
    {
     "name": "stderr",
     "output_type": "stream",
     "text": [
      "1it [01:17, 77.20s/it]\n",
      " 55%|█████▍    | 511/935 [8:40:46<7:26:35, 63.20s/it]"
     ]
    },
    {
     "name": "stdout",
     "output_type": "stream",
     "text": [
      "Finished\n",
      "['https://arxiv.org/abs/1402.4063']\n",
      "Downloading papers...\n"
     ]
    },
    {
     "name": "stderr",
     "output_type": "stream",
     "text": [
      "0it [02:16, ?it/s]\n",
      " 55%|█████▍    | 512/935 [8:43:02<10:00:01, 85.11s/it]"
     ]
    },
    {
     "name": "stdout",
     "output_type": "stream",
     "text": [
      "file could not be opened successfully:\n",
      "- method gz: ReadError('not a gzip file')\n",
      "- method bz2: ReadError('not a bzip2 file')\n",
      "- method xz: ReadError('not an lzma file')\n",
      "- method tar: ReadError('invalid header')\n",
      "Something goes wrong. Please check the input or concat me to fix this bug. Error message: \n",
      "[Errno 2] No such file or directory: '/home/jihuawei/jhw_pdf_parser/datasets/ArXiv体系/1402.4063/1402.4063.pdf'\n",
      "['https://arxiv.org/abs/1901.05957']\n",
      "Downloading papers...\n"
     ]
    },
    {
     "name": "stderr",
     "output_type": "stream",
     "text": [
      "1it [02:43, 163.96s/it]\n",
      " 55%|█████▍    | 513/935 [8:45:46<12:44:59, 108.77s/it]"
     ]
    },
    {
     "name": "stdout",
     "output_type": "stream",
     "text": [
      "Finished\n",
      "['https://arxiv.org/abs/0704.3316']\n",
      "Downloading papers...\n"
     ]
    },
    {
     "name": "stderr",
     "output_type": "stream",
     "text": [
      "1it [00:52, 52.99s/it]\n",
      " 55%|█████▍    | 514/935 [8:46:39<10:45:47, 92.04s/it] "
     ]
    },
    {
     "name": "stdout",
     "output_type": "stream",
     "text": [
      "Finished\n",
      "['https://arxiv.org/abs/2108.02647']\n",
      "Downloading papers...\n"
     ]
    },
    {
     "name": "stderr",
     "output_type": "stream",
     "text": [
      "1it [02:29, 149.26s/it]\n",
      " 55%|█████▌    | 515/935 [8:49:09<12:44:25, 109.20s/it]"
     ]
    },
    {
     "name": "stdout",
     "output_type": "stream",
     "text": [
      "Finished\n",
      "['https://arxiv.org/abs/2202.12660']\n",
      "Downloading papers...\n"
     ]
    },
    {
     "name": "stderr",
     "output_type": "stream",
     "text": [
      "0it [01:07, ?it/s]\n",
      " 55%|█████▌    | 516/935 [8:50:16<11:14:21, 96.57s/it] "
     ]
    },
    {
     "name": "stdout",
     "output_type": "stream",
     "text": [
      "file could not be opened successfully:\n",
      "- method gz: ReadError('not a gzip file')\n",
      "- method bz2: ReadError('not a bzip2 file')\n",
      "- method xz: ReadError('not an lzma file')\n",
      "- method tar: ReadError('invalid header')\n",
      "Something goes wrong. Please check the input or concat me to fix this bug. Error message: \n",
      "[Errno 2] No such file or directory: '/home/jihuawei/jhw_pdf_parser/datasets/ArXiv体系/2202.12660/2202.12660.pdf'\n",
      "['https://arxiv.org/abs/1108.0649']\n",
      "Downloading papers...\n"
     ]
    },
    {
     "name": "stderr",
     "output_type": "stream",
     "text": [
      "1it [01:05, 65.00s/it]\n",
      " 55%|█████▌    | 517/935 [8:51:21<10:06:47, 87.10s/it]"
     ]
    },
    {
     "name": "stdout",
     "output_type": "stream",
     "text": [
      "Finished\n",
      "['https://arxiv.org/abs/1803.11469']\n",
      "Downloading papers...\n"
     ]
    },
    {
     "name": "stderr",
     "output_type": "stream",
     "text": [
      "1it [03:07, 187.69s/it]\n",
      " 55%|█████▌    | 518/935 [8:54:28<13:35:04, 117.28s/it]"
     ]
    },
    {
     "name": "stdout",
     "output_type": "stream",
     "text": [
      "Finished\n",
      "['https://arxiv.org/abs/1605.08196']\n",
      "Downloading papers...\n"
     ]
    },
    {
     "name": "stderr",
     "output_type": "stream",
     "text": [
      "1it [00:11, 11.53s/it]\n",
      " 56%|█████▌    | 519/935 [8:54:40<9:53:10, 85.55s/it]  "
     ]
    },
    {
     "name": "stdout",
     "output_type": "stream",
     "text": [
      "Finished\n",
      "['https://arxiv.org/abs/0812.1383']\n",
      "Downloading papers...\n"
     ]
    },
    {
     "name": "stderr",
     "output_type": "stream",
     "text": [
      "1it [00:16, 16.87s/it]\n",
      " 56%|█████▌    | 520/935 [8:54:57<7:29:14, 64.95s/it]"
     ]
    },
    {
     "name": "stdout",
     "output_type": "stream",
     "text": [
      "Finished\n",
      "['https://arxiv.org/abs/0904.3142']\n",
      "Downloading papers...\n"
     ]
    },
    {
     "name": "stderr",
     "output_type": "stream",
     "text": [
      "0it [00:09, ?it/s]\n",
      " 56%|█████▌    | 521/935 [8:55:06<5:33:15, 48.30s/it]"
     ]
    },
    {
     "name": "stdout",
     "output_type": "stream",
     "text": [
      "file could not be opened successfully:\n",
      "- method gz: ReadError('invalid header')\n",
      "- method bz2: ReadError('not a bzip2 file')\n",
      "- method xz: ReadError('not an lzma file')\n",
      "- method tar: ReadError('invalid header')\n",
      "Something goes wrong. Please check the input or concat me to fix this bug. Error message: \n",
      "[Errno 2] No such file or directory: '/home/jihuawei/jhw_pdf_parser/datasets/ArXiv体系/0904.3142/0904.3142.pdf'\n",
      "['https://arxiv.org/abs/1012.3907']\n",
      "Downloading papers...\n"
     ]
    },
    {
     "name": "stderr",
     "output_type": "stream",
     "text": [
      "1it [00:15, 16.00s/it]\n",
      " 56%|█████▌    | 522/935 [8:55:22<4:25:45, 38.61s/it]"
     ]
    },
    {
     "name": "stdout",
     "output_type": "stream",
     "text": [
      "Finished\n",
      "['https://arxiv.org/abs/1109.1772']\n",
      "Downloading papers...\n"
     ]
    },
    {
     "name": "stderr",
     "output_type": "stream",
     "text": [
      "0it [00:18, ?it/s]\n",
      " 56%|█████▌    | 523/935 [8:55:41<3:44:06, 32.64s/it]"
     ]
    },
    {
     "name": "stdout",
     "output_type": "stream",
     "text": [
      "file could not be opened successfully:\n",
      "- method gz: ReadError('invalid header')\n",
      "- method bz2: ReadError('not a bzip2 file')\n",
      "- method xz: ReadError('not an lzma file')\n",
      "- method tar: ReadError('invalid header')\n",
      "Something goes wrong. Please check the input or concat me to fix this bug. Error message: \n",
      "[Errno 2] No such file or directory: '/home/jihuawei/jhw_pdf_parser/datasets/ArXiv体系/1109.1772/1109.1772.pdf'\n",
      "['https://arxiv.org/abs/1705.00834']\n",
      "Downloading papers...\n"
     ]
    },
    {
     "name": "stderr",
     "output_type": "stream",
     "text": [
      "1it [00:20, 20.62s/it]\n",
      " 56%|█████▌    | 524/935 [8:56:02<3:18:56, 29.04s/it]"
     ]
    },
    {
     "name": "stdout",
     "output_type": "stream",
     "text": [
      "Finished\n",
      "['https://arxiv.org/abs/2111.08917']\n",
      "Downloading papers...\n"
     ]
    },
    {
     "name": "stderr",
     "output_type": "stream",
     "text": [
      "0it [00:11, ?it/s]\n",
      " 56%|█████▌    | 525/935 [8:56:13<2:41:57, 23.70s/it]"
     ]
    },
    {
     "name": "stdout",
     "output_type": "stream",
     "text": [
      "file could not be opened successfully:\n",
      "- method gz: ReadError('invalid header')\n",
      "- method bz2: ReadError('not a bzip2 file')\n",
      "- method xz: ReadError('not an lzma file')\n",
      "- method tar: ReadError('invalid header')\n",
      "Something goes wrong. Please check the input or concat me to fix this bug. Error message: \n",
      "[Errno 2] No such file or directory: '/home/jihuawei/jhw_pdf_parser/datasets/ArXiv体系/2111.08917/2111.08917.pdf'\n",
      "['https://arxiv.org/abs/0711.2665']\n",
      "Downloading papers...\n"
     ]
    },
    {
     "name": "stderr",
     "output_type": "stream",
     "text": [
      "1it [00:36, 36.18s/it]\n",
      " 56%|█████▋    | 526/935 [8:56:49<3:07:05, 27.45s/it]"
     ]
    },
    {
     "name": "stdout",
     "output_type": "stream",
     "text": [
      "Finished\n",
      "['https://arxiv.org/abs/1912.05216']\n",
      "Downloading papers...\n"
     ]
    },
    {
     "name": "stderr",
     "output_type": "stream",
     "text": [
      "1it [01:22, 82.61s/it]\n",
      " 56%|█████▋    | 527/935 [8:58:12<4:59:10, 44.00s/it]"
     ]
    },
    {
     "name": "stdout",
     "output_type": "stream",
     "text": [
      "Finished\n",
      "['https://arxiv.org/abs/0906.1458']\n",
      "Downloading papers...\n"
     ]
    },
    {
     "name": "stderr",
     "output_type": "stream",
     "text": [
      "0it [00:15, ?it/s]\n",
      " 56%|█████▋    | 528/935 [8:58:28<4:01:13, 35.56s/it]"
     ]
    },
    {
     "name": "stdout",
     "output_type": "stream",
     "text": [
      "file could not be opened successfully:\n",
      "- method gz: ReadError('invalid header')\n",
      "- method bz2: ReadError('not a bzip2 file')\n",
      "- method xz: ReadError('not an lzma file')\n",
      "- method tar: ReadError('invalid header')\n",
      "Something goes wrong. Please check the input or concat me to fix this bug. Error message: \n",
      "[Errno 2] No such file or directory: '/home/jihuawei/jhw_pdf_parser/datasets/ArXiv体系/0906.1458/0906.1458.pdf'\n",
      "['https://arxiv.org/abs/1502.07630']\n",
      "Downloading papers...\n"
     ]
    },
    {
     "name": "stderr",
     "output_type": "stream",
     "text": [
      "1it [00:18, 18.28s/it]\n",
      " 57%|█████▋    | 529/935 [8:58:46<3:25:33, 30.38s/it]"
     ]
    },
    {
     "name": "stdout",
     "output_type": "stream",
     "text": [
      "Finished\n",
      "['https://arxiv.org/abs/1904.06813']\n",
      "Downloading papers...\n"
     ]
    },
    {
     "name": "stderr",
     "output_type": "stream",
     "text": [
      "1it [00:35, 35.64s/it]\n",
      " 57%|█████▋    | 530/935 [8:59:22<3:35:43, 31.96s/it]"
     ]
    },
    {
     "name": "stdout",
     "output_type": "stream",
     "text": [
      "Finished\n",
      "['https://arxiv.org/abs/2006.04458']\n",
      "Downloading papers...\n"
     ]
    },
    {
     "name": "stderr",
     "output_type": "stream",
     "text": [
      "1it [00:50, 50.68s/it]\n",
      " 57%|█████▋    | 531/935 [9:00:12<4:13:00, 37.58s/it]"
     ]
    },
    {
     "name": "stdout",
     "output_type": "stream",
     "text": [
      "Finished\n",
      "['https://arxiv.org/abs/1405.6104']\n",
      "Downloading papers...\n"
     ]
    },
    {
     "name": "stderr",
     "output_type": "stream",
     "text": [
      "1it [06:19, 379.20s/it]\n",
      " 57%|█████▋    | 532/935 [9:06:31<15:40:46, 140.07s/it]"
     ]
    },
    {
     "name": "stdout",
     "output_type": "stream",
     "text": [
      "Finished\n",
      "['https://arxiv.org/abs/2211.00609']\n",
      "Downloading papers...\n"
     ]
    },
    {
     "name": "stderr",
     "output_type": "stream",
     "text": [
      "1it [02:05, 125.08s/it]\n",
      " 57%|█████▋    | 533/935 [9:08:36<15:08:19, 135.57s/it]"
     ]
    },
    {
     "name": "stdout",
     "output_type": "stream",
     "text": [
      "Finished\n",
      "['https://arxiv.org/abs/2207.12628']\n",
      "Downloading papers...\n"
     ]
    },
    {
     "name": "stderr",
     "output_type": "stream",
     "text": [
      "1it [02:38, 158.56s/it]\n",
      " 57%|█████▋    | 534/935 [9:11:15<15:52:10, 142.47s/it]"
     ]
    },
    {
     "name": "stdout",
     "output_type": "stream",
     "text": [
      "Finished\n",
      "['https://arxiv.org/abs/1006.3035']\n",
      "Downloading papers...\n"
     ]
    },
    {
     "name": "stderr",
     "output_type": "stream",
     "text": [
      "0it [01:21, ?it/s]\n",
      " 57%|█████▋    | 535/935 [9:12:36<13:47:38, 124.15s/it]"
     ]
    },
    {
     "name": "stdout",
     "output_type": "stream",
     "text": [
      "file could not be opened successfully:\n",
      "- method gz: ReadError('not a gzip file')\n",
      "- method bz2: ReadError('not a bzip2 file')\n",
      "- method xz: ReadError('not an lzma file')\n",
      "- method tar: ReadError('invalid header')\n",
      "Something goes wrong. Please check the input or concat me to fix this bug. Error message: \n",
      "[Errno 2] No such file or directory: '/home/jihuawei/jhw_pdf_parser/datasets/ArXiv体系/1006.3035/1006.3035.pdf'\n",
      "['https://arxiv.org/abs/1902.02632']\n",
      "Downloading papers...\n"
     ]
    },
    {
     "name": "stderr",
     "output_type": "stream",
     "text": [
      "1it [02:55, 175.15s/it]\n",
      " 57%|█████▋    | 536/935 [9:15:32<15:27:20, 139.45s/it]"
     ]
    },
    {
     "name": "stdout",
     "output_type": "stream",
     "text": [
      "Finished\n",
      "['https://arxiv.org/abs/2012.10297']\n",
      "Downloading papers...\n"
     ]
    },
    {
     "name": "stderr",
     "output_type": "stream",
     "text": [
      "1it [03:11, 191.34s/it]\n",
      " 57%|█████▋    | 537/935 [9:18:43<17:08:16, 155.02s/it]"
     ]
    },
    {
     "name": "stdout",
     "output_type": "stream",
     "text": [
      "Finished\n",
      "['https://arxiv.org/abs/0711.1873']\n",
      "Downloading papers...\n"
     ]
    },
    {
     "name": "stderr",
     "output_type": "stream",
     "text": [
      "1it [03:05, 185.38s/it]\n",
      " 58%|█████▊    | 538/935 [9:21:48<18:05:58, 164.13s/it]"
     ]
    },
    {
     "name": "stdout",
     "output_type": "stream",
     "text": [
      "Finished\n",
      "['https://arxiv.org/abs/2102.13106']\n",
      "Downloading papers...\n"
     ]
    },
    {
     "name": "stderr",
     "output_type": "stream",
     "text": [
      "0it [00:09, ?it/s]\n",
      " 58%|█████▊    | 539/935 [9:21:58<12:57:05, 117.74s/it]"
     ]
    },
    {
     "name": "stdout",
     "output_type": "stream",
     "text": [
      "file could not be opened successfully:\n",
      "- method gz: ReadError('invalid header')\n",
      "- method bz2: ReadError('not a bzip2 file')\n",
      "- method xz: ReadError('not an lzma file')\n",
      "- method tar: ReadError('invalid header')\n",
      "Something goes wrong. Please check the input or concat me to fix this bug. Error message: \n",
      "[Errno 2] No such file or directory: '/home/jihuawei/jhw_pdf_parser/datasets/ArXiv体系/2102.13106/2102.13106.pdf'\n",
      "['https://arxiv.org/abs/2210.10560']\n",
      "Downloading papers...\n"
     ]
    },
    {
     "name": "stderr",
     "output_type": "stream",
     "text": [
      "1it [00:54, 54.36s/it]\n",
      " 58%|█████▊    | 540/935 [9:22:52<10:49:56, 98.73s/it] "
     ]
    },
    {
     "name": "stdout",
     "output_type": "stream",
     "text": [
      "Finished\n",
      "['https://arxiv.org/abs/1410.3157']\n",
      "Downloading papers...\n"
     ]
    },
    {
     "name": "stderr",
     "output_type": "stream",
     "text": [
      "0it [00:09, ?it/s]\n",
      " 58%|█████▊    | 541/935 [9:23:02<7:52:30, 71.96s/it] "
     ]
    },
    {
     "name": "stdout",
     "output_type": "stream",
     "text": [
      "file could not be opened successfully:\n",
      "- method gz: ReadError('invalid header')\n",
      "- method bz2: ReadError('not a bzip2 file')\n",
      "- method xz: ReadError('not an lzma file')\n",
      "- method tar: ReadError('invalid header')\n",
      "Something goes wrong. Please check the input or concat me to fix this bug. Error message: \n",
      "[Errno 2] No such file or directory: '/home/jihuawei/jhw_pdf_parser/datasets/ArXiv体系/1410.3157/1410.3157.pdf'\n",
      "['https://arxiv.org/abs/0804.3820']\n",
      "Downloading papers...\n"
     ]
    },
    {
     "name": "stderr",
     "output_type": "stream",
     "text": [
      "0it [00:07, ?it/s]\n",
      " 58%|█████▊    | 542/935 [9:23:09<5:44:19, 52.57s/it]"
     ]
    },
    {
     "name": "stdout",
     "output_type": "stream",
     "text": [
      "file could not be opened successfully:\n",
      "- method gz: ReadError('invalid header')\n",
      "- method bz2: ReadError('not a bzip2 file')\n",
      "- method xz: ReadError('not an lzma file')\n",
      "- method tar: ReadError('invalid header')\n",
      "Something goes wrong. Please check the input or concat me to fix this bug. Error message: \n",
      "[Errno 2] No such file or directory: '/home/jihuawei/jhw_pdf_parser/datasets/ArXiv体系/0804.3820/0804.3820.pdf'\n",
      "['https://arxiv.org/abs/1307.1927']\n",
      "Downloading papers...\n"
     ]
    },
    {
     "name": "stderr",
     "output_type": "stream",
     "text": [
      "1it [00:10, 10.04s/it]\n",
      " 58%|█████▊    | 543/935 [9:23:19<4:20:06, 39.81s/it]"
     ]
    },
    {
     "name": "stdout",
     "output_type": "stream",
     "text": [
      "Finished\n",
      "['https://arxiv.org/abs/1902.08758']\n",
      "Downloading papers...\n"
     ]
    },
    {
     "name": "stderr",
     "output_type": "stream",
     "text": [
      "0it [00:10, ?it/s]\n",
      " 58%|█████▊    | 544/935 [9:23:29<3:21:15, 30.88s/it]"
     ]
    },
    {
     "name": "stdout",
     "output_type": "stream",
     "text": [
      "file could not be opened successfully:\n",
      "- method gz: ReadError('invalid header')\n",
      "- method bz2: ReadError('not a bzip2 file')\n",
      "- method xz: ReadError('not an lzma file')\n",
      "- method tar: ReadError('invalid header')\n",
      "Something goes wrong. Please check the input or concat me to fix this bug. Error message: \n",
      "[Errno 2] No such file or directory: '/home/jihuawei/jhw_pdf_parser/datasets/ArXiv体系/1902.08758/1902.08758.pdf'\n",
      "['https://arxiv.org/abs/0808.0501']\n",
      "Downloading papers...\n"
     ]
    },
    {
     "name": "stderr",
     "output_type": "stream",
     "text": [
      "1it [00:15, 15.88s/it]\n",
      " 58%|█████▊    | 545/935 [9:23:45<2:51:29, 26.38s/it]"
     ]
    },
    {
     "name": "stdout",
     "output_type": "stream",
     "text": [
      "Finished\n",
      "['https://arxiv.org/abs/2112.05725']\n",
      "Downloading papers...\n"
     ]
    },
    {
     "name": "stderr",
     "output_type": "stream",
     "text": [
      "1it [00:08,  8.94s/it]\n",
      " 58%|█████▊    | 546/935 [9:23:54<2:17:07, 21.15s/it]"
     ]
    },
    {
     "name": "stdout",
     "output_type": "stream",
     "text": [
      "Finished\n",
      "['https://arxiv.org/abs/1410.0427']\n",
      "Downloading papers...\n"
     ]
    },
    {
     "name": "stderr",
     "output_type": "stream",
     "text": [
      "0it [00:12, ?it/s]\n",
      " 59%|█████▊    | 547/935 [9:24:07<2:00:12, 18.59s/it]"
     ]
    },
    {
     "name": "stdout",
     "output_type": "stream",
     "text": [
      "file could not be opened successfully:\n",
      "- method gz: ReadError('invalid header')\n",
      "- method bz2: ReadError('not a bzip2 file')\n",
      "- method xz: ReadError('not an lzma file')\n",
      "- method tar: ReadError('invalid header')\n",
      "Something goes wrong. Please check the input or concat me to fix this bug. Error message: \n",
      "[Errno 2] No such file or directory: '/home/jihuawei/jhw_pdf_parser/datasets/ArXiv体系/1410.0427/1410.0427.pdf'\n",
      "['https://arxiv.org/abs/1803.10208']\n",
      "Downloading papers...\n"
     ]
    },
    {
     "name": "stderr",
     "output_type": "stream",
     "text": [
      "0it [00:14, ?it/s]\n",
      " 59%|█████▊    | 548/935 [9:24:21<1:51:42, 17.32s/it]"
     ]
    },
    {
     "name": "stdout",
     "output_type": "stream",
     "text": [
      "file could not be opened successfully:\n",
      "- method gz: ReadError('invalid header')\n",
      "- method bz2: ReadError('not a bzip2 file')\n",
      "- method xz: ReadError('not an lzma file')\n",
      "- method tar: ReadError('invalid header')\n",
      "Something goes wrong. Please check the input or concat me to fix this bug. Error message: \n",
      "[Errno 2] No such file or directory: '/home/jihuawei/jhw_pdf_parser/datasets/ArXiv体系/1803.10208/1803.10208.pdf'\n",
      "['https://arxiv.org/abs/1806.00856']\n",
      "Downloading papers...\n"
     ]
    },
    {
     "name": "stderr",
     "output_type": "stream",
     "text": [
      "0it [00:13, ?it/s]\n",
      " 59%|█████▊    | 549/935 [9:24:34<1:43:16, 16.05s/it]"
     ]
    },
    {
     "name": "stdout",
     "output_type": "stream",
     "text": [
      "file could not be opened successfully:\n",
      "- method gz: ReadError('invalid header')\n",
      "- method bz2: ReadError('not a bzip2 file')\n",
      "- method xz: ReadError('not an lzma file')\n",
      "- method tar: ReadError('invalid header')\n",
      "Something goes wrong. Please check the input or concat me to fix this bug. Error message: \n",
      "[Errno 2] No such file or directory: '/home/jihuawei/jhw_pdf_parser/datasets/ArXiv体系/1806.00856/1806.00856.pdf'\n",
      "['https://arxiv.org/abs/2012.07956']\n",
      "Downloading papers...\n"
     ]
    },
    {
     "name": "stderr",
     "output_type": "stream",
     "text": [
      "0it [00:17, ?it/s]\n",
      " 59%|█████▉    | 550/935 [9:24:51<1:45:00, 16.36s/it]"
     ]
    },
    {
     "name": "stdout",
     "output_type": "stream",
     "text": [
      "file could not be opened successfully:\n",
      "- method gz: ReadError('invalid header')\n",
      "- method bz2: ReadError('not a bzip2 file')\n",
      "- method xz: ReadError('not an lzma file')\n",
      "- method tar: ReadError('invalid header')\n",
      "Something goes wrong. Please check the input or concat me to fix this bug. Error message: \n",
      "[Errno 2] No such file or directory: '/home/jihuawei/jhw_pdf_parser/datasets/ArXiv体系/2012.07956/2012.07956.pdf'\n",
      "['https://arxiv.org/abs/0705.1943']\n",
      "Downloading papers...\n"
     ]
    },
    {
     "name": "stderr",
     "output_type": "stream",
     "text": [
      "0it [00:24, ?it/s]\n",
      " 59%|█████▉    | 551/935 [9:25:16<2:00:13, 18.78s/it]"
     ]
    },
    {
     "name": "stdout",
     "output_type": "stream",
     "text": [
      "file could not be opened successfully:\n",
      "- method gz: ReadError('not a gzip file')\n",
      "- method bz2: ReadError('not a bzip2 file')\n",
      "- method xz: ReadError('not an lzma file')\n",
      "- method tar: ReadError('invalid header')\n",
      "Something goes wrong. Please check the input or concat me to fix this bug. Error message: \n",
      "[Errno 2] No such file or directory: '/home/jihuawei/jhw_pdf_parser/datasets/ArXiv体系/0705.1943/0705.1943.pdf'\n",
      "['https://arxiv.org/abs/2209.11950']\n",
      "Downloading papers...\n"
     ]
    },
    {
     "name": "stderr",
     "output_type": "stream",
     "text": [
      "0it [01:09, ?it/s]\n",
      " 59%|█████▉    | 552/935 [9:26:25<3:36:51, 33.97s/it]"
     ]
    },
    {
     "name": "stdout",
     "output_type": "stream",
     "text": [
      "file could not be opened successfully:\n",
      "- method gz: ReadError('not a gzip file')\n",
      "- method bz2: ReadError('not a bzip2 file')\n",
      "- method xz: ReadError('not an lzma file')\n",
      "- method tar: ReadError('invalid header')\n",
      "Something goes wrong. Please check the input or concat me to fix this bug. Error message: \n",
      "[Errno 2] No such file or directory: '/home/jihuawei/jhw_pdf_parser/datasets/ArXiv体系/2209.11950/2209.11950.pdf'\n",
      "['https://arxiv.org/abs/1908.00395']\n",
      "Downloading papers...\n"
     ]
    },
    {
     "name": "stderr",
     "output_type": "stream",
     "text": [
      "1it [00:55, 55.22s/it]\n",
      " 59%|█████▉    | 553/935 [9:27:20<4:16:53, 40.35s/it]"
     ]
    },
    {
     "name": "stdout",
     "output_type": "stream",
     "text": [
      "Finished\n",
      "['https://arxiv.org/abs/0704.3439']\n",
      "Downloading papers...\n"
     ]
    },
    {
     "name": "stderr",
     "output_type": "stream",
     "text": [
      "1it [00:22, 22.22s/it]\n",
      " 59%|█████▉    | 554/935 [9:27:42<3:41:41, 34.91s/it]"
     ]
    },
    {
     "name": "stdout",
     "output_type": "stream",
     "text": [
      "Finished\n",
      "['https://arxiv.org/abs/1207.1885']\n",
      "Downloading papers...\n"
     ]
    },
    {
     "name": "stderr",
     "output_type": "stream",
     "text": [
      "1it [00:21, 21.28s/it]\n",
      " 59%|█████▉    | 555/935 [9:28:04<3:15:13, 30.82s/it]"
     ]
    },
    {
     "name": "stdout",
     "output_type": "stream",
     "text": [
      "Finished\n",
      "['https://arxiv.org/abs/1203.0055']\n",
      "Downloading papers...\n"
     ]
    },
    {
     "name": "stderr",
     "output_type": "stream",
     "text": [
      "0it [00:44, ?it/s]\n",
      " 59%|█████▉    | 556/935 [9:28:48<3:40:28, 34.90s/it]"
     ]
    },
    {
     "name": "stdout",
     "output_type": "stream",
     "text": [
      "file could not be opened successfully:\n",
      "- method gz: ReadError('not a gzip file')\n",
      "- method bz2: ReadError('not a bzip2 file')\n",
      "- method xz: ReadError('not an lzma file')\n",
      "- method tar: ReadError('invalid header')\n",
      "Something goes wrong. Please check the input or concat me to fix this bug. Error message: \n",
      "[Errno 2] No such file or directory: '/home/jihuawei/jhw_pdf_parser/datasets/ArXiv体系/1203.0055/1203.0055.pdf'\n",
      "['https://arxiv.org/abs/1407.4490']\n",
      "Downloading papers...\n"
     ]
    },
    {
     "name": "stderr",
     "output_type": "stream",
     "text": [
      "1it [01:04, 64.25s/it]\n",
      " 60%|█████▉    | 557/935 [9:29:52<4:35:21, 43.71s/it]"
     ]
    },
    {
     "name": "stdout",
     "output_type": "stream",
     "text": [
      "Finished\n",
      "['https://arxiv.org/abs/1908.05497']\n",
      "Downloading papers...\n"
     ]
    },
    {
     "name": "stderr",
     "output_type": "stream",
     "text": [
      "0it [02:09, ?it/s]\n",
      " 60%|█████▉    | 558/935 [9:32:02<7:16:59, 69.55s/it]"
     ]
    },
    {
     "name": "stdout",
     "output_type": "stream",
     "text": [
      "file could not be opened successfully:\n",
      "- method gz: ReadError('not a gzip file')\n",
      "- method bz2: ReadError('not a bzip2 file')\n",
      "- method xz: ReadError('not an lzma file')\n",
      "- method tar: ReadError('invalid header')\n",
      "Something goes wrong. Please check the input or concat me to fix this bug. Error message: \n",
      "[Errno 2] No such file or directory: '/home/jihuawei/jhw_pdf_parser/datasets/ArXiv体系/1908.05497/1908.05497.pdf'\n",
      "['https://arxiv.org/abs/1501.05223']\n",
      "Downloading papers...\n"
     ]
    },
    {
     "name": "stderr",
     "output_type": "stream",
     "text": [
      "1it [00:56, 56.97s/it]\n",
      " 60%|█████▉    | 559/935 [9:32:59<6:52:11, 65.78s/it]"
     ]
    },
    {
     "name": "stdout",
     "output_type": "stream",
     "text": [
      "Finished\n",
      "['https://arxiv.org/abs/0704.3564']\n",
      "Downloading papers...\n"
     ]
    },
    {
     "name": "stderr",
     "output_type": "stream",
     "text": [
      "0it [00:10, ?it/s]\n",
      " 60%|█████▉    | 560/935 [9:33:10<5:07:31, 49.20s/it]"
     ]
    },
    {
     "name": "stdout",
     "output_type": "stream",
     "text": [
      "file could not be opened successfully:\n",
      "- method gz: ReadError('invalid header')\n",
      "- method bz2: ReadError('not a bzip2 file')\n",
      "- method xz: ReadError('not an lzma file')\n",
      "- method tar: ReadError('invalid header')\n",
      "Something goes wrong. Please check the input or concat me to fix this bug. Error message: \n",
      "[Errno 2] No such file or directory: '/home/jihuawei/jhw_pdf_parser/datasets/ArXiv体系/0704.3564/0704.3564.pdf'\n",
      "['https://arxiv.org/abs/0810.3504']\n",
      "Downloading papers...\n"
     ]
    },
    {
     "name": "stderr",
     "output_type": "stream",
     "text": [
      "1it [00:27, 27.20s/it]\n",
      " 60%|██████    | 561/935 [9:33:37<4:25:34, 42.61s/it]"
     ]
    },
    {
     "name": "stdout",
     "output_type": "stream",
     "text": [
      "Finished\n",
      "['https://arxiv.org/abs/2102.10812']\n",
      "Downloading papers...\n"
     ]
    },
    {
     "name": "stderr",
     "output_type": "stream",
     "text": [
      "1it [00:36, 36.56s/it]\n",
      " 60%|██████    | 562/935 [9:34:13<4:13:36, 40.79s/it]"
     ]
    },
    {
     "name": "stdout",
     "output_type": "stream",
     "text": [
      "Finished\n",
      "['https://arxiv.org/abs/1908.09956']\n",
      "Downloading papers...\n"
     ]
    },
    {
     "name": "stderr",
     "output_type": "stream",
     "text": [
      "1it [00:16, 16.47s/it]\n",
      " 60%|██████    | 563/935 [9:34:30<3:27:40, 33.50s/it]"
     ]
    },
    {
     "name": "stdout",
     "output_type": "stream",
     "text": [
      "Finished\n",
      "['https://arxiv.org/abs/0704.3636']\n",
      "Downloading papers...\n"
     ]
    },
    {
     "name": "stderr",
     "output_type": "stream",
     "text": [
      "1it [00:31, 31.43s/it]\n",
      " 60%|██████    | 564/935 [9:35:01<3:23:18, 32.88s/it]"
     ]
    },
    {
     "name": "stdout",
     "output_type": "stream",
     "text": [
      "Finished\n",
      "['https://arxiv.org/abs/1204.0113']\n",
      "Downloading papers...\n"
     ]
    },
    {
     "name": "stderr",
     "output_type": "stream",
     "text": [
      "1it [01:00, 60.64s/it]\n",
      " 60%|██████    | 565/935 [9:36:02<4:14:07, 41.21s/it]"
     ]
    },
    {
     "name": "stdout",
     "output_type": "stream",
     "text": [
      "Finished\n",
      "['https://arxiv.org/abs/2107.06272']\n",
      "Downloading papers...\n"
     ]
    },
    {
     "name": "stderr",
     "output_type": "stream",
     "text": [
      "1it [00:13, 13.25s/it]\n",
      " 61%|██████    | 566/935 [9:36:15<3:21:51, 32.82s/it]"
     ]
    },
    {
     "name": "stdout",
     "output_type": "stream",
     "text": [
      "Finished\n",
      "['https://arxiv.org/abs/1601.02473']\n",
      "Downloading papers...\n"
     ]
    },
    {
     "name": "stderr",
     "output_type": "stream",
     "text": [
      "0it [00:22, ?it/s]\n",
      " 61%|██████    | 567/935 [9:36:38<3:02:42, 29.79s/it]"
     ]
    },
    {
     "name": "stdout",
     "output_type": "stream",
     "text": [
      "file could not be opened successfully:\n",
      "- method gz: ReadError('invalid header')\n",
      "- method bz2: ReadError('not a bzip2 file')\n",
      "- method xz: ReadError('not an lzma file')\n",
      "- method tar: ReadError('invalid header')\n",
      "Something goes wrong. Please check the input or concat me to fix this bug. Error message: \n",
      "[Errno 2] No such file or directory: '/home/jihuawei/jhw_pdf_parser/datasets/ArXiv体系/1601.02473/1601.02473.pdf'\n",
      "['https://arxiv.org/abs/1106.1143']\n",
      "Downloading papers...\n"
     ]
    },
    {
     "name": "stderr",
     "output_type": "stream",
     "text": [
      "1it [00:23, 23.82s/it]\n",
      " 61%|██████    | 568/935 [9:37:02<2:51:15, 28.00s/it]"
     ]
    },
    {
     "name": "stdout",
     "output_type": "stream",
     "text": [
      "Finished\n",
      "['https://arxiv.org/abs/1012.3712']\n",
      "Downloading papers...\n"
     ]
    },
    {
     "name": "stderr",
     "output_type": "stream",
     "text": [
      "0it [00:18, ?it/s]\n",
      " 61%|██████    | 569/935 [9:37:20<2:33:17, 25.13s/it]"
     ]
    },
    {
     "name": "stdout",
     "output_type": "stream",
     "text": [
      "file could not be opened successfully:\n",
      "- method gz: ReadError('invalid header')\n",
      "- method bz2: ReadError('not a bzip2 file')\n",
      "- method xz: ReadError('not an lzma file')\n",
      "- method tar: ReadError('invalid header')\n",
      "Something goes wrong. Please check the input or concat me to fix this bug. Error message: \n",
      "[Errno 2] No such file or directory: '/home/jihuawei/jhw_pdf_parser/datasets/ArXiv体系/1012.3712/1012.3712.pdf'\n",
      "['https://arxiv.org/abs/0704.3573']\n",
      "Downloading papers...\n"
     ]
    },
    {
     "name": "stderr",
     "output_type": "stream",
     "text": [
      "1it [00:23, 23.83s/it]\n",
      " 61%|██████    | 570/935 [9:37:44<2:30:30, 24.74s/it]"
     ]
    },
    {
     "name": "stdout",
     "output_type": "stream",
     "text": [
      "Finished\n",
      "['https://arxiv.org/abs/0704.3577']\n",
      "Downloading papers...\n"
     ]
    },
    {
     "name": "stderr",
     "output_type": "stream",
     "text": [
      "0it [00:10, ?it/s]\n",
      " 61%|██████    | 571/935 [9:37:54<2:03:18, 20.33s/it]"
     ]
    },
    {
     "name": "stdout",
     "output_type": "stream",
     "text": [
      "file could not be opened successfully:\n",
      "- method gz: ReadError('invalid header')\n",
      "- method bz2: ReadError('not a bzip2 file')\n",
      "- method xz: ReadError('not an lzma file')\n",
      "- method tar: ReadError('invalid header')\n",
      "Something goes wrong. Please check the input or concat me to fix this bug. Error message: \n",
      "[Errno 2] No such file or directory: '/home/jihuawei/jhw_pdf_parser/datasets/ArXiv体系/0704.3577/0704.3577.pdf'\n",
      "['https://arxiv.org/abs/1401.5595']\n",
      "Downloading papers...\n"
     ]
    },
    {
     "name": "stderr",
     "output_type": "stream",
     "text": [
      "1it [00:27, 27.72s/it]\n",
      " 61%|██████    | 572/935 [9:38:22<2:16:24, 22.55s/it]"
     ]
    },
    {
     "name": "stdout",
     "output_type": "stream",
     "text": [
      "Finished\n",
      "['https://arxiv.org/abs/2003.12894']\n",
      "Downloading papers...\n"
     ]
    },
    {
     "name": "stderr",
     "output_type": "stream",
     "text": [
      "0it [00:18, ?it/s]\n",
      " 61%|██████▏   | 573/935 [9:38:40<2:07:57, 21.21s/it]"
     ]
    },
    {
     "name": "stdout",
     "output_type": "stream",
     "text": [
      "file could not be opened successfully:\n",
      "- method gz: ReadError('invalid header')\n",
      "- method bz2: ReadError('not a bzip2 file')\n",
      "- method xz: ReadError('not an lzma file')\n",
      "- method tar: ReadError('invalid header')\n",
      "Something goes wrong. Please check the input or concat me to fix this bug. Error message: \n",
      "[Errno 2] No such file or directory: '/home/jihuawei/jhw_pdf_parser/datasets/ArXiv体系/2003.12894/2003.12894.pdf'\n",
      "['https://arxiv.org/abs/1107.0011']\n",
      "Downloading papers...\n"
     ]
    },
    {
     "name": "stderr",
     "output_type": "stream",
     "text": [
      "0it [00:16, ?it/s]\n",
      " 61%|██████▏   | 574/935 [9:38:57<1:59:51, 19.92s/it]"
     ]
    },
    {
     "name": "stdout",
     "output_type": "stream",
     "text": [
      "file could not be opened successfully:\n",
      "- method gz: ReadError('not a gzip file')\n",
      "- method bz2: ReadError('not a bzip2 file')\n",
      "- method xz: ReadError('not an lzma file')\n",
      "- method tar: ReadError('invalid header')\n",
      "Something goes wrong. Please check the input or concat me to fix this bug. Error message: \n",
      "[Errno 2] No such file or directory: '/home/jihuawei/jhw_pdf_parser/datasets/ArXiv体系/1107.0011/1107.0011.pdf'\n",
      "['https://arxiv.org/abs/1312.5648']\n",
      "Downloading papers...\n"
     ]
    },
    {
     "name": "stderr",
     "output_type": "stream",
     "text": [
      "1it [02:56, 176.90s/it]\n",
      " 61%|██████▏   | 575/935 [9:41:54<6:42:05, 67.02s/it]"
     ]
    },
    {
     "name": "stdout",
     "output_type": "stream",
     "text": [
      "Finished\n",
      "['https://arxiv.org/abs/1608.08828']\n",
      "Downloading papers...\n"
     ]
    },
    {
     "name": "stderr",
     "output_type": "stream",
     "text": [
      "1it [01:54, 114.92s/it]\n",
      " 62%|██████▏   | 576/935 [9:43:49<8:06:58, 81.39s/it]"
     ]
    },
    {
     "name": "stdout",
     "output_type": "stream",
     "text": [
      "Finished\n",
      "['https://arxiv.org/abs/1902.07857']\n",
      "Downloading papers...\n"
     ]
    },
    {
     "name": "stderr",
     "output_type": "stream",
     "text": [
      "0it [01:49, ?it/s]\n",
      " 62%|██████▏   | 577/935 [9:45:38<8:55:33, 89.76s/it]"
     ]
    },
    {
     "name": "stdout",
     "output_type": "stream",
     "text": [
      "file could not be opened successfully:\n",
      "- method gz: ReadError('not a gzip file')\n",
      "- method bz2: ReadError('not a bzip2 file')\n",
      "- method xz: ReadError('not an lzma file')\n",
      "- method tar: ReadError('invalid header')\n",
      "Something goes wrong. Please check the input or concat me to fix this bug. Error message: \n",
      "[Errno 2] No such file or directory: '/home/jihuawei/jhw_pdf_parser/datasets/ArXiv体系/1902.07857/1902.07857.pdf'\n",
      "['https://arxiv.org/abs/2302.07669']\n",
      "Downloading papers...\n"
     ]
    },
    {
     "name": "stderr",
     "output_type": "stream",
     "text": [
      "1it [03:03, 183.70s/it]\n",
      " 62%|██████▏   | 578/935 [9:48:42<11:41:46, 117.94s/it]"
     ]
    },
    {
     "name": "stdout",
     "output_type": "stream",
     "text": [
      "Finished\n",
      "['https://arxiv.org/abs/2003.04888']\n",
      "Downloading papers...\n"
     ]
    },
    {
     "name": "stderr",
     "output_type": "stream",
     "text": [
      "1it [06:37, 397.70s/it]\n",
      " 62%|██████▏   | 579/935 [9:55:19<19:57:46, 201.87s/it]"
     ]
    },
    {
     "name": "stdout",
     "output_type": "stream",
     "text": [
      "Finished\n",
      "['https://arxiv.org/abs/1611.05669']\n",
      "Downloading papers...\n"
     ]
    },
    {
     "name": "stderr",
     "output_type": "stream",
     "text": [
      "0it [01:13, ?it/s]\n",
      " 62%|██████▏   | 580/935 [9:56:33<16:06:21, 163.33s/it]"
     ]
    },
    {
     "name": "stdout",
     "output_type": "stream",
     "text": [
      "file could not be opened successfully:\n",
      "- method gz: ReadError('not a gzip file')\n",
      "- method bz2: ReadError('not a bzip2 file')\n",
      "- method xz: ReadError('not an lzma file')\n",
      "- method tar: ReadError('invalid header')\n",
      "Something goes wrong. Please check the input or concat me to fix this bug. Error message: \n",
      "[Errno 2] No such file or directory: '/home/jihuawei/jhw_pdf_parser/datasets/ArXiv体系/1611.05669/1611.05669.pdf'\n",
      "['https://arxiv.org/abs/2302.00778']\n",
      "Downloading papers...\n"
     ]
    },
    {
     "name": "stderr",
     "output_type": "stream",
     "text": [
      "1it [00:06,  6.96s/it]\n",
      " 62%|██████▏   | 581/935 [9:56:40<11:26:52, 116.42s/it]"
     ]
    },
    {
     "name": "stdout",
     "output_type": "stream",
     "text": [
      "Finished\n",
      "['https://arxiv.org/abs/1809.09340']\n",
      "Downloading papers...\n"
     ]
    },
    {
     "name": "stderr",
     "output_type": "stream",
     "text": [
      "0it [00:08, ?it/s]\n",
      " 62%|██████▏   | 582/935 [9:56:48<8:14:49, 84.11s/it]  "
     ]
    },
    {
     "name": "stdout",
     "output_type": "stream",
     "text": [
      "file could not be opened successfully:\n",
      "- method gz: ReadError('invalid header')\n",
      "- method bz2: ReadError('not a bzip2 file')\n",
      "- method xz: ReadError('not an lzma file')\n",
      "- method tar: ReadError('invalid header')\n",
      "Something goes wrong. Please check the input or concat me to fix this bug. Error message: \n",
      "[Errno 2] No such file or directory: '/home/jihuawei/jhw_pdf_parser/datasets/ArXiv体系/1809.09340/1809.09340.pdf'\n",
      "['https://arxiv.org/abs/1102.2964']\n",
      "Downloading papers...\n"
     ]
    },
    {
     "name": "stderr",
     "output_type": "stream",
     "text": [
      "1it [00:14, 14.62s/it]\n",
      " 62%|██████▏   | 583/935 [9:57:03<6:11:08, 63.26s/it]"
     ]
    },
    {
     "name": "stdout",
     "output_type": "stream",
     "text": [
      "Finished\n",
      "['https://arxiv.org/abs/0911.5545']\n",
      "Downloading papers...\n"
     ]
    },
    {
     "name": "stderr",
     "output_type": "stream",
     "text": [
      "0it [00:08, ?it/s]\n",
      " 62%|██████▏   | 584/935 [9:57:11<4:33:28, 46.75s/it]"
     ]
    },
    {
     "name": "stdout",
     "output_type": "stream",
     "text": [
      "file could not be opened successfully:\n",
      "- method gz: ReadError('invalid header')\n",
      "- method bz2: ReadError('not a bzip2 file')\n",
      "- method xz: ReadError('not an lzma file')\n",
      "- method tar: ReadError('invalid header')\n",
      "Something goes wrong. Please check the input or concat me to fix this bug. Error message: \n",
      "[Errno 2] No such file or directory: '/home/jihuawei/jhw_pdf_parser/datasets/ArXiv体系/0911.5545/0911.5545.pdf'\n",
      "['https://arxiv.org/abs/0704.3640']\n",
      "Downloading papers...\n"
     ]
    },
    {
     "name": "stderr",
     "output_type": "stream",
     "text": [
      "0it [00:29, ?it/s]\n",
      " 63%|██████▎   | 585/935 [9:57:41<4:03:23, 41.72s/it]"
     ]
    },
    {
     "name": "stdout",
     "output_type": "stream",
     "text": [
      "file could not be opened successfully:\n",
      "- method gz: ReadError('not a gzip file')\n",
      "- method bz2: ReadError('not a bzip2 file')\n",
      "- method xz: ReadError('not an lzma file')\n",
      "- method tar: ReadError('invalid header')\n",
      "Something goes wrong. Please check the input or concat me to fix this bug. Error message: \n",
      "[Errno 2] No such file or directory: '/home/jihuawei/jhw_pdf_parser/datasets/ArXiv体系/0704.3640/0704.3640.pdf'\n",
      "['https://arxiv.org/abs/2008.06470']\n",
      "Downloading papers...\n"
     ]
    },
    {
     "name": "stderr",
     "output_type": "stream",
     "text": [
      "1it [02:16, 136.19s/it]\n",
      " 63%|██████▎   | 586/935 [9:59:57<6:47:32, 70.06s/it]"
     ]
    },
    {
     "name": "stdout",
     "output_type": "stream",
     "text": [
      "Finished\n",
      "['https://arxiv.org/abs/2001.03822']\n",
      "Downloading papers...\n"
     ]
    },
    {
     "name": "stderr",
     "output_type": "stream",
     "text": [
      "1it [00:40, 40.07s/it]\n",
      " 63%|██████▎   | 587/935 [10:00:38<5:54:11, 61.07s/it]"
     ]
    },
    {
     "name": "stdout",
     "output_type": "stream",
     "text": [
      "Finished\n",
      "['https://arxiv.org/abs/0704.3649']\n",
      "Downloading papers...\n"
     ]
    },
    {
     "name": "stderr",
     "output_type": "stream",
     "text": [
      "1it [00:32, 32.87s/it]\n",
      " 63%|██████▎   | 588/935 [10:01:10<5:04:15, 52.61s/it]"
     ]
    },
    {
     "name": "stdout",
     "output_type": "stream",
     "text": [
      "Finished\n",
      "['https://arxiv.org/abs/0807.0939']\n",
      "Downloading papers...\n"
     ]
    },
    {
     "name": "stderr",
     "output_type": "stream",
     "text": [
      "1it [00:14, 14.78s/it]\n",
      " 63%|██████▎   | 589/935 [10:01:25<3:57:56, 41.26s/it]"
     ]
    },
    {
     "name": "stdout",
     "output_type": "stream",
     "text": [
      "Finished\n",
      "['https://arxiv.org/abs/1310.2222']\n",
      "Downloading papers...\n"
     ]
    },
    {
     "name": "stderr",
     "output_type": "stream",
     "text": [
      "0it [00:52, ?it/s]\n",
      " 63%|██████▎   | 590/935 [10:02:17<4:16:04, 44.54s/it]"
     ]
    },
    {
     "name": "stdout",
     "output_type": "stream",
     "text": [
      "file could not be opened successfully:\n",
      "- method gz: ReadError('not a gzip file')\n",
      "- method bz2: ReadError('not a bzip2 file')\n",
      "- method xz: ReadError('not an lzma file')\n",
      "- method tar: ReadError('invalid header')\n",
      "Something goes wrong. Please check the input or concat me to fix this bug. Error message: \n",
      "[Errno 2] No such file or directory: '/home/jihuawei/jhw_pdf_parser/datasets/ArXiv体系/1310.2222/1310.2222.pdf'\n",
      "['https://arxiv.org/abs/0812.2625']\n",
      "Downloading papers...\n"
     ]
    },
    {
     "name": "stderr",
     "output_type": "stream",
     "text": [
      "1it [00:12, 12.11s/it]\n",
      " 63%|██████▎   | 591/935 [10:02:30<3:19:35, 34.81s/it]"
     ]
    },
    {
     "name": "stdout",
     "output_type": "stream",
     "text": [
      "Finished\n",
      "['https://arxiv.org/abs/2005.06517']\n",
      "Downloading papers...\n"
     ]
    },
    {
     "name": "stderr",
     "output_type": "stream",
     "text": [
      "1it [01:02, 62.13s/it]\n",
      " 63%|██████▎   | 592/935 [10:03:32<4:05:52, 43.01s/it]"
     ]
    },
    {
     "name": "stdout",
     "output_type": "stream",
     "text": [
      "Finished\n",
      "['https://arxiv.org/abs/1403.6710']\n",
      "Downloading papers...\n"
     ]
    },
    {
     "name": "stderr",
     "output_type": "stream",
     "text": [
      "1it [00:19, 19.91s/it]\n",
      " 63%|██████▎   | 593/935 [10:03:52<3:25:39, 36.08s/it]"
     ]
    },
    {
     "name": "stdout",
     "output_type": "stream",
     "text": [
      "Finished\n",
      "['https://arxiv.org/abs/0704.3646']\n",
      "Downloading papers...\n"
     ]
    },
    {
     "name": "stderr",
     "output_type": "stream",
     "text": [
      "1it [00:19, 19.03s/it]\n",
      " 64%|██████▎   | 594/935 [10:04:11<2:55:59, 30.97s/it]"
     ]
    },
    {
     "name": "stdout",
     "output_type": "stream",
     "text": [
      "Finished\n",
      "['https://arxiv.org/abs/2305.10512']\n",
      "Downloading papers...\n"
     ]
    },
    {
     "name": "stderr",
     "output_type": "stream",
     "text": [
      "1it [01:01, 61.34s/it]\n",
      " 64%|██████▎   | 595/935 [10:05:12<3:47:06, 40.08s/it]"
     ]
    },
    {
     "name": "stdout",
     "output_type": "stream",
     "text": [
      "Finished\n",
      "['https://arxiv.org/abs/0704.3687']\n",
      "Downloading papers...\n"
     ]
    },
    {
     "name": "stderr",
     "output_type": "stream",
     "text": [
      "0it [00:20, ?it/s]\n",
      " 64%|██████▎   | 596/935 [10:05:32<3:12:30, 34.07s/it]"
     ]
    },
    {
     "name": "stdout",
     "output_type": "stream",
     "text": [
      "file could not be opened successfully:\n",
      "- method gz: ReadError('invalid header')\n",
      "- method bz2: ReadError('not a bzip2 file')\n",
      "- method xz: ReadError('not an lzma file')\n",
      "- method tar: ReadError('invalid header')\n",
      "Something goes wrong. Please check the input or concat me to fix this bug. Error message: \n",
      "[Errno 2] No such file or directory: '/home/jihuawei/jhw_pdf_parser/datasets/ArXiv体系/0704.3687/0704.3687.pdf'\n",
      "['https://arxiv.org/abs/1910.08915']\n",
      "Downloading papers...\n"
     ]
    },
    {
     "name": "stderr",
     "output_type": "stream",
     "text": [
      "1it [00:29, 29.40s/it]\n",
      " 64%|██████▍   | 597/935 [10:06:01<3:04:02, 32.67s/it]"
     ]
    },
    {
     "name": "stdout",
     "output_type": "stream",
     "text": [
      "Finished\n",
      "['https://arxiv.org/abs/1308.2751']\n",
      "Downloading papers...\n"
     ]
    },
    {
     "name": "stderr",
     "output_type": "stream",
     "text": [
      "1it [00:16, 16.89s/it]\n",
      " 64%|██████▍   | 598/935 [10:06:18<2:36:55, 27.94s/it]"
     ]
    },
    {
     "name": "stdout",
     "output_type": "stream",
     "text": [
      "Finished\n",
      "['https://arxiv.org/abs/2011.12781']\n",
      "Downloading papers...\n"
     ]
    },
    {
     "name": "stderr",
     "output_type": "stream",
     "text": [
      "1it [02:33, 153.32s/it]\n",
      " 64%|██████▍   | 599/935 [10:08:52<6:07:06, 65.55s/it]"
     ]
    },
    {
     "name": "stdout",
     "output_type": "stream",
     "text": [
      "Finished\n",
      "['https://arxiv.org/abs/1903.06404']\n",
      "Downloading papers...\n"
     ]
    },
    {
     "name": "stderr",
     "output_type": "stream",
     "text": [
      "1it [04:01, 241.09s/it]\n",
      " 64%|██████▍   | 600/935 [10:12:53<11:00:02, 118.22s/it]"
     ]
    },
    {
     "name": "stdout",
     "output_type": "stream",
     "text": [
      "Finished\n",
      "['https://arxiv.org/abs/2004.02793']\n",
      "Downloading papers...\n"
     ]
    },
    {
     "name": "stderr",
     "output_type": "stream",
     "text": [
      "0it [00:29, ?it/s]\n",
      " 64%|██████▍   | 601/935 [10:13:22<8:29:36, 91.55s/it]  "
     ]
    },
    {
     "name": "stdout",
     "output_type": "stream",
     "text": [
      "file could not be opened successfully:\n",
      "- method gz: ReadError('not a gzip file')\n",
      "- method bz2: ReadError('not a bzip2 file')\n",
      "- method xz: ReadError('not an lzma file')\n",
      "- method tar: ReadError('invalid header')\n",
      "Something goes wrong. Please check the input or concat me to fix this bug. Error message: \n",
      "[Errno 2] No such file or directory: '/home/jihuawei/jhw_pdf_parser/datasets/ArXiv体系/2004.02793/2004.02793.pdf'\n",
      "['https://arxiv.org/abs/0704.3674']\n",
      "Downloading papers...\n"
     ]
    },
    {
     "name": "stderr",
     "output_type": "stream",
     "text": [
      "1it [02:58, 178.51s/it]\n",
      " 64%|██████▍   | 602/935 [10:16:21<10:52:53, 117.64s/it]"
     ]
    },
    {
     "name": "stdout",
     "output_type": "stream",
     "text": [
      "Finished\n",
      "['https://arxiv.org/abs/1710.01966']\n",
      "Downloading papers...\n"
     ]
    },
    {
     "name": "stderr",
     "output_type": "stream",
     "text": [
      "0it [02:41, ?it/s]\n",
      " 64%|██████▍   | 603/935 [10:19:02<12:03:18, 130.72s/it]"
     ]
    },
    {
     "name": "stdout",
     "output_type": "stream",
     "text": [
      "file could not be opened successfully:\n",
      "- method gz: ReadError('not a gzip file')\n",
      "- method bz2: ReadError('not a bzip2 file')\n",
      "- method xz: ReadError('not an lzma file')\n",
      "- method tar: ReadError('bad checksum')\n",
      "Something goes wrong. Please check the input or concat me to fix this bug. Error message: \n",
      "[Errno 2] No such file or directory: '/home/jihuawei/jhw_pdf_parser/datasets/ArXiv体系/1710.01966/1710.01966.pdf'\n",
      "['https://arxiv.org/abs/2102.05722']\n",
      "Downloading papers...\n"
     ]
    },
    {
     "name": "stderr",
     "output_type": "stream",
     "text": [
      "1it [06:52, 412.34s/it]\n",
      " 65%|██████▍   | 604/935 [10:25:54<19:47:12, 215.20s/it]"
     ]
    },
    {
     "name": "stdout",
     "output_type": "stream",
     "text": [
      "Finished\n",
      "['https://arxiv.org/abs/1808.10662']\n",
      "Downloading papers...\n"
     ]
    },
    {
     "name": "stderr",
     "output_type": "stream",
     "text": [
      "1it [00:06,  6.07s/it]\n",
      " 65%|██████▍   | 605/935 [10:26:00<13:58:34, 152.47s/it]"
     ]
    },
    {
     "name": "stdout",
     "output_type": "stream",
     "text": [
      "Finished\n",
      "['https://arxiv.org/abs/1211.5474']\n",
      "Downloading papers...\n"
     ]
    },
    {
     "name": "stderr",
     "output_type": "stream",
     "text": [
      "1it [00:14, 14.36s/it]\n",
      " 65%|██████▍   | 606/935 [10:26:15<10:08:50, 111.04s/it]"
     ]
    },
    {
     "name": "stdout",
     "output_type": "stream",
     "text": [
      "Finished\n",
      "['https://arxiv.org/abs/1402.4837']\n",
      "Downloading papers...\n"
     ]
    },
    {
     "name": "stderr",
     "output_type": "stream",
     "text": [
      "0it [00:11, ?it/s]\n",
      " 65%|██████▍   | 607/935 [10:26:26<7:24:10, 81.25s/it]  "
     ]
    },
    {
     "name": "stdout",
     "output_type": "stream",
     "text": [
      "file could not be opened successfully:\n",
      "- method gz: ReadError('invalid header')\n",
      "- method bz2: ReadError('not a bzip2 file')\n",
      "- method xz: ReadError('not an lzma file')\n",
      "- method tar: ReadError('invalid header')\n",
      "Something goes wrong. Please check the input or concat me to fix this bug. Error message: \n",
      "[Errno 2] No such file or directory: '/home/jihuawei/jhw_pdf_parser/datasets/ArXiv体系/1402.4837/1402.4837.pdf'\n",
      "['https://arxiv.org/abs/1409.4101']\n",
      "Downloading papers...\n"
     ]
    },
    {
     "name": "stderr",
     "output_type": "stream",
     "text": [
      "0it [00:08, ?it/s]\n",
      " 65%|██████▌   | 608/935 [10:26:35<5:24:08, 59.48s/it]"
     ]
    },
    {
     "name": "stdout",
     "output_type": "stream",
     "text": [
      "file could not be opened successfully:\n",
      "- method gz: ReadError('invalid header')\n",
      "- method bz2: ReadError('not a bzip2 file')\n",
      "- method xz: ReadError('not an lzma file')\n",
      "- method tar: ReadError('invalid header')\n",
      "Something goes wrong. Please check the input or concat me to fix this bug. Error message: \n",
      "[Errno 2] No such file or directory: '/home/jihuawei/jhw_pdf_parser/datasets/ArXiv体系/1409.4101/1409.4101.pdf'\n",
      "['https://arxiv.org/abs/2204.10239']\n",
      "Downloading papers...\n"
     ]
    },
    {
     "name": "stderr",
     "output_type": "stream",
     "text": [
      "0it [00:15, ?it/s]\n",
      " 65%|██████▌   | 609/935 [10:26:50<4:10:51, 46.17s/it]"
     ]
    },
    {
     "name": "stdout",
     "output_type": "stream",
     "text": [
      "file could not be opened successfully:\n",
      "- method gz: ReadError('invalid header')\n",
      "- method bz2: ReadError('not a bzip2 file')\n",
      "- method xz: ReadError('not an lzma file')\n",
      "- method tar: ReadError('invalid header')\n",
      "Something goes wrong. Please check the input or concat me to fix this bug. Error message: \n",
      "[Errno 2] No such file or directory: '/home/jihuawei/jhw_pdf_parser/datasets/ArXiv体系/2204.10239/2204.10239.pdf'\n",
      "['https://arxiv.org/abs/1709.02708']\n",
      "Downloading papers...\n"
     ]
    },
    {
     "name": "stderr",
     "output_type": "stream",
     "text": [
      "0it [00:19, ?it/s]\n",
      " 65%|██████▌   | 610/935 [10:27:09<3:26:25, 38.11s/it]"
     ]
    },
    {
     "name": "stdout",
     "output_type": "stream",
     "text": [
      "file could not be opened successfully:\n",
      "- method gz: ReadError('invalid header')\n",
      "- method bz2: ReadError('not a bzip2 file')\n",
      "- method xz: ReadError('not an lzma file')\n",
      "- method tar: ReadError('invalid header')\n",
      "Something goes wrong. Please check the input or concat me to fix this bug. Error message: \n",
      "[Errno 2] No such file or directory: '/home/jihuawei/jhw_pdf_parser/datasets/ArXiv体系/1709.02708/1709.02708.pdf'\n",
      "['https://arxiv.org/abs/1907.02684']\n",
      "Downloading papers...\n"
     ]
    },
    {
     "name": "stderr",
     "output_type": "stream",
     "text": [
      "1it [01:28, 88.46s/it]\n",
      " 65%|██████▌   | 611/935 [10:28:38<4:47:21, 53.22s/it]"
     ]
    },
    {
     "name": "stdout",
     "output_type": "stream",
     "text": [
      "Finished\n",
      "['https://arxiv.org/abs/0704.3748']\n",
      "Downloading papers...\n"
     ]
    },
    {
     "name": "stderr",
     "output_type": "stream",
     "text": [
      "1it [00:24, 24.43s/it]\n",
      " 65%|██████▌   | 612/935 [10:29:02<4:00:00, 44.58s/it]"
     ]
    },
    {
     "name": "stdout",
     "output_type": "stream",
     "text": [
      "Finished\n",
      "['https://arxiv.org/abs/1904.05197']\n",
      "Downloading papers...\n"
     ]
    },
    {
     "name": "stderr",
     "output_type": "stream",
     "text": [
      "0it [00:18, ?it/s]\n",
      " 66%|██████▌   | 613/935 [10:29:21<3:17:06, 36.73s/it]"
     ]
    },
    {
     "name": "stdout",
     "output_type": "stream",
     "text": [
      "file could not be opened successfully:\n",
      "- method gz: ReadError('invalid header')\n",
      "- method bz2: ReadError('not a bzip2 file')\n",
      "- method xz: ReadError('not an lzma file')\n",
      "- method tar: ReadError('invalid header')\n",
      "Something goes wrong. Please check the input or concat me to fix this bug. Error message: \n",
      "[Errno 2] No such file or directory: '/home/jihuawei/jhw_pdf_parser/datasets/ArXiv体系/1904.05197/1904.05197.pdf'\n",
      "['https://arxiv.org/abs/2205.09754']\n",
      "Downloading papers...\n"
     ]
    },
    {
     "name": "stderr",
     "output_type": "stream",
     "text": [
      "1it [00:25, 25.13s/it]\n",
      " 66%|██████▌   | 614/935 [10:29:46<2:57:53, 33.25s/it]"
     ]
    },
    {
     "name": "stdout",
     "output_type": "stream",
     "text": [
      "Finished\n",
      "['https://arxiv.org/abs/1910.07414']\n",
      "Downloading papers...\n"
     ]
    },
    {
     "name": "stderr",
     "output_type": "stream",
     "text": [
      "1it [00:26, 26.48s/it]\n",
      " 66%|██████▌   | 615/935 [10:30:12<2:46:30, 31.22s/it]"
     ]
    },
    {
     "name": "stdout",
     "output_type": "stream",
     "text": [
      "Finished\n",
      "['https://arxiv.org/abs/1910.08923']\n",
      "Downloading papers...\n"
     ]
    },
    {
     "name": "stderr",
     "output_type": "stream",
     "text": [
      "1it [00:25, 25.01s/it]\n",
      " 66%|██████▌   | 616/935 [10:30:37<2:36:05, 29.36s/it]"
     ]
    },
    {
     "name": "stdout",
     "output_type": "stream",
     "text": [
      "Finished\n",
      "['https://arxiv.org/abs/1608.02795']\n",
      "Downloading papers...\n"
     ]
    },
    {
     "name": "stderr",
     "output_type": "stream",
     "text": [
      "1it [00:40, 40.02s/it]\n",
      " 66%|██████▌   | 617/935 [10:31:17<2:52:33, 32.56s/it]"
     ]
    },
    {
     "name": "stdout",
     "output_type": "stream",
     "text": [
      "Finished\n",
      "['https://arxiv.org/abs/2010.01345']\n",
      "Downloading papers...\n"
     ]
    },
    {
     "name": "stderr",
     "output_type": "stream",
     "text": [
      "1it [00:18, 18.27s/it]\n",
      " 66%|██████▌   | 618/935 [10:31:36<2:29:22, 28.27s/it]"
     ]
    },
    {
     "name": "stdout",
     "output_type": "stream",
     "text": [
      "Finished\n",
      "['https://arxiv.org/abs/1704.01557']\n",
      "Downloading papers...\n"
     ]
    },
    {
     "name": "stderr",
     "output_type": "stream",
     "text": [
      "1it [00:41, 41.04s/it]\n",
      " 66%|██████▌   | 619/935 [10:32:17<2:49:04, 32.10s/it]"
     ]
    },
    {
     "name": "stdout",
     "output_type": "stream",
     "text": [
      "Finished\n",
      "['https://arxiv.org/abs/1710.09723']\n",
      "Downloading papers...\n"
     ]
    },
    {
     "name": "stderr",
     "output_type": "stream",
     "text": [
      "1it [00:22, 22.00s/it]\n",
      " 66%|██████▋   | 620/935 [10:32:39<2:32:38, 29.08s/it]"
     ]
    },
    {
     "name": "stdout",
     "output_type": "stream",
     "text": [
      "Finished\n",
      "['https://arxiv.org/abs/2001.02533']\n",
      "Downloading papers...\n"
     ]
    },
    {
     "name": "stderr",
     "output_type": "stream",
     "text": [
      "0it [01:42, ?it/s]\n",
      " 66%|██████▋   | 621/935 [10:34:21<4:27:12, 51.06s/it]"
     ]
    },
    {
     "name": "stdout",
     "output_type": "stream",
     "text": [
      "file could not be opened successfully:\n",
      "- method gz: ReadError('not a gzip file')\n",
      "- method bz2: ReadError('not a bzip2 file')\n",
      "- method xz: ReadError('not an lzma file')\n",
      "- method tar: ReadError('invalid header')\n",
      "Something goes wrong. Please check the input or concat me to fix this bug. Error message: \n",
      "[Errno 2] No such file or directory: '/home/jihuawei/jhw_pdf_parser/datasets/ArXiv体系/2001.02533/2001.02533.pdf'\n",
      "['https://arxiv.org/abs/0808.0730']\n",
      "Downloading papers...\n"
     ]
    },
    {
     "name": "stderr",
     "output_type": "stream",
     "text": [
      "1it [00:28, 28.51s/it]\n",
      " 67%|██████▋   | 622/935 [10:34:50<3:51:04, 44.30s/it]"
     ]
    },
    {
     "name": "stdout",
     "output_type": "stream",
     "text": [
      "Finished\n",
      "['https://arxiv.org/abs/2306.09649']\n",
      "Downloading papers...\n"
     ]
    },
    {
     "name": "stderr",
     "output_type": "stream",
     "text": [
      "1it [15:54, 954.65s/it]\n",
      " 67%|██████▋   | 623/935 [10:50:44<27:30:30, 317.41s/it]"
     ]
    },
    {
     "name": "stdout",
     "output_type": "stream",
     "text": [
      "Finished\n",
      "['https://arxiv.org/abs/2011.13460']\n",
      "Downloading papers...\n"
     ]
    },
    {
     "name": "stderr",
     "output_type": "stream",
     "text": [
      "0it [00:11, ?it/s]\n",
      " 67%|██████▋   | 624/935 [10:50:56<19:29:54, 225.71s/it]"
     ]
    },
    {
     "name": "stdout",
     "output_type": "stream",
     "text": [
      "file could not be opened successfully:\n",
      "- method gz: ReadError('invalid header')\n",
      "- method bz2: ReadError('not a bzip2 file')\n",
      "- method xz: ReadError('not an lzma file')\n",
      "- method tar: ReadError('invalid header')\n",
      "Something goes wrong. Please check the input or concat me to fix this bug. Error message: \n",
      "[Errno 2] No such file or directory: '/home/jihuawei/jhw_pdf_parser/datasets/ArXiv体系/2011.13460/2011.13460.pdf'\n",
      "['https://arxiv.org/abs/1102.3303']\n",
      "Downloading papers...\n"
     ]
    },
    {
     "name": "stderr",
     "output_type": "stream",
     "text": [
      "0it [00:10, ?it/s]\n",
      " 67%|██████▋   | 625/935 [10:51:06<13:52:24, 161.11s/it]"
     ]
    },
    {
     "name": "stdout",
     "output_type": "stream",
     "text": [
      "file could not be opened successfully:\n",
      "- method gz: ReadError('invalid header')\n",
      "- method bz2: ReadError('not a bzip2 file')\n",
      "- method xz: ReadError('not an lzma file')\n",
      "- method tar: ReadError('invalid header')\n",
      "Something goes wrong. Please check the input or concat me to fix this bug. Error message: \n",
      "[Errno 2] No such file or directory: '/home/jihuawei/jhw_pdf_parser/datasets/ArXiv体系/1102.3303/1102.3303.pdf'\n",
      "['https://arxiv.org/abs/0704.3835']\n",
      "Downloading papers...\n"
     ]
    },
    {
     "name": "stderr",
     "output_type": "stream",
     "text": [
      "1it [00:16, 16.08s/it]\n",
      " 67%|██████▋   | 626/935 [10:51:22<10:05:39, 117.60s/it]"
     ]
    },
    {
     "name": "stdout",
     "output_type": "stream",
     "text": [
      "Finished\n",
      "['https://arxiv.org/abs/1707.02145']\n",
      "Downloading papers...\n"
     ]
    },
    {
     "name": "stderr",
     "output_type": "stream",
     "text": [
      "1it [00:44, 44.09s/it]\n",
      " 67%|██████▋   | 627/935 [10:52:07<8:10:29, 95.55s/it]  "
     ]
    },
    {
     "name": "stdout",
     "output_type": "stream",
     "text": [
      "Finished\n",
      "['https://arxiv.org/abs/1201.2696']\n",
      "Downloading papers...\n"
     ]
    },
    {
     "name": "stderr",
     "output_type": "stream",
     "text": [
      "1it [01:38, 98.93s/it]\n",
      " 67%|██████▋   | 628/935 [10:53:45<8:14:05, 96.57s/it]"
     ]
    },
    {
     "name": "stdout",
     "output_type": "stream",
     "text": [
      "Finished\n",
      "['https://arxiv.org/abs/0704.3788']\n",
      "Downloading papers...\n"
     ]
    },
    {
     "name": "stderr",
     "output_type": "stream",
     "text": [
      "1it [00:40, 40.51s/it]\n",
      " 67%|██████▋   | 629/935 [10:54:26<6:46:43, 79.75s/it]"
     ]
    },
    {
     "name": "stdout",
     "output_type": "stream",
     "text": [
      "Finished\n",
      "['https://arxiv.org/abs/2303.08804']\n",
      "Downloading papers...\n"
     ]
    },
    {
     "name": "stderr",
     "output_type": "stream",
     "text": [
      "1it [02:04, 124.86s/it]\n",
      " 67%|██████▋   | 630/935 [10:56:31<7:54:11, 93.28s/it]"
     ]
    },
    {
     "name": "stdout",
     "output_type": "stream",
     "text": [
      "Finished\n",
      "['https://arxiv.org/abs/0707.1194']\n",
      "Downloading papers...\n"
     ]
    },
    {
     "name": "stderr",
     "output_type": "stream",
     "text": [
      "1it [00:46, 46.49s/it]\n",
      " 67%|██████▋   | 631/935 [10:57:17<6:41:31, 79.25s/it]"
     ]
    },
    {
     "name": "stdout",
     "output_type": "stream",
     "text": [
      "Finished\n",
      "['https://arxiv.org/abs/1007.2370']\n",
      "Downloading papers...\n"
     ]
    },
    {
     "name": "stderr",
     "output_type": "stream",
     "text": [
      "1it [00:46, 46.86s/it]\n",
      " 68%|██████▊   | 632/935 [10:58:04<5:51:08, 69.53s/it]"
     ]
    },
    {
     "name": "stdout",
     "output_type": "stream",
     "text": [
      "Finished\n",
      "['https://arxiv.org/abs/0705.0889']\n",
      "Downloading papers...\n"
     ]
    },
    {
     "name": "stderr",
     "output_type": "stream",
     "text": [
      "1it [00:32, 32.15s/it]\n",
      " 68%|██████▊   | 633/935 [10:58:36<4:53:31, 58.32s/it]"
     ]
    },
    {
     "name": "stdout",
     "output_type": "stream",
     "text": [
      "Finished\n",
      "['https://arxiv.org/abs/1901.11307']\n",
      "Downloading papers...\n"
     ]
    },
    {
     "name": "stderr",
     "output_type": "stream",
     "text": [
      "1it [00:30, 30.07s/it]\n",
      " 68%|██████▊   | 634/935 [10:59:06<4:10:03, 49.84s/it]"
     ]
    },
    {
     "name": "stdout",
     "output_type": "stream",
     "text": [
      "Finished\n",
      "['https://arxiv.org/abs/0912.4787']\n",
      "Downloading papers...\n"
     ]
    },
    {
     "name": "stderr",
     "output_type": "stream",
     "text": [
      "1it [01:32, 92.53s/it]\n",
      " 68%|██████▊   | 635/935 [11:00:39<5:13:15, 62.65s/it]"
     ]
    },
    {
     "name": "stdout",
     "output_type": "stream",
     "text": [
      "Finished\n",
      "['https://arxiv.org/abs/2110.13104']\n",
      "Downloading papers...\n"
     ]
    },
    {
     "name": "stderr",
     "output_type": "stream",
     "text": [
      "1it [00:45, 45.52s/it]\n",
      " 68%|██████▊   | 636/935 [11:01:24<4:46:36, 57.51s/it]"
     ]
    },
    {
     "name": "stdout",
     "output_type": "stream",
     "text": [
      "Finished\n",
      "['https://arxiv.org/abs/2112.09958']\n",
      "Downloading papers...\n"
     ]
    },
    {
     "name": "stderr",
     "output_type": "stream",
     "text": [
      "1it [05:21, 321.40s/it]\n",
      " 68%|██████▊   | 637/935 [11:06:46<11:18:50, 136.68s/it]"
     ]
    },
    {
     "name": "stdout",
     "output_type": "stream",
     "text": [
      "Finished\n",
      "['https://arxiv.org/abs/1711.04478']\n",
      "Downloading papers...\n"
     ]
    },
    {
     "name": "stderr",
     "output_type": "stream",
     "text": [
      "0it [05:08, ?it/s]\n",
      " 68%|██████▊   | 638/935 [11:11:55<15:32:04, 188.30s/it]"
     ]
    },
    {
     "name": "stdout",
     "output_type": "stream",
     "text": [
      "file could not be opened successfully:\n",
      "- method gz: ReadError('not a gzip file')\n",
      "- method bz2: ReadError('not a bzip2 file')\n",
      "- method xz: ReadError('not an lzma file')\n",
      "- method tar: ReadError('invalid header')\n",
      "Something goes wrong. Please check the input or concat me to fix this bug. Error message: \n",
      "[Errno 2] No such file or directory: '/home/jihuawei/jhw_pdf_parser/datasets/ArXiv体系/1711.04478/1711.04478.pdf'\n",
      "['https://arxiv.org/abs/2012.13665']\n",
      "Downloading papers...\n"
     ]
    },
    {
     "name": "stderr",
     "output_type": "stream",
     "text": [
      "1it [18:00, 1080.80s/it]\n",
      " 68%|██████▊   | 639/935 [11:29:55<37:29:51, 456.05s/it]"
     ]
    },
    {
     "name": "stdout",
     "output_type": "stream",
     "text": [
      "Finished\n",
      "['https://arxiv.org/abs/2112.07140']\n",
      "Downloading papers...\n"
     ]
    },
    {
     "name": "stderr",
     "output_type": "stream",
     "text": [
      "1it [00:13, 13.37s/it]\n",
      " 68%|██████▊   | 640/935 [11:30:09<26:29:18, 323.25s/it]"
     ]
    },
    {
     "name": "stdout",
     "output_type": "stream",
     "text": [
      "Finished\n",
      "['https://arxiv.org/abs/0808.0409']\n",
      "Downloading papers...\n"
     ]
    },
    {
     "name": "stderr",
     "output_type": "stream",
     "text": [
      "1it [00:11, 11.70s/it]\n",
      " 69%|██████▊   | 641/935 [11:30:21<18:45:57, 229.79s/it]"
     ]
    },
    {
     "name": "stdout",
     "output_type": "stream",
     "text": [
      "Finished\n",
      "['https://arxiv.org/abs/1905.05361']\n",
      "Downloading papers...\n"
     ]
    },
    {
     "name": "stderr",
     "output_type": "stream",
     "text": [
      "0it [00:30, ?it/s]\n",
      " 69%|██████▊   | 642/935 [11:30:51<13:50:03, 169.98s/it]"
     ]
    },
    {
     "name": "stdout",
     "output_type": "stream",
     "text": [
      "file could not be opened successfully:\n",
      "- method gz: ReadError('invalid header')\n",
      "- method bz2: ReadError('not a bzip2 file')\n",
      "- method xz: ReadError('not an lzma file')\n",
      "- method tar: ReadError('invalid header')\n",
      "Something goes wrong. Please check the input or concat me to fix this bug. Error message: \n",
      "[Errno 2] No such file or directory: '/home/jihuawei/jhw_pdf_parser/datasets/ArXiv体系/1905.05361/1905.05361.pdf'\n",
      "['https://arxiv.org/abs/1209.1712']\n",
      "Downloading papers...\n"
     ]
    },
    {
     "name": "stderr",
     "output_type": "stream",
     "text": [
      "1it [00:30, 30.95s/it]\n",
      " 69%|██████▉   | 643/935 [11:31:22<10:24:14, 128.27s/it]"
     ]
    },
    {
     "name": "stdout",
     "output_type": "stream",
     "text": [
      "Finished\n",
      "['https://arxiv.org/abs/0811.2247']\n",
      "Downloading papers...\n"
     ]
    },
    {
     "name": "stderr",
     "output_type": "stream",
     "text": [
      "1it [00:24, 24.54s/it]\n",
      " 69%|██████▉   | 644/935 [11:31:46<7:51:11, 97.15s/it]  "
     ]
    },
    {
     "name": "stdout",
     "output_type": "stream",
     "text": [
      "Finished\n",
      "['https://arxiv.org/abs/1112.0486']\n",
      "Downloading papers...\n"
     ]
    },
    {
     "name": "stderr",
     "output_type": "stream",
     "text": [
      "1it [00:20, 20.80s/it]\n",
      " 69%|██████▉   | 645/935 [11:32:07<5:58:52, 74.25s/it]"
     ]
    },
    {
     "name": "stdout",
     "output_type": "stream",
     "text": [
      "Finished\n",
      "['https://arxiv.org/abs/1612.07602']\n",
      "Downloading papers...\n"
     ]
    },
    {
     "name": "stderr",
     "output_type": "stream",
     "text": [
      "1it [00:24, 24.47s/it]\n",
      " 69%|██████▉   | 646/935 [11:32:32<4:45:42, 59.32s/it]"
     ]
    },
    {
     "name": "stdout",
     "output_type": "stream",
     "text": [
      "Finished\n",
      "['https://arxiv.org/abs/1304.0715']\n",
      "Downloading papers...\n"
     ]
    },
    {
     "name": "stderr",
     "output_type": "stream",
     "text": [
      "1it [00:26, 26.37s/it]\n",
      " 69%|██████▉   | 647/935 [11:32:58<3:57:16, 49.43s/it]"
     ]
    },
    {
     "name": "stdout",
     "output_type": "stream",
     "text": [
      "Finished\n",
      "['https://arxiv.org/abs/1701.00688']\n",
      "Downloading papers...\n"
     ]
    },
    {
     "name": "stderr",
     "output_type": "stream",
     "text": [
      "1it [01:08, 68.15s/it]\n",
      " 69%|██████▉   | 648/935 [11:34:06<4:23:18, 55.05s/it]"
     ]
    },
    {
     "name": "stdout",
     "output_type": "stream",
     "text": [
      "Finished\n",
      "['https://arxiv.org/abs/0704.3957']\n",
      "Downloading papers...\n"
     ]
    },
    {
     "name": "stderr",
     "output_type": "stream",
     "text": [
      "0it [00:19, ?it/s]\n",
      " 69%|██████▉   | 649/935 [11:34:26<3:31:22, 44.35s/it]"
     ]
    },
    {
     "name": "stdout",
     "output_type": "stream",
     "text": [
      "file could not be opened successfully:\n",
      "- method gz: ReadError('not a gzip file')\n",
      "- method bz2: ReadError('not a bzip2 file')\n",
      "- method xz: ReadError('not an lzma file')\n",
      "- method tar: ReadError('invalid header')\n",
      "Something goes wrong. Please check the input or concat me to fix this bug. Error message: \n",
      "[Errno 2] No such file or directory: '/home/jihuawei/jhw_pdf_parser/datasets/ArXiv体系/0704.3957/0704.3957.pdf'\n",
      "['https://arxiv.org/abs/1304.3799']\n",
      "Downloading papers...\n"
     ]
    },
    {
     "name": "stderr",
     "output_type": "stream",
     "text": [
      "0it [00:14, ?it/s]\n",
      " 70%|██████▉   | 650/935 [11:34:40<2:47:46, 35.32s/it]"
     ]
    },
    {
     "name": "stdout",
     "output_type": "stream",
     "text": [
      "file could not be opened successfully:\n",
      "- method gz: ReadError('invalid header')\n",
      "- method bz2: ReadError('not a bzip2 file')\n",
      "- method xz: ReadError('not an lzma file')\n",
      "- method tar: ReadError('invalid header')\n",
      "Something goes wrong. Please check the input or concat me to fix this bug. Error message: \n",
      "[Errno 2] No such file or directory: '/home/jihuawei/jhw_pdf_parser/datasets/ArXiv体系/1304.3799/1304.3799.pdf'\n",
      "['https://arxiv.org/abs/1910.03287']\n",
      "Downloading papers...\n"
     ]
    },
    {
     "name": "stderr",
     "output_type": "stream",
     "text": [
      "1it [00:24, 24.17s/it]\n",
      " 70%|██████▉   | 651/935 [11:35:04<2:31:20, 31.98s/it]"
     ]
    },
    {
     "name": "stdout",
     "output_type": "stream",
     "text": [
      "Finished\n",
      "['https://arxiv.org/abs/2005.12233']\n",
      "Downloading papers...\n"
     ]
    },
    {
     "name": "stderr",
     "output_type": "stream",
     "text": [
      "1it [00:27, 27.91s/it]\n",
      " 70%|██████▉   | 652/935 [11:35:32<2:25:03, 30.76s/it]"
     ]
    },
    {
     "name": "stdout",
     "output_type": "stream",
     "text": [
      "Finished\n",
      "['https://arxiv.org/abs/1912.03220']\n",
      "Downloading papers...\n"
     ]
    },
    {
     "name": "stderr",
     "output_type": "stream",
     "text": [
      "1it [00:41, 41.39s/it]\n",
      " 70%|██████▉   | 653/935 [11:36:13<2:39:33, 33.95s/it]"
     ]
    },
    {
     "name": "stdout",
     "output_type": "stream",
     "text": [
      "Finished\n",
      "['https://arxiv.org/abs/2211.00127']\n",
      "Downloading papers...\n"
     ]
    },
    {
     "name": "stderr",
     "output_type": "stream",
     "text": [
      "1it [01:32, 92.39s/it]\n",
      " 70%|██████▉   | 654/935 [11:37:46<4:01:06, 51.48s/it]"
     ]
    },
    {
     "name": "stdout",
     "output_type": "stream",
     "text": [
      "Finished\n",
      "['https://arxiv.org/abs/1901.02944']\n",
      "Downloading papers...\n"
     ]
    },
    {
     "name": "stderr",
     "output_type": "stream",
     "text": [
      "1it [00:17, 17.07s/it]\n",
      " 70%|███████   | 655/935 [11:38:03<3:12:04, 41.16s/it]"
     ]
    },
    {
     "name": "stdout",
     "output_type": "stream",
     "text": [
      "Finished\n",
      "['https://arxiv.org/abs/0904.1356']\n",
      "Downloading papers...\n"
     ]
    },
    {
     "name": "stderr",
     "output_type": "stream",
     "text": [
      "1it [00:52, 52.80s/it]\n",
      " 70%|███████   | 656/935 [11:38:56<3:27:38, 44.65s/it]"
     ]
    },
    {
     "name": "stdout",
     "output_type": "stream",
     "text": [
      "Finished\n",
      "['https://arxiv.org/abs/1803.05794']\n",
      "Downloading papers...\n"
     ]
    },
    {
     "name": "stderr",
     "output_type": "stream",
     "text": [
      "1it [01:03, 63.58s/it]\n",
      " 70%|███████   | 657/935 [11:39:59<3:53:12, 50.33s/it]"
     ]
    },
    {
     "name": "stdout",
     "output_type": "stream",
     "text": [
      "Finished\n",
      "['https://arxiv.org/abs/1711.01498']\n",
      "Downloading papers...\n"
     ]
    },
    {
     "name": "stderr",
     "output_type": "stream",
     "text": [
      "1it [01:43, 103.30s/it]\n",
      " 70%|███████   | 658/935 [11:41:43<5:05:43, 66.22s/it]"
     ]
    },
    {
     "name": "stdout",
     "output_type": "stream",
     "text": [
      "Finished\n",
      "['https://arxiv.org/abs/1402.1533']\n",
      "Downloading papers...\n"
     ]
    },
    {
     "name": "stderr",
     "output_type": "stream",
     "text": [
      "1it [04:54, 294.49s/it]\n",
      " 70%|███████   | 659/935 [11:46:37<10:19:38, 134.71s/it]"
     ]
    },
    {
     "name": "stdout",
     "output_type": "stream",
     "text": [
      "Finished\n",
      "['https://arxiv.org/abs/2303.03814']\n",
      "Downloading papers...\n"
     ]
    },
    {
     "name": "stderr",
     "output_type": "stream",
     "text": [
      "1it [03:22, 202.25s/it]\n",
      " 71%|███████   | 660/935 [11:49:59<11:50:16, 154.97s/it]"
     ]
    },
    {
     "name": "stdout",
     "output_type": "stream",
     "text": [
      "Finished\n",
      "['https://arxiv.org/abs/1905.01445']\n",
      "Downloading papers...\n"
     ]
    },
    {
     "name": "stderr",
     "output_type": "stream",
     "text": [
      "1it [02:40, 160.05s/it]\n",
      " 71%|███████   | 661/935 [11:52:39<11:54:39, 156.50s/it]"
     ]
    },
    {
     "name": "stdout",
     "output_type": "stream",
     "text": [
      "Finished\n",
      "['https://arxiv.org/abs/1207.2411']\n",
      "Downloading papers...\n"
     ]
    },
    {
     "name": "stderr",
     "output_type": "stream",
     "text": [
      "1it [00:22, 22.40s/it]\n",
      " 71%|███████   | 662/935 [11:53:02<8:49:01, 116.27s/it] "
     ]
    },
    {
     "name": "stdout",
     "output_type": "stream",
     "text": [
      "Finished\n",
      "['https://arxiv.org/abs/0704.3826']\n",
      "Downloading papers...\n"
     ]
    },
    {
     "name": "stderr",
     "output_type": "stream",
     "text": [
      "0it [00:27, ?it/s]\n",
      " 71%|███████   | 663/935 [11:53:29<6:46:22, 89.64s/it] "
     ]
    },
    {
     "name": "stdout",
     "output_type": "stream",
     "text": [
      "file could not be opened successfully:\n",
      "- method gz: ReadError('not a gzip file')\n",
      "- method bz2: ReadError('not a bzip2 file')\n",
      "- method xz: ReadError('not an lzma file')\n",
      "- method tar: ReadError('bad checksum')\n",
      "Something goes wrong. Please check the input or concat me to fix this bug. Error message: \n",
      "[Errno 2] No such file or directory: '/home/jihuawei/jhw_pdf_parser/datasets/ArXiv体系/0704.3826/0704.3826.pdf'\n",
      "['https://arxiv.org/abs/1001.3904']\n",
      "Downloading papers...\n"
     ]
    },
    {
     "name": "stderr",
     "output_type": "stream",
     "text": [
      "0it [01:03, ?it/s]\n",
      " 71%|███████   | 664/935 [11:54:33<6:09:59, 81.92s/it]"
     ]
    },
    {
     "name": "stdout",
     "output_type": "stream",
     "text": [
      "file could not be opened successfully:\n",
      "- method gz: ReadError('not a gzip file')\n",
      "- method bz2: ReadError('not a bzip2 file')\n",
      "- method xz: ReadError('not an lzma file')\n",
      "- method tar: ReadError('bad checksum')\n",
      "Something goes wrong. Please check the input or concat me to fix this bug. Error message: \n",
      "[Errno 2] No such file or directory: '/home/jihuawei/jhw_pdf_parser/datasets/ArXiv体系/1001.3904/1001.3904.pdf'\n",
      "['https://arxiv.org/abs/1902.04361']\n",
      "Downloading papers...\n"
     ]
    },
    {
     "name": "stderr",
     "output_type": "stream",
     "text": [
      "1it [01:50, 110.21s/it]\n",
      " 71%|███████   | 665/935 [11:56:23<6:46:49, 90.41s/it]"
     ]
    },
    {
     "name": "stdout",
     "output_type": "stream",
     "text": [
      "Finished\n",
      "['https://arxiv.org/abs/2007.10062']\n",
      "Downloading papers...\n"
     ]
    },
    {
     "name": "stderr",
     "output_type": "stream",
     "text": [
      "0it [00:12, ?it/s]\n",
      " 71%|███████   | 666/935 [11:56:36<5:01:09, 67.17s/it]"
     ]
    },
    {
     "name": "stdout",
     "output_type": "stream",
     "text": [
      "file could not be opened successfully:\n",
      "- method gz: ReadError('invalid header')\n",
      "- method bz2: ReadError('not a bzip2 file')\n",
      "- method xz: ReadError('not an lzma file')\n",
      "- method tar: ReadError('invalid header')\n",
      "Something goes wrong. Please check the input or concat me to fix this bug. Error message: \n",
      "[Errno 2] No such file or directory: '/home/jihuawei/jhw_pdf_parser/datasets/ArXiv体系/2007.10062/2007.10062.pdf'\n",
      "['https://arxiv.org/abs/0801.3134']\n",
      "Downloading papers...\n"
     ]
    },
    {
     "name": "stderr",
     "output_type": "stream",
     "text": [
      "0it [00:07, ?it/s]\n",
      " 71%|███████▏  | 667/935 [11:56:44<3:40:34, 49.38s/it]"
     ]
    },
    {
     "name": "stdout",
     "output_type": "stream",
     "text": [
      "file could not be opened successfully:\n",
      "- method gz: ReadError('invalid header')\n",
      "- method bz2: ReadError('not a bzip2 file')\n",
      "- method xz: ReadError('not an lzma file')\n",
      "- method tar: ReadError('invalid header')\n",
      "Something goes wrong. Please check the input or concat me to fix this bug. Error message: \n",
      "[Errno 2] No such file or directory: '/home/jihuawei/jhw_pdf_parser/datasets/ArXiv体系/0801.3134/0801.3134.pdf'\n",
      "['https://arxiv.org/abs/1504.04848']\n",
      "Downloading papers...\n"
     ]
    },
    {
     "name": "stderr",
     "output_type": "stream",
     "text": [
      "0it [00:17, ?it/s]\n",
      " 71%|███████▏  | 668/935 [11:57:02<2:57:35, 39.91s/it]"
     ]
    },
    {
     "name": "stdout",
     "output_type": "stream",
     "text": [
      "file could not be opened successfully:\n",
      "- method gz: ReadError('invalid header')\n",
      "- method bz2: ReadError('not a bzip2 file')\n",
      "- method xz: ReadError('not an lzma file')\n",
      "- method tar: ReadError('invalid header')\n",
      "Something goes wrong. Please check the input or concat me to fix this bug. Error message: \n",
      "[Errno 2] No such file or directory: '/home/jihuawei/jhw_pdf_parser/datasets/ArXiv体系/1504.04848/1504.04848.pdf'\n",
      "['https://arxiv.org/abs/0806.4713']\n",
      "Downloading papers...\n"
     ]
    },
    {
     "name": "stderr",
     "output_type": "stream",
     "text": [
      "1it [00:11, 11.54s/it]\n",
      " 72%|███████▏  | 669/935 [11:57:14<2:19:12, 31.40s/it]"
     ]
    },
    {
     "name": "stdout",
     "output_type": "stream",
     "text": [
      "Finished\n",
      "['https://arxiv.org/abs/0704.3984']\n",
      "Downloading papers...\n"
     ]
    },
    {
     "name": "stderr",
     "output_type": "stream",
     "text": [
      "1it [00:10, 10.97s/it]\n",
      " 72%|███████▏  | 670/935 [11:57:25<1:51:36, 25.27s/it]"
     ]
    },
    {
     "name": "stdout",
     "output_type": "stream",
     "text": [
      "Finished\n",
      "['https://arxiv.org/abs/1004.1838']\n",
      "Downloading papers...\n"
     ]
    },
    {
     "name": "stderr",
     "output_type": "stream",
     "text": [
      "1it [00:11, 11.55s/it]\n",
      " 72%|███████▏  | 671/935 [11:57:36<1:33:05, 21.16s/it]"
     ]
    },
    {
     "name": "stdout",
     "output_type": "stream",
     "text": [
      "Finished\n",
      "['https://arxiv.org/abs/1007.4420']\n",
      "Downloading papers...\n"
     ]
    },
    {
     "name": "stderr",
     "output_type": "stream",
     "text": [
      "0it [00:20, ?it/s]\n",
      " 72%|███████▏  | 672/935 [11:57:56<1:31:26, 20.86s/it]"
     ]
    },
    {
     "name": "stdout",
     "output_type": "stream",
     "text": [
      "file could not be opened successfully:\n",
      "- method gz: ReadError('invalid header')\n",
      "- method bz2: ReadError('not a bzip2 file')\n",
      "- method xz: ReadError('not an lzma file')\n",
      "- method tar: ReadError('invalid header')\n",
      "Something goes wrong. Please check the input or concat me to fix this bug. Error message: \n",
      "[Errno 2] No such file or directory: '/home/jihuawei/jhw_pdf_parser/datasets/ArXiv体系/1007.4420/1007.4420.pdf'\n",
      "['https://arxiv.org/abs/1606.06210']\n",
      "Downloading papers...\n"
     ]
    },
    {
     "name": "stderr",
     "output_type": "stream",
     "text": [
      "0it [00:13, ?it/s]\n",
      " 72%|███████▏  | 673/935 [11:58:10<1:21:48, 18.74s/it]"
     ]
    },
    {
     "name": "stdout",
     "output_type": "stream",
     "text": [
      "file could not be opened successfully:\n",
      "- method gz: ReadError('invalid header')\n",
      "- method bz2: ReadError('not a bzip2 file')\n",
      "- method xz: ReadError('not an lzma file')\n",
      "- method tar: ReadError('invalid header')\n",
      "Something goes wrong. Please check the input or concat me to fix this bug. Error message: \n",
      "[Errno 2] No such file or directory: '/home/jihuawei/jhw_pdf_parser/datasets/ArXiv体系/1606.06210/1606.06210.pdf'\n",
      "['https://arxiv.org/abs/2009.10824']\n",
      "Downloading papers...\n"
     ]
    },
    {
     "name": "stderr",
     "output_type": "stream",
     "text": [
      "1it [00:20, 20.93s/it]\n",
      " 72%|███████▏  | 674/935 [11:58:31<1:24:22, 19.40s/it]"
     ]
    },
    {
     "name": "stdout",
     "output_type": "stream",
     "text": [
      "Finished\n",
      "['https://arxiv.org/abs/0904.1790']\n",
      "Downloading papers...\n"
     ]
    },
    {
     "name": "stderr",
     "output_type": "stream",
     "text": [
      "1it [00:16, 16.36s/it]\n",
      " 72%|███████▏  | 675/935 [11:58:47<1:20:06, 18.49s/it]"
     ]
    },
    {
     "name": "stdout",
     "output_type": "stream",
     "text": [
      "Finished\n",
      "['https://arxiv.org/abs/1212.1238']\n",
      "Downloading papers...\n"
     ]
    },
    {
     "name": "stderr",
     "output_type": "stream",
     "text": [
      "1it [02:09, 129.08s/it]\n",
      " 72%|███████▏  | 676/935 [12:00:56<3:43:01, 51.67s/it]"
     ]
    },
    {
     "name": "stdout",
     "output_type": "stream",
     "text": [
      "Finished\n",
      "['https://arxiv.org/abs/1212.5539']\n",
      "Downloading papers...\n"
     ]
    },
    {
     "name": "stderr",
     "output_type": "stream",
     "text": [
      "0it [00:24, ?it/s]\n",
      " 72%|███████▏  | 677/935 [12:01:20<3:06:31, 43.38s/it]"
     ]
    },
    {
     "name": "stdout",
     "output_type": "stream",
     "text": [
      "file could not be opened successfully:\n",
      "- method gz: ReadError('invalid header')\n",
      "- method bz2: ReadError('not a bzip2 file')\n",
      "- method xz: ReadError('not an lzma file')\n",
      "- method tar: ReadError('invalid header')\n",
      "Something goes wrong. Please check the input or concat me to fix this bug. Error message: \n",
      "[Errno 2] No such file or directory: '/home/jihuawei/jhw_pdf_parser/datasets/ArXiv体系/1212.5539/1212.5539.pdf'\n",
      "['https://arxiv.org/abs/2209.11227']\n",
      "Downloading papers...\n"
     ]
    },
    {
     "name": "stderr",
     "output_type": "stream",
     "text": [
      "1it [01:08, 68.59s/it]\n",
      " 73%|███████▎  | 678/935 [12:02:29<3:38:12, 50.94s/it]"
     ]
    },
    {
     "name": "stdout",
     "output_type": "stream",
     "text": [
      "Finished\n",
      "['https://arxiv.org/abs/1112.2819']\n",
      "Downloading papers...\n"
     ]
    },
    {
     "name": "stderr",
     "output_type": "stream",
     "text": [
      "0it [00:37, ?it/s]\n",
      " 73%|███████▎  | 679/935 [12:03:07<3:20:17, 46.94s/it]"
     ]
    },
    {
     "name": "stdout",
     "output_type": "stream",
     "text": [
      "file could not be opened successfully:\n",
      "- method gz: ReadError('invalid header')\n",
      "- method bz2: ReadError('not a bzip2 file')\n",
      "- method xz: ReadError('not an lzma file')\n",
      "- method tar: ReadError('invalid header')\n",
      "Something goes wrong. Please check the input or concat me to fix this bug. Error message: \n",
      "[Errno 2] No such file or directory: '/home/jihuawei/jhw_pdf_parser/datasets/ArXiv体系/1112.2819/1112.2819.pdf'\n",
      "['https://arxiv.org/abs/0704.3895']\n",
      "Downloading papers...\n"
     ]
    },
    {
     "name": "stderr",
     "output_type": "stream",
     "text": [
      "1it [00:22, 22.68s/it]\n",
      " 73%|███████▎  | 680/935 [12:03:29<2:48:35, 39.67s/it]"
     ]
    },
    {
     "name": "stdout",
     "output_type": "stream",
     "text": [
      "Finished\n",
      "['https://arxiv.org/abs/2010.12206']\n",
      "Downloading papers...\n"
     ]
    },
    {
     "name": "stderr",
     "output_type": "stream",
     "text": [
      "1it [01:45, 105.90s/it]\n",
      " 73%|███████▎  | 681/935 [12:05:15<4:12:02, 59.54s/it]"
     ]
    },
    {
     "name": "stdout",
     "output_type": "stream",
     "text": [
      "Finished\n",
      "['https://arxiv.org/abs/2109.01756']\n",
      "Downloading papers...\n"
     ]
    },
    {
     "name": "stderr",
     "output_type": "stream",
     "text": [
      "1it [04:57, 297.82s/it]\n",
      " 73%|███████▎  | 682/935 [12:10:13<9:12:29, 131.02s/it]"
     ]
    },
    {
     "name": "stdout",
     "output_type": "stream",
     "text": [
      "Finished\n",
      "['https://arxiv.org/abs/1809.01457']\n",
      "Downloading papers...\n"
     ]
    },
    {
     "name": "stderr",
     "output_type": "stream",
     "text": [
      "1it [00:09,  9.77s/it]\n",
      " 73%|███████▎  | 683/935 [12:10:23<6:37:31, 94.65s/it] "
     ]
    },
    {
     "name": "stdout",
     "output_type": "stream",
     "text": [
      "Finished\n",
      "['https://arxiv.org/abs/2306.14045']\n",
      "Downloading papers...\n"
     ]
    },
    {
     "name": "stderr",
     "output_type": "stream",
     "text": [
      "1it [00:17, 17.37s/it]\n",
      " 73%|███████▎  | 684/935 [12:10:40<4:58:58, 71.47s/it]"
     ]
    },
    {
     "name": "stdout",
     "output_type": "stream",
     "text": [
      "Finished\n",
      "['https://arxiv.org/abs/1301.2231']\n",
      "Downloading papers...\n"
     ]
    },
    {
     "name": "stderr",
     "output_type": "stream",
     "text": [
      "1it [00:39, 39.63s/it]\n",
      " 73%|███████▎  | 685/935 [12:11:20<4:17:59, 61.92s/it]"
     ]
    },
    {
     "name": "stdout",
     "output_type": "stream",
     "text": [
      "Finished\n",
      "['https://arxiv.org/abs/1503.07399']\n",
      "Downloading papers...\n"
     ]
    },
    {
     "name": "stderr",
     "output_type": "stream",
     "text": [
      "1it [00:17, 17.14s/it]\n",
      " 73%|███████▎  | 686/935 [12:11:37<3:21:12, 48.49s/it]"
     ]
    },
    {
     "name": "stdout",
     "output_type": "stream",
     "text": [
      "Finished\n",
      "['https://arxiv.org/abs/0705.0011']\n",
      "Downloading papers...\n"
     ]
    },
    {
     "name": "stderr",
     "output_type": "stream",
     "text": [
      "1it [00:47, 47.64s/it]\n",
      " 73%|███████▎  | 687/935 [12:12:25<3:19:21, 48.23s/it]"
     ]
    },
    {
     "name": "stdout",
     "output_type": "stream",
     "text": [
      "Finished\n",
      "['https://arxiv.org/abs/2005.07449']\n",
      "Downloading papers...\n"
     ]
    },
    {
     "name": "stderr",
     "output_type": "stream",
     "text": [
      "0it [00:13, ?it/s]\n",
      " 74%|███████▎  | 688/935 [12:12:38<2:35:09, 37.69s/it]"
     ]
    },
    {
     "name": "stdout",
     "output_type": "stream",
     "text": [
      "file could not be opened successfully:\n",
      "- method gz: ReadError('invalid header')\n",
      "- method bz2: ReadError('not a bzip2 file')\n",
      "- method xz: ReadError('not an lzma file')\n",
      "- method tar: ReadError('invalid header')\n",
      "Something goes wrong. Please check the input or concat me to fix this bug. Error message: \n",
      "[Errno 2] No such file or directory: '/home/jihuawei/jhw_pdf_parser/datasets/ArXiv体系/2005.07449/2005.07449.pdf'\n",
      "['https://arxiv.org/abs/1502.04339']\n",
      "Downloading papers...\n"
     ]
    },
    {
     "name": "stderr",
     "output_type": "stream",
     "text": [
      "1it [00:16, 16.09s/it]\n",
      " 74%|███████▎  | 689/935 [12:12:54<2:07:57, 31.21s/it]"
     ]
    },
    {
     "name": "stdout",
     "output_type": "stream",
     "text": [
      "Finished\n",
      "['https://arxiv.org/abs/1610.08592']\n",
      "Downloading papers...\n"
     ]
    },
    {
     "name": "stderr",
     "output_type": "stream",
     "text": [
      "1it [00:28, 28.25s/it]\n",
      " 74%|███████▍  | 690/935 [12:13:22<2:03:49, 30.33s/it]"
     ]
    },
    {
     "name": "stdout",
     "output_type": "stream",
     "text": [
      "Finished\n",
      "['https://arxiv.org/abs/1208.3860']\n",
      "Downloading papers...\n"
     ]
    },
    {
     "name": "stderr",
     "output_type": "stream",
     "text": [
      "0it [00:11, ?it/s]\n",
      " 74%|███████▍  | 691/935 [12:13:33<1:40:08, 24.63s/it]"
     ]
    },
    {
     "name": "stdout",
     "output_type": "stream",
     "text": [
      "file could not be opened successfully:\n",
      "- method gz: ReadError('invalid header')\n",
      "- method bz2: ReadError('not a bzip2 file')\n",
      "- method xz: ReadError('not an lzma file')\n",
      "- method tar: ReadError('invalid header')\n",
      "Something goes wrong. Please check the input or concat me to fix this bug. Error message: \n",
      "[Errno 2] No such file or directory: '/home/jihuawei/jhw_pdf_parser/datasets/ArXiv体系/1208.3860/1208.3860.pdf'\n",
      "['https://arxiv.org/abs/2008.10673']\n",
      "Downloading papers...\n"
     ]
    },
    {
     "name": "stderr",
     "output_type": "stream",
     "text": [
      "1it [00:42, 42.77s/it]\n",
      " 74%|███████▍  | 692/935 [12:14:16<2:01:47, 30.07s/it]"
     ]
    },
    {
     "name": "stdout",
     "output_type": "stream",
     "text": [
      "Finished\n",
      "['https://arxiv.org/abs/2103.07572']\n",
      "Downloading papers...\n"
     ]
    },
    {
     "name": "stderr",
     "output_type": "stream",
     "text": [
      "1it [00:17, 17.45s/it]\n",
      " 74%|███████▍  | 693/935 [12:14:34<1:46:01, 26.29s/it]"
     ]
    },
    {
     "name": "stdout",
     "output_type": "stream",
     "text": [
      "Finished\n",
      "['https://arxiv.org/abs/1412.7227']\n",
      "Downloading papers...\n"
     ]
    },
    {
     "name": "stderr",
     "output_type": "stream",
     "text": [
      "1it [00:17, 17.02s/it]\n",
      " 74%|███████▍  | 694/935 [12:14:51<1:34:25, 23.51s/it]"
     ]
    },
    {
     "name": "stdout",
     "output_type": "stream",
     "text": [
      "Finished\n",
      "['https://arxiv.org/abs/1811.07997']\n",
      "Downloading papers...\n"
     ]
    },
    {
     "name": "stderr",
     "output_type": "stream",
     "text": [
      "1it [00:12, 12.03s/it]\n",
      " 74%|███████▍  | 695/935 [12:15:03<1:20:15, 20.06s/it]"
     ]
    },
    {
     "name": "stdout",
     "output_type": "stream",
     "text": [
      "Finished\n",
      "['https://arxiv.org/abs/1802.06838']\n",
      "Downloading papers...\n"
     ]
    },
    {
     "name": "stderr",
     "output_type": "stream",
     "text": [
      "1it [00:16, 16.45s/it]\n",
      " 74%|███████▍  | 696/935 [12:15:19<1:15:36, 18.98s/it]"
     ]
    },
    {
     "name": "stdout",
     "output_type": "stream",
     "text": [
      "Finished\n",
      "['https://arxiv.org/abs/1101.1336']\n",
      "Downloading papers...\n"
     ]
    },
    {
     "name": "stderr",
     "output_type": "stream",
     "text": [
      "0it [00:17, ?it/s]\n",
      " 75%|███████▍  | 697/935 [12:15:37<1:13:35, 18.55s/it]"
     ]
    },
    {
     "name": "stdout",
     "output_type": "stream",
     "text": [
      "file could not be opened successfully:\n",
      "- method gz: ReadError('invalid header')\n",
      "- method bz2: ReadError('not a bzip2 file')\n",
      "- method xz: ReadError('not an lzma file')\n",
      "- method tar: ReadError('invalid header')\n",
      "Something goes wrong. Please check the input or concat me to fix this bug. Error message: \n",
      "[Errno 2] No such file or directory: '/home/jihuawei/jhw_pdf_parser/datasets/ArXiv体系/1101.1336/1101.1336.pdf'\n",
      "['https://arxiv.org/abs/1206.1885']\n",
      "Downloading papers...\n"
     ]
    },
    {
     "name": "stderr",
     "output_type": "stream",
     "text": [
      "0it [00:20, ?it/s]\n",
      " 75%|███████▍  | 698/935 [12:15:58<1:16:09, 19.28s/it]"
     ]
    },
    {
     "name": "stdout",
     "output_type": "stream",
     "text": [
      "file could not be opened successfully:\n",
      "- method gz: ReadError('invalid header')\n",
      "- method bz2: ReadError('not a bzip2 file')\n",
      "- method xz: ReadError('not an lzma file')\n",
      "- method tar: ReadError('invalid header')\n",
      "Something goes wrong. Please check the input or concat me to fix this bug. Error message: \n",
      "[Errno 2] No such file or directory: '/home/jihuawei/jhw_pdf_parser/datasets/ArXiv体系/1206.1885/1206.1885.pdf'\n",
      "['https://arxiv.org/abs/1902.09253']\n",
      "Downloading papers...\n"
     ]
    },
    {
     "name": "stderr",
     "output_type": "stream",
     "text": [
      "1it [00:22, 22.85s/it]\n",
      " 75%|███████▍  | 699/935 [12:16:21<1:20:02, 20.35s/it]"
     ]
    },
    {
     "name": "stdout",
     "output_type": "stream",
     "text": [
      "Finished\n",
      "['https://arxiv.org/abs/1102.4148']\n",
      "Downloading papers...\n"
     ]
    },
    {
     "name": "stderr",
     "output_type": "stream",
     "text": [
      "1it [00:10, 10.53s/it]\n",
      " 75%|███████▍  | 700/935 [12:16:31<1:08:09, 17.40s/it]"
     ]
    },
    {
     "name": "stdout",
     "output_type": "stream",
     "text": [
      "Finished\n",
      "['https://arxiv.org/abs/0706.0120']\n",
      "Downloading papers...\n"
     ]
    },
    {
     "name": "stderr",
     "output_type": "stream",
     "text": [
      "1it [00:07,  7.90s/it]\n",
      " 75%|███████▍  | 701/935 [12:16:39<56:45, 14.55s/it]  "
     ]
    },
    {
     "name": "stdout",
     "output_type": "stream",
     "text": [
      "Finished\n",
      "['https://arxiv.org/abs/0705.0078']\n",
      "Downloading papers...\n"
     ]
    },
    {
     "name": "stderr",
     "output_type": "stream",
     "text": [
      "1it [00:23, 23.51s/it]\n",
      " 75%|███████▌  | 702/935 [12:17:02<1:06:57, 17.24s/it]"
     ]
    },
    {
     "name": "stdout",
     "output_type": "stream",
     "text": [
      "Finished\n",
      "['https://arxiv.org/abs/1805.04645']\n",
      "Downloading papers...\n"
     ]
    },
    {
     "name": "stderr",
     "output_type": "stream",
     "text": [
      "1it [00:23, 23.37s/it]\n",
      " 75%|███████▌  | 703/935 [12:17:26<1:13:46, 19.08s/it]"
     ]
    },
    {
     "name": "stdout",
     "output_type": "stream",
     "text": [
      "Finished\n",
      "['https://arxiv.org/abs/2011.03969']\n",
      "Downloading papers...\n"
     ]
    },
    {
     "name": "stderr",
     "output_type": "stream",
     "text": [
      "0it [00:58, ?it/s]\n",
      " 75%|███████▌  | 704/935 [12:18:25<1:59:16, 30.98s/it]"
     ]
    },
    {
     "name": "stdout",
     "output_type": "stream",
     "text": [
      "file could not be opened successfully:\n",
      "- method gz: ReadError('not a gzip file')\n",
      "- method bz2: ReadError('not a bzip2 file')\n",
      "- method xz: ReadError('not an lzma file')\n",
      "- method tar: ReadError('invalid header')\n",
      "Something goes wrong. Please check the input or concat me to fix this bug. Error message: \n",
      "[Errno 2] No such file or directory: '/home/jihuawei/jhw_pdf_parser/datasets/ArXiv体系/2011.03969/2011.03969.pdf'\n",
      "['https://arxiv.org/abs/2204.14073']\n",
      "Downloading papers...\n"
     ]
    },
    {
     "name": "stderr",
     "output_type": "stream",
     "text": [
      "0it [02:49, ?it/s]\n",
      " 75%|███████▌  | 705/935 [12:21:14<4:37:47, 72.47s/it]"
     ]
    },
    {
     "name": "stdout",
     "output_type": "stream",
     "text": [
      "file could not be opened successfully:\n",
      "- method gz: ReadError('not a gzip file')\n",
      "- method bz2: ReadError('not a bzip2 file')\n",
      "- method xz: ReadError('not an lzma file')\n",
      "- method tar: ReadError('invalid header')\n",
      "Something goes wrong. Please check the input or concat me to fix this bug. Error message: \n",
      "[Errno 2] No such file or directory: '/home/jihuawei/jhw_pdf_parser/datasets/ArXiv体系/2204.14073/2204.14073.pdf'\n",
      "['https://arxiv.org/abs/1309.3639']\n",
      "Downloading papers...\n"
     ]
    },
    {
     "name": "stderr",
     "output_type": "stream",
     "text": [
      "1it [01:32, 92.97s/it]\n",
      " 76%|███████▌  | 706/935 [12:22:47<5:00:03, 78.62s/it]"
     ]
    },
    {
     "name": "stdout",
     "output_type": "stream",
     "text": [
      "Finished\n",
      "['https://arxiv.org/abs/1011.3225']\n",
      "Downloading papers...\n"
     ]
    },
    {
     "name": "stderr",
     "output_type": "stream",
     "text": [
      "1it [00:59, 59.65s/it]\n",
      " 76%|███████▌  | 707/935 [12:23:46<4:37:07, 72.93s/it]"
     ]
    },
    {
     "name": "stdout",
     "output_type": "stream",
     "text": [
      "Finished\n",
      "['https://arxiv.org/abs/1206.2915']\n",
      "Downloading papers...\n"
     ]
    },
    {
     "name": "stderr",
     "output_type": "stream",
     "text": [
      "0it [00:14, ?it/s]\n",
      " 76%|███████▌  | 708/935 [12:24:01<3:29:20, 55.33s/it]"
     ]
    },
    {
     "name": "stdout",
     "output_type": "stream",
     "text": [
      "file could not be opened successfully:\n",
      "- method gz: ReadError('invalid header')\n",
      "- method bz2: ReadError('not a bzip2 file')\n",
      "- method xz: ReadError('not an lzma file')\n",
      "- method tar: ReadError('invalid header')\n",
      "Something goes wrong. Please check the input or concat me to fix this bug. Error message: \n",
      "[Errno 2] No such file or directory: '/home/jihuawei/jhw_pdf_parser/datasets/ArXiv体系/1206.2915/1206.2915.pdf'\n",
      "['https://arxiv.org/abs/2208.03730']\n",
      "Downloading papers...\n"
     ]
    },
    {
     "name": "stderr",
     "output_type": "stream",
     "text": [
      "1it [00:16, 16.92s/it]\n",
      " 76%|███████▌  | 709/935 [12:24:18<2:45:01, 43.81s/it]"
     ]
    },
    {
     "name": "stdout",
     "output_type": "stream",
     "text": [
      "Finished\n",
      "['https://arxiv.org/abs/2110.13438']\n",
      "Downloading papers...\n"
     ]
    },
    {
     "name": "stderr",
     "output_type": "stream",
     "text": [
      "1it [00:22, 22.35s/it]\n",
      " 76%|███████▌  | 710/935 [12:24:40<2:20:09, 37.37s/it]"
     ]
    },
    {
     "name": "stdout",
     "output_type": "stream",
     "text": [
      "Finished\n",
      "['https://arxiv.org/abs/0905.0610']\n",
      "Downloading papers...\n"
     ]
    },
    {
     "name": "stderr",
     "output_type": "stream",
     "text": [
      "1it [00:30, 30.05s/it]\n",
      " 76%|███████▌  | 711/935 [12:25:10<2:11:19, 35.18s/it]"
     ]
    },
    {
     "name": "stdout",
     "output_type": "stream",
     "text": [
      "Finished\n",
      "['https://arxiv.org/abs/2207.13535']\n",
      "Downloading papers...\n"
     ]
    },
    {
     "name": "stderr",
     "output_type": "stream",
     "text": [
      "0it [00:14, ?it/s]\n",
      " 76%|███████▌  | 712/935 [12:25:25<1:47:53, 29.03s/it]"
     ]
    },
    {
     "name": "stdout",
     "output_type": "stream",
     "text": [
      "file could not be opened successfully:\n",
      "- method gz: ReadError('invalid header')\n",
      "- method bz2: ReadError('not a bzip2 file')\n",
      "- method xz: ReadError('not an lzma file')\n",
      "- method tar: ReadError('bad checksum')\n",
      "Something goes wrong. Please check the input or concat me to fix this bug. Error message: \n",
      "[Errno 2] No such file or directory: '/home/jihuawei/jhw_pdf_parser/datasets/ArXiv体系/2207.13535/2207.13535.pdf'\n",
      "['https://arxiv.org/abs/1402.4529']\n",
      "Downloading papers...\n"
     ]
    },
    {
     "name": "stderr",
     "output_type": "stream",
     "text": [
      "1it [00:25, 25.50s/it]\n",
      " 76%|███████▋  | 713/935 [12:25:50<1:43:30, 27.97s/it]"
     ]
    },
    {
     "name": "stdout",
     "output_type": "stream",
     "text": [
      "Finished\n",
      "['https://arxiv.org/abs/0905.4668']\n",
      "Downloading papers...\n"
     ]
    },
    {
     "name": "stderr",
     "output_type": "stream",
     "text": [
      "1it [00:38, 38.53s/it]\n",
      " 76%|███████▋  | 714/935 [12:26:29<1:54:42, 31.14s/it]"
     ]
    },
    {
     "name": "stdout",
     "output_type": "stream",
     "text": [
      "Finished\n",
      "['https://arxiv.org/abs/2303.11127']\n",
      "Downloading papers...\n"
     ]
    },
    {
     "name": "stderr",
     "output_type": "stream",
     "text": [
      "1it [00:23, 23.49s/it]\n",
      " 76%|███████▋  | 715/935 [12:26:52<1:45:46, 28.85s/it]"
     ]
    },
    {
     "name": "stdout",
     "output_type": "stream",
     "text": [
      "Finished\n",
      "['https://arxiv.org/abs/0705.3430']\n",
      "Downloading papers...\n"
     ]
    },
    {
     "name": "stderr",
     "output_type": "stream",
     "text": [
      "1it [00:38, 38.72s/it]\n",
      " 77%|███████▋  | 716/935 [12:27:31<1:56:06, 31.81s/it]"
     ]
    },
    {
     "name": "stdout",
     "output_type": "stream",
     "text": [
      "Finished\n",
      "['https://arxiv.org/abs/1505.01692']\n",
      "Downloading papers...\n"
     ]
    },
    {
     "name": "stderr",
     "output_type": "stream",
     "text": [
      "1it [00:26, 26.83s/it]\n",
      " 77%|███████▋  | 717/935 [12:27:58<1:50:09, 30.32s/it]"
     ]
    },
    {
     "name": "stdout",
     "output_type": "stream",
     "text": [
      "Finished\n",
      "['https://arxiv.org/abs/1105.5959']\n",
      "Downloading papers...\n"
     ]
    },
    {
     "name": "stderr",
     "output_type": "stream",
     "text": [
      "0it [00:12, ?it/s]\n",
      " 77%|███████▋  | 718/935 [12:28:11<1:30:45, 25.09s/it]"
     ]
    },
    {
     "name": "stdout",
     "output_type": "stream",
     "text": [
      "file could not be opened successfully:\n",
      "- method gz: ReadError('invalid header')\n",
      "- method bz2: ReadError('not a bzip2 file')\n",
      "- method xz: ReadError('not an lzma file')\n",
      "- method tar: ReadError('invalid header')\n",
      "Something goes wrong. Please check the input or concat me to fix this bug. Error message: \n",
      "[Errno 2] No such file or directory: '/home/jihuawei/jhw_pdf_parser/datasets/ArXiv体系/1105.5959/1105.5959.pdf'\n",
      "['https://arxiv.org/abs/1112.2867']\n",
      "Downloading papers...\n"
     ]
    },
    {
     "name": "stderr",
     "output_type": "stream",
     "text": [
      "1it [00:16, 16.70s/it]\n",
      " 77%|███████▋  | 719/935 [12:28:27<1:21:16, 22.58s/it]"
     ]
    },
    {
     "name": "stdout",
     "output_type": "stream",
     "text": [
      "Finished\n",
      "['https://arxiv.org/abs/2301.03402']\n",
      "Downloading papers...\n"
     ]
    },
    {
     "name": "stderr",
     "output_type": "stream",
     "text": [
      "1it [00:30, 30.39s/it]\n",
      " 77%|███████▋  | 720/935 [12:28:58<1:29:18, 24.92s/it]"
     ]
    },
    {
     "name": "stdout",
     "output_type": "stream",
     "text": [
      "Finished\n",
      "['https://arxiv.org/abs/1003.0933']\n",
      "Downloading papers...\n"
     ]
    },
    {
     "name": "stderr",
     "output_type": "stream",
     "text": [
      "1it [00:47, 47.94s/it]\n",
      " 77%|███████▋  | 721/935 [12:29:46<1:53:31, 31.83s/it]"
     ]
    },
    {
     "name": "stdout",
     "output_type": "stream",
     "text": [
      "Finished\n",
      "['https://arxiv.org/abs/1910.03186']\n",
      "Downloading papers...\n"
     ]
    },
    {
     "name": "stderr",
     "output_type": "stream",
     "text": [
      "0it [00:15, ?it/s]\n",
      " 77%|███████▋  | 722/935 [12:30:02<1:36:06, 27.07s/it]"
     ]
    },
    {
     "name": "stdout",
     "output_type": "stream",
     "text": [
      "file could not be opened successfully:\n",
      "- method gz: ReadError('invalid header')\n",
      "- method bz2: ReadError('not a bzip2 file')\n",
      "- method xz: ReadError('not an lzma file')\n",
      "- method tar: ReadError('invalid header')\n",
      "Something goes wrong. Please check the input or concat me to fix this bug. Error message: \n",
      "[Errno 2] No such file or directory: '/home/jihuawei/jhw_pdf_parser/datasets/ArXiv体系/1910.03186/1910.03186.pdf'\n",
      "['https://arxiv.org/abs/1101.3232']\n",
      "Downloading papers...\n"
     ]
    },
    {
     "name": "stderr",
     "output_type": "stream",
     "text": [
      "0it [00:16, ?it/s]\n",
      " 77%|███████▋  | 723/935 [12:30:18<1:24:21, 23.87s/it]"
     ]
    },
    {
     "name": "stdout",
     "output_type": "stream",
     "text": [
      "file could not be opened successfully:\n",
      "- method gz: ReadError('invalid header')\n",
      "- method bz2: ReadError('not a bzip2 file')\n",
      "- method xz: ReadError('not an lzma file')\n",
      "- method tar: ReadError('invalid header')\n",
      "Something goes wrong. Please check the input or concat me to fix this bug. Error message: \n",
      "[Errno 2] No such file or directory: '/home/jihuawei/jhw_pdf_parser/datasets/ArXiv体系/1101.3232/1101.3232.pdf'\n",
      "['https://arxiv.org/abs/2005.11574']\n",
      "Downloading papers...\n"
     ]
    },
    {
     "name": "stderr",
     "output_type": "stream",
     "text": [
      "0it [00:06, ?it/s]\n",
      " 77%|███████▋  | 724/935 [12:30:25<1:05:28, 18.62s/it]"
     ]
    },
    {
     "name": "stdout",
     "output_type": "stream",
     "text": [
      "file could not be opened successfully:\n",
      "- method gz: ReadError('invalid header')\n",
      "- method bz2: ReadError('not a bzip2 file')\n",
      "- method xz: ReadError('not an lzma file')\n",
      "- method tar: ReadError('invalid header')\n",
      "Something goes wrong. Please check the input or concat me to fix this bug. Error message: \n",
      "[Errno 2] No such file or directory: '/home/jihuawei/jhw_pdf_parser/datasets/ArXiv体系/2005.11574/2005.11574.pdf'\n",
      "['https://arxiv.org/abs/0803.3767']\n",
      "Downloading papers...\n"
     ]
    },
    {
     "name": "stderr",
     "output_type": "stream",
     "text": [
      "0it [00:14, ?it/s]\n",
      " 78%|███████▊  | 725/935 [12:30:39<1:01:09, 17.48s/it]"
     ]
    },
    {
     "name": "stdout",
     "output_type": "stream",
     "text": [
      "file could not be opened successfully:\n",
      "- method gz: ReadError('invalid header')\n",
      "- method bz2: ReadError('not a bzip2 file')\n",
      "- method xz: ReadError('not an lzma file')\n",
      "- method tar: ReadError('invalid header')\n",
      "Something goes wrong. Please check the input or concat me to fix this bug. Error message: \n",
      "[Errno 2] No such file or directory: '/home/jihuawei/jhw_pdf_parser/datasets/ArXiv体系/0803.3767/0803.3767.pdf'\n",
      "['https://arxiv.org/abs/0712.3775']\n",
      "Downloading papers...\n"
     ]
    },
    {
     "name": "stderr",
     "output_type": "stream",
     "text": [
      "0it [00:10, ?it/s]\n",
      " 78%|███████▊  | 726/935 [12:30:50<53:56, 15.49s/it]  "
     ]
    },
    {
     "name": "stdout",
     "output_type": "stream",
     "text": [
      "file could not be opened successfully:\n",
      "- method gz: ReadError('invalid header')\n",
      "- method bz2: ReadError('not a bzip2 file')\n",
      "- method xz: ReadError('not an lzma file')\n",
      "- method tar: ReadError('invalid header')\n",
      "Something goes wrong. Please check the input or concat me to fix this bug. Error message: \n",
      "[Errno 2] No such file or directory: '/home/jihuawei/jhw_pdf_parser/datasets/ArXiv体系/0712.3775/0712.3775.pdf'\n",
      "['https://arxiv.org/abs/2202.06660']\n",
      "Downloading papers...\n"
     ]
    },
    {
     "name": "stderr",
     "output_type": "stream",
     "text": [
      "1it [00:16, 16.12s/it]\n",
      " 78%|███████▊  | 727/935 [12:31:06<54:20, 15.68s/it]"
     ]
    },
    {
     "name": "stdout",
     "output_type": "stream",
     "text": [
      "Finished\n",
      "['https://arxiv.org/abs/2008.04905']\n",
      "Downloading papers...\n"
     ]
    },
    {
     "name": "stderr",
     "output_type": "stream",
     "text": [
      "0it [00:18, ?it/s]\n",
      " 78%|███████▊  | 728/935 [12:31:24<56:32, 16.39s/it]"
     ]
    },
    {
     "name": "stdout",
     "output_type": "stream",
     "text": [
      "file could not be opened successfully:\n",
      "- method gz: ReadError('invalid header')\n",
      "- method bz2: ReadError('not a bzip2 file')\n",
      "- method xz: ReadError('not an lzma file')\n",
      "- method tar: ReadError('invalid header')\n",
      "Something goes wrong. Please check the input or concat me to fix this bug. Error message: \n",
      "[Errno 2] No such file or directory: '/home/jihuawei/jhw_pdf_parser/datasets/ArXiv体系/2008.04905/2008.04905.pdf'\n",
      "['https://arxiv.org/abs/1405.5201']\n",
      "Downloading papers...\n"
     ]
    },
    {
     "name": "stderr",
     "output_type": "stream",
     "text": [
      "0it [00:26, ?it/s]\n",
      " 78%|███████▊  | 729/935 [12:31:51<1:06:49, 19.46s/it]"
     ]
    },
    {
     "name": "stdout",
     "output_type": "stream",
     "text": [
      "file could not be opened successfully:\n",
      "- method gz: ReadError('not a gzip file')\n",
      "- method bz2: ReadError('not a bzip2 file')\n",
      "- method xz: ReadError('not an lzma file')\n",
      "- method tar: ReadError('invalid header')\n",
      "Something goes wrong. Please check the input or concat me to fix this bug. Error message: \n",
      "[Errno 2] No such file or directory: '/home/jihuawei/jhw_pdf_parser/datasets/ArXiv体系/1405.5201/1405.5201.pdf'\n",
      "['https://arxiv.org/abs/2105.07073']\n",
      "Downloading papers...\n"
     ]
    },
    {
     "name": "stderr",
     "output_type": "stream",
     "text": [
      "0it [00:31, ?it/s]\n",
      " 78%|███████▊  | 730/935 [12:32:23<1:19:01, 23.13s/it]"
     ]
    },
    {
     "name": "stdout",
     "output_type": "stream",
     "text": [
      "file could not be opened successfully:\n",
      "- method gz: ReadError('not a gzip file')\n",
      "- method bz2: ReadError('not a bzip2 file')\n",
      "- method xz: ReadError('not an lzma file')\n",
      "- method tar: ReadError('invalid header')\n",
      "Something goes wrong. Please check the input or concat me to fix this bug. Error message: \n",
      "[Errno 2] No such file or directory: '/home/jihuawei/jhw_pdf_parser/datasets/ArXiv体系/2105.07073/2105.07073.pdf'\n",
      "['https://arxiv.org/abs/0705.0212']\n",
      "Downloading papers...\n"
     ]
    },
    {
     "name": "stderr",
     "output_type": "stream",
     "text": [
      "0it [00:16, ?it/s]\n",
      " 78%|███████▊  | 731/935 [12:32:40<1:12:20, 21.28s/it]"
     ]
    },
    {
     "name": "stdout",
     "output_type": "stream",
     "text": [
      "file could not be opened successfully:\n",
      "- method gz: ReadError('not a gzip file')\n",
      "- method bz2: ReadError('not a bzip2 file')\n",
      "- method xz: ReadError('not an lzma file')\n",
      "- method tar: ReadError('bad checksum')\n",
      "Something goes wrong. Please check the input or concat me to fix this bug. Error message: \n",
      "[Errno 2] No such file or directory: '/home/jihuawei/jhw_pdf_parser/datasets/ArXiv体系/0705.0212/0705.0212.pdf'\n",
      "['https://arxiv.org/abs/2301.07678']\n",
      "Downloading papers...\n"
     ]
    },
    {
     "name": "stderr",
     "output_type": "stream",
     "text": [
      "1it [00:32, 32.03s/it]\n",
      " 78%|███████▊  | 732/935 [12:33:12<1:22:54, 24.51s/it]"
     ]
    },
    {
     "name": "stdout",
     "output_type": "stream",
     "text": [
      "Finished\n",
      "['https://arxiv.org/abs/2112.06829']\n",
      "Downloading papers...\n"
     ]
    },
    {
     "name": "stderr",
     "output_type": "stream",
     "text": [
      "1it [01:40, 100.38s/it]\n",
      " 78%|███████▊  | 733/935 [12:34:52<2:39:08, 47.27s/it]"
     ]
    },
    {
     "name": "stdout",
     "output_type": "stream",
     "text": [
      "Finished\n",
      "['https://arxiv.org/abs/1008.1081']\n",
      "Downloading papers...\n"
     ]
    },
    {
     "name": "stderr",
     "output_type": "stream",
     "text": [
      "0it [00:15, ?it/s]\n",
      " 79%|███████▊  | 734/935 [12:35:07<2:06:19, 37.71s/it]"
     ]
    },
    {
     "name": "stdout",
     "output_type": "stream",
     "text": [
      "file could not be opened successfully:\n",
      "- method gz: ReadError('invalid header')\n",
      "- method bz2: ReadError('not a bzip2 file')\n",
      "- method xz: ReadError('not an lzma file')\n",
      "- method tar: ReadError('invalid header')\n",
      "Something goes wrong. Please check the input or concat me to fix this bug. Error message: \n",
      "[Errno 2] No such file or directory: '/home/jihuawei/jhw_pdf_parser/datasets/ArXiv体系/1008.1081/1008.1081.pdf'\n",
      "['https://arxiv.org/abs/1803.06439']\n",
      "Downloading papers...\n"
     ]
    },
    {
     "name": "stderr",
     "output_type": "stream",
     "text": [
      "1it [01:13, 73.71s/it]\n",
      " 79%|███████▊  | 735/935 [12:36:21<2:41:42, 48.51s/it]"
     ]
    },
    {
     "name": "stdout",
     "output_type": "stream",
     "text": [
      "Finished\n",
      "['https://arxiv.org/abs/0904.2547']\n",
      "Downloading papers...\n"
     ]
    },
    {
     "name": "stderr",
     "output_type": "stream",
     "text": [
      "1it [00:54, 54.58s/it]\n",
      " 79%|███████▊  | 736/935 [12:37:16<2:46:56, 50.33s/it]"
     ]
    },
    {
     "name": "stdout",
     "output_type": "stream",
     "text": [
      "Finished\n",
      "['https://arxiv.org/abs/1701.00732']\n",
      "Downloading papers...\n"
     ]
    },
    {
     "name": "stderr",
     "output_type": "stream",
     "text": [
      "0it [01:32, ?it/s]\n",
      " 79%|███████▉  | 737/935 [12:38:48<3:27:52, 62.99s/it]"
     ]
    },
    {
     "name": "stdout",
     "output_type": "stream",
     "text": [
      "file could not be opened successfully:\n",
      "- method gz: ReadError('not a gzip file')\n",
      "- method bz2: ReadError('not a bzip2 file')\n",
      "- method xz: ReadError('not an lzma file')\n",
      "- method tar: ReadError('bad checksum')\n",
      "Something goes wrong. Please check the input or concat me to fix this bug. Error message: \n",
      "[Errno 2] No such file or directory: '/home/jihuawei/jhw_pdf_parser/datasets/ArXiv体系/1701.00732/1701.00732.pdf'\n",
      "['https://arxiv.org/abs/2107.13299']\n",
      "Downloading papers...\n"
     ]
    },
    {
     "name": "stderr",
     "output_type": "stream",
     "text": []
    }
   ],
   "source": [
    "# 根据https://github.com/liuyixin-louis/arxiv2latex\n",
    "# 代码修改\n",
    "\n",
    "import os\n",
    "import requests\n",
    "from backend import *\n",
    "import shutil\n",
    "from tqdm import tqdm\n",
    "\n",
    "predefined_limits = 10000\n",
    "\n",
    "# 获取数据库中cs有关的paper的doi\n",
    "path = '/mnt/nfs4/main/pdfs/ARXIV-DOI'\n",
    "start = 0\n",
    "cs_pdf = []\n",
    "for file_name in os.listdir(path):\n",
    "    if file_name == 'cs':\n",
    "        start = 1\n",
    "        continue\n",
    "    if start == 1:\n",
    "        if file_name.endswith('.pdf'):\n",
    "            cs_pdf.append(\"https://arxiv.org/abs/\" + file_name.strip('.pdf'))\n",
    "        if not file_name.endswith('.pdf'):\n",
    "            break\n",
    "\n",
    "# input arxiv links to download\n",
    "for pdf_links_input in tqdm(cs_pdf):\n",
    "    pdf_lists = pdf_links_input.split(\"\\n\")\n",
    "    print(pdf_lists)\n",
    "    # cleaning the pdf lists\n",
    "    pdf_lists = [i.strip() for i in pdf_lists if len(i) > 0]\n",
    "    # TODO: limit the number of paper up to 10 since I am not sure that whether base64 support large file download\n",
    "    try: \n",
    "        if len(pdf_lists) > predefined_limits:\n",
    "            print(f\"Currently only support up to {predefined_limits} papers. Please input less than {predefined_limits} papers.\")\n",
    "        else:\n",
    "            # parsing\n",
    "            base='/home/jihuawei/jhw_pdf_parser/datasets/ArXiv体系/'\n",
    "            make_dir_if_not_exist(base)\n",
    "            \n",
    "            print(\"Downloading papers...\")\n",
    "            N = len(pdf_lists)\n",
    "            for i, pdf_link in tqdm(enumerate(pdf_lists)):\n",
    "                title = get_name_from_arvix(pdf_link)\n",
    "                file_stamp = pdf_link.split(\"/\")[-1]\n",
    "                source_link = \"https://arxiv.org/e-print/\"+file_stamp\n",
    "                source_link_pdf = \"https://arxiv.org/pdf/\"+ file_stamp + \".pdf\"\n",
    "                inp = os.path.join(base,'input')\n",
    "                make_dir_if_not_exist(inp)\n",
    "                out = base # os.path.join(base,'output')\n",
    "                make_dir_if_not_exist(out)\n",
    "                response = requests.get(source_link)\n",
    "                response_pdf = requests.get(source_link_pdf)\n",
    "                filename = file_stamp+\".tar.gz\"\n",
    "                filepath = os.path.join(inp,filename)\n",
    "                open(filepath, \"wb\").write(response.content)\n",
    "                outpath = os.path.join(out,file_stamp)\n",
    "                untar(filepath,outpath)\n",
    "                filename_pdf = file_stamp+\".pdf\"\n",
    "                filepath_pdf = os.path.join(outpath,filename_pdf)\n",
    "                open(filepath_pdf, \"wb\").write(response_pdf.content)\n",
    "            # 删除input文件夹 \n",
    "            shutil.rmtree(inp)\n",
    "            # 状态\n",
    "            print(\"Finished\")\n",
    "    except Exception as e:\n",
    "        print(\"Something goes wrong. Please check the input or concat me to fix this bug. Error message: \\n\"+str(e))"
   ]
  }
 ],
 "metadata": {
  "kernelspec": {
   "display_name": "py310",
   "language": "python",
   "name": "python3"
  },
  "language_info": {
   "codemirror_mode": {
    "name": "ipython",
    "version": 3
   },
   "file_extension": ".py",
   "mimetype": "text/x-python",
   "name": "python",
   "nbconvert_exporter": "python",
   "pygments_lexer": "ipython3",
   "version": "3.10.4"
  }
 },
 "nbformat": 4,
 "nbformat_minor": 2
}
